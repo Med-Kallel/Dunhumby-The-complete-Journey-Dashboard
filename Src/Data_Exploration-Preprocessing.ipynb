{
 "cells": [
  {
   "cell_type": "markdown",
   "metadata": {},
   "source": [
    "DataBase Description:\n",
    "The Complete Journey\n",
    "Source: Dunnhumby\n",
    "Description:\n",
    "completejourney provides access to data sets characterizing household level transactions over one year from a group of 2,469 households who are frequent shoppers at a grocery store. It contains all of each household’s purchases, not just those from a limited number of categories. For certain households, demographic information as well as direct marketing contact history are captured.\n",
    "There are eight built-in data sets available in this package. The data sets include:\n",
    "\n",
    "- campaigns: campaigns received by each household\n",
    "- campaign_descriptions: campaign metadata (length of time active)\n",
    "- coupons: coupon metadata (UPC code, campaign, etc.)\n",
    "- coupon_redemptions: coupon redemptions (household, day, UPC code, campaign)\n",
    "- demographics: household demographic data (age, income, family size, etc.)\n",
    "- products: product metadata (brand, description, etc.)\n",
    "- promotions_sample: a sampling of the product placement in mailers and in stores corresponding to advertising campaigns\n",
    "- transactions_sample: a sampling of the products purchased by households\n"
   ]
  },
  {
   "cell_type": "markdown",
   "metadata": {},
   "source": [
    "## Setup & Imports\n"
   ]
  },
  {
   "cell_type": "code",
   "execution_count": 1,
   "metadata": {},
   "outputs": [],
   "source": [
    "# Import necessary libraries\n",
    "import plotly\n",
    "import warnings\n",
    "import numpy as np\n",
    "import pandas as pd\n",
    "import seaborn as sns\n",
    "from PIL import Image\n",
    "from tqdm import tqdm\n",
    "import plotly.express as px\n",
    "import matplotlib.pyplot as plt\n",
    "from wordcloud import WordCloud"
   ]
  },
  {
   "cell_type": "code",
   "execution_count": 2,
   "metadata": {},
   "outputs": [],
   "source": [
    "# Set Parameters\n",
    "warnings.filterwarnings(\"ignore\")\n",
    "dataset_folder = \"../Data/\"\n",
    "export_folder = \"../Export/\"\n",
    "np.random.seed(42)  # Setup numpy seed for reproducibility"
   ]
  },
  {
   "cell_type": "code",
   "execution_count": 3,
   "metadata": {},
   "outputs": [
    {
     "name": "stderr",
     "output_type": "stream",
     "text": [
      "  0%|          | 0/4 [00:00<?, ?it/s]"
     ]
    },
    {
     "name": "stderr",
     "output_type": "stream",
     "text": [
      "100%|██████████| 4/4 [00:02<00:00,  1.68it/s]"
     ]
    },
    {
     "name": "stdout",
     "output_type": "stream",
     "text": [
      "Loaded 4 datasets: product.csv, hh_demographic.csv, transaction_data.csv, campaign_desc.csv\n"
     ]
    },
    {
     "name": "stderr",
     "output_type": "stream",
     "text": [
      "\n"
     ]
    }
   ],
   "source": [
    "# Load the dataset's csv files\n",
    "with tqdm(total=4) as pbar:\n",
    "    df_product = pd.read_csv(dataset_folder + \"product.csv\")\n",
    "    pbar.update(1)\n",
    "    df_demographic = pd.read_csv(dataset_folder + \"hh_demographic.csv\")\n",
    "    pbar.update(1)\n",
    "    df_trnsct = pd.read_csv(dataset_folder + \"transaction_data.csv\")\n",
    "    pbar.update(1)\n",
    "    df_campaign = pd.read_csv(dataset_folder + \"campaign_desc.csv\")\n",
    "    pbar.update(1)\n",
    "\n",
    "# Print loaded datasets file names\n",
    "print(\n",
    "    f\"Loaded 4 datasets: product.csv, hh_demographic.csv, transaction_data.csv, campaign_desc.csv\"\n",
    ")"
   ]
  },
  {
   "cell_type": "markdown",
   "metadata": {},
   "source": [
    "---"
   ]
  },
  {
   "cell_type": "markdown",
   "metadata": {},
   "source": [
    "# Traitement des Valeurs Manquantes\n"
   ]
  },
  {
   "cell_type": "markdown",
   "metadata": {},
   "source": [
    "In this part we will process the missing values"
   ]
  },
  {
   "cell_type": "markdown",
   "metadata": {},
   "source": [
    "## 1. Demographic Dataframe"
   ]
  },
  {
   "cell_type": "markdown",
   "metadata": {},
   "source": [
    "#### a. General Analysis"
   ]
  },
  {
   "cell_type": "code",
   "execution_count": 4,
   "metadata": {},
   "outputs": [
    {
     "data": {
      "text/html": [
       "<div>\n",
       "<style scoped>\n",
       "    .dataframe tbody tr th:only-of-type {\n",
       "        vertical-align: middle;\n",
       "    }\n",
       "\n",
       "    .dataframe tbody tr th {\n",
       "        vertical-align: top;\n",
       "    }\n",
       "\n",
       "    .dataframe thead th {\n",
       "        text-align: right;\n",
       "    }\n",
       "</style>\n",
       "<table border=\"1\" class=\"dataframe\">\n",
       "  <thead>\n",
       "    <tr style=\"text-align: right;\">\n",
       "      <th></th>\n",
       "      <th>AGE_DESC</th>\n",
       "      <th>MARITAL_STATUS_CODE</th>\n",
       "      <th>INCOME_DESC</th>\n",
       "      <th>HOMEOWNER_DESC</th>\n",
       "      <th>HH_COMP_DESC</th>\n",
       "      <th>HOUSEHOLD_SIZE_DESC</th>\n",
       "      <th>KID_CATEGORY_DESC</th>\n",
       "      <th>household_key</th>\n",
       "    </tr>\n",
       "  </thead>\n",
       "  <tbody>\n",
       "    <tr>\n",
       "      <th>0</th>\n",
       "      <td>65+</td>\n",
       "      <td>A</td>\n",
       "      <td>35-49K</td>\n",
       "      <td>Homeowner</td>\n",
       "      <td>2 Adults No Kids</td>\n",
       "      <td>2</td>\n",
       "      <td>None/Unknown</td>\n",
       "      <td>1</td>\n",
       "    </tr>\n",
       "    <tr>\n",
       "      <th>1</th>\n",
       "      <td>45-54</td>\n",
       "      <td>A</td>\n",
       "      <td>50-74K</td>\n",
       "      <td>Homeowner</td>\n",
       "      <td>2 Adults No Kids</td>\n",
       "      <td>2</td>\n",
       "      <td>None/Unknown</td>\n",
       "      <td>7</td>\n",
       "    </tr>\n",
       "    <tr>\n",
       "      <th>2</th>\n",
       "      <td>25-34</td>\n",
       "      <td>U</td>\n",
       "      <td>25-34K</td>\n",
       "      <td>Unknown</td>\n",
       "      <td>2 Adults Kids</td>\n",
       "      <td>3</td>\n",
       "      <td>1</td>\n",
       "      <td>8</td>\n",
       "    </tr>\n",
       "    <tr>\n",
       "      <th>3</th>\n",
       "      <td>25-34</td>\n",
       "      <td>U</td>\n",
       "      <td>75-99K</td>\n",
       "      <td>Homeowner</td>\n",
       "      <td>2 Adults Kids</td>\n",
       "      <td>4</td>\n",
       "      <td>2</td>\n",
       "      <td>13</td>\n",
       "    </tr>\n",
       "    <tr>\n",
       "      <th>4</th>\n",
       "      <td>45-54</td>\n",
       "      <td>B</td>\n",
       "      <td>50-74K</td>\n",
       "      <td>Homeowner</td>\n",
       "      <td>Single Female</td>\n",
       "      <td>1</td>\n",
       "      <td>None/Unknown</td>\n",
       "      <td>16</td>\n",
       "    </tr>\n",
       "  </tbody>\n",
       "</table>\n",
       "</div>"
      ],
      "text/plain": [
       "  AGE_DESC MARITAL_STATUS_CODE INCOME_DESC HOMEOWNER_DESC      HH_COMP_DESC  \\\n",
       "0      65+                   A      35-49K      Homeowner  2 Adults No Kids   \n",
       "1    45-54                   A      50-74K      Homeowner  2 Adults No Kids   \n",
       "2    25-34                   U      25-34K        Unknown     2 Adults Kids   \n",
       "3    25-34                   U      75-99K      Homeowner     2 Adults Kids   \n",
       "4    45-54                   B      50-74K      Homeowner     Single Female   \n",
       "\n",
       "  HOUSEHOLD_SIZE_DESC KID_CATEGORY_DESC  household_key  \n",
       "0                   2      None/Unknown              1  \n",
       "1                   2      None/Unknown              7  \n",
       "2                   3                 1              8  \n",
       "3                   4                 2             13  \n",
       "4                   1      None/Unknown             16  "
      ]
     },
     "execution_count": 4,
     "metadata": {},
     "output_type": "execute_result"
    }
   ],
   "source": [
    "df_demographic.head(5)"
   ]
  },
  {
   "cell_type": "code",
   "execution_count": 5,
   "metadata": {},
   "outputs": [
    {
     "name": "stdout",
     "output_type": "stream",
     "text": [
      "<class 'pandas.core.frame.DataFrame'>\n",
      "RangeIndex: 801 entries, 0 to 800\n",
      "Data columns (total 8 columns):\n",
      " #   Column               Non-Null Count  Dtype \n",
      "---  ------               --------------  ----- \n",
      " 0   AGE_DESC             801 non-null    object\n",
      " 1   MARITAL_STATUS_CODE  801 non-null    object\n",
      " 2   INCOME_DESC          801 non-null    object\n",
      " 3   HOMEOWNER_DESC       801 non-null    object\n",
      " 4   HH_COMP_DESC         801 non-null    object\n",
      " 5   HOUSEHOLD_SIZE_DESC  801 non-null    object\n",
      " 6   KID_CATEGORY_DESC    801 non-null    object\n",
      " 7   household_key        801 non-null    int64 \n",
      "dtypes: int64(1), object(7)\n",
      "memory usage: 50.2+ KB\n"
     ]
    }
   ],
   "source": [
    "df_demographic.info()"
   ]
  },
  {
   "cell_type": "markdown",
   "metadata": {},
   "source": [
    "We can see that the columns ['HOMEOWNER_DESC', 'HH_COMP_DESC', 'KID_CATEGORY_DESC','MARITAL_STATUS'] all have missing values as Unknwown or None/Unknown"
   ]
  },
  {
   "cell_type": "markdown",
   "metadata": {},
   "source": [
    "##### b. KID_CATEGORY_DESC"
   ]
  },
  {
   "cell_type": "code",
   "execution_count": 6,
   "metadata": {},
   "outputs": [
    {
     "data": {
      "text/plain": [
       "KID_CATEGORY_DESC\n",
       "None/Unknown    558\n",
       "1               114\n",
       "3+               69\n",
       "2                60\n",
       "Name: count, dtype: int64"
      ]
     },
     "execution_count": 6,
     "metadata": {},
     "output_type": "execute_result"
    }
   ],
   "source": [
    "df_demographic[\"KID_CATEGORY_DESC\"].value_counts()"
   ]
  },
  {
   "cell_type": "code",
   "execution_count": 7,
   "metadata": {},
   "outputs": [
    {
     "data": {
      "text/plain": [
       "HH_COMP_DESC\n",
       "2 Adults No Kids    255\n",
       "Single Female       144\n",
       "Single Male          95\n",
       "Unknown              64\n",
       "Name: count, dtype: int64"
      ]
     },
     "execution_count": 7,
     "metadata": {},
     "output_type": "execute_result"
    }
   ],
   "source": [
    "# Get the 'HH_COMP_DESC' values where 'KID_CATEGORY_DESC' is 'None/Unknown' in the df_demographic DataFrame\n",
    "# Then, count the unique values of 'HH_COMP_DESC'\n",
    "df_demographic[df_demographic[\"KID_CATEGORY_DESC\"] == \"None/Unknown\"][\n",
    "    \"HH_COMP_DESC\"\n",
    "].value_counts()"
   ]
  },
  {
   "cell_type": "markdown",
   "metadata": {},
   "source": [
    "We can see that the majority of KIDS marked as None/Unknown are from adults with no kids ['2 Adults No Kids', 'Single Female', 'Single Male']. <br/>\n",
    "We can set those values to 0.\n"
   ]
  },
  {
   "cell_type": "code",
   "execution_count": 8,
   "metadata": {},
   "outputs": [
    {
     "data": {
      "text/plain": [
       "KID_CATEGORY_DESC\n",
       "0               494\n",
       "1               114\n",
       "3+               69\n",
       "None/Unknown     64\n",
       "2                60\n",
       "Name: count, dtype: int64"
      ]
     },
     "execution_count": 8,
     "metadata": {},
     "output_type": "execute_result"
    }
   ],
   "source": [
    "# Update the 'KID_CATEGORY_DESC' column in the df_demographic DataFrame\n",
    "df_demographic[\"KID_CATEGORY_DESC\"] = np.where(\n",
    "    # Condition: If 'KID_CATEGORY_DESC' is 'None/Unknown' AND 'HH_COMP_DESC' is not 'Unknown'\n",
    "    (df_demographic[\"KID_CATEGORY_DESC\"] == \"None/Unknown\")\n",
    "    & (~(df_demographic[\"HH_COMP_DESC\"] == \"Unknown\")),\n",
    "    0,  # If condition is True, set value to 0\n",
    "    df_demographic[\n",
    "        \"KID_CATEGORY_DESC\"\n",
    "    ],  # If condition is False, keep the original value\n",
    ")\n",
    "df_demographic[\"KID_CATEGORY_DESC\"].value_counts()"
   ]
  },
  {
   "cell_type": "code",
   "execution_count": 9,
   "metadata": {},
   "outputs": [
    {
     "data": {
      "text/plain": [
       "HOUSEHOLD_SIZE_DESC  HH_COMP_DESC  MARITAL_STATUS_CODE\n",
       "1                    Unknown       U                      59\n",
       "2                    Unknown       A                       3\n",
       "1                    Unknown       B                       2\n",
       "Name: count, dtype: int64"
      ]
     },
     "execution_count": 9,
     "metadata": {},
     "output_type": "execute_result"
    }
   ],
   "source": [
    "# Filter the df_demographic DataFrame to only include rows where 'KID_CATEGORY_DESC' is 'None/Unknown'\n",
    "# Then, select the 'HOUSEHOLD_SIZE_DESC', 'HH_COMP_DESC', and 'MARITAL_STATUS_CODE' columns from this filtered DataFrame\n",
    "# Finally, count the unique combinations of these three columns\n",
    "df_demographic[df_demographic[\"KID_CATEGORY_DESC\"] == \"None/Unknown\"][\n",
    "    [\"HOUSEHOLD_SIZE_DESC\", \"HH_COMP_DESC\", \"MARITAL_STATUS_CODE\"]\n",
    "].value_counts()"
   ]
  },
  {
   "cell_type": "markdown",
   "metadata": {},
   "source": [
    "We can see that the remaining Unknown kids can be deduced from the household size as Household Size of 1 has no kids. Both household types are of an unknown composition. The households having 2 persons are married. We can assume that therefore, they have no kids."
   ]
  },
  {
   "cell_type": "code",
   "execution_count": 10,
   "metadata": {},
   "outputs": [
    {
     "data": {
      "text/plain": [
       "KID_CATEGORY_DESC\n",
       "0     558\n",
       "1     114\n",
       "3+     69\n",
       "2      60\n",
       "Name: count, dtype: int64"
      ]
     },
     "execution_count": 10,
     "metadata": {},
     "output_type": "execute_result"
    }
   ],
   "source": [
    "df_demographic[\"KID_CATEGORY_DESC\"].replace(\n",
    "    \"None/Unknown\", 0, inplace=True\n",
    ")  # Replace 'None/Unknown' with 0\n",
    "df_demographic[\"KID_CATEGORY_DESC\"].value_counts()"
   ]
  },
  {
   "cell_type": "code",
   "execution_count": 11,
   "metadata": {},
   "outputs": [
    {
     "data": {
      "text/plain": [
       "KID_CATEGORY_DESC\n",
       "0    558\n",
       "1    114\n",
       "3     69\n",
       "2     60\n",
       "Name: count, dtype: int64"
      ]
     },
     "execution_count": 11,
     "metadata": {},
     "output_type": "execute_result"
    }
   ],
   "source": [
    "# Replace the 3+ values in the 'KID_CATEGORY_DESC' column with 3 to convert the column to integers.\n",
    "df_demographic[\"KID_CATEGORY_DESC\"] = (\n",
    "    df_demographic[\"KID_CATEGORY_DESC\"].replace(\"3+\", 3).astype(int)\n",
    ")\n",
    "df_demographic[\"KID_CATEGORY_DESC\"].value_counts()"
   ]
  },
  {
   "cell_type": "markdown",
   "metadata": {},
   "source": [
    "#### c. HH_COMP_DESC"
   ]
  },
  {
   "cell_type": "code",
   "execution_count": 12,
   "metadata": {},
   "outputs": [
    {
     "data": {
      "text/plain": [
       "HH_COMP_DESC\n",
       "2 Adults No Kids    255\n",
       "2 Adults Kids       187\n",
       "Single Female       144\n",
       "Single Male          95\n",
       "Unknown              73\n",
       "1 Adult Kids         47\n",
       "Name: count, dtype: int64"
      ]
     },
     "execution_count": 12,
     "metadata": {},
     "output_type": "execute_result"
    }
   ],
   "source": [
    "df_demographic[\"HH_COMP_DESC\"].value_counts()"
   ]
  },
  {
   "cell_type": "code",
   "execution_count": 13,
   "metadata": {},
   "outputs": [
    {
     "data": {
      "text/plain": [
       "HOUSEHOLD_SIZE_DESC  KID_CATEGORY_DESC\n",
       "1                    0                    61\n",
       "3                    1                     5\n",
       "2                    0                     3\n",
       "5+                   3                     3\n",
       "2                    1                     1\n",
       "Name: count, dtype: int64"
      ]
     },
     "execution_count": 13,
     "metadata": {},
     "output_type": "execute_result"
    }
   ],
   "source": [
    "# Filter the df_demographic DataFrame to only include rows where 'HH_COMP_DESC' is 'Unknown'\n",
    "# Then, select the 'HOUSEHOLD_SIZE_DESC' and 'KID_CATEGORY_DESC' columns from this filtered DataFrame\n",
    "# Finally, count the unique combinations of these two columns.\n",
    "df_demographic[df_demographic[\"HH_COMP_DESC\"] == \"Unknown\"][\n",
    "    [\"HOUSEHOLD_SIZE_DESC\", \"KID_CATEGORY_DESC\"]\n",
    "].value_counts()"
   ]
  },
  {
   "cell_type": "markdown",
   "metadata": {},
   "source": [
    "We can fill the Houses with 1 person and no kids as a new value: '1 Adult No Kids'"
   ]
  },
  {
   "cell_type": "code",
   "execution_count": 14,
   "metadata": {},
   "outputs": [
    {
     "data": {
      "text/plain": [
       "HH_COMP_DESC\n",
       "2 Adults No Kids    255\n",
       "2 Adults Kids       187\n",
       "Single Female       144\n",
       "Single Male          95\n",
       "1 Adult No Kids      61\n",
       "1 Adult Kids         47\n",
       "Unknown              12\n",
       "Name: count, dtype: int64"
      ]
     },
     "execution_count": 14,
     "metadata": {},
     "output_type": "execute_result"
    }
   ],
   "source": [
    "# Update the 'HH_COMP_DESC' column in the df_demographic DataFrame\n",
    "df_demographic[\"HH_COMP_DESC\"] = np.where(\n",
    "    # Condition: If 'HH_COMP_DESC' is 'Unknown' AND 'HOUSEHOLD_SIZE_DESC' is '1'\n",
    "    (df_demographic[\"HH_COMP_DESC\"] == \"Unknown\")\n",
    "    & (df_demographic[\"HOUSEHOLD_SIZE_DESC\"] == \"1\"),\n",
    "    \"1 Adult No Kids\",  # If condition is True, set value to '1 Adult No Kids'\n",
    "    df_demographic[\"HH_COMP_DESC\"],  # If condition is False, keep the original value\n",
    ")\n",
    "df_demographic[\"HH_COMP_DESC\"].value_counts()"
   ]
  },
  {
   "cell_type": "code",
   "execution_count": 15,
   "metadata": {},
   "outputs": [
    {
     "data": {
      "text/html": [
       "<div>\n",
       "<style scoped>\n",
       "    .dataframe tbody tr th:only-of-type {\n",
       "        vertical-align: middle;\n",
       "    }\n",
       "\n",
       "    .dataframe tbody tr th {\n",
       "        vertical-align: top;\n",
       "    }\n",
       "\n",
       "    .dataframe thead th {\n",
       "        text-align: right;\n",
       "    }\n",
       "</style>\n",
       "<table border=\"1\" class=\"dataframe\">\n",
       "  <thead>\n",
       "    <tr style=\"text-align: right;\">\n",
       "      <th></th>\n",
       "      <th>AGE_DESC</th>\n",
       "      <th>MARITAL_STATUS_CODE</th>\n",
       "      <th>INCOME_DESC</th>\n",
       "      <th>HOMEOWNER_DESC</th>\n",
       "      <th>HH_COMP_DESC</th>\n",
       "      <th>HOUSEHOLD_SIZE_DESC</th>\n",
       "      <th>KID_CATEGORY_DESC</th>\n",
       "      <th>household_key</th>\n",
       "    </tr>\n",
       "  </thead>\n",
       "  <tbody>\n",
       "    <tr>\n",
       "      <th>87</th>\n",
       "      <td>35-44</td>\n",
       "      <td>A</td>\n",
       "      <td>Under 15K</td>\n",
       "      <td>Renter</td>\n",
       "      <td>Unknown</td>\n",
       "      <td>3</td>\n",
       "      <td>1</td>\n",
       "      <td>249</td>\n",
       "    </tr>\n",
       "    <tr>\n",
       "      <th>140</th>\n",
       "      <td>25-34</td>\n",
       "      <td>A</td>\n",
       "      <td>25-34K</td>\n",
       "      <td>Unknown</td>\n",
       "      <td>Unknown</td>\n",
       "      <td>2</td>\n",
       "      <td>0</td>\n",
       "      <td>404</td>\n",
       "    </tr>\n",
       "    <tr>\n",
       "      <th>194</th>\n",
       "      <td>45-54</td>\n",
       "      <td>A</td>\n",
       "      <td>125-149K</td>\n",
       "      <td>Homeowner</td>\n",
       "      <td>Unknown</td>\n",
       "      <td>3</td>\n",
       "      <td>1</td>\n",
       "      <td>582</td>\n",
       "    </tr>\n",
       "    <tr>\n",
       "      <th>218</th>\n",
       "      <td>55-64</td>\n",
       "      <td>A</td>\n",
       "      <td>50-74K</td>\n",
       "      <td>Homeowner</td>\n",
       "      <td>Unknown</td>\n",
       "      <td>2</td>\n",
       "      <td>0</td>\n",
       "      <td>660</td>\n",
       "    </tr>\n",
       "    <tr>\n",
       "      <th>341</th>\n",
       "      <td>35-44</td>\n",
       "      <td>A</td>\n",
       "      <td>35-49K</td>\n",
       "      <td>Unknown</td>\n",
       "      <td>Unknown</td>\n",
       "      <td>5+</td>\n",
       "      <td>3</td>\n",
       "      <td>1012</td>\n",
       "    </tr>\n",
       "    <tr>\n",
       "      <th>375</th>\n",
       "      <td>45-54</td>\n",
       "      <td>U</td>\n",
       "      <td>50-74K</td>\n",
       "      <td>Unknown</td>\n",
       "      <td>Unknown</td>\n",
       "      <td>2</td>\n",
       "      <td>1</td>\n",
       "      <td>1135</td>\n",
       "    </tr>\n",
       "    <tr>\n",
       "      <th>382</th>\n",
       "      <td>45-54</td>\n",
       "      <td>A</td>\n",
       "      <td>35-49K</td>\n",
       "      <td>Homeowner</td>\n",
       "      <td>Unknown</td>\n",
       "      <td>2</td>\n",
       "      <td>0</td>\n",
       "      <td>1154</td>\n",
       "    </tr>\n",
       "    <tr>\n",
       "      <th>505</th>\n",
       "      <td>45-54</td>\n",
       "      <td>A</td>\n",
       "      <td>75-99K</td>\n",
       "      <td>Homeowner</td>\n",
       "      <td>Unknown</td>\n",
       "      <td>3</td>\n",
       "      <td>1</td>\n",
       "      <td>1563</td>\n",
       "    </tr>\n",
       "    <tr>\n",
       "      <th>579</th>\n",
       "      <td>45-54</td>\n",
       "      <td>U</td>\n",
       "      <td>125-149K</td>\n",
       "      <td>Homeowner</td>\n",
       "      <td>Unknown</td>\n",
       "      <td>5+</td>\n",
       "      <td>3</td>\n",
       "      <td>1834</td>\n",
       "    </tr>\n",
       "    <tr>\n",
       "      <th>584</th>\n",
       "      <td>45-54</td>\n",
       "      <td>A</td>\n",
       "      <td>75-99K</td>\n",
       "      <td>Homeowner</td>\n",
       "      <td>Unknown</td>\n",
       "      <td>3</td>\n",
       "      <td>1</td>\n",
       "      <td>1848</td>\n",
       "    </tr>\n",
       "    <tr>\n",
       "      <th>628</th>\n",
       "      <td>25-34</td>\n",
       "      <td>U</td>\n",
       "      <td>50-74K</td>\n",
       "      <td>Unknown</td>\n",
       "      <td>Unknown</td>\n",
       "      <td>5+</td>\n",
       "      <td>3</td>\n",
       "      <td>1985</td>\n",
       "    </tr>\n",
       "    <tr>\n",
       "      <th>797</th>\n",
       "      <td>45-54</td>\n",
       "      <td>A</td>\n",
       "      <td>75-99K</td>\n",
       "      <td>Homeowner</td>\n",
       "      <td>Unknown</td>\n",
       "      <td>3</td>\n",
       "      <td>1</td>\n",
       "      <td>2496</td>\n",
       "    </tr>\n",
       "  </tbody>\n",
       "</table>\n",
       "</div>"
      ],
      "text/plain": [
       "    AGE_DESC MARITAL_STATUS_CODE INCOME_DESC HOMEOWNER_DESC HH_COMP_DESC  \\\n",
       "87     35-44                   A   Under 15K         Renter      Unknown   \n",
       "140    25-34                   A      25-34K        Unknown      Unknown   \n",
       "194    45-54                   A    125-149K      Homeowner      Unknown   \n",
       "218    55-64                   A      50-74K      Homeowner      Unknown   \n",
       "341    35-44                   A      35-49K        Unknown      Unknown   \n",
       "375    45-54                   U      50-74K        Unknown      Unknown   \n",
       "382    45-54                   A      35-49K      Homeowner      Unknown   \n",
       "505    45-54                   A      75-99K      Homeowner      Unknown   \n",
       "579    45-54                   U    125-149K      Homeowner      Unknown   \n",
       "584    45-54                   A      75-99K      Homeowner      Unknown   \n",
       "628    25-34                   U      50-74K        Unknown      Unknown   \n",
       "797    45-54                   A      75-99K      Homeowner      Unknown   \n",
       "\n",
       "    HOUSEHOLD_SIZE_DESC  KID_CATEGORY_DESC  household_key  \n",
       "87                    3                  1            249  \n",
       "140                   2                  0            404  \n",
       "194                   3                  1            582  \n",
       "218                   2                  0            660  \n",
       "341                  5+                  3           1012  \n",
       "375                   2                  1           1135  \n",
       "382                   2                  0           1154  \n",
       "505                   3                  1           1563  \n",
       "579                  5+                  3           1834  \n",
       "584                   3                  1           1848  \n",
       "628                  5+                  3           1985  \n",
       "797                   3                  1           2496  "
      ]
     },
     "execution_count": 15,
     "metadata": {},
     "output_type": "execute_result"
    }
   ],
   "source": [
    "df_demographic[df_demographic[\"HH_COMP_DESC\"] == \"Unknown\"]"
   ]
  },
  {
   "cell_type": "markdown",
   "metadata": {},
   "source": [
    "We can see that we can deduce the household composition from the diffrence between the Household size and the number of kids."
   ]
  },
  {
   "cell_type": "code",
   "execution_count": 16,
   "metadata": {},
   "outputs": [
    {
     "data": {
      "text/plain": [
       "HH_COMP_DESC\n",
       "2 Adults No Kids    255\n",
       "2 Adults Kids       187\n",
       "Single Female       144\n",
       "Single Male          95\n",
       "1 Adult No Kids      61\n",
       "1 Adult Kids         47\n",
       "Unknown              12\n",
       "Name: count, dtype: int64"
      ]
     },
     "execution_count": 16,
     "metadata": {},
     "output_type": "execute_result"
    }
   ],
   "source": [
    "# First we need to convert the column to int and replace the '5+' values with 5 to do so.\n",
    "df_demographic[\"HOUSEHOLD_SIZE_DESC\"] = (\n",
    "    df_demographic[\"HOUSEHOLD_SIZE_DESC\"].replace(\"5+\", 5).astype(int)\n",
    ")\n",
    "df_demographic[\"HH_COMP_DESC\"].value_counts()"
   ]
  },
  {
   "cell_type": "code",
   "execution_count": 17,
   "metadata": {},
   "outputs": [
    {
     "data": {
      "text/plain": [
       "HH_COMP_DESC\n",
       "2 Adults No Kids    258\n",
       "2 Adults Kids       195\n",
       "Single Female       144\n",
       "Single Male          95\n",
       "1 Adult No Kids      61\n",
       "1 Adult Kids         48\n",
       "Name: count, dtype: int64"
      ]
     },
     "execution_count": 17,
     "metadata": {},
     "output_type": "execute_result"
    }
   ],
   "source": [
    "# Define the condition lists\n",
    "unknown_cond = df_demographic[\"HH_COMP_DESC\"] == \"Unknown\"\n",
    "conditions = [\n",
    "    (\n",
    "        unknown_cond\n",
    "        & (\n",
    "            df_demographic[\"HOUSEHOLD_SIZE_DESC\"] - df_demographic[\"KID_CATEGORY_DESC\"]\n",
    "            == 2\n",
    "        )\n",
    "        & (df_demographic[\"KID_CATEGORY_DESC\"] == 0)\n",
    "    ),\n",
    "    (\n",
    "        unknown_cond\n",
    "        & (\n",
    "            df_demographic[\"HOUSEHOLD_SIZE_DESC\"] - df_demographic[\"KID_CATEGORY_DESC\"]\n",
    "            == 2\n",
    "        )\n",
    "        & (df_demographic[\"KID_CATEGORY_DESC\"] != 0)\n",
    "    ),\n",
    "    (\n",
    "        unknown_cond\n",
    "        & (\n",
    "            df_demographic[\"HOUSEHOLD_SIZE_DESC\"] - df_demographic[\"KID_CATEGORY_DESC\"]\n",
    "            == 1\n",
    "        )\n",
    "        & (df_demographic[\"KID_CATEGORY_DESC\"] == 0)\n",
    "    ),\n",
    "    (\n",
    "        unknown_cond\n",
    "        & (\n",
    "            df_demographic[\"HOUSEHOLD_SIZE_DESC\"] - df_demographic[\"KID_CATEGORY_DESC\"]\n",
    "            == 1\n",
    "        )\n",
    "        & (df_demographic[\"KID_CATEGORY_DESC\"] != 0)\n",
    "    ),\n",
    "]\n",
    "\n",
    "# Define the choice list\n",
    "choices = [\"2 Adults No Kids\", \"2 Adults Kids\", \"1 Adult No Kids\", \"1 Adult Kids\"]\n",
    "\n",
    "# Create a new column with the new values\n",
    "df_demographic[\"HH_COMP_DESC\"] = np.select(\n",
    "    conditions, choices, default=df_demographic[\"HH_COMP_DESC\"]\n",
    ")\n",
    "\n",
    "df_demographic[\"HH_COMP_DESC\"].value_counts()"
   ]
  },
  {
   "cell_type": "markdown",
   "metadata": {},
   "source": [
    "#### d. HOMEOWNER_DESC"
   ]
  },
  {
   "cell_type": "code",
   "execution_count": 18,
   "metadata": {},
   "outputs": [
    {
     "data": {
      "text/plain": [
       "HOMEOWNER_DESC\n",
       "Homeowner          504\n",
       "Unknown            233\n",
       "Renter              42\n",
       "Probable Renter     11\n",
       "Probable Owner      11\n",
       "Name: count, dtype: int64"
      ]
     },
     "execution_count": 18,
     "metadata": {},
     "output_type": "execute_result"
    }
   ],
   "source": [
    "df_demographic[\"HOMEOWNER_DESC\"].value_counts()"
   ]
  },
  {
   "cell_type": "code",
   "execution_count": 19,
   "metadata": {},
   "outputs": [],
   "source": [
    "# Replace 'Unknown' values in the 'HOMEOWNER_DESC' column of the df_demographic DataFrame with NA (missing) values\n",
    "df_demographic[\"HOMEOWNER_DESC\"].replace(\"Unknown\", pd.NA, inplace=True)"
   ]
  },
  {
   "cell_type": "markdown",
   "metadata": {},
   "source": [
    "We will fill the Homeowner description column with the same distribution as the non missing values"
   ]
  },
  {
   "cell_type": "code",
   "execution_count": 20,
   "metadata": {},
   "outputs": [
    {
     "data": {
      "text/plain": [
       "{'Homeowner': 0.8873239436619719,\n",
       " 'Renter': 0.07394366197183098,\n",
       " 'Probable Renter': 0.01936619718309859,\n",
       " 'Probable Owner': 0.01936619718309859}"
      ]
     },
     "execution_count": 20,
     "metadata": {},
     "output_type": "execute_result"
    }
   ],
   "source": [
    "# Create a dictionnary with the ratio of each non NA value in the column\n",
    "homeowner_probability = (\n",
    "    df_demographic[\"HOMEOWNER_DESC\"].value_counts(normalize=True).to_dict()\n",
    ")\n",
    "homeowner_probability"
   ]
  },
  {
   "cell_type": "code",
   "execution_count": 21,
   "metadata": {},
   "outputs": [
    {
     "data": {
      "text/plain": [
       "HOMEOWNER_DESC\n",
       "Homeowner          0.920100\n",
       "Renter             0.052434\n",
       "Probable Renter    0.013733\n",
       "Probable Owner     0.013733\n",
       "Name: proportion, dtype: float64"
      ]
     },
     "execution_count": 21,
     "metadata": {},
     "output_type": "execute_result"
    }
   ],
   "source": [
    "# Fill the NA values with np.random while passing the existing values ratio as probability to the random function\n",
    "df_demographic[\"HOMEOWNER_DESC\"] = df_demographic[\"HOMEOWNER_DESC\"].fillna(\n",
    "    np.random.choice(\n",
    "        list(homeowner_probability.keys()), p=list(homeowner_probability.values())\n",
    "    )\n",
    ")\n",
    "df_demographic[\"HOMEOWNER_DESC\"].value_counts(normalize=True)"
   ]
  },
  {
   "cell_type": "markdown",
   "metadata": {},
   "source": [
    "#### e. MARITAL_STATUS_CODE"
   ]
  },
  {
   "cell_type": "code",
   "execution_count": 22,
   "metadata": {},
   "outputs": [
    {
     "data": {
      "text/plain": [
       "MARITAL_STATUS_CODE\n",
       "U    344\n",
       "A    340\n",
       "B    117\n",
       "Name: count, dtype: int64"
      ]
     },
     "execution_count": 22,
     "metadata": {},
     "output_type": "execute_result"
    }
   ],
   "source": [
    "df_demographic[\"MARITAL_STATUS_CODE\"].value_counts()"
   ]
  },
  {
   "cell_type": "code",
   "execution_count": 23,
   "metadata": {},
   "outputs": [
    {
     "data": {
      "text/plain": [
       "HH_COMP_DESC      MARITAL_STATUS_CODE\n",
       "1 Adult Kids      A                       16\n",
       "                  B                       14\n",
       "                  U                       18\n",
       "1 Adult No Kids   B                        2\n",
       "                  U                       59\n",
       "2 Adults Kids     A                      141\n",
       "                  B                        9\n",
       "                  U                       45\n",
       "2 Adults No Kids  A                      138\n",
       "                  B                       28\n",
       "                  U                       92\n",
       "Single Female     A                       33\n",
       "                  B                       39\n",
       "                  U                       72\n",
       "Single Male       A                       12\n",
       "                  B                       25\n",
       "                  U                       58\n",
       "Name: count, dtype: int64"
      ]
     },
     "execution_count": 23,
     "metadata": {},
     "output_type": "execute_result"
    }
   ],
   "source": [
    "# We can probably infer the marital status from the 'HH_COMP_DESC' column\n",
    "df_demographic[[\"HH_COMP_DESC\", \"MARITAL_STATUS_CODE\"]].value_counts().sort_index()"
   ]
  },
  {
   "cell_type": "code",
   "execution_count": 24,
   "metadata": {},
   "outputs": [
    {
     "data": {
      "text/plain": [
       "HH_COMP_DESC      MARITAL_STATUS_CODE\n",
       "1 Adult Kids      A                       16\n",
       "                  B                       14\n",
       "1 Adult No Kids   B                        2\n",
       "2 Adults Kids     A                      141\n",
       "                  B                        9\n",
       "2 Adults No Kids  A                      138\n",
       "                  B                       28\n",
       "Single Female     A                       33\n",
       "                  B                       39\n",
       "Single Male       A                       12\n",
       "                  B                       25\n",
       "Name: count, dtype: int64"
      ]
     },
     "execution_count": 24,
     "metadata": {},
     "output_type": "execute_result"
    }
   ],
   "source": [
    "# Replace the 'U' values in the 'MARITAL_STATUS_CODE' column of the df_demographic DataFrame with NA (missing) values\n",
    "# And then see the distribution between 'A': Married & 'B': Single for each Household composition\n",
    "marital_proba = (\n",
    "    df_demographic[[\"HH_COMP_DESC\", \"MARITAL_STATUS_CODE\"]]\n",
    "    .replace(\"U\", np.NaN)\n",
    "    .value_counts()\n",
    "    .sort_index()\n",
    ")\n",
    "marital_proba"
   ]
  },
  {
   "cell_type": "code",
   "execution_count": 25,
   "metadata": {},
   "outputs": [
    {
     "name": "stdout",
     "output_type": "stream",
     "text": [
      "1 Adult Kids: {'A': 0.5333333333333333, 'B': 0.4666666666666667}\n",
      "1 Adult No Kids: {'B': 1.0}\n",
      "2 Adults Kids: {'A': 0.94, 'B': 0.06}\n",
      "2 Adults No Kids: {'A': 0.8313253012048193, 'B': 0.1686746987951807}\n",
      "Single Female: {'A': 0.4583333333333333, 'B': 0.5416666666666666}\n",
      "Single Male: {'A': 0.32432432432432434, 'B': 0.6756756756756757}\n"
     ]
    }
   ],
   "source": [
    "# Extract the ratio of each value ['A','B'] for each 'HH_COMP_DESC' value and use it to fill the missing values according to that ratio\n",
    "\n",
    "# For each unique value in the 'HH_COMP_DESC' column (represented by 'comp_desc')\n",
    "for comp_desc in marital_proba.index.levels[0]:\n",
    "    # Calculate the proportion of each 'MARITAL_STATUS_CODE' value within the current 'HH_COMP_DESC' group\n",
    "    marital_proba[comp_desc] = marital_proba[comp_desc] / marital_proba[comp_desc].sum()\n",
    "\n",
    "    comp_desc_proba = marital_proba[comp_desc].to_dict()\n",
    "    print(f\"{comp_desc}: {comp_desc_proba}\")\n",
    "\n",
    "    # Update the 'MARITAL_STATUS_CODE' column in the df_demographic DataFrame\n",
    "    df_demographic[\"MARITAL_STATUS_CODE\"] = np.where(\n",
    "        # Condition: If 'MARITAL_STATUS_CODE' is 'U' AND 'HH_COMP_DESC' is the current 'comp_desc' value\n",
    "        (df_demographic[\"MARITAL_STATUS_CODE\"] == \"U\")\n",
    "        & (df_demographic[\"HH_COMP_DESC\"] == comp_desc),\n",
    "        # If condition is True, randomly select a 'MARITAL_STATUS_CODE' value based on the calculated proportions\n",
    "        np.random.choice(\n",
    "            list(comp_desc_proba.keys()), p=list(comp_desc_proba.values())\n",
    "        ),\n",
    "        # If condition is False, keep the original value\n",
    "        df_demographic[\"MARITAL_STATUS_CODE\"],\n",
    "    )"
   ]
  },
  {
   "cell_type": "code",
   "execution_count": 26,
   "metadata": {},
   "outputs": [
    {
     "data": {
      "text/plain": [
       "MARITAL_STATUS_CODE\n",
       "A    0.757803\n",
       "B    0.242197\n",
       "Name: proportion, dtype: float64"
      ]
     },
     "execution_count": 26,
     "metadata": {},
     "output_type": "execute_result"
    }
   ],
   "source": [
    "df_demographic[\"MARITAL_STATUS_CODE\"].value_counts(normalize=True)"
   ]
  },
  {
   "cell_type": "markdown",
   "metadata": {},
   "source": [
    "All Missing values in the dataframe are now resolved."
   ]
  },
  {
   "cell_type": "code",
   "execution_count": 27,
   "metadata": {},
   "outputs": [
    {
     "data": {
      "text/html": [
       "<div>\n",
       "<style scoped>\n",
       "    .dataframe tbody tr th:only-of-type {\n",
       "        vertical-align: middle;\n",
       "    }\n",
       "\n",
       "    .dataframe tbody tr th {\n",
       "        vertical-align: top;\n",
       "    }\n",
       "\n",
       "    .dataframe thead th {\n",
       "        text-align: right;\n",
       "    }\n",
       "</style>\n",
       "<table border=\"1\" class=\"dataframe\">\n",
       "  <thead>\n",
       "    <tr style=\"text-align: right;\">\n",
       "      <th></th>\n",
       "      <th>AGE_DESC</th>\n",
       "      <th>MARITAL_STATUS_CODE</th>\n",
       "      <th>INCOME_DESC</th>\n",
       "      <th>HOMEOWNER_DESC</th>\n",
       "      <th>HH_COMP_DESC</th>\n",
       "      <th>HOUSEHOLD_SIZE_DESC</th>\n",
       "      <th>KID_CATEGORY_DESC</th>\n",
       "      <th>household_key</th>\n",
       "    </tr>\n",
       "  </thead>\n",
       "  <tbody>\n",
       "    <tr>\n",
       "      <th>0</th>\n",
       "      <td>65+</td>\n",
       "      <td>A</td>\n",
       "      <td>35-49K</td>\n",
       "      <td>Homeowner</td>\n",
       "      <td>2 Adults No Kids</td>\n",
       "      <td>2</td>\n",
       "      <td>0</td>\n",
       "      <td>1</td>\n",
       "    </tr>\n",
       "    <tr>\n",
       "      <th>1</th>\n",
       "      <td>45-54</td>\n",
       "      <td>A</td>\n",
       "      <td>50-74K</td>\n",
       "      <td>Homeowner</td>\n",
       "      <td>2 Adults No Kids</td>\n",
       "      <td>2</td>\n",
       "      <td>0</td>\n",
       "      <td>7</td>\n",
       "    </tr>\n",
       "    <tr>\n",
       "      <th>2</th>\n",
       "      <td>25-34</td>\n",
       "      <td>A</td>\n",
       "      <td>25-34K</td>\n",
       "      <td>Homeowner</td>\n",
       "      <td>2 Adults Kids</td>\n",
       "      <td>3</td>\n",
       "      <td>1</td>\n",
       "      <td>8</td>\n",
       "    </tr>\n",
       "    <tr>\n",
       "      <th>3</th>\n",
       "      <td>25-34</td>\n",
       "      <td>A</td>\n",
       "      <td>75-99K</td>\n",
       "      <td>Homeowner</td>\n",
       "      <td>2 Adults Kids</td>\n",
       "      <td>4</td>\n",
       "      <td>2</td>\n",
       "      <td>13</td>\n",
       "    </tr>\n",
       "    <tr>\n",
       "      <th>4</th>\n",
       "      <td>45-54</td>\n",
       "      <td>B</td>\n",
       "      <td>50-74K</td>\n",
       "      <td>Homeowner</td>\n",
       "      <td>Single Female</td>\n",
       "      <td>1</td>\n",
       "      <td>0</td>\n",
       "      <td>16</td>\n",
       "    </tr>\n",
       "    <tr>\n",
       "      <th>...</th>\n",
       "      <td>...</td>\n",
       "      <td>...</td>\n",
       "      <td>...</td>\n",
       "      <td>...</td>\n",
       "      <td>...</td>\n",
       "      <td>...</td>\n",
       "      <td>...</td>\n",
       "      <td>...</td>\n",
       "    </tr>\n",
       "    <tr>\n",
       "      <th>796</th>\n",
       "      <td>35-44</td>\n",
       "      <td>A</td>\n",
       "      <td>50-74K</td>\n",
       "      <td>Homeowner</td>\n",
       "      <td>2 Adults No Kids</td>\n",
       "      <td>2</td>\n",
       "      <td>0</td>\n",
       "      <td>2494</td>\n",
       "    </tr>\n",
       "    <tr>\n",
       "      <th>797</th>\n",
       "      <td>45-54</td>\n",
       "      <td>A</td>\n",
       "      <td>75-99K</td>\n",
       "      <td>Homeowner</td>\n",
       "      <td>2 Adults Kids</td>\n",
       "      <td>3</td>\n",
       "      <td>1</td>\n",
       "      <td>2496</td>\n",
       "    </tr>\n",
       "    <tr>\n",
       "      <th>798</th>\n",
       "      <td>45-54</td>\n",
       "      <td>A</td>\n",
       "      <td>35-49K</td>\n",
       "      <td>Homeowner</td>\n",
       "      <td>Single Male</td>\n",
       "      <td>1</td>\n",
       "      <td>0</td>\n",
       "      <td>2497</td>\n",
       "    </tr>\n",
       "    <tr>\n",
       "      <th>799</th>\n",
       "      <td>25-34</td>\n",
       "      <td>A</td>\n",
       "      <td>50-74K</td>\n",
       "      <td>Homeowner</td>\n",
       "      <td>2 Adults No Kids</td>\n",
       "      <td>2</td>\n",
       "      <td>0</td>\n",
       "      <td>2498</td>\n",
       "    </tr>\n",
       "    <tr>\n",
       "      <th>800</th>\n",
       "      <td>25-34</td>\n",
       "      <td>A</td>\n",
       "      <td>Under 15K</td>\n",
       "      <td>Homeowner</td>\n",
       "      <td>2 Adults Kids</td>\n",
       "      <td>3</td>\n",
       "      <td>1</td>\n",
       "      <td>2499</td>\n",
       "    </tr>\n",
       "  </tbody>\n",
       "</table>\n",
       "<p>801 rows × 8 columns</p>\n",
       "</div>"
      ],
      "text/plain": [
       "    AGE_DESC MARITAL_STATUS_CODE INCOME_DESC HOMEOWNER_DESC      HH_COMP_DESC  \\\n",
       "0        65+                   A      35-49K      Homeowner  2 Adults No Kids   \n",
       "1      45-54                   A      50-74K      Homeowner  2 Adults No Kids   \n",
       "2      25-34                   A      25-34K      Homeowner     2 Adults Kids   \n",
       "3      25-34                   A      75-99K      Homeowner     2 Adults Kids   \n",
       "4      45-54                   B      50-74K      Homeowner     Single Female   \n",
       "..       ...                 ...         ...            ...               ...   \n",
       "796    35-44                   A      50-74K      Homeowner  2 Adults No Kids   \n",
       "797    45-54                   A      75-99K      Homeowner     2 Adults Kids   \n",
       "798    45-54                   A      35-49K      Homeowner       Single Male   \n",
       "799    25-34                   A      50-74K      Homeowner  2 Adults No Kids   \n",
       "800    25-34                   A   Under 15K      Homeowner     2 Adults Kids   \n",
       "\n",
       "     HOUSEHOLD_SIZE_DESC  KID_CATEGORY_DESC  household_key  \n",
       "0                      2                  0              1  \n",
       "1                      2                  0              7  \n",
       "2                      3                  1              8  \n",
       "3                      4                  2             13  \n",
       "4                      1                  0             16  \n",
       "..                   ...                ...            ...  \n",
       "796                    2                  0           2494  \n",
       "797                    3                  1           2496  \n",
       "798                    1                  0           2497  \n",
       "799                    2                  0           2498  \n",
       "800                    3                  1           2499  \n",
       "\n",
       "[801 rows x 8 columns]"
      ]
     },
     "execution_count": 27,
     "metadata": {},
     "output_type": "execute_result"
    }
   ],
   "source": [
    "df_demographic"
   ]
  },
  {
   "cell_type": "markdown",
   "metadata": {},
   "source": [
    "---"
   ]
  },
  {
   "cell_type": "markdown",
   "metadata": {},
   "source": [
    "## 2. Transaction DataFrame"
   ]
  },
  {
   "cell_type": "code",
   "execution_count": 28,
   "metadata": {},
   "outputs": [
    {
     "data": {
      "text/html": [
       "<div>\n",
       "<style scoped>\n",
       "    .dataframe tbody tr th:only-of-type {\n",
       "        vertical-align: middle;\n",
       "    }\n",
       "\n",
       "    .dataframe tbody tr th {\n",
       "        vertical-align: top;\n",
       "    }\n",
       "\n",
       "    .dataframe thead th {\n",
       "        text-align: right;\n",
       "    }\n",
       "</style>\n",
       "<table border=\"1\" class=\"dataframe\">\n",
       "  <thead>\n",
       "    <tr style=\"text-align: right;\">\n",
       "      <th></th>\n",
       "      <th>household_key</th>\n",
       "      <th>BASKET_ID</th>\n",
       "      <th>DAY</th>\n",
       "      <th>PRODUCT_ID</th>\n",
       "      <th>QUANTITY</th>\n",
       "      <th>SALES_VALUE</th>\n",
       "      <th>STORE_ID</th>\n",
       "      <th>RETAIL_DISC</th>\n",
       "      <th>TRANS_TIME</th>\n",
       "      <th>WEEK_NO</th>\n",
       "      <th>COUPON_DISC</th>\n",
       "      <th>COUPON_MATCH_DISC</th>\n",
       "    </tr>\n",
       "  </thead>\n",
       "  <tbody>\n",
       "    <tr>\n",
       "      <th>0</th>\n",
       "      <td>2375</td>\n",
       "      <td>26984851472</td>\n",
       "      <td>1</td>\n",
       "      <td>1004906</td>\n",
       "      <td>1</td>\n",
       "      <td>1.39</td>\n",
       "      <td>364</td>\n",
       "      <td>-0.60</td>\n",
       "      <td>1631</td>\n",
       "      <td>1</td>\n",
       "      <td>0.0</td>\n",
       "      <td>0.0</td>\n",
       "    </tr>\n",
       "    <tr>\n",
       "      <th>1</th>\n",
       "      <td>2375</td>\n",
       "      <td>26984851472</td>\n",
       "      <td>1</td>\n",
       "      <td>1033142</td>\n",
       "      <td>1</td>\n",
       "      <td>0.82</td>\n",
       "      <td>364</td>\n",
       "      <td>0.00</td>\n",
       "      <td>1631</td>\n",
       "      <td>1</td>\n",
       "      <td>0.0</td>\n",
       "      <td>0.0</td>\n",
       "    </tr>\n",
       "    <tr>\n",
       "      <th>2</th>\n",
       "      <td>2375</td>\n",
       "      <td>26984851472</td>\n",
       "      <td>1</td>\n",
       "      <td>1036325</td>\n",
       "      <td>1</td>\n",
       "      <td>0.99</td>\n",
       "      <td>364</td>\n",
       "      <td>-0.30</td>\n",
       "      <td>1631</td>\n",
       "      <td>1</td>\n",
       "      <td>0.0</td>\n",
       "      <td>0.0</td>\n",
       "    </tr>\n",
       "    <tr>\n",
       "      <th>3</th>\n",
       "      <td>2375</td>\n",
       "      <td>26984851472</td>\n",
       "      <td>1</td>\n",
       "      <td>1082185</td>\n",
       "      <td>1</td>\n",
       "      <td>1.21</td>\n",
       "      <td>364</td>\n",
       "      <td>0.00</td>\n",
       "      <td>1631</td>\n",
       "      <td>1</td>\n",
       "      <td>0.0</td>\n",
       "      <td>0.0</td>\n",
       "    </tr>\n",
       "    <tr>\n",
       "      <th>4</th>\n",
       "      <td>2375</td>\n",
       "      <td>26984851472</td>\n",
       "      <td>1</td>\n",
       "      <td>8160430</td>\n",
       "      <td>1</td>\n",
       "      <td>1.50</td>\n",
       "      <td>364</td>\n",
       "      <td>-0.39</td>\n",
       "      <td>1631</td>\n",
       "      <td>1</td>\n",
       "      <td>0.0</td>\n",
       "      <td>0.0</td>\n",
       "    </tr>\n",
       "  </tbody>\n",
       "</table>\n",
       "</div>"
      ],
      "text/plain": [
       "   household_key    BASKET_ID  DAY  PRODUCT_ID  QUANTITY  SALES_VALUE  \\\n",
       "0           2375  26984851472    1     1004906         1         1.39   \n",
       "1           2375  26984851472    1     1033142         1         0.82   \n",
       "2           2375  26984851472    1     1036325         1         0.99   \n",
       "3           2375  26984851472    1     1082185         1         1.21   \n",
       "4           2375  26984851472    1     8160430         1         1.50   \n",
       "\n",
       "   STORE_ID  RETAIL_DISC  TRANS_TIME  WEEK_NO  COUPON_DISC  COUPON_MATCH_DISC  \n",
       "0       364        -0.60        1631        1          0.0                0.0  \n",
       "1       364         0.00        1631        1          0.0                0.0  \n",
       "2       364        -0.30        1631        1          0.0                0.0  \n",
       "3       364         0.00        1631        1          0.0                0.0  \n",
       "4       364        -0.39        1631        1          0.0                0.0  "
      ]
     },
     "execution_count": 28,
     "metadata": {},
     "output_type": "execute_result"
    }
   ],
   "source": [
    "df_trnsct.head(5)"
   ]
  },
  {
   "cell_type": "code",
   "execution_count": 29,
   "metadata": {},
   "outputs": [
    {
     "name": "stdout",
     "output_type": "stream",
     "text": [
      "<class 'pandas.core.frame.DataFrame'>\n",
      "RangeIndex: 2595732 entries, 0 to 2595731\n",
      "Data columns (total 12 columns):\n",
      " #   Column             Dtype  \n",
      "---  ------             -----  \n",
      " 0   household_key      int64  \n",
      " 1   BASKET_ID          int64  \n",
      " 2   DAY                int64  \n",
      " 3   PRODUCT_ID         int64  \n",
      " 4   QUANTITY           int64  \n",
      " 5   SALES_VALUE        float64\n",
      " 6   STORE_ID           int64  \n",
      " 7   RETAIL_DISC        float64\n",
      " 8   TRANS_TIME         int64  \n",
      " 9   WEEK_NO            int64  \n",
      " 10  COUPON_DISC        float64\n",
      " 11  COUPON_MATCH_DISC  float64\n",
      "dtypes: float64(4), int64(8)\n",
      "memory usage: 237.6 MB\n"
     ]
    }
   ],
   "source": [
    "df_trnsct.info()"
   ]
  },
  {
   "cell_type": "code",
   "execution_count": 30,
   "metadata": {},
   "outputs": [
    {
     "data": {
      "text/plain": [
       "household_key        0\n",
       "BASKET_ID            0\n",
       "DAY                  0\n",
       "PRODUCT_ID           0\n",
       "QUANTITY             0\n",
       "SALES_VALUE          0\n",
       "STORE_ID             0\n",
       "RETAIL_DISC          0\n",
       "TRANS_TIME           0\n",
       "WEEK_NO              0\n",
       "COUPON_DISC          0\n",
       "COUPON_MATCH_DISC    0\n",
       "dtype: int64"
      ]
     },
     "execution_count": 30,
     "metadata": {},
     "output_type": "execute_result"
    }
   ],
   "source": [
    "df_trnsct.isna().sum()"
   ]
  },
  {
   "cell_type": "markdown",
   "metadata": {},
   "source": [
    "---"
   ]
  },
  {
   "cell_type": "markdown",
   "metadata": {},
   "source": [
    "## 3. Products Dataframe"
   ]
  },
  {
   "cell_type": "code",
   "execution_count": 31,
   "metadata": {},
   "outputs": [
    {
     "data": {
      "text/html": [
       "<div>\n",
       "<style scoped>\n",
       "    .dataframe tbody tr th:only-of-type {\n",
       "        vertical-align: middle;\n",
       "    }\n",
       "\n",
       "    .dataframe tbody tr th {\n",
       "        vertical-align: top;\n",
       "    }\n",
       "\n",
       "    .dataframe thead th {\n",
       "        text-align: right;\n",
       "    }\n",
       "</style>\n",
       "<table border=\"1\" class=\"dataframe\">\n",
       "  <thead>\n",
       "    <tr style=\"text-align: right;\">\n",
       "      <th></th>\n",
       "      <th>PRODUCT_ID</th>\n",
       "      <th>MANUFACTURER</th>\n",
       "      <th>DEPARTMENT</th>\n",
       "      <th>BRAND</th>\n",
       "      <th>COMMODITY_DESC</th>\n",
       "      <th>SUB_COMMODITY_DESC</th>\n",
       "      <th>CURR_SIZE_OF_PRODUCT</th>\n",
       "    </tr>\n",
       "  </thead>\n",
       "  <tbody>\n",
       "    <tr>\n",
       "      <th>0</th>\n",
       "      <td>25671</td>\n",
       "      <td>2</td>\n",
       "      <td>GROCERY</td>\n",
       "      <td>National</td>\n",
       "      <td>FRZN ICE</td>\n",
       "      <td>ICE - CRUSHED/CUBED</td>\n",
       "      <td>22 LB</td>\n",
       "    </tr>\n",
       "    <tr>\n",
       "      <th>1</th>\n",
       "      <td>26081</td>\n",
       "      <td>2</td>\n",
       "      <td>MISC. TRANS.</td>\n",
       "      <td>National</td>\n",
       "      <td>NO COMMODITY DESCRIPTION</td>\n",
       "      <td>NO SUBCOMMODITY DESCRIPTION</td>\n",
       "      <td></td>\n",
       "    </tr>\n",
       "    <tr>\n",
       "      <th>2</th>\n",
       "      <td>26093</td>\n",
       "      <td>69</td>\n",
       "      <td>PASTRY</td>\n",
       "      <td>Private</td>\n",
       "      <td>BREAD</td>\n",
       "      <td>BREAD:ITALIAN/FRENCH</td>\n",
       "      <td></td>\n",
       "    </tr>\n",
       "    <tr>\n",
       "      <th>3</th>\n",
       "      <td>26190</td>\n",
       "      <td>69</td>\n",
       "      <td>GROCERY</td>\n",
       "      <td>Private</td>\n",
       "      <td>FRUIT - SHELF STABLE</td>\n",
       "      <td>APPLE SAUCE</td>\n",
       "      <td>50 OZ</td>\n",
       "    </tr>\n",
       "    <tr>\n",
       "      <th>4</th>\n",
       "      <td>26355</td>\n",
       "      <td>69</td>\n",
       "      <td>GROCERY</td>\n",
       "      <td>Private</td>\n",
       "      <td>COOKIES/CONES</td>\n",
       "      <td>SPECIALTY COOKIES</td>\n",
       "      <td>14 OZ</td>\n",
       "    </tr>\n",
       "  </tbody>\n",
       "</table>\n",
       "</div>"
      ],
      "text/plain": [
       "   PRODUCT_ID  MANUFACTURER    DEPARTMENT     BRAND            COMMODITY_DESC  \\\n",
       "0       25671             2       GROCERY  National                  FRZN ICE   \n",
       "1       26081             2  MISC. TRANS.  National  NO COMMODITY DESCRIPTION   \n",
       "2       26093            69        PASTRY   Private                     BREAD   \n",
       "3       26190            69       GROCERY   Private      FRUIT - SHELF STABLE   \n",
       "4       26355            69       GROCERY   Private             COOKIES/CONES   \n",
       "\n",
       "            SUB_COMMODITY_DESC CURR_SIZE_OF_PRODUCT  \n",
       "0          ICE - CRUSHED/CUBED                22 LB  \n",
       "1  NO SUBCOMMODITY DESCRIPTION                       \n",
       "2         BREAD:ITALIAN/FRENCH                       \n",
       "3                  APPLE SAUCE                50 OZ  \n",
       "4            SPECIALTY COOKIES                14 OZ  "
      ]
     },
     "execution_count": 31,
     "metadata": {},
     "output_type": "execute_result"
    }
   ],
   "source": [
    "df_product.head(5)"
   ]
  },
  {
   "cell_type": "code",
   "execution_count": 32,
   "metadata": {},
   "outputs": [
    {
     "data": {
      "text/plain": [
       "CURR_SIZE_OF_PRODUCT\n",
       "              30607\n",
       "16 OZ          3924\n",
       "12 OZ          3473\n",
       "8 OZ           2363\n",
       "6 OZ           1697\n",
       "              ...  \n",
       "4/3.75OZ          1\n",
       "24 OZ/ CAN        1\n",
       "997874  PK        1\n",
       "19.3 OZ           1\n",
       "2 LTR PET         1\n",
       "Name: count, Length: 4345, dtype: int64"
      ]
     },
     "execution_count": 32,
     "metadata": {},
     "output_type": "execute_result"
    }
   ],
   "source": [
    "df_product[\"CURR_SIZE_OF_PRODUCT\"].value_counts()"
   ]
  },
  {
   "cell_type": "code",
   "execution_count": 33,
   "metadata": {},
   "outputs": [
    {
     "data": {
      "text/plain": [
       "DEPARTMENT\n",
       "GROCERY            39021\n",
       "DRUG GM            31529\n",
       "PRODUCE             3118\n",
       "COSMETICS           3011\n",
       "NUTRITION           2914\n",
       "MEAT                2544\n",
       "MEAT-PCKGD          2427\n",
       "DELI                2354\n",
       "PASTRY              2149\n",
       "FLORAL               938\n",
       "SEAFOOD-PCKGD        563\n",
       "MISC. TRANS.         490\n",
       "SPIRITS              377\n",
       "SEAFOOD              369\n",
       "GARDEN CENTER        128\n",
       "RESTAURANT           102\n",
       "MISC SALES TRAN       88\n",
       "SALAD BAR             48\n",
       "COUP/STR & MFG        39\n",
       "TRAVEL & LEISUR       28\n",
       "FROZEN GROCERY        23\n",
       "KIOSK-GAS             16\n",
       "                      15\n",
       "CHEF SHOPPE           14\n",
       "RX                     9\n",
       "CNTRL/STORE SUP        4\n",
       "DAIRY DELI             3\n",
       "TOYS                   3\n",
       "POSTAL CENTER          3\n",
       "GM MERCH EXP           3\n",
       "VIDEO RENTAL           3\n",
       "AUTOMOTIVE             2\n",
       "PHOTO                  2\n",
       "VIDEO                  2\n",
       "PROD-WHS SALES         2\n",
       "DELI/SNACK BAR         2\n",
       "CHARITABLE CONT        2\n",
       "GRO BAKERY             2\n",
       "PORK                   1\n",
       "HBC                    1\n",
       "MEAT-WHSE              1\n",
       "HOUSEWARES             1\n",
       "ELECT &PLUMBING        1\n",
       "PHARMACY SUPPLY        1\n",
       "Name: count, dtype: int64"
      ]
     },
     "execution_count": 33,
     "metadata": {},
     "output_type": "execute_result"
    }
   ],
   "source": [
    "df_product[\"DEPARTMENT\"].value_counts()"
   ]
  },
  {
   "cell_type": "code",
   "execution_count": 34,
   "metadata": {},
   "outputs": [],
   "source": [
    "# df_product.drop(\n",
    "#     columns=[\n",
    "#         \"COMMODITY_DESC\",\n",
    "#         \"SUB_COMMODITY_DESC\",\n",
    "#         \"CURR_SIZE_OF_PRODUCT\",\n",
    "#     ],\n",
    "#     inplace=True,\n",
    "# )"
   ]
  },
  {
   "cell_type": "code",
   "execution_count": 35,
   "metadata": {},
   "outputs": [
    {
     "data": {
      "text/html": [
       "<div>\n",
       "<style scoped>\n",
       "    .dataframe tbody tr th:only-of-type {\n",
       "        vertical-align: middle;\n",
       "    }\n",
       "\n",
       "    .dataframe tbody tr th {\n",
       "        vertical-align: top;\n",
       "    }\n",
       "\n",
       "    .dataframe thead th {\n",
       "        text-align: right;\n",
       "    }\n",
       "</style>\n",
       "<table border=\"1\" class=\"dataframe\">\n",
       "  <thead>\n",
       "    <tr style=\"text-align: right;\">\n",
       "      <th></th>\n",
       "      <th>PRODUCT_ID</th>\n",
       "      <th>MANUFACTURER</th>\n",
       "      <th>DEPARTMENT</th>\n",
       "      <th>BRAND</th>\n",
       "      <th>COMMODITY_DESC</th>\n",
       "      <th>SUB_COMMODITY_DESC</th>\n",
       "      <th>CURR_SIZE_OF_PRODUCT</th>\n",
       "    </tr>\n",
       "  </thead>\n",
       "  <tbody>\n",
       "    <tr>\n",
       "      <th>0</th>\n",
       "      <td>25671</td>\n",
       "      <td>2</td>\n",
       "      <td>GROCERY</td>\n",
       "      <td>National</td>\n",
       "      <td>FRZN ICE</td>\n",
       "      <td>ICE - CRUSHED/CUBED</td>\n",
       "      <td>22 LB</td>\n",
       "    </tr>\n",
       "    <tr>\n",
       "      <th>1</th>\n",
       "      <td>26081</td>\n",
       "      <td>2</td>\n",
       "      <td>MISC. TRANS.</td>\n",
       "      <td>National</td>\n",
       "      <td>NO COMMODITY DESCRIPTION</td>\n",
       "      <td>NO SUBCOMMODITY DESCRIPTION</td>\n",
       "      <td></td>\n",
       "    </tr>\n",
       "    <tr>\n",
       "      <th>2</th>\n",
       "      <td>26093</td>\n",
       "      <td>69</td>\n",
       "      <td>PASTRY</td>\n",
       "      <td>Private</td>\n",
       "      <td>BREAD</td>\n",
       "      <td>BREAD:ITALIAN/FRENCH</td>\n",
       "      <td></td>\n",
       "    </tr>\n",
       "    <tr>\n",
       "      <th>3</th>\n",
       "      <td>26190</td>\n",
       "      <td>69</td>\n",
       "      <td>GROCERY</td>\n",
       "      <td>Private</td>\n",
       "      <td>FRUIT - SHELF STABLE</td>\n",
       "      <td>APPLE SAUCE</td>\n",
       "      <td>50 OZ</td>\n",
       "    </tr>\n",
       "    <tr>\n",
       "      <th>4</th>\n",
       "      <td>26355</td>\n",
       "      <td>69</td>\n",
       "      <td>GROCERY</td>\n",
       "      <td>Private</td>\n",
       "      <td>COOKIES/CONES</td>\n",
       "      <td>SPECIALTY COOKIES</td>\n",
       "      <td>14 OZ</td>\n",
       "    </tr>\n",
       "    <tr>\n",
       "      <th>...</th>\n",
       "      <td>...</td>\n",
       "      <td>...</td>\n",
       "      <td>...</td>\n",
       "      <td>...</td>\n",
       "      <td>...</td>\n",
       "      <td>...</td>\n",
       "      <td>...</td>\n",
       "    </tr>\n",
       "    <tr>\n",
       "      <th>92348</th>\n",
       "      <td>18293142</td>\n",
       "      <td>6384</td>\n",
       "      <td>DRUG GM</td>\n",
       "      <td>National</td>\n",
       "      <td>BOOKSTORE</td>\n",
       "      <td>PAPERBACK BOOKS</td>\n",
       "      <td></td>\n",
       "    </tr>\n",
       "    <tr>\n",
       "      <th>92349</th>\n",
       "      <td>18293439</td>\n",
       "      <td>6393</td>\n",
       "      <td>DRUG GM</td>\n",
       "      <td>National</td>\n",
       "      <td>BOOKSTORE</td>\n",
       "      <td>CHILDRENS LOW END</td>\n",
       "      <td></td>\n",
       "    </tr>\n",
       "    <tr>\n",
       "      <th>92350</th>\n",
       "      <td>18293696</td>\n",
       "      <td>6406</td>\n",
       "      <td>DRUG GM</td>\n",
       "      <td>National</td>\n",
       "      <td>BOOKSTORE</td>\n",
       "      <td>PAPERBACK BEST SELLER</td>\n",
       "      <td></td>\n",
       "    </tr>\n",
       "    <tr>\n",
       "      <th>92351</th>\n",
       "      <td>18294080</td>\n",
       "      <td>6442</td>\n",
       "      <td>DRUG GM</td>\n",
       "      <td>National</td>\n",
       "      <td>BOOKSTORE</td>\n",
       "      <td>PAPERBACK BOOKS</td>\n",
       "      <td></td>\n",
       "    </tr>\n",
       "    <tr>\n",
       "      <th>92352</th>\n",
       "      <td>18316298</td>\n",
       "      <td>764</td>\n",
       "      <td>GROCERY</td>\n",
       "      <td>National</td>\n",
       "      <td>PAPER TOWELS</td>\n",
       "      <td>PAPER TOWELS &amp; HOLDERS</td>\n",
       "      <td></td>\n",
       "    </tr>\n",
       "  </tbody>\n",
       "</table>\n",
       "<p>92353 rows × 7 columns</p>\n",
       "</div>"
      ],
      "text/plain": [
       "       PRODUCT_ID  MANUFACTURER    DEPARTMENT     BRAND  \\\n",
       "0           25671             2       GROCERY  National   \n",
       "1           26081             2  MISC. TRANS.  National   \n",
       "2           26093            69        PASTRY   Private   \n",
       "3           26190            69       GROCERY   Private   \n",
       "4           26355            69       GROCERY   Private   \n",
       "...           ...           ...           ...       ...   \n",
       "92348    18293142          6384       DRUG GM  National   \n",
       "92349    18293439          6393       DRUG GM  National   \n",
       "92350    18293696          6406       DRUG GM  National   \n",
       "92351    18294080          6442       DRUG GM  National   \n",
       "92352    18316298           764       GROCERY  National   \n",
       "\n",
       "                 COMMODITY_DESC           SUB_COMMODITY_DESC  \\\n",
       "0                      FRZN ICE          ICE - CRUSHED/CUBED   \n",
       "1      NO COMMODITY DESCRIPTION  NO SUBCOMMODITY DESCRIPTION   \n",
       "2                         BREAD         BREAD:ITALIAN/FRENCH   \n",
       "3          FRUIT - SHELF STABLE                  APPLE SAUCE   \n",
       "4                 COOKIES/CONES            SPECIALTY COOKIES   \n",
       "...                         ...                          ...   \n",
       "92348                 BOOKSTORE              PAPERBACK BOOKS   \n",
       "92349                 BOOKSTORE            CHILDRENS LOW END   \n",
       "92350                 BOOKSTORE        PAPERBACK BEST SELLER   \n",
       "92351                 BOOKSTORE              PAPERBACK BOOKS   \n",
       "92352              PAPER TOWELS       PAPER TOWELS & HOLDERS   \n",
       "\n",
       "      CURR_SIZE_OF_PRODUCT  \n",
       "0                    22 LB  \n",
       "1                           \n",
       "2                           \n",
       "3                    50 OZ  \n",
       "4                    14 OZ  \n",
       "...                    ...  \n",
       "92348                       \n",
       "92349                       \n",
       "92350                       \n",
       "92351                       \n",
       "92352                       \n",
       "\n",
       "[92353 rows x 7 columns]"
      ]
     },
     "execution_count": 35,
     "metadata": {},
     "output_type": "execute_result"
    }
   ],
   "source": [
    "df_product"
   ]
  },
  {
   "cell_type": "markdown",
   "metadata": {},
   "source": [
    "---"
   ]
  },
  {
   "cell_type": "markdown",
   "metadata": {},
   "source": [
    "## 4.Campaigns Dataframe"
   ]
  },
  {
   "cell_type": "code",
   "execution_count": 36,
   "metadata": {},
   "outputs": [
    {
     "data": {
      "text/html": [
       "<div>\n",
       "<style scoped>\n",
       "    .dataframe tbody tr th:only-of-type {\n",
       "        vertical-align: middle;\n",
       "    }\n",
       "\n",
       "    .dataframe tbody tr th {\n",
       "        vertical-align: top;\n",
       "    }\n",
       "\n",
       "    .dataframe thead th {\n",
       "        text-align: right;\n",
       "    }\n",
       "</style>\n",
       "<table border=\"1\" class=\"dataframe\">\n",
       "  <thead>\n",
       "    <tr style=\"text-align: right;\">\n",
       "      <th></th>\n",
       "      <th>DESCRIPTION</th>\n",
       "      <th>CAMPAIGN</th>\n",
       "      <th>START_DAY</th>\n",
       "      <th>END_DAY</th>\n",
       "    </tr>\n",
       "  </thead>\n",
       "  <tbody>\n",
       "    <tr>\n",
       "      <th>0</th>\n",
       "      <td>TypeB</td>\n",
       "      <td>24</td>\n",
       "      <td>659</td>\n",
       "      <td>719</td>\n",
       "    </tr>\n",
       "    <tr>\n",
       "      <th>1</th>\n",
       "      <td>TypeC</td>\n",
       "      <td>15</td>\n",
       "      <td>547</td>\n",
       "      <td>708</td>\n",
       "    </tr>\n",
       "    <tr>\n",
       "      <th>2</th>\n",
       "      <td>TypeB</td>\n",
       "      <td>25</td>\n",
       "      <td>659</td>\n",
       "      <td>691</td>\n",
       "    </tr>\n",
       "    <tr>\n",
       "      <th>3</th>\n",
       "      <td>TypeC</td>\n",
       "      <td>20</td>\n",
       "      <td>615</td>\n",
       "      <td>685</td>\n",
       "    </tr>\n",
       "    <tr>\n",
       "      <th>4</th>\n",
       "      <td>TypeB</td>\n",
       "      <td>23</td>\n",
       "      <td>646</td>\n",
       "      <td>684</td>\n",
       "    </tr>\n",
       "  </tbody>\n",
       "</table>\n",
       "</div>"
      ],
      "text/plain": [
       "  DESCRIPTION  CAMPAIGN  START_DAY  END_DAY\n",
       "0       TypeB        24        659      719\n",
       "1       TypeC        15        547      708\n",
       "2       TypeB        25        659      691\n",
       "3       TypeC        20        615      685\n",
       "4       TypeB        23        646      684"
      ]
     },
     "execution_count": 36,
     "metadata": {},
     "output_type": "execute_result"
    }
   ],
   "source": [
    "df_campaign.head(5)"
   ]
  },
  {
   "cell_type": "code",
   "execution_count": 37,
   "metadata": {},
   "outputs": [
    {
     "name": "stdout",
     "output_type": "stream",
     "text": [
      "<class 'pandas.core.frame.DataFrame'>\n",
      "RangeIndex: 30 entries, 0 to 29\n",
      "Data columns (total 4 columns):\n",
      " #   Column       Non-Null Count  Dtype \n",
      "---  ------       --------------  ----- \n",
      " 0   DESCRIPTION  30 non-null     object\n",
      " 1   CAMPAIGN     30 non-null     int64 \n",
      " 2   START_DAY    30 non-null     int64 \n",
      " 3   END_DAY      30 non-null     int64 \n",
      "dtypes: int64(3), object(1)\n",
      "memory usage: 1.1+ KB\n"
     ]
    }
   ],
   "source": [
    "df_campaign.info()"
   ]
  },
  {
   "cell_type": "markdown",
   "metadata": {},
   "source": [
    "---"
   ]
  },
  {
   "cell_type": "markdown",
   "metadata": {},
   "source": [
    "# Other Data Processing"
   ]
  },
  {
   "cell_type": "code",
   "execution_count": 38,
   "metadata": {},
   "outputs": [
    {
     "data": {
      "text/html": [
       "<div>\n",
       "<style scoped>\n",
       "    .dataframe tbody tr th:only-of-type {\n",
       "        vertical-align: middle;\n",
       "    }\n",
       "\n",
       "    .dataframe tbody tr th {\n",
       "        vertical-align: top;\n",
       "    }\n",
       "\n",
       "    .dataframe thead th {\n",
       "        text-align: right;\n",
       "    }\n",
       "</style>\n",
       "<table border=\"1\" class=\"dataframe\">\n",
       "  <thead>\n",
       "    <tr style=\"text-align: right;\">\n",
       "      <th></th>\n",
       "      <th>household_key</th>\n",
       "      <th>BASKET_ID</th>\n",
       "      <th>DAY</th>\n",
       "      <th>PRODUCT_ID</th>\n",
       "      <th>QUANTITY</th>\n",
       "      <th>SALES_VALUE</th>\n",
       "      <th>STORE_ID</th>\n",
       "      <th>RETAIL_DISC</th>\n",
       "      <th>TRANS_TIME</th>\n",
       "      <th>WEEK_NO</th>\n",
       "      <th>COUPON_DISC</th>\n",
       "      <th>COUPON_MATCH_DISC</th>\n",
       "    </tr>\n",
       "  </thead>\n",
       "  <tbody>\n",
       "    <tr>\n",
       "      <th>0</th>\n",
       "      <td>2375</td>\n",
       "      <td>26984851472</td>\n",
       "      <td>1</td>\n",
       "      <td>1004906</td>\n",
       "      <td>1</td>\n",
       "      <td>1.39</td>\n",
       "      <td>364</td>\n",
       "      <td>-0.60</td>\n",
       "      <td>1631</td>\n",
       "      <td>1</td>\n",
       "      <td>0.0</td>\n",
       "      <td>0.0</td>\n",
       "    </tr>\n",
       "    <tr>\n",
       "      <th>1</th>\n",
       "      <td>2375</td>\n",
       "      <td>26984851472</td>\n",
       "      <td>1</td>\n",
       "      <td>1033142</td>\n",
       "      <td>1</td>\n",
       "      <td>0.82</td>\n",
       "      <td>364</td>\n",
       "      <td>0.00</td>\n",
       "      <td>1631</td>\n",
       "      <td>1</td>\n",
       "      <td>0.0</td>\n",
       "      <td>0.0</td>\n",
       "    </tr>\n",
       "    <tr>\n",
       "      <th>2</th>\n",
       "      <td>2375</td>\n",
       "      <td>26984851472</td>\n",
       "      <td>1</td>\n",
       "      <td>1036325</td>\n",
       "      <td>1</td>\n",
       "      <td>0.99</td>\n",
       "      <td>364</td>\n",
       "      <td>-0.30</td>\n",
       "      <td>1631</td>\n",
       "      <td>1</td>\n",
       "      <td>0.0</td>\n",
       "      <td>0.0</td>\n",
       "    </tr>\n",
       "    <tr>\n",
       "      <th>3</th>\n",
       "      <td>2375</td>\n",
       "      <td>26984851472</td>\n",
       "      <td>1</td>\n",
       "      <td>1082185</td>\n",
       "      <td>1</td>\n",
       "      <td>1.21</td>\n",
       "      <td>364</td>\n",
       "      <td>0.00</td>\n",
       "      <td>1631</td>\n",
       "      <td>1</td>\n",
       "      <td>0.0</td>\n",
       "      <td>0.0</td>\n",
       "    </tr>\n",
       "    <tr>\n",
       "      <th>4</th>\n",
       "      <td>2375</td>\n",
       "      <td>26984851472</td>\n",
       "      <td>1</td>\n",
       "      <td>8160430</td>\n",
       "      <td>1</td>\n",
       "      <td>1.50</td>\n",
       "      <td>364</td>\n",
       "      <td>-0.39</td>\n",
       "      <td>1631</td>\n",
       "      <td>1</td>\n",
       "      <td>0.0</td>\n",
       "      <td>0.0</td>\n",
       "    </tr>\n",
       "    <tr>\n",
       "      <th>...</th>\n",
       "      <td>...</td>\n",
       "      <td>...</td>\n",
       "      <td>...</td>\n",
       "      <td>...</td>\n",
       "      <td>...</td>\n",
       "      <td>...</td>\n",
       "      <td>...</td>\n",
       "      <td>...</td>\n",
       "      <td>...</td>\n",
       "      <td>...</td>\n",
       "      <td>...</td>\n",
       "      <td>...</td>\n",
       "    </tr>\n",
       "    <tr>\n",
       "      <th>2595727</th>\n",
       "      <td>1598</td>\n",
       "      <td>42305362535</td>\n",
       "      <td>711</td>\n",
       "      <td>92130</td>\n",
       "      <td>1</td>\n",
       "      <td>0.99</td>\n",
       "      <td>3228</td>\n",
       "      <td>0.00</td>\n",
       "      <td>1520</td>\n",
       "      <td>102</td>\n",
       "      <td>0.0</td>\n",
       "      <td>0.0</td>\n",
       "    </tr>\n",
       "    <tr>\n",
       "      <th>2595728</th>\n",
       "      <td>1598</td>\n",
       "      <td>42305362535</td>\n",
       "      <td>711</td>\n",
       "      <td>114102</td>\n",
       "      <td>1</td>\n",
       "      <td>8.89</td>\n",
       "      <td>3228</td>\n",
       "      <td>0.00</td>\n",
       "      <td>1520</td>\n",
       "      <td>102</td>\n",
       "      <td>0.0</td>\n",
       "      <td>0.0</td>\n",
       "    </tr>\n",
       "    <tr>\n",
       "      <th>2595729</th>\n",
       "      <td>1598</td>\n",
       "      <td>42305362535</td>\n",
       "      <td>711</td>\n",
       "      <td>133449</td>\n",
       "      <td>1</td>\n",
       "      <td>6.99</td>\n",
       "      <td>3228</td>\n",
       "      <td>0.00</td>\n",
       "      <td>1520</td>\n",
       "      <td>102</td>\n",
       "      <td>0.0</td>\n",
       "      <td>0.0</td>\n",
       "    </tr>\n",
       "    <tr>\n",
       "      <th>2595730</th>\n",
       "      <td>1598</td>\n",
       "      <td>42305362535</td>\n",
       "      <td>711</td>\n",
       "      <td>6923644</td>\n",
       "      <td>1</td>\n",
       "      <td>4.50</td>\n",
       "      <td>3228</td>\n",
       "      <td>-0.49</td>\n",
       "      <td>1520</td>\n",
       "      <td>102</td>\n",
       "      <td>0.0</td>\n",
       "      <td>0.0</td>\n",
       "    </tr>\n",
       "    <tr>\n",
       "      <th>2595731</th>\n",
       "      <td>1598</td>\n",
       "      <td>42305362535</td>\n",
       "      <td>711</td>\n",
       "      <td>14055192</td>\n",
       "      <td>1</td>\n",
       "      <td>6.99</td>\n",
       "      <td>3228</td>\n",
       "      <td>0.00</td>\n",
       "      <td>1520</td>\n",
       "      <td>102</td>\n",
       "      <td>0.0</td>\n",
       "      <td>0.0</td>\n",
       "    </tr>\n",
       "  </tbody>\n",
       "</table>\n",
       "<p>2595732 rows × 12 columns</p>\n",
       "</div>"
      ],
      "text/plain": [
       "         household_key    BASKET_ID  DAY  PRODUCT_ID  QUANTITY  SALES_VALUE  \\\n",
       "0                 2375  26984851472    1     1004906         1         1.39   \n",
       "1                 2375  26984851472    1     1033142         1         0.82   \n",
       "2                 2375  26984851472    1     1036325         1         0.99   \n",
       "3                 2375  26984851472    1     1082185         1         1.21   \n",
       "4                 2375  26984851472    1     8160430         1         1.50   \n",
       "...                ...          ...  ...         ...       ...          ...   \n",
       "2595727           1598  42305362535  711       92130         1         0.99   \n",
       "2595728           1598  42305362535  711      114102         1         8.89   \n",
       "2595729           1598  42305362535  711      133449         1         6.99   \n",
       "2595730           1598  42305362535  711     6923644         1         4.50   \n",
       "2595731           1598  42305362535  711    14055192         1         6.99   \n",
       "\n",
       "         STORE_ID  RETAIL_DISC  TRANS_TIME  WEEK_NO  COUPON_DISC  \\\n",
       "0             364        -0.60        1631        1          0.0   \n",
       "1             364         0.00        1631        1          0.0   \n",
       "2             364        -0.30        1631        1          0.0   \n",
       "3             364         0.00        1631        1          0.0   \n",
       "4             364        -0.39        1631        1          0.0   \n",
       "...           ...          ...         ...      ...          ...   \n",
       "2595727      3228         0.00        1520      102          0.0   \n",
       "2595728      3228         0.00        1520      102          0.0   \n",
       "2595729      3228         0.00        1520      102          0.0   \n",
       "2595730      3228        -0.49        1520      102          0.0   \n",
       "2595731      3228         0.00        1520      102          0.0   \n",
       "\n",
       "         COUPON_MATCH_DISC  \n",
       "0                      0.0  \n",
       "1                      0.0  \n",
       "2                      0.0  \n",
       "3                      0.0  \n",
       "4                      0.0  \n",
       "...                    ...  \n",
       "2595727                0.0  \n",
       "2595728                0.0  \n",
       "2595729                0.0  \n",
       "2595730                0.0  \n",
       "2595731                0.0  \n",
       "\n",
       "[2595732 rows x 12 columns]"
      ]
     },
     "execution_count": 38,
     "metadata": {},
     "output_type": "execute_result"
    }
   ],
   "source": [
    "df_trnsct"
   ]
  },
  {
   "cell_type": "code",
   "execution_count": 39,
   "metadata": {},
   "outputs": [],
   "source": [
    "df_trnsct[\"PRODUCT_SHELF_PRICE\"] = (df_trnsct[\"SALES_VALUE\"] - (df_trnsct[\"COUPON_MATCH_DISC\"] + df_trnsct[\"RETAIL_DISC\"])) / df_trnsct[\"QUANTITY\"]\n",
    "df_product[\"PRODUCT_SHELF_PRICE\"]=df_product.merge(df_trnsct[\"PRODUCT_SHELF_PRICE\"].groupby(df_trnsct[\"PRODUCT_ID\"]).mean(),on=\"PRODUCT_ID\",how=\"left\")[\"PRODUCT_SHELF_PRICE\"]\n"
   ]
  },
  {
   "cell_type": "code",
   "execution_count": 40,
   "metadata": {},
   "outputs": [
    {
     "data": {
      "text/html": [
       "<div>\n",
       "<style scoped>\n",
       "    .dataframe tbody tr th:only-of-type {\n",
       "        vertical-align: middle;\n",
       "    }\n",
       "\n",
       "    .dataframe tbody tr th {\n",
       "        vertical-align: top;\n",
       "    }\n",
       "\n",
       "    .dataframe thead th {\n",
       "        text-align: right;\n",
       "    }\n",
       "</style>\n",
       "<table border=\"1\" class=\"dataframe\">\n",
       "  <thead>\n",
       "    <tr style=\"text-align: right;\">\n",
       "      <th></th>\n",
       "      <th>PRODUCT_ID</th>\n",
       "      <th>MANUFACTURER</th>\n",
       "      <th>DEPARTMENT</th>\n",
       "      <th>BRAND</th>\n",
       "      <th>COMMODITY_DESC</th>\n",
       "      <th>SUB_COMMODITY_DESC</th>\n",
       "      <th>CURR_SIZE_OF_PRODUCT</th>\n",
       "      <th>PRODUCT_SHELF_PRICE</th>\n",
       "    </tr>\n",
       "  </thead>\n",
       "  <tbody>\n",
       "    <tr>\n",
       "      <th>142</th>\n",
       "      <td>30937</td>\n",
       "      <td>693</td>\n",
       "      <td>DRUG GM</td>\n",
       "      <td>National</td>\n",
       "      <td>CANDY - PACKAGED</td>\n",
       "      <td>CANDY BARS (MULTI PACK)</td>\n",
       "      <td>6 PK</td>\n",
       "      <td>NaN</td>\n",
       "    </tr>\n",
       "    <tr>\n",
       "      <th>937</th>\n",
       "      <td>56663</td>\n",
       "      <td>69</td>\n",
       "      <td>GROCERY</td>\n",
       "      <td>Private</td>\n",
       "      <td>FRZN POTATOES</td>\n",
       "      <td>FRZN FRENCH FRIES</td>\n",
       "      <td>32 OZ</td>\n",
       "      <td>NaN</td>\n",
       "    </tr>\n",
       "    <tr>\n",
       "      <th>2592</th>\n",
       "      <td>142713</td>\n",
       "      <td>2224</td>\n",
       "      <td>GROCERY</td>\n",
       "      <td>National</td>\n",
       "      <td>SOFT DRINKS</td>\n",
       "      <td>SFT DRNK MLT-PK BTL CARB (EXCP</td>\n",
       "      <td>.5 LTR</td>\n",
       "      <td>NaN</td>\n",
       "    </tr>\n",
       "    <tr>\n",
       "      <th>3667</th>\n",
       "      <td>410388</td>\n",
       "      <td>5744</td>\n",
       "      <td>NUTRITION</td>\n",
       "      <td>National</td>\n",
       "      <td>REFRIGERATED</td>\n",
       "      <td>JUICE (UNDER 10% JUICE)</td>\n",
       "      <td>20 OZ</td>\n",
       "      <td>NaN</td>\n",
       "    </tr>\n",
       "    <tr>\n",
       "      <th>3761</th>\n",
       "      <td>424426</td>\n",
       "      <td>69</td>\n",
       "      <td>NUTRITION</td>\n",
       "      <td>Private</td>\n",
       "      <td>WATER</td>\n",
       "      <td>SPRING WATER</td>\n",
       "      <td>16.9 OZ</td>\n",
       "      <td>NaN</td>\n",
       "    </tr>\n",
       "    <tr>\n",
       "      <th>...</th>\n",
       "      <td>...</td>\n",
       "      <td>...</td>\n",
       "      <td>...</td>\n",
       "      <td>...</td>\n",
       "      <td>...</td>\n",
       "      <td>...</td>\n",
       "      <td>...</td>\n",
       "      <td>...</td>\n",
       "    </tr>\n",
       "    <tr>\n",
       "      <th>91678</th>\n",
       "      <td>17330497</td>\n",
       "      <td>5143</td>\n",
       "      <td>DRUG GM</td>\n",
       "      <td>National</td>\n",
       "      <td>GREETING CARDS/WRAP/PARTY SPLY</td>\n",
       "      <td>GIFT-WRAP SEASONAL</td>\n",
       "      <td></td>\n",
       "      <td>NaN</td>\n",
       "    </tr>\n",
       "    <tr>\n",
       "      <th>91684</th>\n",
       "      <td>17381856</td>\n",
       "      <td>895</td>\n",
       "      <td>MISC. TRANS.</td>\n",
       "      <td>Private</td>\n",
       "      <td>NO COMMODITY DESCRIPTION</td>\n",
       "      <td>NO SUBCOMMODITY DESCRIPTION</td>\n",
       "      <td></td>\n",
       "      <td>NaN</td>\n",
       "    </tr>\n",
       "    <tr>\n",
       "      <th>91991</th>\n",
       "      <td>17972900</td>\n",
       "      <td>2722</td>\n",
       "      <td>FLORAL</td>\n",
       "      <td>National</td>\n",
       "      <td>FLORAL- HARD GOODS</td>\n",
       "      <td>SEASONAL</td>\n",
       "      <td>12 INCH</td>\n",
       "      <td>NaN</td>\n",
       "    </tr>\n",
       "    <tr>\n",
       "      <th>92039</th>\n",
       "      <td>17974595</td>\n",
       "      <td>119</td>\n",
       "      <td>DRUG GM</td>\n",
       "      <td>National</td>\n",
       "      <td>AUDIO/VIDEO PRODUCTS</td>\n",
       "      <td>AGE RESTRICTED DVD S</td>\n",
       "      <td></td>\n",
       "      <td>NaN</td>\n",
       "    </tr>\n",
       "    <tr>\n",
       "      <th>92163</th>\n",
       "      <td>18057119</td>\n",
       "      <td>5952</td>\n",
       "      <td>DRUG GM</td>\n",
       "      <td>National</td>\n",
       "      <td>DOMESTIC GOODS</td>\n",
       "      <td>THROWS</td>\n",
       "      <td></td>\n",
       "      <td>NaN</td>\n",
       "    </tr>\n",
       "  </tbody>\n",
       "</table>\n",
       "<p>335 rows × 8 columns</p>\n",
       "</div>"
      ],
      "text/plain": [
       "       PRODUCT_ID  MANUFACTURER    DEPARTMENT     BRAND  \\\n",
       "142         30937           693       DRUG GM  National   \n",
       "937         56663            69       GROCERY   Private   \n",
       "2592       142713          2224       GROCERY  National   \n",
       "3667       410388          5744     NUTRITION  National   \n",
       "3761       424426            69     NUTRITION   Private   \n",
       "...           ...           ...           ...       ...   \n",
       "91678    17330497          5143       DRUG GM  National   \n",
       "91684    17381856           895  MISC. TRANS.   Private   \n",
       "91991    17972900          2722        FLORAL  National   \n",
       "92039    17974595           119       DRUG GM  National   \n",
       "92163    18057119          5952       DRUG GM  National   \n",
       "\n",
       "                       COMMODITY_DESC              SUB_COMMODITY_DESC  \\\n",
       "142                  CANDY - PACKAGED         CANDY BARS (MULTI PACK)   \n",
       "937                     FRZN POTATOES               FRZN FRENCH FRIES   \n",
       "2592                      SOFT DRINKS  SFT DRNK MLT-PK BTL CARB (EXCP   \n",
       "3667                     REFRIGERATED         JUICE (UNDER 10% JUICE)   \n",
       "3761                            WATER                    SPRING WATER   \n",
       "...                               ...                             ...   \n",
       "91678  GREETING CARDS/WRAP/PARTY SPLY              GIFT-WRAP SEASONAL   \n",
       "91684        NO COMMODITY DESCRIPTION     NO SUBCOMMODITY DESCRIPTION   \n",
       "91991              FLORAL- HARD GOODS                        SEASONAL   \n",
       "92039            AUDIO/VIDEO PRODUCTS            AGE RESTRICTED DVD S   \n",
       "92163                  DOMESTIC GOODS                          THROWS   \n",
       "\n",
       "      CURR_SIZE_OF_PRODUCT  PRODUCT_SHELF_PRICE  \n",
       "142                   6 PK                  NaN  \n",
       "937                  32 OZ                  NaN  \n",
       "2592                .5 LTR                  NaN  \n",
       "3667                 20 OZ                  NaN  \n",
       "3761               16.9 OZ                  NaN  \n",
       "...                    ...                  ...  \n",
       "91678                                       NaN  \n",
       "91684                                       NaN  \n",
       "91991              12 INCH                  NaN  \n",
       "92039                                       NaN  \n",
       "92163                                       NaN  \n",
       "\n",
       "[335 rows x 8 columns]"
      ]
     },
     "execution_count": 40,
     "metadata": {},
     "output_type": "execute_result"
    }
   ],
   "source": [
    "df_product[df_product[\"PRODUCT_SHELF_PRICE\"].isna()]\n",
    "#These products have not been sold"
   ]
  },
  {
   "cell_type": "code",
   "execution_count": 41,
   "metadata": {},
   "outputs": [
    {
     "data": {
      "text/plain": [
       "INCOME_DESC\n",
       "50-74K       192\n",
       "35-49K       172\n",
       "75-99K        96\n",
       "25-34K        77\n",
       "15-24K        74\n",
       "Under 15K     61\n",
       "125-149K      38\n",
       "100-124K      34\n",
       "150-174K      30\n",
       "250K+         11\n",
       "175-199K      11\n",
       "200-249K       5\n",
       "Name: count, dtype: int64"
      ]
     },
     "execution_count": 41,
     "metadata": {},
     "output_type": "execute_result"
    }
   ],
   "source": [
    "df_demographic[\"INCOME_DESC\"].value_counts()"
   ]
  },
  {
   "cell_type": "code",
   "execution_count": 42,
   "metadata": {},
   "outputs": [
    {
     "data": {
      "text/plain": [
       "INCOME_DESC_REDUCED\n",
       "50-99K      288\n",
       "25-49K      249\n",
       "<25K        135\n",
       "100-149K     72\n",
       "150K+        57\n",
       "Name: count, dtype: int64"
      ]
     },
     "execution_count": 42,
     "metadata": {},
     "output_type": "execute_result"
    }
   ],
   "source": [
    "new_income_list = {\n",
    "    \"<25K\": [\"Under 15K\", \"15-24K\"],\n",
    "    \"25-49K\": [\"25-34K\", \"35-49K\"],\n",
    "    \"50-99K\": [\"50-74K\", \"75-99K\"],\n",
    "    \"100-149K\": [\"100-124K\", \"125-149K\"],\n",
    "    \"150K+\": [\"150-174K\", \"175-199K\", \"200-249K\", \"250K+\"],\n",
    "}\n",
    "df_demographic[\"INCOME_DESC_REDUCED\"] = np.select(\n",
    "    [df_demographic[\"INCOME_DESC\"].isin(v) for v in new_income_list.values()],\n",
    "    list(new_income_list.keys()),\n",
    ")\n",
    "df_demographic[\"INCOME_DESC_REDUCED\"].value_counts()"
   ]
  },
  {
   "cell_type": "code",
   "execution_count": 43,
   "metadata": {},
   "outputs": [
    {
     "data": {
      "text/plain": [
       "AGE_DESC\n",
       "45-54    288\n",
       "35-44    194\n",
       "25-34    142\n",
       "65+       72\n",
       "55-64     59\n",
       "19-24     46\n",
       "Name: count, dtype: int64"
      ]
     },
     "execution_count": 43,
     "metadata": {},
     "output_type": "execute_result"
    }
   ],
   "source": [
    "df_demographic[\"AGE_DESC\"].value_counts()"
   ]
  },
  {
   "cell_type": "code",
   "execution_count": 44,
   "metadata": {},
   "outputs": [
    {
     "data": {
      "text/plain": [
       "HH_COMP_DESC\n",
       "1 Adult No Kids     300\n",
       "2 Adults No Kids    258\n",
       "2 Adults Kids       195\n",
       "1 Adult Kids         48\n",
       "Name: count, dtype: int64"
      ]
     },
     "execution_count": 44,
     "metadata": {},
     "output_type": "execute_result"
    }
   ],
   "source": [
    "df_demographic[\"HH_COMP_DESC\"].replace(\"Single Female\", \"1 Adult No Kids\", inplace=True)\n",
    "df_demographic[\"HH_COMP_DESC\"].replace(\"Single Male\", \"1 Adult No Kids\", inplace=True)\n",
    "df_demographic[\"HH_COMP_DESC\"].value_counts()"
   ]
  },
  {
   "cell_type": "code",
   "execution_count": 45,
   "metadata": {},
   "outputs": [
    {
     "data": {
      "text/plain": [
       "HOMEOWNER_DESC\n",
       "Homeowner    748\n",
       "Renter        53\n",
       "Name: count, dtype: int64"
      ]
     },
     "execution_count": 45,
     "metadata": {},
     "output_type": "execute_result"
    }
   ],
   "source": [
    "df_demographic[\"HOMEOWNER_DESC\"].replace(\"Probable Renter\",\"Renter\",inplace=True)\n",
    "df_demographic[\"HOMEOWNER_DESC\"].replace(\"Probable Owner\",\"Homeowner\",inplace=True)\n",
    "df_demographic[\"HOMEOWNER_DESC\"].value_counts()"
   ]
  },
  {
   "cell_type": "code",
   "execution_count": 46,
   "metadata": {},
   "outputs": [
    {
     "data": {
      "text/plain": [
       "0         2012-01-02\n",
       "1         2012-01-02\n",
       "2         2012-01-02\n",
       "3         2012-01-02\n",
       "4         2012-01-02\n",
       "             ...    \n",
       "2595727   2013-12-12\n",
       "2595728   2013-12-12\n",
       "2595729   2013-12-12\n",
       "2595730   2013-12-12\n",
       "2595731   2013-12-12\n",
       "Name: TRANS_DATE, Length: 2595732, dtype: datetime64[ns]"
      ]
     },
     "execution_count": 46,
     "metadata": {},
     "output_type": "execute_result"
    }
   ],
   "source": [
    "# Define the reference start date\n",
    "reference_date = pd.Timestamp(\"01-01-12\")\n",
    "\n",
    "# Add days to the reference date to calculate the actual date\n",
    "df_trnsct[\"TRANS_DATE\"] = reference_date + pd.to_timedelta(df_trnsct[\"DAY\"], unit=\"D\")\n",
    "df_trnsct.drop(columns=[\"DAY\"], inplace=True)\n",
    "\n",
    "df_trnsct[\"TRANS_DATE\"]"
   ]
  },
  {
   "cell_type": "code",
   "execution_count": 47,
   "metadata": {},
   "outputs": [
    {
     "data": {
      "text/html": [
       "<div>\n",
       "<style scoped>\n",
       "    .dataframe tbody tr th:only-of-type {\n",
       "        vertical-align: middle;\n",
       "    }\n",
       "\n",
       "    .dataframe tbody tr th {\n",
       "        vertical-align: top;\n",
       "    }\n",
       "\n",
       "    .dataframe thead th {\n",
       "        text-align: right;\n",
       "    }\n",
       "</style>\n",
       "<table border=\"1\" class=\"dataframe\">\n",
       "  <thead>\n",
       "    <tr style=\"text-align: right;\">\n",
       "      <th></th>\n",
       "      <th>DESCRIPTION</th>\n",
       "      <th>CAMPAIGN</th>\n",
       "      <th>START_MONTH</th>\n",
       "      <th>END_MONTH</th>\n",
       "    </tr>\n",
       "  </thead>\n",
       "  <tbody>\n",
       "    <tr>\n",
       "      <th>0</th>\n",
       "      <td>TypeB</td>\n",
       "      <td>24</td>\n",
       "      <td>23.535714</td>\n",
       "      <td>25.678571</td>\n",
       "    </tr>\n",
       "    <tr>\n",
       "      <th>1</th>\n",
       "      <td>TypeC</td>\n",
       "      <td>15</td>\n",
       "      <td>19.535714</td>\n",
       "      <td>25.285714</td>\n",
       "    </tr>\n",
       "    <tr>\n",
       "      <th>2</th>\n",
       "      <td>TypeB</td>\n",
       "      <td>25</td>\n",
       "      <td>23.535714</td>\n",
       "      <td>24.678571</td>\n",
       "    </tr>\n",
       "  </tbody>\n",
       "</table>\n",
       "</div>"
      ],
      "text/plain": [
       "  DESCRIPTION  CAMPAIGN  START_MONTH  END_MONTH\n",
       "0       TypeB        24    23.535714  25.678571\n",
       "1       TypeC        15    19.535714  25.285714\n",
       "2       TypeB        25    23.535714  24.678571"
      ]
     },
     "execution_count": 47,
     "metadata": {},
     "output_type": "execute_result"
    }
   ],
   "source": [
    "df_campaign[\"START_MONTH\"] = abs(df_campaign[\"START_DAY\"] / 28)\n",
    "df_campaign[\"END_MONTH\"] = abs(df_campaign[\"END_DAY\"] / 28)\n",
    "df_campaign.drop(columns=[\"START_DAY\", \"END_DAY\"], inplace=True)\n",
    "df_campaign.head(3)"
   ]
  },
  {
   "cell_type": "markdown",
   "metadata": {},
   "source": [
    "---"
   ]
  },
  {
   "cell_type": "markdown",
   "metadata": {},
   "source": [
    "# New Variables Creation"
   ]
  },
  {
   "cell_type": "markdown",
   "metadata": {},
   "source": [
    "In this section we will create new variables/metrics for a better data analysis"
   ]
  },
  {
   "cell_type": "markdown",
   "metadata": {},
   "source": [
    "### Number Of Products Per Transaction"
   ]
  },
  {
   "cell_type": "markdown",
   "metadata": {},
   "source": [
    "We create a new series with the Number of Products Sold Per Trnasaction Per Store"
   ]
  },
  {
   "cell_type": "code",
   "execution_count": 48,
   "metadata": {},
   "outputs": [
    {
     "data": {
      "text/html": [
       "<div>\n",
       "<style scoped>\n",
       "    .dataframe tbody tr th:only-of-type {\n",
       "        vertical-align: middle;\n",
       "    }\n",
       "\n",
       "    .dataframe tbody tr th {\n",
       "        vertical-align: top;\n",
       "    }\n",
       "\n",
       "    .dataframe thead th {\n",
       "        text-align: right;\n",
       "    }\n",
       "</style>\n",
       "<table border=\"1\" class=\"dataframe\">\n",
       "  <thead>\n",
       "    <tr style=\"text-align: right;\">\n",
       "      <th></th>\n",
       "      <th>NB_PROD_SOLD/TRNSCT</th>\n",
       "    </tr>\n",
       "    <tr>\n",
       "      <th>STORE_ID</th>\n",
       "      <th></th>\n",
       "    </tr>\n",
       "  </thead>\n",
       "  <tbody>\n",
       "    <tr>\n",
       "      <th>569</th>\n",
       "      <td>62.0</td>\n",
       "    </tr>\n",
       "    <tr>\n",
       "      <th>278</th>\n",
       "      <td>47.0</td>\n",
       "    </tr>\n",
       "    <tr>\n",
       "      <th>3525</th>\n",
       "      <td>47.0</td>\n",
       "    </tr>\n",
       "    <tr>\n",
       "      <th>3483</th>\n",
       "      <td>39.0</td>\n",
       "    </tr>\n",
       "    <tr>\n",
       "      <th>107</th>\n",
       "      <td>35.0</td>\n",
       "    </tr>\n",
       "    <tr>\n",
       "      <th>...</th>\n",
       "      <td>...</td>\n",
       "    </tr>\n",
       "    <tr>\n",
       "      <th>274</th>\n",
       "      <td>1.0</td>\n",
       "    </tr>\n",
       "    <tr>\n",
       "      <th>2996</th>\n",
       "      <td>1.0</td>\n",
       "    </tr>\n",
       "    <tr>\n",
       "      <th>584</th>\n",
       "      <td>1.0</td>\n",
       "    </tr>\n",
       "    <tr>\n",
       "      <th>580</th>\n",
       "      <td>1.0</td>\n",
       "    </tr>\n",
       "    <tr>\n",
       "      <th>1</th>\n",
       "      <td>1.0</td>\n",
       "    </tr>\n",
       "  </tbody>\n",
       "</table>\n",
       "<p>582 rows × 1 columns</p>\n",
       "</div>"
      ],
      "text/plain": [
       "          NB_PROD_SOLD/TRNSCT\n",
       "STORE_ID                     \n",
       "569                      62.0\n",
       "278                      47.0\n",
       "3525                     47.0\n",
       "3483                     39.0\n",
       "107                      35.0\n",
       "...                       ...\n",
       "274                       1.0\n",
       "2996                      1.0\n",
       "584                       1.0\n",
       "580                       1.0\n",
       "1                         1.0\n",
       "\n",
       "[582 rows x 1 columns]"
      ]
     },
     "execution_count": 48,
     "metadata": {},
     "output_type": "execute_result"
    }
   ],
   "source": [
    "df_trnsct.groupby(\"BASKET_ID\").aggregate(\n",
    "    {\"PRODUCT_ID\": \"count\", \"STORE_ID\": \"first\"}\n",
    ").rename({\"PRODUCT_ID\": \"NB_PROD_SOLD/TRNSCT\"}, axis=1).set_index(\"STORE_ID\").groupby(\n",
    "    \"STORE_ID\"\n",
    ").mean().round().sort_values(\n",
    "    \"NB_PROD_SOLD/TRNSCT\", ascending=False\n",
    ")"
   ]
  },
  {
   "cell_type": "markdown",
   "metadata": {},
   "source": [
    "### Create New variable: Date of first purchase to track customer acquisition"
   ]
  },
  {
   "cell_type": "code",
   "execution_count": 49,
   "metadata": {},
   "outputs": [
    {
     "name": "stdout",
     "output_type": "stream",
     "text": [
      "<class 'pandas.core.frame.DataFrame'>\n",
      "RangeIndex: 2595732 entries, 0 to 2595731\n",
      "Data columns (total 13 columns):\n",
      " #   Column               Dtype         \n",
      "---  ------               -----         \n",
      " 0   household_key        int64         \n",
      " 1   BASKET_ID            int64         \n",
      " 2   PRODUCT_ID           int64         \n",
      " 3   QUANTITY             int64         \n",
      " 4   SALES_VALUE          float64       \n",
      " 5   STORE_ID             int64         \n",
      " 6   RETAIL_DISC          float64       \n",
      " 7   TRANS_TIME           int64         \n",
      " 8   WEEK_NO              int64         \n",
      " 9   COUPON_DISC          float64       \n",
      " 10  COUPON_MATCH_DISC    float64       \n",
      " 11  PRODUCT_SHELF_PRICE  float64       \n",
      " 12  TRANS_DATE           datetime64[ns]\n",
      "dtypes: datetime64[ns](1), float64(5), int64(7)\n",
      "memory usage: 257.5 MB\n"
     ]
    }
   ],
   "source": [
    "df_trnsct.info()"
   ]
  },
  {
   "cell_type": "code",
   "execution_count": 50,
   "metadata": {},
   "outputs": [
    {
     "data": {
      "text/html": [
       "<div>\n",
       "<style scoped>\n",
       "    .dataframe tbody tr th:only-of-type {\n",
       "        vertical-align: middle;\n",
       "    }\n",
       "\n",
       "    .dataframe tbody tr th {\n",
       "        vertical-align: top;\n",
       "    }\n",
       "\n",
       "    .dataframe thead th {\n",
       "        text-align: right;\n",
       "    }\n",
       "</style>\n",
       "<table border=\"1\" class=\"dataframe\">\n",
       "  <thead>\n",
       "    <tr style=\"text-align: right;\">\n",
       "      <th></th>\n",
       "      <th>TRANS_DATE</th>\n",
       "    </tr>\n",
       "    <tr>\n",
       "      <th>household_key</th>\n",
       "      <th></th>\n",
       "    </tr>\n",
       "  </thead>\n",
       "  <tbody>\n",
       "    <tr>\n",
       "      <th>1</th>\n",
       "      <td>2012-02-21</td>\n",
       "    </tr>\n",
       "    <tr>\n",
       "      <th>2</th>\n",
       "      <td>2012-04-13</td>\n",
       "    </tr>\n",
       "    <tr>\n",
       "      <th>3</th>\n",
       "      <td>2012-04-23</td>\n",
       "    </tr>\n",
       "    <tr>\n",
       "      <th>4</th>\n",
       "      <td>2012-04-14</td>\n",
       "    </tr>\n",
       "    <tr>\n",
       "      <th>5</th>\n",
       "      <td>2012-03-26</td>\n",
       "    </tr>\n",
       "    <tr>\n",
       "      <th>...</th>\n",
       "      <td>...</td>\n",
       "    </tr>\n",
       "    <tr>\n",
       "      <th>2496</th>\n",
       "      <td>2012-04-27</td>\n",
       "    </tr>\n",
       "    <tr>\n",
       "      <th>2497</th>\n",
       "      <td>2012-03-19</td>\n",
       "    </tr>\n",
       "    <tr>\n",
       "      <th>2498</th>\n",
       "      <td>2012-04-15</td>\n",
       "    </tr>\n",
       "    <tr>\n",
       "      <th>2499</th>\n",
       "      <td>2012-03-11</td>\n",
       "    </tr>\n",
       "    <tr>\n",
       "      <th>2500</th>\n",
       "      <td>2012-03-20</td>\n",
       "    </tr>\n",
       "  </tbody>\n",
       "</table>\n",
       "<p>2500 rows × 1 columns</p>\n",
       "</div>"
      ],
      "text/plain": [
       "              TRANS_DATE\n",
       "household_key           \n",
       "1             2012-02-21\n",
       "2             2012-04-13\n",
       "3             2012-04-23\n",
       "4             2012-04-14\n",
       "5             2012-03-26\n",
       "...                  ...\n",
       "2496          2012-04-27\n",
       "2497          2012-03-19\n",
       "2498          2012-04-15\n",
       "2499          2012-03-11\n",
       "2500          2012-03-20\n",
       "\n",
       "[2500 rows x 1 columns]"
      ]
     },
     "execution_count": 50,
     "metadata": {},
     "output_type": "execute_result"
    }
   ],
   "source": [
    "customer_first_date = (\n",
    "    df_trnsct[[\"household_key\", \"TRANS_DATE\"]]\n",
    "    .groupby([\"household_key\", \"TRANS_DATE\"])\n",
    "    .value_counts()\n",
    ")\n",
    "customer_first_date = customer_first_date.reset_index()\n",
    "customer_first_date.drop(columns=[\"count\"], inplace=True)\n",
    "customer_first_date = customer_first_date.groupby(\"household_key\").min()\n",
    "customer_first_date = customer_first_date.rename(\n",
    "    columns={\"DAY\": \"Day_of_first_purchase\", \"index\": \"household_key\"}\n",
    ")\n",
    "customer_first_date"
   ]
  },
  {
   "cell_type": "code",
   "execution_count": 51,
   "metadata": {},
   "outputs": [
    {
     "data": {
      "text/html": [
       "<div>\n",
       "<style scoped>\n",
       "    .dataframe tbody tr th:only-of-type {\n",
       "        vertical-align: middle;\n",
       "    }\n",
       "\n",
       "    .dataframe tbody tr th {\n",
       "        vertical-align: top;\n",
       "    }\n",
       "\n",
       "    .dataframe thead th {\n",
       "        text-align: right;\n",
       "    }\n",
       "</style>\n",
       "<table border=\"1\" class=\"dataframe\">\n",
       "  <thead>\n",
       "    <tr style=\"text-align: right;\">\n",
       "      <th></th>\n",
       "      <th>Date_of_first_purchase</th>\n",
       "      <th>Number_of_households</th>\n",
       "    </tr>\n",
       "  </thead>\n",
       "  <tbody>\n",
       "    <tr>\n",
       "      <th>97</th>\n",
       "      <td>2012-01-02</td>\n",
       "      <td>15</td>\n",
       "    </tr>\n",
       "    <tr>\n",
       "      <th>115</th>\n",
       "      <td>2012-01-03</td>\n",
       "      <td>10</td>\n",
       "    </tr>\n",
       "    <tr>\n",
       "      <th>20</th>\n",
       "      <td>2012-01-04</td>\n",
       "      <td>26</td>\n",
       "    </tr>\n",
       "    <tr>\n",
       "      <th>41</th>\n",
       "      <td>2012-01-05</td>\n",
       "      <td>23</td>\n",
       "    </tr>\n",
       "    <tr>\n",
       "      <th>102</th>\n",
       "      <td>2012-01-06</td>\n",
       "      <td>14</td>\n",
       "    </tr>\n",
       "    <tr>\n",
       "      <th>...</th>\n",
       "      <td>...</td>\n",
       "      <td>...</td>\n",
       "    </tr>\n",
       "    <tr>\n",
       "      <th>123</th>\n",
       "      <td>2012-08-05</td>\n",
       "      <td>1</td>\n",
       "    </tr>\n",
       "    <tr>\n",
       "      <th>124</th>\n",
       "      <td>2012-10-04</td>\n",
       "      <td>1</td>\n",
       "    </tr>\n",
       "    <tr>\n",
       "      <th>125</th>\n",
       "      <td>2013-03-09</td>\n",
       "      <td>1</td>\n",
       "    </tr>\n",
       "    <tr>\n",
       "      <th>126</th>\n",
       "      <td>2013-09-05</td>\n",
       "      <td>1</td>\n",
       "    </tr>\n",
       "    <tr>\n",
       "      <th>127</th>\n",
       "      <td>2013-11-02</td>\n",
       "      <td>1</td>\n",
       "    </tr>\n",
       "  </tbody>\n",
       "</table>\n",
       "<p>128 rows × 2 columns</p>\n",
       "</div>"
      ],
      "text/plain": [
       "    Date_of_first_purchase  Number_of_households\n",
       "97              2012-01-02                    15\n",
       "115             2012-01-03                    10\n",
       "20              2012-01-04                    26\n",
       "41              2012-01-05                    23\n",
       "102             2012-01-06                    14\n",
       "..                     ...                   ...\n",
       "123             2012-08-05                     1\n",
       "124             2012-10-04                     1\n",
       "125             2013-03-09                     1\n",
       "126             2013-09-05                     1\n",
       "127             2013-11-02                     1\n",
       "\n",
       "[128 rows x 2 columns]"
      ]
     },
     "execution_count": 51,
     "metadata": {},
     "output_type": "execute_result"
    }
   ],
   "source": [
    "df_customer_acquisition = (\n",
    "    customer_first_date.value_counts()\n",
    "    .reset_index()\n",
    "    .rename(columns={\"TRANS_DATE\": \"Date_of_first_purchase\", \"count\": \"Number_of_households\"})\n",
    "    .sort_values(\"Date_of_first_purchase\")\n",
    ")\n",
    "df_customer_acquisition"
   ]
  },
  {
   "cell_type": "code",
   "execution_count": 52,
   "metadata": {},
   "outputs": [
    {
     "data": {
      "text/html": [
       "<div>\n",
       "<style scoped>\n",
       "    .dataframe tbody tr th:only-of-type {\n",
       "        vertical-align: middle;\n",
       "    }\n",
       "\n",
       "    .dataframe tbody tr th {\n",
       "        vertical-align: top;\n",
       "    }\n",
       "\n",
       "    .dataframe thead th {\n",
       "        text-align: right;\n",
       "    }\n",
       "</style>\n",
       "<table border=\"1\" class=\"dataframe\">\n",
       "  <thead>\n",
       "    <tr style=\"text-align: right;\">\n",
       "      <th></th>\n",
       "      <th>Date_of_first_purchase</th>\n",
       "      <th>Number_of_households</th>\n",
       "    </tr>\n",
       "  </thead>\n",
       "  <tbody>\n",
       "    <tr>\n",
       "      <th>0</th>\n",
       "      <td>2013-12-12</td>\n",
       "      <td>0.0</td>\n",
       "    </tr>\n",
       "  </tbody>\n",
       "</table>\n",
       "</div>"
      ],
      "text/plain": [
       "  Date_of_first_purchase  Number_of_households\n",
       "0             2013-12-12                   0.0"
      ]
     },
     "execution_count": 52,
     "metadata": {},
     "output_type": "execute_result"
    }
   ],
   "source": [
    "df_customer_acquisition.set_index(\"Date_of_first_purchase\").reindex(pd.date_range(df_trnsct[\"TRANS_DATE\"].max(), df_trnsct[\"TRANS_DATE\"].max(), freq=\"D\")).fillna(0).reset_index().rename(columns={\"index\": \"Date_of_first_purchase\"})"
   ]
  },
  {
   "cell_type": "markdown",
   "metadata": {},
   "source": [
    "## Chiffre d'affaire"
   ]
  },
  {
   "cell_type": "code",
   "execution_count": 53,
   "metadata": {},
   "outputs": [
    {
     "data": {
      "text/html": [
       "<div>\n",
       "<style scoped>\n",
       "    .dataframe tbody tr th:only-of-type {\n",
       "        vertical-align: middle;\n",
       "    }\n",
       "\n",
       "    .dataframe tbody tr th {\n",
       "        vertical-align: top;\n",
       "    }\n",
       "\n",
       "    .dataframe thead th {\n",
       "        text-align: right;\n",
       "    }\n",
       "</style>\n",
       "<table border=\"1\" class=\"dataframe\">\n",
       "  <thead>\n",
       "    <tr style=\"text-align: right;\">\n",
       "      <th></th>\n",
       "      <th>TRANS_DATE</th>\n",
       "      <th>SALES_VALUE</th>\n",
       "    </tr>\n",
       "  </thead>\n",
       "  <tbody>\n",
       "    <tr>\n",
       "      <th>0</th>\n",
       "      <td>2012-01-02</td>\n",
       "      <td>549.31</td>\n",
       "    </tr>\n",
       "    <tr>\n",
       "      <th>1</th>\n",
       "      <td>2012-01-03</td>\n",
       "      <td>458.91</td>\n",
       "    </tr>\n",
       "    <tr>\n",
       "      <th>2</th>\n",
       "      <td>2012-01-04</td>\n",
       "      <td>1560.37</td>\n",
       "    </tr>\n",
       "    <tr>\n",
       "      <th>3</th>\n",
       "      <td>2012-01-05</td>\n",
       "      <td>1785.64</td>\n",
       "    </tr>\n",
       "    <tr>\n",
       "      <th>4</th>\n",
       "      <td>2012-01-06</td>\n",
       "      <td>856.93</td>\n",
       "    </tr>\n",
       "    <tr>\n",
       "      <th>...</th>\n",
       "      <td>...</td>\n",
       "      <td>...</td>\n",
       "    </tr>\n",
       "    <tr>\n",
       "      <th>706</th>\n",
       "      <td>2013-12-08</td>\n",
       "      <td>10632.36</td>\n",
       "    </tr>\n",
       "    <tr>\n",
       "      <th>707</th>\n",
       "      <td>2013-12-09</td>\n",
       "      <td>9949.90</td>\n",
       "    </tr>\n",
       "    <tr>\n",
       "      <th>708</th>\n",
       "      <td>2013-12-10</td>\n",
       "      <td>11245.74</td>\n",
       "    </tr>\n",
       "    <tr>\n",
       "      <th>709</th>\n",
       "      <td>2013-12-11</td>\n",
       "      <td>12758.04</td>\n",
       "    </tr>\n",
       "    <tr>\n",
       "      <th>710</th>\n",
       "      <td>2013-12-12</td>\n",
       "      <td>15938.70</td>\n",
       "    </tr>\n",
       "  </tbody>\n",
       "</table>\n",
       "<p>711 rows × 2 columns</p>\n",
       "</div>"
      ],
      "text/plain": [
       "    TRANS_DATE  SALES_VALUE\n",
       "0   2012-01-02       549.31\n",
       "1   2012-01-03       458.91\n",
       "2   2012-01-04      1560.37\n",
       "3   2012-01-05      1785.64\n",
       "4   2012-01-06       856.93\n",
       "..         ...          ...\n",
       "706 2013-12-08     10632.36\n",
       "707 2013-12-09      9949.90\n",
       "708 2013-12-10     11245.74\n",
       "709 2013-12-11     12758.04\n",
       "710 2013-12-12     15938.70\n",
       "\n",
       "[711 rows x 2 columns]"
      ]
     },
     "execution_count": 53,
     "metadata": {},
     "output_type": "execute_result"
    }
   ],
   "source": [
    "daily_sales = (\n",
    "    df_trnsct[[\"SALES_VALUE\"]]\n",
    "    .groupby(df_trnsct[\"TRANS_DATE\"])\n",
    "    .sum()\n",
    "    .reindex(\n",
    "        pd.date_range(\n",
    "            df_trnsct[\"TRANS_DATE\"].min(), df_trnsct[\"TRANS_DATE\"].max(), freq=\"D\"\n",
    "        )\n",
    "    )\n",
    "    .interpolate(method=\"time\")\n",
    "    .reset_index()\n",
    "    .rename(columns={\"index\": \"TRANS_DATE\"})\n",
    ")\n",
    "# daily_sales[\"TRANS_DATE\"]=daily_sales[\"TRANS_DATE\"].dt.strftime(\"%m-%d\")\n",
    "daily_sales"
   ]
  },
  {
   "cell_type": "markdown",
   "metadata": {},
   "source": [
    "### Age & Income Mean demographic"
   ]
  },
  {
   "cell_type": "code",
   "execution_count": 54,
   "metadata": {},
   "outputs": [
    {
     "data": {
      "text/plain": [
       "MEAN_AGE\n",
       "49.5    288\n",
       "39.5    194\n",
       "29.5    142\n",
       "65.0     72\n",
       "59.5     59\n",
       "21.5     46\n",
       "Name: count, dtype: int64"
      ]
     },
     "execution_count": 54,
     "metadata": {},
     "output_type": "execute_result"
    }
   ],
   "source": [
    "df_demographic[\"MEAN_AGE\"]=df_demographic[\"AGE_DESC\"].replace(\"65+\",\"65\").str.extract(r'(\\d+)-(\\d+)|(\\d+)').astype(float).mean(axis=1)\n",
    "df_demographic[\"MEAN_AGE\"].value_counts()"
   ]
  },
  {
   "cell_type": "code",
   "execution_count": 55,
   "metadata": {},
   "outputs": [
    {
     "data": {
      "text/plain": [
       "MEAN_INCOME\n",
       "62.0     192\n",
       "42.0     172\n",
       "87.0      96\n",
       "29.5      77\n",
       "19.5      74\n",
       "15.0      61\n",
       "137.0     38\n",
       "112.0     34\n",
       "162.0     30\n",
       "250.0     11\n",
       "187.0     11\n",
       "224.5      5\n",
       "Name: count, dtype: int64"
      ]
     },
     "execution_count": 55,
     "metadata": {},
     "output_type": "execute_result"
    }
   ],
   "source": [
    "df_demographic[\"MEAN_INCOME\"]=df_demographic[\"INCOME_DESC\"].str.extract(r'(\\d+)-(\\d+)|(\\d+)').astype(float).mean(axis=1)\n",
    "df_demographic[\"MEAN_INCOME\"]\n",
    "df_demographic[\"MEAN_INCOME\"].value_counts()"
   ]
  },
  {
   "cell_type": "markdown",
   "metadata": {},
   "source": [
    "---"
   ]
  },
  {
   "cell_type": "markdown",
   "metadata": {},
   "source": [
    "# Graphics Creation"
   ]
  },
  {
   "cell_type": "markdown",
   "metadata": {},
   "source": [
    "## 1. Demographics"
   ]
  },
  {
   "cell_type": "code",
   "execution_count": 56,
   "metadata": {},
   "outputs": [
    {
     "data": {
      "image/png": "[encoded data removed]",
      "text/plain": [
       "<Figure size 2000x1000 with 6 Axes>"
      ]
     },
     "metadata": {},
     "output_type": "display_data"
    }
   ],
   "source": [
    "dmg_figs, dmg_axis = plt.subplots(2, 3, figsize=(20, 10))\n",
    "color_palette = \"deep\"\n",
    "\n",
    "dmg_axis[0, 0].pie(\n",
    "    df_demographic[\"AGE_DESC\"].value_counts().sort_index(ascending=False),\n",
    "    labels=df_demographic[\"AGE_DESC\"].value_counts().sort_index(ascending=False).index,\n",
    "    autopct=\"%1.1f%%\",\n",
    "    startangle=90,\n",
    "    colors=sns.color_palette(color_palette),\n",
    ")\n",
    "dmg_axis[0, 0].set_title(\"Age distribution of customers\")\n",
    "\n",
    "dmg_axis[0, 1].pie(\n",
    "    df_demographic[\"HH_COMP_DESC\"].value_counts().sort_index(ascending=False),\n",
    "    labels=df_demographic[\"HH_COMP_DESC\"]\n",
    "    .value_counts()\n",
    "    .sort_index(ascending=False)\n",
    "    .index,\n",
    "    autopct=\"%1.1f%%\",\n",
    "    startangle=90,\n",
    "    colors=sns.color_palette(color_palette),\n",
    ")\n",
    "dmg_axis[0, 1].set_title(\"Household composition of customers\")\n",
    "\n",
    "dmg_axis[0, 2].pie(\n",
    "    df_demographic[\"HOUSEHOLD_SIZE_DESC\"].value_counts().sort_index(ascending=False),\n",
    "    labels=df_demographic[\"HOUSEHOLD_SIZE_DESC\"]\n",
    "    .astype(\"str\")\n",
    "    .replace(\"5\", \"5+\")\n",
    "    .value_counts()\n",
    "    .sort_index(ascending=False)\n",
    "    .index,\n",
    "    autopct=\"%1.1f%%\",\n",
    "    startangle=90,\n",
    "    colors=sns.color_palette(color_palette),\n",
    ")\n",
    "dmg_axis[0, 2].set_title(\"Household size of customers\")\n",
    "\n",
    "dmg_axis[1, 0].pie(\n",
    "    df_demographic[\"KID_CATEGORY_DESC\"].value_counts().sort_index(ascending=False),\n",
    "    labels=df_demographic[\"KID_CATEGORY_DESC\"]\n",
    "    .astype(\"str\")\n",
    "    .replace(\"3\", \"3+\")\n",
    "    .value_counts()\n",
    "    .sort_index(ascending=False)\n",
    "    .index,\n",
    "    autopct=\"%1.1f%%\",\n",
    "    startangle=90,\n",
    "    colors=sns.color_palette(color_palette),\n",
    ")\n",
    "dmg_axis[1, 0].set_title(\"Number of kids in the household\")\n",
    "\n",
    "dmg_axis[1, 1].pie(\n",
    "    df_demographic[\"MARITAL_STATUS_CODE\"]\n",
    "    .replace({\"A\": \"Married\", \"B\": \"Single\"})\n",
    "    .value_counts()\n",
    "    .sort_index(ascending=False),\n",
    "    labels=df_demographic[\"MARITAL_STATUS_CODE\"]\n",
    "    .replace({\"A\": \"Married\", \"B\": \"Single\"})\n",
    "    .value_counts()\n",
    "    .sort_index(ascending=False)\n",
    "    .index,\n",
    "    autopct=\"%1.1f%%\",\n",
    "    startangle=90,\n",
    "    colors=sns.color_palette(color_palette),\n",
    ")\n",
    "dmg_axis[1, 1].set_title(\"Marital status of customers\")\n",
    "\n",
    "dmg_axis[1, 2].pie(\n",
    "    df_demographic[\"INCOME_DESC_REDUCED\"].value_counts().sort_index(ascending=True),\n",
    "    labels=df_demographic[\"INCOME_DESC_REDUCED\"]\n",
    "    .value_counts()\n",
    "    .sort_index(ascending=True)\n",
    "    .index,\n",
    "    autopct=\"%1.1f%%\",\n",
    "    startangle=90,\n",
    "    colors=sns.color_palette(color_palette),\n",
    ")\n",
    "dmg_axis[1, 2].set_title(\"Income Distribution of customers\")\n",
    "\n",
    "\n",
    "plt.show()"
   ]
  },
  {
   "cell_type": "code",
   "execution_count": 57,
   "metadata": {},
   "outputs": [
    {
     "data": {
      "image/png": "[encoded data removed]",
      "text/plain": [
       "<Figure size 700x500 with 1 Axes>"
      ]
     },
     "metadata": {},
     "output_type": "display_data"
    }
   ],
   "source": [
    "age_counts = df_demographic['AGE_DESC'].replace(\"55-64\",\"55-65+\").replace(\"65+\",\"55-65+\").value_counts().sort_index(ascending=False)\n",
    "labels = [f'{age} \\n({count})' for age, count in zip(age_counts.index, age_counts.values)]\n",
    "colors = sns.color_palette(\"muted\")\n",
    "fig, ax = plt.subplots(figsize=(7, 5))\n",
    "ax.pie(age_counts, labels=labels, autopct='%1.1f%%', colors=colors, \n",
    "    textprops={'fontsize': 12, 'fontweight': 500},)  \n",
    "fig.suptitle('Age distribution of customers', fontsize=15, fontweight=500)\n",
    "plt.show()"
   ]
  },
  {
   "cell_type": "code",
   "execution_count": 58,
   "metadata": {},
   "outputs": [
    {
     "data": {
      "image/png": "[encoded data removed]",
      "text/plain": [
       "<Figure size 700x500 with 1 Axes>"
      ]
     },
     "metadata": {},
     "output_type": "display_data"
    }
   ],
   "source": [
    "statuts_code_counts = df_demographic['MARITAL_STATUS_CODE'].replace({'A': 'Married', 'B': 'Single'}).value_counts()\n",
    "labels = [f'{statut} ({count})' for statut, count in zip(statuts_code_counts.index, statuts_code_counts.values)]\n",
    "colors = sns.color_palette(\"muted\")\n",
    "fig, ax = plt.subplots(figsize=(7, 5))\n",
    "ax.pie(statuts_code_counts, labels=labels, autopct='%1.1f%%', colors=colors, \n",
    "    textprops={'fontsize': 12, 'fontweight': 500}) \n",
    "fig.suptitle('Marital status of customers', fontsize=15, fontweight=500) \n",
    "plt.show()"
   ]
  },
  {
   "cell_type": "code",
   "execution_count": 59,
   "metadata": {},
   "outputs": [
    {
     "data": {
      "image/png": "[encoded data removed]",
      "text/plain": [
       "<Figure size 700x500 with 1 Axes>"
      ]
     },
     "metadata": {},
     "output_type": "display_data"
    }
   ],
   "source": [
    "income_counts = df_demographic['INCOME_DESC_REDUCED'].value_counts()[['150K+', '100-149K', '50-99K', '25-49K', '<25K']]\n",
    "\n",
    "income_percentages = income_counts / len(df_demographic) * 100\n",
    "\n",
    "labels = [f'{income} ({count})' for income, count in zip(income_counts.index, income_counts.values)]\n",
    "colors = sns.color_palette(\"muted\")\n",
    "fig, ax = plt.subplots(figsize=(7, 5))\n",
    "ax.pie(income_percentages, labels=labels, autopct='%1.1f%%', colors=colors, \n",
    "    textprops={'fontsize': 12, 'fontweight': 500})  \n",
    "fig.suptitle('Income distribution of customers', fontsize=15, fontweight=500,x=0.55)\n",
    "plt.show()"
   ]
  },
  {
   "cell_type": "code",
   "execution_count": 60,
   "metadata": {},
   "outputs": [
    {
     "data": {
      "image/png": "[encoded data removed]",
      "text/plain": [
       "<Figure size 700x500 with 1 Axes>"
      ]
     },
     "metadata": {},
     "output_type": "display_data"
    }
   ],
   "source": [
    "comp_desc_counts = df_demographic['HH_COMP_DESC'].value_counts()\n",
    "labels = [f'{comp_desc} ({count})' for comp_desc, count in zip(comp_desc_counts.index, comp_desc_counts.values)]\n",
    "colors = sns.color_palette(\"muted\")\n",
    "fig, ax = plt.subplots(figsize=(7, 5))\n",
    "ax.pie(comp_desc_counts, labels=labels, autopct='%1.1f%%', colors=colors, \n",
    "    textprops={'fontsize': 12, 'fontweight': 500})\n",
    "fig.suptitle('Household composition of customers', fontsize=15, fontweight=500)\n",
    "plt.show()"
   ]
  },
  {
   "cell_type": "code",
   "execution_count": 61,
   "metadata": {},
   "outputs": [
    {
     "data": {
      "image/png": "[encoded data removed]",
      "text/plain": [
       "<Figure size 700x500 with 1 Axes>"
      ]
     },
     "metadata": {},
     "output_type": "display_data"
    }
   ],
   "source": [
    "comp_desc_counts = df_demographic['HOUSEHOLD_SIZE_DESC'].value_counts().sort_index()\n",
    "labels = [f'{comp_desc} ({count})' for comp_desc, count in zip(comp_desc_counts.index, comp_desc_counts.values)]\n",
    "colors = sns.color_palette(\"muted\")\n",
    "fig, ax = plt.subplots(figsize=(7, 5))\n",
    "ax.pie(comp_desc_counts, labels=labels, autopct='%1.1f%%', colors=colors, \n",
    "    textprops={'fontsize': 12, 'fontweight': 500})\n",
    "fig.suptitle('Household Size Distribution', fontsize=15, fontweight=500)\n",
    "plt.show()"
   ]
  },
  {
   "cell_type": "code",
   "execution_count": 62,
   "metadata": {},
   "outputs": [
    {
     "data": {
      "image/png": "[encoded data removed]",
      "text/plain": [
       "<Figure size 700x500 with 1 Axes>"
      ]
     },
     "metadata": {},
     "output_type": "display_data"
    }
   ],
   "source": [
    "\n",
    "homeowner_counts = df_demographic['HOMEOWNER_DESC'].value_counts()\n",
    "\n",
    "labels = [f'{homeowner} ({count})' for homeowner, count in zip(homeowner_counts.index, homeowner_counts.values)]\n",
    "\n",
    "colors = sns.color_palette(\"muted\")\n",
    "\n",
    "fig, ax = plt.subplots(figsize=(7, 5))\n",
    "ax.pie(homeowner_counts, labels=labels, autopct='%1.1f%%', colors=colors, \n",
    "    textprops={'fontsize': 12, 'fontweight': 500})  \n",
    "fig.suptitle('Homeowner distribution of customers', fontsize=15, fontweight=500)\n",
    "plt.show()"
   ]
  },
  {
   "cell_type": "code",
   "execution_count": 63,
   "metadata": {},
   "outputs": [
    {
     "data": {
      "image/png": "[encoded data removed]",
      "text/plain": [
       "<Figure size 700x500 with 1 Axes>"
      ]
     },
     "metadata": {},
     "output_type": "display_data"
    }
   ],
   "source": [
    "kid_counts = df_demographic['KID_CATEGORY_DESC'].value_counts().sort_index()\n",
    "labels = [f'{kid} ({count})' for kid, count in zip(kid_counts.index, kid_counts.values)]\n",
    "colors = sns.color_palette(\"muted\")\n",
    "fig, ax = plt.subplots(figsize=(7, 5))\n",
    "ax.pie(kid_counts, labels=labels, autopct='%1.1f%%', colors=colors, \n",
    "    textprops={'fontsize': 12, 'fontweight': 500})\n",
    "fig.suptitle('Number of kids in the household', fontsize=15, fontweight=500) \n",
    "plt.show()"
   ]
  },
  {
   "cell_type": "markdown",
   "metadata": {},
   "source": [
    "## 2. Product Department Wordcloud"
   ]
  },
  {
   "cell_type": "code",
   "execution_count": 64,
   "metadata": {},
   "outputs": [
    {
     "data": {
      "text/plain": [
       "44"
      ]
     },
     "execution_count": 64,
     "metadata": {},
     "output_type": "execute_result"
    }
   ],
   "source": [
    "df_product[\"DEPARTMENT\"].nunique()"
   ]
  },
  {
   "cell_type": "code",
   "execution_count": 65,
   "metadata": {},
   "outputs": [],
   "source": [
    "# Preprocess the text to make it all lower case and remove leading/trailing spaces\n",
    "frequence_produits = df_trnsct.merge(df_product, how=\"left\", on=\"PRODUCT_ID\")[\n",
    "    \"DEPARTMENT\"\n",
    "]\n",
    "frequence_produits = \" \".join(v for v in frequence_produits)"
   ]
  },
  {
   "cell_type": "code",
   "execution_count": 66,
   "metadata": {},
   "outputs": [
    {
     "data": {
      "image/png": "[encoded data removed]",
      "text/plain": [
       "<Figure size 1200x800 with 1 Axes>"
      ]
     },
     "metadata": {},
     "output_type": "display_data"
    }
   ],
   "source": [
    "# Preprocess the text to make it all lower case and remove leading/trailing spaces\n",
    "frequence_produits = np.log(\n",
    "    df_trnsct.merge(df_product, how=\"left\", on=\"PRODUCT_ID\")[\n",
    "        \"DEPARTMENT\"\n",
    "    ].value_counts()\n",
    ")\n",
    "\n",
    "mask = np.invert(np.array(Image.open(\"../Assets/WordCloudMask.png\")))[::, 150:850]\n",
    "wordcloud = WordCloud(\n",
    "    background_color=\"white\",\n",
    "    mask=mask,\n",
    "    contour_color=\"#263238\",\n",
    "    contour_width=10,\n",
    ").generate_from_frequencies(frequence_produits)\n",
    "\n",
    "plt.figure(figsize=(12, 8))\n",
    "plt.imshow(wordcloud, interpolation=\"bilinear\")\n",
    "plt.axis(\"off\")\n",
    "plt.show()"
   ]
  },
  {
   "cell_type": "markdown",
   "metadata": {},
   "source": [
    "## 3. Chiffre d'affaire "
   ]
  },
  {
   "cell_type": "code",
   "execution_count": 67,
   "metadata": {},
   "outputs": [
    {
     "data": {
      "text/html": [
       "<div>\n",
       "<style scoped>\n",
       "    .dataframe tbody tr th:only-of-type {\n",
       "        vertical-align: middle;\n",
       "    }\n",
       "\n",
       "    .dataframe tbody tr th {\n",
       "        vertical-align: top;\n",
       "    }\n",
       "\n",
       "    .dataframe thead th {\n",
       "        text-align: right;\n",
       "    }\n",
       "</style>\n",
       "<table border=\"1\" class=\"dataframe\">\n",
       "  <thead>\n",
       "    <tr style=\"text-align: right;\">\n",
       "      <th></th>\n",
       "      <th>TRANS_DATE</th>\n",
       "      <th>SALES_VALUE</th>\n",
       "    </tr>\n",
       "  </thead>\n",
       "  <tbody>\n",
       "    <tr>\n",
       "      <th>0</th>\n",
       "      <td>2012-01-02</td>\n",
       "      <td>549.31</td>\n",
       "    </tr>\n",
       "    <tr>\n",
       "      <th>1</th>\n",
       "      <td>2012-01-03</td>\n",
       "      <td>458.91</td>\n",
       "    </tr>\n",
       "    <tr>\n",
       "      <th>2</th>\n",
       "      <td>2012-01-04</td>\n",
       "      <td>1560.37</td>\n",
       "    </tr>\n",
       "  </tbody>\n",
       "</table>\n",
       "</div>"
      ],
      "text/plain": [
       "  TRANS_DATE  SALES_VALUE\n",
       "0 2012-01-02       549.31\n",
       "1 2012-01-03       458.91\n",
       "2 2012-01-04      1560.37"
      ]
     },
     "execution_count": 67,
     "metadata": {},
     "output_type": "execute_result"
    }
   ],
   "source": [
    "daily_sales.head(3)"
   ]
  },
  {
   "cell_type": "code",
   "execution_count": 68,
   "metadata": {},
   "outputs": [
    {
     "data": {
      "text/html": [
       "<div>\n",
       "<style scoped>\n",
       "    .dataframe tbody tr th:only-of-type {\n",
       "        vertical-align: middle;\n",
       "    }\n",
       "\n",
       "    .dataframe tbody tr th {\n",
       "        vertical-align: top;\n",
       "    }\n",
       "\n",
       "    .dataframe thead th {\n",
       "        text-align: right;\n",
       "    }\n",
       "</style>\n",
       "<table border=\"1\" class=\"dataframe\">\n",
       "  <thead>\n",
       "    <tr style=\"text-align: right;\">\n",
       "      <th></th>\n",
       "      <th>TRANS_DATE</th>\n",
       "      <th>SALES_VALUE</th>\n",
       "    </tr>\n",
       "  </thead>\n",
       "  <tbody>\n",
       "    <tr>\n",
       "      <th>0</th>\n",
       "      <td>2012-01-02</td>\n",
       "      <td>549.31</td>\n",
       "    </tr>\n",
       "    <tr>\n",
       "      <th>1</th>\n",
       "      <td>2012-01-03</td>\n",
       "      <td>458.91</td>\n",
       "    </tr>\n",
       "    <tr>\n",
       "      <th>2</th>\n",
       "      <td>2012-01-04</td>\n",
       "      <td>1560.37</td>\n",
       "    </tr>\n",
       "  </tbody>\n",
       "</table>\n",
       "</div>"
      ],
      "text/plain": [
       "  TRANS_DATE  SALES_VALUE\n",
       "0 2012-01-02       549.31\n",
       "1 2012-01-03       458.91\n",
       "2 2012-01-04      1560.37"
      ]
     },
     "execution_count": 68,
     "metadata": {},
     "output_type": "execute_result"
    }
   ],
   "source": [
    "daily_sales.head(3)"
   ]
  },
  {
   "cell_type": "code",
   "execution_count": 69,
   "metadata": {},
   "outputs": [
    {
     "ename": "ValueError",
     "evalue": "Mime type rendering requires nbformat>=4.2.0 but it is not installed",
     "output_type": "error",
     "traceback": [
      "\u001b[0;31m---------------------------------------------------------------------------\u001b[0m",
      "\u001b[0;31mValueError\u001b[0m                                Traceback (most recent call last)",
      "File \u001b[0;32m/mnt/77165487061AF296/Sorbonne_Data_Analytics_SDA/Cours/Data_Management_Nisrine_Moummou/Projet_Data_Management/.venv/lib/python3.11/site-packages/IPython/core/formatters.py:925\u001b[0m, in \u001b[0;36mIPythonDisplayFormatter.__call__\u001b[0;34m(self, obj)\u001b[0m\n\u001b[1;32m    923\u001b[0m method \u001b[38;5;241m=\u001b[39m get_real_method(obj, \u001b[38;5;28mself\u001b[39m\u001b[38;5;241m.\u001b[39mprint_method)\n\u001b[1;32m    924\u001b[0m \u001b[38;5;28;01mif\u001b[39;00m method \u001b[38;5;129;01mis\u001b[39;00m \u001b[38;5;129;01mnot\u001b[39;00m \u001b[38;5;28;01mNone\u001b[39;00m:\n\u001b[0;32m--> 925\u001b[0m     \u001b[43mmethod\u001b[49m\u001b[43m(\u001b[49m\u001b[43m)\u001b[49m\n\u001b[1;32m    926\u001b[0m     \u001b[38;5;28;01mreturn\u001b[39;00m \u001b[38;5;28;01mTrue\u001b[39;00m\n",
      "File \u001b[0;32m/mnt/77165487061AF296/Sorbonne_Data_Analytics_SDA/Cours/Data_Management_Nisrine_Moummou/Projet_Data_Management/.venv/lib/python3.11/site-packages/plotly/basedatatypes.py:832\u001b[0m, in \u001b[0;36mBaseFigure._ipython_display_\u001b[0;34m(self)\u001b[0m\n\u001b[1;32m    829\u001b[0m \u001b[38;5;28;01mimport\u001b[39;00m \u001b[38;5;21;01mplotly\u001b[39;00m\u001b[38;5;21;01m.\u001b[39;00m\u001b[38;5;21;01mio\u001b[39;00m \u001b[38;5;28;01mas\u001b[39;00m \u001b[38;5;21;01mpio\u001b[39;00m\n\u001b[1;32m    831\u001b[0m \u001b[38;5;28;01mif\u001b[39;00m pio\u001b[38;5;241m.\u001b[39mrenderers\u001b[38;5;241m.\u001b[39mrender_on_display \u001b[38;5;129;01mand\u001b[39;00m pio\u001b[38;5;241m.\u001b[39mrenderers\u001b[38;5;241m.\u001b[39mdefault:\n\u001b[0;32m--> 832\u001b[0m     \u001b[43mpio\u001b[49m\u001b[38;5;241;43m.\u001b[39;49m\u001b[43mshow\u001b[49m\u001b[43m(\u001b[49m\u001b[38;5;28;43mself\u001b[39;49m\u001b[43m)\u001b[49m\n\u001b[1;32m    833\u001b[0m \u001b[38;5;28;01melse\u001b[39;00m:\n\u001b[1;32m    834\u001b[0m     \u001b[38;5;28mprint\u001b[39m(\u001b[38;5;28mrepr\u001b[39m(\u001b[38;5;28mself\u001b[39m))\n",
      "File \u001b[0;32m/mnt/77165487061AF296/Sorbonne_Data_Analytics_SDA/Cours/Data_Management_Nisrine_Moummou/Projet_Data_Management/.venv/lib/python3.11/site-packages/plotly/io/_renderers.py:394\u001b[0m, in \u001b[0;36mshow\u001b[0;34m(fig, renderer, validate, **kwargs)\u001b[0m\n\u001b[1;32m    389\u001b[0m         \u001b[38;5;28;01mraise\u001b[39;00m \u001b[38;5;167;01mValueError\u001b[39;00m(\n\u001b[1;32m    390\u001b[0m             \u001b[38;5;124m\"\u001b[39m\u001b[38;5;124mMime type rendering requires ipython but it is not installed\u001b[39m\u001b[38;5;124m\"\u001b[39m\n\u001b[1;32m    391\u001b[0m         )\n\u001b[1;32m    393\u001b[0m     \u001b[38;5;28;01mif\u001b[39;00m \u001b[38;5;129;01mnot\u001b[39;00m nbformat \u001b[38;5;129;01mor\u001b[39;00m Version(nbformat\u001b[38;5;241m.\u001b[39m__version__) \u001b[38;5;241m<\u001b[39m Version(\u001b[38;5;124m\"\u001b[39m\u001b[38;5;124m4.2.0\u001b[39m\u001b[38;5;124m\"\u001b[39m):\n\u001b[0;32m--> 394\u001b[0m         \u001b[38;5;28;01mraise\u001b[39;00m \u001b[38;5;167;01mValueError\u001b[39;00m(\n\u001b[1;32m    395\u001b[0m             \u001b[38;5;124m\"\u001b[39m\u001b[38;5;124mMime type rendering requires nbformat>=4.2.0 but it is not installed\u001b[39m\u001b[38;5;124m\"\u001b[39m\n\u001b[1;32m    396\u001b[0m         )\n\u001b[1;32m    398\u001b[0m     ipython_display\u001b[38;5;241m.\u001b[39mdisplay(bundle, raw\u001b[38;5;241m=\u001b[39m\u001b[38;5;28;01mTrue\u001b[39;00m)\n\u001b[1;32m    400\u001b[0m \u001b[38;5;66;03m# external renderers\u001b[39;00m\n",
      "\u001b[0;31mValueError\u001b[0m: Mime type rendering requires nbformat>=4.2.0 but it is not installed"
     ]
    },
    {
     "data": {
      "application/vnd.plotly.v1+json": {
       "config": {
        "plotlyServerURL": "https://plot.ly"
       },
       "data": [
        {
         "hovertemplate": "Year=2012<br>Day of Year=%{x}<br>Average Daily Sales Value=%{y}<extra></extra>",
         "legendgroup": "2012",
         "line": {
          "color": "#636efa",
          "dash": "solid"
         },
         "marker": {
          "symbol": "circle"
         },
         "mode": "lines+markers",
         "name": "2012",
         "orientation": "v",
         "showlegend": true,
         "type": "scatter",
         "x": [
          2,
          3,
          4,
          5,
          6,
          7,
          8,
          9,
          10,
          11,
          12,
          13,
          14,
          15,
          16,
          17,
          18,
          19,
          20,
          21,
          22,
          23,
          24,
          25,
          26,
          27,
          28,
          29,
          30,
          31,
          32,
          33,
          34,
          35,
          36,
          37,
          38,
          39,
          40,
          41,
          42,
          43,
          44,
          45,
          46,
          47,
          48,
          49,
          50,
          51,
          52,
          53,
          54,
          55,
          56,
          57,
          58,
          59,
          60,
          61,
          62,
          63,
          64,
          65,
          66,
          67,
          68,
          69,
          70,
          71,
          72,
          73,
          74,
          75,
          76,
          77,
          78,
          79,
          80,
          81,
          82,
          83,
          84,
          85,
          86,
          87,
          88,
          89,
          90,
          91,
          92,
          93,
          94,
          95,
          96,
          97,
          98,
          99,
          100,
          101,
          102,
          103,
          104,
          105,
          106,
          107,
          108,
          109,
          110,
          111,
          112,
          113,
          114,
          115,
          116,
          117,
          118,
          119,
          120,
          121,
          122,
          123,
          124,
          125,
          126,
          127,
          128,
          129,
          130,
          131,
          132,
          133,
          134,
          135,
          136,
          137,
          138,
          139,
          140,
          141,
          142,
          143,
          144,
          145,
          146,
          147,
          148,
          149,
          150,
          151,
          152,
          153,
          154,
          155,
          156,
          157,
          158,
          159,
          160,
          161,
          162,
          163,
          164,
          165,
          166,
          167,
          168,
          169,
          170,
          171,
          172,
          173,
          174,
          175,
          176,
          177,
          178,
          179,
          180,
          181,
          182,
          183,
          184,
          185,
          186,
          187,
          188,
          189,
          190,
          191,
          192,
          193,
          194,
          195,
          196,
          197,
          198,
          199,
          200,
          201,
          202,
          203,
          204,
          205,
          206,
          207,
          208,
          209,
          210,
          211,
          212,
          213,
          214,
          215,
          216,
          217,
          218,
          219,
          220,
          221,
          222,
          223,
          224,
          225,
          226,
          227,
          228,
          229,
          230,
          231,
          232,
          233,
          234,
          235,
          236,
          237,
          238,
          239,
          240,
          241,
          242,
          243,
          244,
          245,
          246,
          247,
          248,
          249,
          250,
          251,
          252,
          253,
          254,
          255,
          256,
          257,
          258,
          259,
          260,
          261,
          262,
          263,
          264,
          265,
          266,
          267,
          268,
          269,
          270,
          271,
          272,
          273,
          274,
          275,
          276,
          277,
          278,
          279,
          280,
          281,
          282,
          283,
          284,
          285,
          286,
          287,
          288,
          289,
          290,
          291,
          292,
          293,
          294,
          295,
          296,
          297,
          298,
          299,
          300,
          301,
          302,
          303,
          304,
          305,
          306,
          307,
          308,
          309,
          310,
          311,
          312,
          313,
          314,
          315,
          316,
          317,
          318,
          319,
          320,
          321,
          322,
          323,
          324,
          325,
          326,
          327,
          328,
          329,
          330,
          331,
          332,
          333,
          334,
          335,
          336,
          337,
          338,
          339,
          340,
          341,
          342,
          343,
          344,
          345,
          346,
          347,
          348,
          349,
          350,
          351,
          352,
          353,
          354,
          355,
          356,
          357,
          358,
          359,
          360,
          361,
          362,
          363,
          364,
          365,
          366
         ],
         "xaxis": "x",
         "y": [
          549.3100000000001,
          458.91,
          1560.3700000000001,
          1785.64,
          856.9300000000001,
          1008.15,
          1271.29,
          1203.85,
          1050.95,
          1714.3799999999999,
          2266.01,
          2306.7200000000003,
          1863.57,
          1835.94,
          1371.23,
          1378.48,
          2203.17,
          2104.61,
          2741.2,
          1811.38,
          2396.83,
          1580.03,
          1728.8,
          2207.51,
          3584.79,
          2656.65,
          2192.57,
          1731.83,
          3020.03,
          3066.35,
          2673.41,
          3214.75,
          4240.88,
          3252.05,
          3125.05,
          3889.28,
          2151.7,
          2892.16,
          4812.45,
          4801.21,
          3821.04,
          3285.29,
          3347.23,
          3439.8,
          3647.87,
          4682.99,
          5849.75,
          3934.7000000000003,
          3768.58,
          3724.31,
          4655.53,
          4984.55,
          5323.41,
          5402.6900000000005,
          3644.37,
          3446.83,
          3856.14,
          4558.76,
          4429.13,
          6140.7300000000005,
          5168.21,
          5205.03,
          4732.76,
          4031.51,
          6264.4800000000005,
          6651.03,
          8409.25,
          7700.32,
          7974.07,
          5180.57,
          6596.45,
          6274.39,
          6713.22,
          8755.18,
          9517.42,
          7223.1,
          6713.56,
          6767.04,
          6639.56,
          7204.01,
          8616.82,
          10023.210000000001,
          6839.05,
          7081.04,
          7179.75,
          7042.68,
          9261.92,
          8565.33,
          9233.24,
          7314.57,
          8588.09,
          7715.6900000000005,
          8153.7300000000005,
          8293.09,
          11283.67,
          11526.36,
          8674.07,
          7200.62,
          9936.2,
          8961.47,
          11841.79,
          13081.59,
          14565.550000000001,
          11101.36,
          11532.630000000001,
          10231.61,
          10261.81,
          9831.54,
          12001.2,
          14174.86,
          9911.75,
          8888.67,
          11677.19,
          12013.45,
          10823.09,
          12145.52,
          14096.68,
          10278.07,
          9439.26,
          9677.25,
          9112.85,
          11073.88,
          11828.34,
          14558.53,
          10493.2,
          8154.52,
          8879.48,
          9900.76,
          9131.54,
          12707.84,
          13269.54,
          11961.960000000001,
          11226.29,
          11093.35,
          12372.44,
          10827.39,
          13522.130000000001,
          15105.34,
          12050.39,
          11044.25,
          11382.47,
          10657.39,
          11333.54,
          12569.24,
          14225.05,
          11834.52,
          10762.1,
          9481.43,
          9117.06,
          12162.51,
          11972.37,
          13803.83,
          8743.74,
          10327.56,
          8147.01,
          9295.05,
          12410.02,
          12520.11,
          14625.86,
          11992.710000000001,
          8707.87,
          10957.12,
          12325.07,
          13447.15,
          16651.4,
          14624.78,
          13569.66,
          12201.25,
          12390.42,
          10706.98,
          11209.78,
          12893.34,
          15955.39,
          9873.31,
          9227.65,
          9842.22,
          10238.79,
          12114.88,
          12182.25,
          15729.82,
          9940.87,
          9487.13,
          10271.82,
          10057.72,
          11776.48,
          13807.04,
          14568.02,
          9260.36,
          9288.85,
          8597.24,
          10694.43,
          11103.49,
          14772.52,
          14839.31,
          12254.48,
          13221.9,
          11247.18,
          11441.75,
          11180.37,
          13821.4,
          15859.9,
          11212.03,
          10249.53,
          8674.29,
          10906.89,
          9338.97,
          13350.9,
          16399.25,
          10110.81,
          9331.41,
          11099.3,
          10457.1,
          10297.84,
          13968.43,
          12378.99,
          9866.84,
          8622.7,
          9133.23,
          9933.73,
          9512.99,
          13266.01,
          16388.45,
          12241.19,
          10862.19,
          11081.56,
          9981.58,
          12623.61,
          13473.380000000001,
          15538.78,
          11859.01,
          10015.12,
          11355.85,
          9691.86,
          10980.16,
          12503.9,
          15270.23,
          9890.12,
          10031,
          9463.63,
          9401.51,
          12635.130000000001,
          16258.05,
          15304.39,
          14060.12,
          15192.56,
          20901.13,
          5905.22,
          7785.53,
          9930.1,
          10309.23,
          11105.16,
          10255.28,
          9272.63,
          11890.18,
          11986.38,
          17448.37,
          15366.25,
          15634.65,
          11129.41,
          13312.26,
          14476.93,
          10084.09,
          13804.83,
          12464.04,
          9854.32,
          12947.84,
          11415.31,
          9446,
          10635.83,
          12793.97,
          15334.18,
          12875.460000000001,
          12533.53,
          12378.7,
          14520.57,
          23018.88,
          14635.130000000001,
          22.490000000000002,
          10859.11,
          11583.51,
          8657.83,
          10385.01,
          12995.44,
          18680.19,
          10477.5,
          12774.84,
          13310.8,
          12194.08,
          12272.98,
          12313.01,
          14565.53,
          15939.050000000001,
          12709.37,
          8885.3,
          11019.49,
          11558.76,
          10560.52,
          15764.87,
          13455.56,
          13376.2,
          9516.8,
          8807.68,
          9311.91,
          11145.95,
          14775.5,
          16159.78,
          12478.52,
          9598.97,
          9918.1,
          9581.3,
          9264.53,
          13515.05,
          15325.86,
          11921.73,
          10800.69,
          10999.15,
          12485.710000000001,
          13792.210000000001,
          18881.38,
          16997.21,
          12840.64,
          10477.29,
          10192.26,
          10646.35,
          14526.42,
          14139.02,
          17013.48,
          13172.51,
          10001.76,
          10328.48,
          10141.19,
          10639.56,
          12828.87,
          13187.91,
          11399.28,
          11030.12,
          10847.86,
          9123.08,
          12477.97,
          15137.75,
          15789.44,
          10689.63,
          10268.55,
          12184.64,
          13404.130000000001,
          11507.06,
          16148.62,
          16017.05,
          11930.83,
          9281.16,
          11031.45,
          9989.42,
          12189.89,
          14084.89,
          17021.89,
          10539.12,
          10015.94,
          11020.24,
          10447.82,
          13120.29,
          14287.4,
          15455.68,
          14814.22,
          8555.63,
          9340.74
         ],
         "yaxis": "y"
        },
        {
         "hovertemplate": "Year=2013<br>Day of Year=%{x}<br>Average Daily Sales Value=%{y}<extra></extra>",
         "legendgroup": "2013",
         "line": {
          "color": "#EF553B",
          "dash": "solid"
         },
         "marker": {
          "symbol": "circle"
         },
         "mode": "lines+markers",
         "name": "2013",
         "orientation": "v",
         "showlegend": true,
         "type": "scatter",
         "x": [
          1,
          2,
          3,
          4,
          5,
          6,
          7,
          8,
          9,
          10,
          11,
          12,
          13,
          14,
          15,
          16,
          17,
          18,
          19,
          20,
          21,
          22,
          23,
          24,
          25,
          26,
          27,
          28,
          29,
          30,
          31,
          32,
          33,
          34,
          35,
          36,
          37,
          38,
          39,
          40,
          41,
          42,
          43,
          44,
          45,
          46,
          47,
          48,
          49,
          50,
          51,
          52,
          53,
          54,
          55,
          56,
          57,
          58,
          59,
          60,
          61,
          62,
          63,
          64,
          65,
          66,
          67,
          68,
          69,
          70,
          71,
          72,
          73,
          74,
          75,
          76,
          77,
          78,
          79,
          80,
          81,
          82,
          83,
          84,
          85,
          86,
          87,
          88,
          89,
          90,
          91,
          92,
          93,
          94,
          95,
          96,
          97,
          98,
          99,
          100,
          101,
          102,
          103,
          104,
          105,
          106,
          107,
          108,
          109,
          110,
          111,
          112,
          113,
          114,
          115,
          116,
          117,
          118,
          119,
          120,
          121,
          122,
          123,
          124,
          125,
          126,
          127,
          128,
          129,
          130,
          131,
          132,
          133,
          134,
          135,
          136,
          137,
          138,
          139,
          140,
          141,
          142,
          143,
          144,
          145,
          146,
          147,
          148,
          149,
          150,
          151,
          152,
          153,
          154,
          155,
          156,
          157,
          158,
          159,
          160,
          161,
          162,
          163,
          164,
          165,
          166,
          167,
          168,
          169,
          170,
          171,
          172,
          173,
          174,
          175,
          176,
          177,
          178,
          179,
          180,
          181,
          182,
          183,
          184,
          185,
          186,
          187,
          188,
          189,
          190,
          191,
          192,
          193,
          194,
          195,
          196,
          197,
          198,
          199,
          200,
          201,
          202,
          203,
          204,
          205,
          206,
          207,
          208,
          209,
          210,
          211,
          212,
          213,
          214,
          215,
          216,
          217,
          218,
          219,
          220,
          221,
          222,
          223,
          224,
          225,
          226,
          227,
          228,
          229,
          230,
          231,
          232,
          233,
          234,
          235,
          236,
          237,
          238,
          239,
          240,
          241,
          242,
          243,
          244,
          245,
          246,
          247,
          248,
          249,
          250,
          251,
          252,
          253,
          254,
          255,
          256,
          257,
          258,
          259,
          260,
          261,
          262,
          263,
          264,
          265,
          266,
          267,
          268,
          269,
          270,
          271,
          272,
          273,
          274,
          275,
          276,
          277,
          278,
          279,
          280,
          281,
          282,
          283,
          284,
          285,
          286,
          287,
          288,
          289,
          290,
          291,
          292,
          293,
          294,
          295,
          296,
          297,
          298,
          299,
          300,
          301,
          302,
          303,
          304,
          305,
          306,
          307,
          308,
          309,
          310,
          311,
          312,
          313,
          314,
          315,
          316,
          317,
          318,
          319,
          320,
          321,
          322,
          323,
          324,
          325,
          326,
          327,
          328,
          329,
          330,
          331,
          332,
          333,
          334,
          335,
          336,
          337,
          338,
          339,
          340,
          341,
          342,
          343,
          344,
          345,
          346
         ],
         "xaxis": "x",
         "y": [
          9206.23,
          12410.42,
          13797.36,
          15115.15,
          13435.84,
          10823.79,
          11289.65,
          9805.74,
          11725.55,
          14351.42,
          16482.9,
          13843.14,
          12729.35,
          9969.28,
          9420.08,
          11032.43,
          14217.97,
          15850.23,
          12577.04,
          8515.04,
          10540.91,
          11945.53,
          15780.630000000001,
          17779.79,
          11919.1,
          10460.25,
          11717.72,
          10126.12,
          9948.960000000001,
          11186.13,
          14256.93,
          14908.8,
          10802.92,
          10922.94,
          11038.84,
          10522.43,
          10919.03,
          14485.93,
          15002.6,
          13725.960000000001,
          11691.86,
          10999.03,
          14161.34,
          13831.78,
          15192.32,
          17098.94,
          12721.58,
          12377.35,
          11153.960000000001,
          11396.86,
          11968.4,
          15030.74,
          16338.12,
          12566.66,
          11679.74,
          11436.14,
          12338.11,
          12746.960000000001,
          13035.02,
          16783,
          12046.57,
          10114.42,
          10778.7,
          9379.18,
          14090.36,
          16095.52,
          15679.75,
          13445.76,
          11015.47,
          10709.69,
          11692.45,
          13839.51,
          15231.99,
          16873.89,
          14432.93,
          10752.94,
          12968.85,
          11213.76,
          12317.51,
          13086.05,
          16410.19,
          11959.66,
          10995.52,
          10920.09,
          13050.78,
          12030.61,
          13331.77,
          15109.14,
          11165.11,
          9867.59,
          9848.05,
          9131.61,
          11525.710000000001,
          13732.02,
          12418.17,
          12299.07,
          9961.89,
          9940.26,
          12718.88,
          14345.32,
          17068.73,
          14616.58,
          14476.210000000001,
          16868.78,
          11039.29,
          13525.76,
          12320.85,
          13813.06,
          15923.1,
          13342.89,
          10477.93,
          11233.12,
          11478.82,
          11953.42,
          12808.57,
          15115.16,
          11689.03,
          9696.99,
          8734.51,
          12060.710000000001,
          12031.49,
          14443.14,
          16331.12,
          11519.37,
          9881.4,
          9504.61,
          11498.84,
          12679.19,
          13823.78,
          14966.01,
          12168.59,
          13335.59,
          10945.86,
          14505.43,
          13347.02,
          15047.82,
          17580.16,
          14223.64,
          11867.24,
          12040.33,
          12697.42,
          10457.93,
          13131.41,
          13113.29,
          13717.54,
          10799.24,
          10297.39,
          10452,
          12309.62,
          13963.11,
          14102.41,
          11036.89,
          11460.18,
          10089.19,
          10509.1,
          10838.7,
          15072.04,
          14156.89,
          10200.19,
          11187.39,
          9439.23,
          12501.87,
          14651.75,
          15860.3,
          15010.67,
          14741.1,
          13232,
          10097.76,
          12694.12,
          12412.25,
          14158.31,
          14825.9,
          10945.87,
          10856.460000000001,
          9698.55,
          9826.42,
          11639.09,
          13853.95,
          14281.69,
          12879.22,
          10605.2,
          9658.710000000001,
          9491.98,
          10605.42,
          14249.630000000001,
          14984.460000000001,
          11466.16,
          9251.59,
          10053.73,
          10312.29,
          11779.59,
          13433.7,
          16906.69,
          12707.31,
          11068.92,
          10736.77,
          11889.880000000001,
          13735.55,
          14337.88,
          15691.73,
          12929.48,
          13182.32,
          10804.94,
          9589.8,
          10063.63,
          14594.12,
          15780.83,
          11561.03,
          10672.09,
          10015.54,
          8829.11,
          11212.45,
          13995.62,
          16915.08,
          12814.27,
          10998.12,
          11376.16,
          9655.15,
          10900.84,
          14996.93,
          15194.95,
          12813.960000000001,
          11837.53,
          10789.08,
          12384.68,
          13165.97,
          17722.95,
          18949.29,
          12622.37,
          11070.95,
          10913.6,
          9786.23,
          11813.23,
          14105.94,
          16132.92,
          11936.74,
          12284.37,
          9800.42,
          11743.41,
          13692.13,
          15610.2,
          16324.2,
          15889.59,
          17403.48,
          20144.7,
          6962.69,
          8996.58,
          9945.83,
          13126.72,
          11001.99,
          12147.22,
          10060.04,
          9499.69,
          12595.11,
          15628.61,
          19612.1,
          11817.41,
          13220.04,
          12020.49,
          11909.81,
          12427.54,
          15148.31,
          16395.64,
          11508.6,
          11713.49,
          9486.49,
          11095.11,
          12721.51,
          16449.13,
          13949.02,
          13093.74,
          13354.16,
          12983.61,
          13900.69,
          19095.37,
          24760.1,
          16005.2,
          2.99,
          11830.28,
          11304.24,
          10303.79,
          12934.03,
          17882.26,
          16574.57,
          10506.34,
          13300.130000000001,
          13579.64,
          11828.22,
          13218.01,
          16554.43,
          17977.47,
          10786.09,
          11436.13,
          11441,
          12117.53,
          11727.53,
          15434.41,
          15952.37,
          12258.74,
          10498.28,
          9249.14,
          10022.53,
          12333.34,
          19105.24,
          13342.84,
          12227,
          11626.08,
          9010.78,
          11474.57,
          13070.69,
          15630.94,
          15799.2,
          10683.97,
          10642.14,
          12922.52,
          13594.82,
          13059.9,
          17710.28,
          20335.99,
          13812.380000000001,
          13986.460000000001,
          10744.16,
          12433.57,
          10797.33,
          16990.84,
          22599.18,
          23511.82,
          7573.7300000000005,
          9457.07,
          10204.26,
          12133.82,
          14614.29,
          15568.11,
          11007.9,
          9089.6,
          12162.44,
          9818.26,
          11677.97,
          14173.15,
          16477.93,
          11443.89,
          10632.36,
          9949.9,
          11245.74,
          12758.04,
          15938.7
         ],
         "yaxis": "y"
        }
       ],
       "layout": {
        "legend": {
         "title": {
          "text": "Year"
         },
         "tracegroupgap": 0
        },
        "margin": {
         "t": 60
        },
        "template": {
         "data": {
          "bar": [
           {
            "error_x": {
             "color": "#2a3f5f"
            },
            "error_y": {
             "color": "#2a3f5f"
            },
            "marker": {
             "line": {
              "color": "#E5ECF6",
              "width": 0.5
             },
             "pattern": {
              "fillmode": "overlay",
              "size": 10,
              "solidity": 0.2
             }
            },
            "type": "bar"
           }
          ],
          "barpolar": [
           {
            "marker": {
             "line": {
              "color": "#E5ECF6",
              "width": 0.5
             },
             "pattern": {
              "fillmode": "overlay",
              "size": 10,
              "solidity": 0.2
             }
            },
            "type": "barpolar"
           }
          ],
          "carpet": [
           {
            "aaxis": {
             "endlinecolor": "#2a3f5f",
             "gridcolor": "white",
             "linecolor": "white",
             "minorgridcolor": "white",
             "startlinecolor": "#2a3f5f"
            },
            "baxis": {
             "endlinecolor": "#2a3f5f",
             "gridcolor": "white",
             "linecolor": "white",
             "minorgridcolor": "white",
             "startlinecolor": "#2a3f5f"
            },
            "type": "carpet"
           }
          ],
          "choropleth": [
           {
            "colorbar": {
             "outlinewidth": 0,
             "ticks": ""
            },
            "type": "choropleth"
           }
          ],
          "contour": [
           {
            "colorbar": {
             "outlinewidth": 0,
             "ticks": ""
            },
            "colorscale": [
             [
              0,
              "#0d0887"
             ],
             [
              0.1111111111111111,
              "#46039f"
             ],
             [
              0.2222222222222222,
              "#7201a8"
             ],
             [
              0.3333333333333333,
              "#9c179e"
             ],
             [
              0.4444444444444444,
              "#bd3786"
             ],
             [
              0.5555555555555556,
              "#d8576b"
             ],
             [
              0.6666666666666666,
              "#ed7953"
             ],
             [
              0.7777777777777778,
              "#fb9f3a"
             ],
             [
              0.8888888888888888,
              "#fdca26"
             ],
             [
              1,
              "#f0f921"
             ]
            ],
            "type": "contour"
           }
          ],
          "contourcarpet": [
           {
            "colorbar": {
             "outlinewidth": 0,
             "ticks": ""
            },
            "type": "contourcarpet"
           }
          ],
          "heatmap": [
           {
            "colorbar": {
             "outlinewidth": 0,
             "ticks": ""
            },
            "colorscale": [
             [
              0,
              "#0d0887"
             ],
             [
              0.1111111111111111,
              "#46039f"
             ],
             [
              0.2222222222222222,
              "#7201a8"
             ],
             [
              0.3333333333333333,
              "#9c179e"
             ],
             [
              0.4444444444444444,
              "#bd3786"
             ],
             [
              0.5555555555555556,
              "#d8576b"
             ],
             [
              0.6666666666666666,
              "#ed7953"
             ],
             [
              0.7777777777777778,
              "#fb9f3a"
             ],
             [
              0.8888888888888888,
              "#fdca26"
             ],
             [
              1,
              "#f0f921"
             ]
            ],
            "type": "heatmap"
           }
          ],
          "heatmapgl": [
           {
            "colorbar": {
             "outlinewidth": 0,
             "ticks": ""
            },
            "colorscale": [
             [
              0,
              "#0d0887"
             ],
             [
              0.1111111111111111,
              "#46039f"
             ],
             [
              0.2222222222222222,
              "#7201a8"
             ],
             [
              0.3333333333333333,
              "#9c179e"
             ],
             [
              0.4444444444444444,
              "#bd3786"
             ],
             [
              0.5555555555555556,
              "#d8576b"
             ],
             [
              0.6666666666666666,
              "#ed7953"
             ],
             [
              0.7777777777777778,
              "#fb9f3a"
             ],
             [
              0.8888888888888888,
              "#fdca26"
             ],
             [
              1,
              "#f0f921"
             ]
            ],
            "type": "heatmapgl"
           }
          ],
          "histogram": [
           {
            "marker": {
             "pattern": {
              "fillmode": "overlay",
              "size": 10,
              "solidity": 0.2
             }
            },
            "type": "histogram"
           }
          ],
          "histogram2d": [
           {
            "colorbar": {
             "outlinewidth": 0,
             "ticks": ""
            },
            "colorscale": [
             [
              0,
              "#0d0887"
             ],
             [
              0.1111111111111111,
              "#46039f"
             ],
             [
              0.2222222222222222,
              "#7201a8"
             ],
             [
              0.3333333333333333,
              "#9c179e"
             ],
             [
              0.4444444444444444,
              "#bd3786"
             ],
             [
              0.5555555555555556,
              "#d8576b"
             ],
             [
              0.6666666666666666,
              "#ed7953"
             ],
             [
              0.7777777777777778,
              "#fb9f3a"
             ],
             [
              0.8888888888888888,
              "#fdca26"
             ],
             [
              1,
              "#f0f921"
             ]
            ],
            "type": "histogram2d"
           }
          ],
          "histogram2dcontour": [
           {
            "colorbar": {
             "outlinewidth": 0,
             "ticks": ""
            },
            "colorscale": [
             [
              0,
              "#0d0887"
             ],
             [
              0.1111111111111111,
              "#46039f"
             ],
             [
              0.2222222222222222,
              "#7201a8"
             ],
             [
              0.3333333333333333,
              "#9c179e"
             ],
             [
              0.4444444444444444,
              "#bd3786"
             ],
             [
              0.5555555555555556,
              "#d8576b"
             ],
             [
              0.6666666666666666,
              "#ed7953"
             ],
             [
              0.7777777777777778,
              "#fb9f3a"
             ],
             [
              0.8888888888888888,
              "#fdca26"
             ],
             [
              1,
              "#f0f921"
             ]
            ],
            "type": "histogram2dcontour"
           }
          ],
          "mesh3d": [
           {
            "colorbar": {
             "outlinewidth": 0,
             "ticks": ""
            },
            "type": "mesh3d"
           }
          ],
          "parcoords": [
           {
            "line": {
             "colorbar": {
              "outlinewidth": 0,
              "ticks": ""
             }
            },
            "type": "parcoords"
           }
          ],
          "pie": [
           {
            "automargin": true,
            "type": "pie"
           }
          ],
          "scatter": [
           {
            "fillpattern": {
             "fillmode": "overlay",
             "size": 10,
             "solidity": 0.2
            },
            "type": "scatter"
           }
          ],
          "scatter3d": [
           {
            "line": {
             "colorbar": {
              "outlinewidth": 0,
              "ticks": ""
             }
            },
            "marker": {
             "colorbar": {
              "outlinewidth": 0,
              "ticks": ""
             }
            },
            "type": "scatter3d"
           }
          ],
          "scattercarpet": [
           {
            "marker": {
             "colorbar": {
              "outlinewidth": 0,
              "ticks": ""
             }
            },
            "type": "scattercarpet"
           }
          ],
          "scattergeo": [
           {
            "marker": {
             "colorbar": {
              "outlinewidth": 0,
              "ticks": ""
             }
            },
            "type": "scattergeo"
           }
          ],
          "scattergl": [
           {
            "marker": {
             "colorbar": {
              "outlinewidth": 0,
              "ticks": ""
             }
            },
            "type": "scattergl"
           }
          ],
          "scattermapbox": [
           {
            "marker": {
             "colorbar": {
              "outlinewidth": 0,
              "ticks": ""
             }
            },
            "type": "scattermapbox"
           }
          ],
          "scatterpolar": [
           {
            "marker": {
             "colorbar": {
              "outlinewidth": 0,
              "ticks": ""
             }
            },
            "type": "scatterpolar"
           }
          ],
          "scatterpolargl": [
           {
            "marker": {
             "colorbar": {
              "outlinewidth": 0,
              "ticks": ""
             }
            },
            "type": "scatterpolargl"
           }
          ],
          "scatterternary": [
           {
            "marker": {
             "colorbar": {
              "outlinewidth": 0,
              "ticks": ""
             }
            },
            "type": "scatterternary"
           }
          ],
          "surface": [
           {
            "colorbar": {
             "outlinewidth": 0,
             "ticks": ""
            },
            "colorscale": [
             [
              0,
              "#0d0887"
             ],
             [
              0.1111111111111111,
              "#46039f"
             ],
             [
              0.2222222222222222,
              "#7201a8"
             ],
             [
              0.3333333333333333,
              "#9c179e"
             ],
             [
              0.4444444444444444,
              "#bd3786"
             ],
             [
              0.5555555555555556,
              "#d8576b"
             ],
             [
              0.6666666666666666,
              "#ed7953"
             ],
             [
              0.7777777777777778,
              "#fb9f3a"
             ],
             [
              0.8888888888888888,
              "#fdca26"
             ],
             [
              1,
              "#f0f921"
             ]
            ],
            "type": "surface"
           }
          ],
          "table": [
           {
            "cells": {
             "fill": {
              "color": "#EBF0F8"
             },
             "line": {
              "color": "white"
             }
            },
            "header": {
             "fill": {
              "color": "#C8D4E3"
             },
             "line": {
              "color": "white"
             }
            },
            "type": "table"
           }
          ]
         },
         "layout": {
          "annotationdefaults": {
           "arrowcolor": "#2a3f5f",
           "arrowhead": 0,
           "arrowwidth": 1
          },
          "autotypenumbers": "strict",
          "coloraxis": {
           "colorbar": {
            "outlinewidth": 0,
            "ticks": ""
           }
          },
          "colorscale": {
           "diverging": [
            [
             0,
             "#8e0152"
            ],
            [
             0.1,
             "#c51b7d"
            ],
            [
             0.2,
             "#de77ae"
            ],
            [
             0.3,
             "#f1b6da"
            ],
            [
             0.4,
             "#fde0ef"
            ],
            [
             0.5,
             "#f7f7f7"
            ],
            [
             0.6,
             "#e6f5d0"
            ],
            [
             0.7,
             "#b8e186"
            ],
            [
             0.8,
             "#7fbc41"
            ],
            [
             0.9,
             "#4d9221"
            ],
            [
             1,
             "#276419"
            ]
           ],
           "sequential": [
            [
             0,
             "#0d0887"
            ],
            [
             0.1111111111111111,
             "#46039f"
            ],
            [
             0.2222222222222222,
             "#7201a8"
            ],
            [
             0.3333333333333333,
             "#9c179e"
            ],
            [
             0.4444444444444444,
             "#bd3786"
            ],
            [
             0.5555555555555556,
             "#d8576b"
            ],
            [
             0.6666666666666666,
             "#ed7953"
            ],
            [
             0.7777777777777778,
             "#fb9f3a"
            ],
            [
             0.8888888888888888,
             "#fdca26"
            ],
            [
             1,
             "#f0f921"
            ]
           ],
           "sequentialminus": [
            [
             0,
             "#0d0887"
            ],
            [
             0.1111111111111111,
             "#46039f"
            ],
            [
             0.2222222222222222,
             "#7201a8"
            ],
            [
             0.3333333333333333,
             "#9c179e"
            ],
            [
             0.4444444444444444,
             "#bd3786"
            ],
            [
             0.5555555555555556,
             "#d8576b"
            ],
            [
             0.6666666666666666,
             "#ed7953"
            ],
            [
             0.7777777777777778,
             "#fb9f3a"
            ],
            [
             0.8888888888888888,
             "#fdca26"
            ],
            [
             1,
             "#f0f921"
            ]
           ]
          },
          "colorway": [
           "#636efa",
           "#EF553B",
           "#00cc96",
           "#ab63fa",
           "#FFA15A",
           "#19d3f3",
           "#FF6692",
           "#B6E880",
           "#FF97FF",
           "#FECB52"
          ],
          "font": {
           "color": "#2a3f5f"
          },
          "geo": {
           "bgcolor": "white",
           "lakecolor": "white",
           "landcolor": "#E5ECF6",
           "showlakes": true,
           "showland": true,
           "subunitcolor": "white"
          },
          "hoverlabel": {
           "align": "left"
          },
          "hovermode": "closest",
          "mapbox": {
           "style": "light"
          },
          "paper_bgcolor": "white",
          "plot_bgcolor": "#E5ECF6",
          "polar": {
           "angularaxis": {
            "gridcolor": "white",
            "linecolor": "white",
            "ticks": ""
           },
           "bgcolor": "#E5ECF6",
           "radialaxis": {
            "gridcolor": "white",
            "linecolor": "white",
            "ticks": ""
           }
          },
          "scene": {
           "xaxis": {
            "backgroundcolor": "#E5ECF6",
            "gridcolor": "white",
            "gridwidth": 2,
            "linecolor": "white",
            "showbackground": true,
            "ticks": "",
            "zerolinecolor": "white"
           },
           "yaxis": {
            "backgroundcolor": "#E5ECF6",
            "gridcolor": "white",
            "gridwidth": 2,
            "linecolor": "white",
            "showbackground": true,
            "ticks": "",
            "zerolinecolor": "white"
           },
           "zaxis": {
            "backgroundcolor": "#E5ECF6",
            "gridcolor": "white",
            "gridwidth": 2,
            "linecolor": "white",
            "showbackground": true,
            "ticks": "",
            "zerolinecolor": "white"
           }
          },
          "shapedefaults": {
           "line": {
            "color": "#2a3f5f"
           }
          },
          "ternary": {
           "aaxis": {
            "gridcolor": "white",
            "linecolor": "white",
            "ticks": ""
           },
           "baxis": {
            "gridcolor": "white",
            "linecolor": "white",
            "ticks": ""
           },
           "bgcolor": "#E5ECF6",
           "caxis": {
            "gridcolor": "white",
            "linecolor": "white",
            "ticks": ""
           }
          },
          "title": {
           "x": 0.05
          },
          "xaxis": {
           "automargin": true,
           "gridcolor": "white",
           "linecolor": "white",
           "ticks": "",
           "title": {
            "standoff": 15
           },
           "zerolinecolor": "white",
           "zerolinewidth": 2
          },
          "yaxis": {
           "automargin": true,
           "gridcolor": "white",
           "linecolor": "white",
           "ticks": "",
           "title": {
            "standoff": 15
           },
           "zerolinecolor": "white",
           "zerolinewidth": 2
          }
         }
        },
        "title": {
         "text": "Daily Sales Value Over Time by Year",
         "x": 0.5
        },
        "xaxis": {
         "anchor": "y",
         "domain": [
          0,
          1
         ],
         "rangeslider": {
          "visible": true
         },
         "showgrid": false,
         "title": {
          "text": "Day of Year"
         }
        },
        "yaxis": {
         "anchor": "x",
         "domain": [
          0,
          1
         ],
         "showgrid": false,
         "title": {
          "text": "Average Daily Sales Value"
         }
        }
       }
      },
      "text/html": [
       "<div>                        <script type=\"text/javascript\">window.PlotlyConfig = {MathJaxConfig: 'local'};</script>\n",
       "        <script charset=\"utf-8\" src=\"https://cdn.plot.ly/plotly-2.32.0.min.js\"></script>                <div id=\"513c6d5e-5580-4cca-8e2a-86ab48b26b08\" class=\"plotly-graph-div\" style=\"height:100%; width:100%;\"></div>            <script type=\"text/javascript\">                                    window.PLOTLYENV=window.PLOTLYENV || {};                                    if (document.getElementById(\"513c6d5e-5580-4cca-8e2a-86ab48b26b08\")) {                    Plotly.newPlot(                        \"513c6d5e-5580-4cca-8e2a-86ab48b26b08\",                        [{\"hovertemplate\":\"Year=2012\\u003cbr\\u003eDay of Year=%{x}\\u003cbr\\u003eAverage Daily Sales Value=%{y}\\u003cextra\\u003e\\u003c\\u002fextra\\u003e\",\"legendgroup\":\"2012\",\"line\":{\"color\":\"#636efa\",\"dash\":\"solid\"},\"marker\":{\"symbol\":\"circle\"},\"mode\":\"lines+markers\",\"name\":\"2012\",\"orientation\":\"v\",\"showlegend\":true,\"x\":[2,3,4,5,6,7,8,9,10,11,12,13,14,15,16,17,18,19,20,21,22,23,24,25,26,27,28,29,30,31,32,33,34,35,36,37,38,39,40,41,42,43,44,45,46,47,48,49,50,51,52,53,54,55,56,57,58,59,60,61,62,63,64,65,66,67,68,69,70,71,72,73,74,75,76,77,78,79,80,81,82,83,84,85,86,87,88,89,90,91,92,93,94,95,96,97,98,99,100,101,102,103,104,105,106,107,108,109,110,111,112,113,114,115,116,117,118,119,120,121,122,123,124,125,126,127,128,129,130,131,132,133,134,135,136,137,138,139,140,141,142,143,144,145,146,147,148,149,150,151,152,153,154,155,156,157,158,159,160,161,162,163,164,165,166,167,168,169,170,171,172,173,174,175,176,177,178,179,180,181,182,183,184,185,186,187,188,189,190,191,192,193,194,195,196,197,198,199,200,201,202,203,204,205,206,207,208,209,210,211,212,213,214,215,216,217,218,219,220,221,222,223,224,225,226,227,228,229,230,231,232,233,234,235,236,237,238,239,240,241,242,243,244,245,246,247,248,249,250,251,252,253,254,255,256,257,258,259,260,261,262,263,264,265,266,267,268,269,270,271,272,273,274,275,276,277,278,279,280,281,282,283,284,285,286,287,288,289,290,291,292,293,294,295,296,297,298,299,300,301,302,303,304,305,306,307,308,309,310,311,312,313,314,315,316,317,318,319,320,321,322,323,324,325,326,327,328,329,330,331,332,333,334,335,336,337,338,339,340,341,342,343,344,345,346,347,348,349,350,351,352,353,354,355,356,357,358,359,360,361,362,363,364,365,366],\"xaxis\":\"x\",\"y\":[549.3100000000001,458.91,1560.3700000000001,1785.64,856.9300000000001,1008.15,1271.29,1203.85,1050.95,1714.3799999999999,2266.01,2306.7200000000003,1863.57,1835.94,1371.23,1378.48,2203.17,2104.61,2741.2,1811.38,2396.83,1580.03,1728.8,2207.51,3584.79,2656.65,2192.57,1731.83,3020.03,3066.35,2673.41,3214.75,4240.88,3252.05,3125.05,3889.28,2151.7,2892.16,4812.45,4801.21,3821.04,3285.29,3347.23,3439.8,3647.87,4682.99,5849.75,3934.7000000000003,3768.58,3724.31,4655.53,4984.55,5323.41,5402.6900000000005,3644.37,3446.83,3856.14,4558.76,4429.13,6140.7300000000005,5168.21,5205.03,4732.76,4031.51,6264.4800000000005,6651.03,8409.25,7700.32,7974.07,5180.57,6596.45,6274.39,6713.22,8755.18,9517.42,7223.1,6713.56,6767.04,6639.56,7204.01,8616.82,10023.210000000001,6839.05,7081.04,7179.75,7042.68,9261.92,8565.33,9233.24,7314.57,8588.09,7715.6900000000005,8153.7300000000005,8293.09,11283.67,11526.36,8674.07,7200.62,9936.2,8961.47,11841.79,13081.59,14565.550000000001,11101.36,11532.630000000001,10231.61,10261.81,9831.54,12001.2,14174.86,9911.75,8888.67,11677.19,12013.45,10823.09,12145.52,14096.68,10278.07,9439.26,9677.25,9112.85,11073.88,11828.34,14558.53,10493.2,8154.52,8879.48,9900.76,9131.54,12707.84,13269.54,11961.960000000001,11226.29,11093.35,12372.44,10827.39,13522.130000000001,15105.34,12050.39,11044.25,11382.47,10657.39,11333.54,12569.24,14225.05,11834.52,10762.1,9481.43,9117.06,12162.51,11972.37,13803.83,8743.74,10327.56,8147.01,9295.05,12410.02,12520.11,14625.86,11992.710000000001,8707.87,10957.12,12325.07,13447.15,16651.4,14624.78,13569.66,12201.25,12390.42,10706.98,11209.78,12893.34,15955.39,9873.31,9227.65,9842.22,10238.79,12114.88,12182.25,15729.82,9940.87,9487.13,10271.82,10057.72,11776.48,13807.04,14568.02,9260.36,9288.85,8597.24,10694.43,11103.49,14772.52,14839.31,12254.48,13221.9,11247.18,11441.75,11180.37,13821.4,15859.9,11212.03,10249.53,8674.29,10906.89,9338.97,13350.9,16399.25,10110.81,9331.41,11099.3,10457.1,10297.84,13968.43,12378.99,9866.84,8622.7,9133.23,9933.73,9512.99,13266.01,16388.45,12241.19,10862.19,11081.56,9981.58,12623.61,13473.380000000001,15538.78,11859.01,10015.12,11355.85,9691.86,10980.16,12503.9,15270.23,9890.12,10031.0,9463.63,9401.51,12635.130000000001,16258.05,15304.39,14060.12,15192.56,20901.13,5905.22,7785.53,9930.1,10309.23,11105.16,10255.28,9272.63,11890.18,11986.38,17448.37,15366.25,15634.65,11129.41,13312.26,14476.93,10084.09,13804.83,12464.04,9854.32,12947.84,11415.31,9446.0,10635.83,12793.97,15334.18,12875.460000000001,12533.53,12378.7,14520.57,23018.88,14635.130000000001,22.490000000000002,10859.11,11583.51,8657.83,10385.01,12995.44,18680.19,10477.5,12774.84,13310.8,12194.08,12272.98,12313.01,14565.53,15939.050000000001,12709.37,8885.3,11019.49,11558.76,10560.52,15764.87,13455.56,13376.2,9516.8,8807.68,9311.91,11145.95,14775.5,16159.78,12478.52,9598.97,9918.1,9581.3,9264.53,13515.05,15325.86,11921.73,10800.69,10999.15,12485.710000000001,13792.210000000001,18881.38,16997.21,12840.64,10477.29,10192.26,10646.35,14526.42,14139.02,17013.48,13172.51,10001.76,10328.48,10141.19,10639.56,12828.87,13187.91,11399.28,11030.12,10847.86,9123.08,12477.97,15137.75,15789.44,10689.63,10268.55,12184.64,13404.130000000001,11507.06,16148.62,16017.05,11930.83,9281.16,11031.45,9989.42,12189.89,14084.89,17021.89,10539.12,10015.94,11020.24,10447.82,13120.29,14287.4,15455.68,14814.22,8555.63,9340.74],\"yaxis\":\"y\",\"type\":\"scatter\"},{\"hovertemplate\":\"Year=2013\\u003cbr\\u003eDay of Year=%{x}\\u003cbr\\u003eAverage Daily Sales Value=%{y}\\u003cextra\\u003e\\u003c\\u002fextra\\u003e\",\"legendgroup\":\"2013\",\"line\":{\"color\":\"#EF553B\",\"dash\":\"solid\"},\"marker\":{\"symbol\":\"circle\"},\"mode\":\"lines+markers\",\"name\":\"2013\",\"orientation\":\"v\",\"showlegend\":true,\"x\":[1,2,3,4,5,6,7,8,9,10,11,12,13,14,15,16,17,18,19,20,21,22,23,24,25,26,27,28,29,30,31,32,33,34,35,36,37,38,39,40,41,42,43,44,45,46,47,48,49,50,51,52,53,54,55,56,57,58,59,60,61,62,63,64,65,66,67,68,69,70,71,72,73,74,75,76,77,78,79,80,81,82,83,84,85,86,87,88,89,90,91,92,93,94,95,96,97,98,99,100,101,102,103,104,105,106,107,108,109,110,111,112,113,114,115,116,117,118,119,120,121,122,123,124,125,126,127,128,129,130,131,132,133,134,135,136,137,138,139,140,141,142,143,144,145,146,147,148,149,150,151,152,153,154,155,156,157,158,159,160,161,162,163,164,165,166,167,168,169,170,171,172,173,174,175,176,177,178,179,180,181,182,183,184,185,186,187,188,189,190,191,192,193,194,195,196,197,198,199,200,201,202,203,204,205,206,207,208,209,210,211,212,213,214,215,216,217,218,219,220,221,222,223,224,225,226,227,228,229,230,231,232,233,234,235,236,237,238,239,240,241,242,243,244,245,246,247,248,249,250,251,252,253,254,255,256,257,258,259,260,261,262,263,264,265,266,267,268,269,270,271,272,273,274,275,276,277,278,279,280,281,282,283,284,285,286,287,288,289,290,291,292,293,294,295,296,297,298,299,300,301,302,303,304,305,306,307,308,309,310,311,312,313,314,315,316,317,318,319,320,321,322,323,324,325,326,327,328,329,330,331,332,333,334,335,336,337,338,339,340,341,342,343,344,345,346],\"xaxis\":\"x\",\"y\":[9206.23,12410.42,13797.36,15115.15,13435.84,10823.79,11289.65,9805.74,11725.55,14351.42,16482.9,13843.14,12729.35,9969.28,9420.08,11032.43,14217.97,15850.23,12577.04,8515.04,10540.91,11945.53,15780.630000000001,17779.79,11919.1,10460.25,11717.72,10126.12,9948.960000000001,11186.13,14256.93,14908.8,10802.92,10922.94,11038.84,10522.43,10919.03,14485.93,15002.6,13725.960000000001,11691.86,10999.03,14161.34,13831.78,15192.32,17098.94,12721.58,12377.35,11153.960000000001,11396.86,11968.4,15030.74,16338.12,12566.66,11679.74,11436.14,12338.11,12746.960000000001,13035.02,16783.0,12046.57,10114.42,10778.7,9379.18,14090.36,16095.52,15679.75,13445.76,11015.47,10709.69,11692.45,13839.51,15231.99,16873.89,14432.93,10752.94,12968.85,11213.76,12317.51,13086.05,16410.19,11959.66,10995.52,10920.09,13050.78,12030.61,13331.77,15109.14,11165.11,9867.59,9848.05,9131.61,11525.710000000001,13732.02,12418.17,12299.07,9961.89,9940.26,12718.88,14345.32,17068.73,14616.58,14476.210000000001,16868.78,11039.29,13525.76,12320.85,13813.06,15923.1,13342.89,10477.93,11233.12,11478.82,11953.42,12808.57,15115.16,11689.03,9696.99,8734.51,12060.710000000001,12031.49,14443.14,16331.12,11519.37,9881.4,9504.61,11498.84,12679.19,13823.78,14966.01,12168.59,13335.59,10945.86,14505.43,13347.02,15047.82,17580.16,14223.64,11867.24,12040.33,12697.42,10457.93,13131.41,13113.29,13717.54,10799.24,10297.39,10452.0,12309.62,13963.11,14102.41,11036.89,11460.18,10089.19,10509.1,10838.7,15072.04,14156.89,10200.19,11187.39,9439.23,12501.87,14651.75,15860.3,15010.67,14741.1,13232.0,10097.76,12694.12,12412.25,14158.31,14825.9,10945.87,10856.460000000001,9698.55,9826.42,11639.09,13853.95,14281.69,12879.22,10605.2,9658.710000000001,9491.98,10605.42,14249.630000000001,14984.460000000001,11466.16,9251.59,10053.73,10312.29,11779.59,13433.7,16906.69,12707.31,11068.92,10736.77,11889.880000000001,13735.55,14337.88,15691.73,12929.48,13182.32,10804.94,9589.8,10063.63,14594.12,15780.83,11561.03,10672.09,10015.54,8829.11,11212.45,13995.62,16915.08,12814.27,10998.12,11376.16,9655.15,10900.84,14996.93,15194.95,12813.960000000001,11837.53,10789.08,12384.68,13165.97,17722.95,18949.29,12622.37,11070.95,10913.6,9786.23,11813.23,14105.94,16132.92,11936.74,12284.37,9800.42,11743.41,13692.13,15610.2,16324.2,15889.59,17403.48,20144.7,6962.69,8996.58,9945.83,13126.72,11001.99,12147.22,10060.04,9499.69,12595.11,15628.61,19612.1,11817.41,13220.04,12020.49,11909.81,12427.54,15148.31,16395.64,11508.6,11713.49,9486.49,11095.11,12721.51,16449.13,13949.02,13093.74,13354.16,12983.61,13900.69,19095.37,24760.1,16005.2,2.99,11830.28,11304.24,10303.79,12934.03,17882.26,16574.57,10506.34,13300.130000000001,13579.64,11828.22,13218.01,16554.43,17977.47,10786.09,11436.13,11441.0,12117.53,11727.53,15434.41,15952.37,12258.74,10498.28,9249.14,10022.53,12333.34,19105.24,13342.84,12227.0,11626.08,9010.78,11474.57,13070.69,15630.94,15799.2,10683.97,10642.14,12922.52,13594.82,13059.9,17710.28,20335.99,13812.380000000001,13986.460000000001,10744.16,12433.57,10797.33,16990.84,22599.18,23511.82,7573.7300000000005,9457.07,10204.26,12133.82,14614.29,15568.11,11007.9,9089.6,12162.44,9818.26,11677.97,14173.15,16477.93,11443.89,10632.36,9949.9,11245.74,12758.04,15938.7],\"yaxis\":\"y\",\"type\":\"scatter\"}],                        {\"template\":{\"data\":{\"histogram2dcontour\":[{\"type\":\"histogram2dcontour\",\"colorbar\":{\"outlinewidth\":0,\"ticks\":\"\"},\"colorscale\":[[0.0,\"#0d0887\"],[0.1111111111111111,\"#46039f\"],[0.2222222222222222,\"#7201a8\"],[0.3333333333333333,\"#9c179e\"],[0.4444444444444444,\"#bd3786\"],[0.5555555555555556,\"#d8576b\"],[0.6666666666666666,\"#ed7953\"],[0.7777777777777778,\"#fb9f3a\"],[0.8888888888888888,\"#fdca26\"],[1.0,\"#f0f921\"]]}],\"choropleth\":[{\"type\":\"choropleth\",\"colorbar\":{\"outlinewidth\":0,\"ticks\":\"\"}}],\"histogram2d\":[{\"type\":\"histogram2d\",\"colorbar\":{\"outlinewidth\":0,\"ticks\":\"\"},\"colorscale\":[[0.0,\"#0d0887\"],[0.1111111111111111,\"#46039f\"],[0.2222222222222222,\"#7201a8\"],[0.3333333333333333,\"#9c179e\"],[0.4444444444444444,\"#bd3786\"],[0.5555555555555556,\"#d8576b\"],[0.6666666666666666,\"#ed7953\"],[0.7777777777777778,\"#fb9f3a\"],[0.8888888888888888,\"#fdca26\"],[1.0,\"#f0f921\"]]}],\"heatmap\":[{\"type\":\"heatmap\",\"colorbar\":{\"outlinewidth\":0,\"ticks\":\"\"},\"colorscale\":[[0.0,\"#0d0887\"],[0.1111111111111111,\"#46039f\"],[0.2222222222222222,\"#7201a8\"],[0.3333333333333333,\"#9c179e\"],[0.4444444444444444,\"#bd3786\"],[0.5555555555555556,\"#d8576b\"],[0.6666666666666666,\"#ed7953\"],[0.7777777777777778,\"#fb9f3a\"],[0.8888888888888888,\"#fdca26\"],[1.0,\"#f0f921\"]]}],\"heatmapgl\":[{\"type\":\"heatmapgl\",\"colorbar\":{\"outlinewidth\":0,\"ticks\":\"\"},\"colorscale\":[[0.0,\"#0d0887\"],[0.1111111111111111,\"#46039f\"],[0.2222222222222222,\"#7201a8\"],[0.3333333333333333,\"#9c179e\"],[0.4444444444444444,\"#bd3786\"],[0.5555555555555556,\"#d8576b\"],[0.6666666666666666,\"#ed7953\"],[0.7777777777777778,\"#fb9f3a\"],[0.8888888888888888,\"#fdca26\"],[1.0,\"#f0f921\"]]}],\"contourcarpet\":[{\"type\":\"contourcarpet\",\"colorbar\":{\"outlinewidth\":0,\"ticks\":\"\"}}],\"contour\":[{\"type\":\"contour\",\"colorbar\":{\"outlinewidth\":0,\"ticks\":\"\"},\"colorscale\":[[0.0,\"#0d0887\"],[0.1111111111111111,\"#46039f\"],[0.2222222222222222,\"#7201a8\"],[0.3333333333333333,\"#9c179e\"],[0.4444444444444444,\"#bd3786\"],[0.5555555555555556,\"#d8576b\"],[0.6666666666666666,\"#ed7953\"],[0.7777777777777778,\"#fb9f3a\"],[0.8888888888888888,\"#fdca26\"],[1.0,\"#f0f921\"]]}],\"surface\":[{\"type\":\"surface\",\"colorbar\":{\"outlinewidth\":0,\"ticks\":\"\"},\"colorscale\":[[0.0,\"#0d0887\"],[0.1111111111111111,\"#46039f\"],[0.2222222222222222,\"#7201a8\"],[0.3333333333333333,\"#9c179e\"],[0.4444444444444444,\"#bd3786\"],[0.5555555555555556,\"#d8576b\"],[0.6666666666666666,\"#ed7953\"],[0.7777777777777778,\"#fb9f3a\"],[0.8888888888888888,\"#fdca26\"],[1.0,\"#f0f921\"]]}],\"mesh3d\":[{\"type\":\"mesh3d\",\"colorbar\":{\"outlinewidth\":0,\"ticks\":\"\"}}],\"scatter\":[{\"fillpattern\":{\"fillmode\":\"overlay\",\"size\":10,\"solidity\":0.2},\"type\":\"scatter\"}],\"parcoords\":[{\"type\":\"parcoords\",\"line\":{\"colorbar\":{\"outlinewidth\":0,\"ticks\":\"\"}}}],\"scatterpolargl\":[{\"type\":\"scatterpolargl\",\"marker\":{\"colorbar\":{\"outlinewidth\":0,\"ticks\":\"\"}}}],\"bar\":[{\"error_x\":{\"color\":\"#2a3f5f\"},\"error_y\":{\"color\":\"#2a3f5f\"},\"marker\":{\"line\":{\"color\":\"#E5ECF6\",\"width\":0.5},\"pattern\":{\"fillmode\":\"overlay\",\"size\":10,\"solidity\":0.2}},\"type\":\"bar\"}],\"scattergeo\":[{\"type\":\"scattergeo\",\"marker\":{\"colorbar\":{\"outlinewidth\":0,\"ticks\":\"\"}}}],\"scatterpolar\":[{\"type\":\"scatterpolar\",\"marker\":{\"colorbar\":{\"outlinewidth\":0,\"ticks\":\"\"}}}],\"histogram\":[{\"marker\":{\"pattern\":{\"fillmode\":\"overlay\",\"size\":10,\"solidity\":0.2}},\"type\":\"histogram\"}],\"scattergl\":[{\"type\":\"scattergl\",\"marker\":{\"colorbar\":{\"outlinewidth\":0,\"ticks\":\"\"}}}],\"scatter3d\":[{\"type\":\"scatter3d\",\"line\":{\"colorbar\":{\"outlinewidth\":0,\"ticks\":\"\"}},\"marker\":{\"colorbar\":{\"outlinewidth\":0,\"ticks\":\"\"}}}],\"scattermapbox\":[{\"type\":\"scattermapbox\",\"marker\":{\"colorbar\":{\"outlinewidth\":0,\"ticks\":\"\"}}}],\"scatterternary\":[{\"type\":\"scatterternary\",\"marker\":{\"colorbar\":{\"outlinewidth\":0,\"ticks\":\"\"}}}],\"scattercarpet\":[{\"type\":\"scattercarpet\",\"marker\":{\"colorbar\":{\"outlinewidth\":0,\"ticks\":\"\"}}}],\"carpet\":[{\"aaxis\":{\"endlinecolor\":\"#2a3f5f\",\"gridcolor\":\"white\",\"linecolor\":\"white\",\"minorgridcolor\":\"white\",\"startlinecolor\":\"#2a3f5f\"},\"baxis\":{\"endlinecolor\":\"#2a3f5f\",\"gridcolor\":\"white\",\"linecolor\":\"white\",\"minorgridcolor\":\"white\",\"startlinecolor\":\"#2a3f5f\"},\"type\":\"carpet\"}],\"table\":[{\"cells\":{\"fill\":{\"color\":\"#EBF0F8\"},\"line\":{\"color\":\"white\"}},\"header\":{\"fill\":{\"color\":\"#C8D4E3\"},\"line\":{\"color\":\"white\"}},\"type\":\"table\"}],\"barpolar\":[{\"marker\":{\"line\":{\"color\":\"#E5ECF6\",\"width\":0.5},\"pattern\":{\"fillmode\":\"overlay\",\"size\":10,\"solidity\":0.2}},\"type\":\"barpolar\"}],\"pie\":[{\"automargin\":true,\"type\":\"pie\"}]},\"layout\":{\"autotypenumbers\":\"strict\",\"colorway\":[\"#636efa\",\"#EF553B\",\"#00cc96\",\"#ab63fa\",\"#FFA15A\",\"#19d3f3\",\"#FF6692\",\"#B6E880\",\"#FF97FF\",\"#FECB52\"],\"font\":{\"color\":\"#2a3f5f\"},\"hovermode\":\"closest\",\"hoverlabel\":{\"align\":\"left\"},\"paper_bgcolor\":\"white\",\"plot_bgcolor\":\"#E5ECF6\",\"polar\":{\"bgcolor\":\"#E5ECF6\",\"angularaxis\":{\"gridcolor\":\"white\",\"linecolor\":\"white\",\"ticks\":\"\"},\"radialaxis\":{\"gridcolor\":\"white\",\"linecolor\":\"white\",\"ticks\":\"\"}},\"ternary\":{\"bgcolor\":\"#E5ECF6\",\"aaxis\":{\"gridcolor\":\"white\",\"linecolor\":\"white\",\"ticks\":\"\"},\"baxis\":{\"gridcolor\":\"white\",\"linecolor\":\"white\",\"ticks\":\"\"},\"caxis\":{\"gridcolor\":\"white\",\"linecolor\":\"white\",\"ticks\":\"\"}},\"coloraxis\":{\"colorbar\":{\"outlinewidth\":0,\"ticks\":\"\"}},\"colorscale\":{\"sequential\":[[0.0,\"#0d0887\"],[0.1111111111111111,\"#46039f\"],[0.2222222222222222,\"#7201a8\"],[0.3333333333333333,\"#9c179e\"],[0.4444444444444444,\"#bd3786\"],[0.5555555555555556,\"#d8576b\"],[0.6666666666666666,\"#ed7953\"],[0.7777777777777778,\"#fb9f3a\"],[0.8888888888888888,\"#fdca26\"],[1.0,\"#f0f921\"]],\"sequentialminus\":[[0.0,\"#0d0887\"],[0.1111111111111111,\"#46039f\"],[0.2222222222222222,\"#7201a8\"],[0.3333333333333333,\"#9c179e\"],[0.4444444444444444,\"#bd3786\"],[0.5555555555555556,\"#d8576b\"],[0.6666666666666666,\"#ed7953\"],[0.7777777777777778,\"#fb9f3a\"],[0.8888888888888888,\"#fdca26\"],[1.0,\"#f0f921\"]],\"diverging\":[[0,\"#8e0152\"],[0.1,\"#c51b7d\"],[0.2,\"#de77ae\"],[0.3,\"#f1b6da\"],[0.4,\"#fde0ef\"],[0.5,\"#f7f7f7\"],[0.6,\"#e6f5d0\"],[0.7,\"#b8e186\"],[0.8,\"#7fbc41\"],[0.9,\"#4d9221\"],[1,\"#276419\"]]},\"xaxis\":{\"gridcolor\":\"white\",\"linecolor\":\"white\",\"ticks\":\"\",\"title\":{\"standoff\":15},\"zerolinecolor\":\"white\",\"automargin\":true,\"zerolinewidth\":2},\"yaxis\":{\"gridcolor\":\"white\",\"linecolor\":\"white\",\"ticks\":\"\",\"title\":{\"standoff\":15},\"zerolinecolor\":\"white\",\"automargin\":true,\"zerolinewidth\":2},\"scene\":{\"xaxis\":{\"backgroundcolor\":\"#E5ECF6\",\"gridcolor\":\"white\",\"linecolor\":\"white\",\"showbackground\":true,\"ticks\":\"\",\"zerolinecolor\":\"white\",\"gridwidth\":2},\"yaxis\":{\"backgroundcolor\":\"#E5ECF6\",\"gridcolor\":\"white\",\"linecolor\":\"white\",\"showbackground\":true,\"ticks\":\"\",\"zerolinecolor\":\"white\",\"gridwidth\":2},\"zaxis\":{\"backgroundcolor\":\"#E5ECF6\",\"gridcolor\":\"white\",\"linecolor\":\"white\",\"showbackground\":true,\"ticks\":\"\",\"zerolinecolor\":\"white\",\"gridwidth\":2}},\"shapedefaults\":{\"line\":{\"color\":\"#2a3f5f\"}},\"annotationdefaults\":{\"arrowcolor\":\"#2a3f5f\",\"arrowhead\":0,\"arrowwidth\":1},\"geo\":{\"bgcolor\":\"white\",\"landcolor\":\"#E5ECF6\",\"subunitcolor\":\"white\",\"showland\":true,\"showlakes\":true,\"lakecolor\":\"white\"},\"title\":{\"x\":0.05},\"mapbox\":{\"style\":\"light\"}}},\"xaxis\":{\"anchor\":\"y\",\"domain\":[0.0,1.0],\"title\":{\"text\":\"Day of Year\"},\"rangeslider\":{\"visible\":true},\"showgrid\":false},\"yaxis\":{\"anchor\":\"x\",\"domain\":[0.0,1.0],\"title\":{\"text\":\"Average Daily Sales Value\"},\"showgrid\":false},\"legend\":{\"title\":{\"text\":\"Year\"},\"tracegroupgap\":0},\"margin\":{\"t\":60},\"title\":{\"text\":\"Daily Sales Value Over Time by Year\",\"x\":0.5}},                        {\"responsive\": true}                    )                };                            </script>        </div>"
      ],
      "text/plain": [
       "Figure({\n",
       "    'data': [{'hovertemplate': 'Year=2012<br>Day of Year=%{x}<br>Average Daily Sales Value=%{y}<extra></extra>',\n",
       "              'legendgroup': '2012',\n",
       "              'line': {'color': '#636efa', 'dash': 'solid'},\n",
       "              'marker': {'symbol': 'circle'},\n",
       "              'mode': 'lines+markers',\n",
       "              'name': '2012',\n",
       "              'orientation': 'v',\n",
       "              'showlegend': True,\n",
       "              'type': 'scatter',\n",
       "              'x': array([  2,   3,   4, ..., 364, 365, 366], dtype=int32),\n",
       "              'xaxis': 'x',\n",
       "              'y': array([  549.31,   458.91,  1560.37, ..., 14814.22,  8555.63,  9340.74]),\n",
       "              'yaxis': 'y'},\n",
       "             {'hovertemplate': 'Year=2013<br>Day of Year=%{x}<br>Average Daily Sales Value=%{y}<extra></extra>',\n",
       "              'legendgroup': '2013',\n",
       "              'line': {'color': '#EF553B', 'dash': 'solid'},\n",
       "              'marker': {'symbol': 'circle'},\n",
       "              'mode': 'lines+markers',\n",
       "              'name': '2013',\n",
       "              'orientation': 'v',\n",
       "              'showlegend': True,\n",
       "              'type': 'scatter',\n",
       "              'x': array([  1,   2,   3, ..., 344, 345, 346], dtype=int32),\n",
       "              'xaxis': 'x',\n",
       "              'y': array([ 9206.23, 12410.42, 13797.36, ..., 11245.74, 12758.04, 15938.7 ]),\n",
       "              'yaxis': 'y'}],\n",
       "    'layout': {'legend': {'title': {'text': 'Year'}, 'tracegroupgap': 0},\n",
       "               'margin': {'t': 60},\n",
       "               'template': '...',\n",
       "               'title': {'text': 'Daily Sales Value Over Time by Year', 'x': 0.5},\n",
       "               'xaxis': {'anchor': 'y',\n",
       "                         'domain': [0.0, 1.0],\n",
       "                         'rangeslider': {'visible': True},\n",
       "                         'showgrid': False,\n",
       "                         'title': {'text': 'Day of Year'}},\n",
       "               'yaxis': {'anchor': 'x',\n",
       "                         'domain': [0.0, 1.0],\n",
       "                         'showgrid': False,\n",
       "                         'title': {'text': 'Average Daily Sales Value'}}}\n",
       "})"
      ]
     },
     "execution_count": 69,
     "metadata": {},
     "output_type": "execute_result"
    }
   ],
   "source": [
    "# Add a 'day_of_year' column to align days from different years\n",
    "daily_sales['day_of_year'] = daily_sales['TRANS_DATE'].dt.dayofyear\n",
    "daily_sales['year'] = daily_sales['TRANS_DATE'].dt.year\n",
    "fig = px.line(\n",
    "    daily_sales,\n",
    "    x='day_of_year',\n",
    "    y='SALES_VALUE',\n",
    "    color='year',\n",
    "    labels={\n",
    "        'day_of_year': 'Day of Year',\n",
    "        'SALES_VALUE': 'Average Daily Sales Value',\n",
    "        'year': 'Year'\n",
    "    },\n",
    "    markers=True\n",
    ")\n",
    "fig.update_layout(\n",
    "    title={\n",
    "        'text': 'Daily Sales Value Over Time by Year',\n",
    "        'x': 0.5,\n",
    "    },\n",
    "    xaxis=dict(\n",
    "        showgrid=False,\n",
    "        rangeslider=dict(visible=True),\n",
    "    ),\n",
    "    yaxis=dict(showgrid=False),\n",
    ")\n",
    "\n",
    "fig"
   ]
  },
  {
   "cell_type": "code",
   "execution_count": 70,
   "metadata": {},
   "outputs": [
    {
     "ename": "ValueError",
     "evalue": "Mime type rendering requires nbformat>=4.2.0 but it is not installed",
     "output_type": "error",
     "traceback": [
      "\u001b[0;31m---------------------------------------------------------------------------\u001b[0m",
      "\u001b[0;31mValueError\u001b[0m                                Traceback (most recent call last)",
      "File \u001b[0;32m/mnt/77165487061AF296/Sorbonne_Data_Analytics_SDA/Cours/Data_Management_Nisrine_Moummou/Projet_Data_Management/.venv/lib/python3.11/site-packages/IPython/core/formatters.py:925\u001b[0m, in \u001b[0;36mIPythonDisplayFormatter.__call__\u001b[0;34m(self, obj)\u001b[0m\n\u001b[1;32m    923\u001b[0m method \u001b[38;5;241m=\u001b[39m get_real_method(obj, \u001b[38;5;28mself\u001b[39m\u001b[38;5;241m.\u001b[39mprint_method)\n\u001b[1;32m    924\u001b[0m \u001b[38;5;28;01mif\u001b[39;00m method \u001b[38;5;129;01mis\u001b[39;00m \u001b[38;5;129;01mnot\u001b[39;00m \u001b[38;5;28;01mNone\u001b[39;00m:\n\u001b[0;32m--> 925\u001b[0m     \u001b[43mmethod\u001b[49m\u001b[43m(\u001b[49m\u001b[43m)\u001b[49m\n\u001b[1;32m    926\u001b[0m     \u001b[38;5;28;01mreturn\u001b[39;00m \u001b[38;5;28;01mTrue\u001b[39;00m\n",
      "File \u001b[0;32m/mnt/77165487061AF296/Sorbonne_Data_Analytics_SDA/Cours/Data_Management_Nisrine_Moummou/Projet_Data_Management/.venv/lib/python3.11/site-packages/plotly/basedatatypes.py:832\u001b[0m, in \u001b[0;36mBaseFigure._ipython_display_\u001b[0;34m(self)\u001b[0m\n\u001b[1;32m    829\u001b[0m \u001b[38;5;28;01mimport\u001b[39;00m \u001b[38;5;21;01mplotly\u001b[39;00m\u001b[38;5;21;01m.\u001b[39;00m\u001b[38;5;21;01mio\u001b[39;00m \u001b[38;5;28;01mas\u001b[39;00m \u001b[38;5;21;01mpio\u001b[39;00m\n\u001b[1;32m    831\u001b[0m \u001b[38;5;28;01mif\u001b[39;00m pio\u001b[38;5;241m.\u001b[39mrenderers\u001b[38;5;241m.\u001b[39mrender_on_display \u001b[38;5;129;01mand\u001b[39;00m pio\u001b[38;5;241m.\u001b[39mrenderers\u001b[38;5;241m.\u001b[39mdefault:\n\u001b[0;32m--> 832\u001b[0m     \u001b[43mpio\u001b[49m\u001b[38;5;241;43m.\u001b[39;49m\u001b[43mshow\u001b[49m\u001b[43m(\u001b[49m\u001b[38;5;28;43mself\u001b[39;49m\u001b[43m)\u001b[49m\n\u001b[1;32m    833\u001b[0m \u001b[38;5;28;01melse\u001b[39;00m:\n\u001b[1;32m    834\u001b[0m     \u001b[38;5;28mprint\u001b[39m(\u001b[38;5;28mrepr\u001b[39m(\u001b[38;5;28mself\u001b[39m))\n",
      "File \u001b[0;32m/mnt/77165487061AF296/Sorbonne_Data_Analytics_SDA/Cours/Data_Management_Nisrine_Moummou/Projet_Data_Management/.venv/lib/python3.11/site-packages/plotly/io/_renderers.py:394\u001b[0m, in \u001b[0;36mshow\u001b[0;34m(fig, renderer, validate, **kwargs)\u001b[0m\n\u001b[1;32m    389\u001b[0m         \u001b[38;5;28;01mraise\u001b[39;00m \u001b[38;5;167;01mValueError\u001b[39;00m(\n\u001b[1;32m    390\u001b[0m             \u001b[38;5;124m\"\u001b[39m\u001b[38;5;124mMime type rendering requires ipython but it is not installed\u001b[39m\u001b[38;5;124m\"\u001b[39m\n\u001b[1;32m    391\u001b[0m         )\n\u001b[1;32m    393\u001b[0m     \u001b[38;5;28;01mif\u001b[39;00m \u001b[38;5;129;01mnot\u001b[39;00m nbformat \u001b[38;5;129;01mor\u001b[39;00m Version(nbformat\u001b[38;5;241m.\u001b[39m__version__) \u001b[38;5;241m<\u001b[39m Version(\u001b[38;5;124m\"\u001b[39m\u001b[38;5;124m4.2.0\u001b[39m\u001b[38;5;124m\"\u001b[39m):\n\u001b[0;32m--> 394\u001b[0m         \u001b[38;5;28;01mraise\u001b[39;00m \u001b[38;5;167;01mValueError\u001b[39;00m(\n\u001b[1;32m    395\u001b[0m             \u001b[38;5;124m\"\u001b[39m\u001b[38;5;124mMime type rendering requires nbformat>=4.2.0 but it is not installed\u001b[39m\u001b[38;5;124m\"\u001b[39m\n\u001b[1;32m    396\u001b[0m         )\n\u001b[1;32m    398\u001b[0m     ipython_display\u001b[38;5;241m.\u001b[39mdisplay(bundle, raw\u001b[38;5;241m=\u001b[39m\u001b[38;5;28;01mTrue\u001b[39;00m)\n\u001b[1;32m    400\u001b[0m \u001b[38;5;66;03m# external renderers\u001b[39;00m\n",
      "\u001b[0;31mValueError\u001b[0m: Mime type rendering requires nbformat>=4.2.0 but it is not installed"
     ]
    },
    {
     "data": {
      "application/vnd.plotly.v1+json": {
       "config": {
        "plotlyServerURL": "https://plot.ly"
       },
       "data": [
        {
         "hovertemplate": "Year=2012<br>Month=%{x}<br>Average Daily Sales Value=%{y}<extra></extra>",
         "legendgroup": "2012",
         "line": {
          "color": "#636efa",
          "dash": "solid"
         },
         "marker": {
          "symbol": "circle"
         },
         "mode": "lines+markers",
         "name": "2012",
         "orientation": "v",
         "showlegend": true,
         "type": "scatter",
         "x": [
          "01-02",
          "01-03",
          "01-04",
          "01-05",
          "01-06",
          "01-07",
          "01-08",
          "01-09",
          "01-10",
          "01-11",
          "01-12",
          "01-13",
          "01-14",
          "01-15",
          "01-16",
          "01-17",
          "01-18",
          "01-19",
          "01-20",
          "01-21",
          "01-22",
          "01-23",
          "01-24",
          "01-25",
          "01-26",
          "01-27",
          "01-28",
          "01-29",
          "01-30",
          "01-31",
          "02-01",
          "02-02",
          "02-03",
          "02-04",
          "02-05",
          "02-06",
          "02-07",
          "02-08",
          "02-09",
          "02-10",
          "02-11",
          "02-12",
          "02-13",
          "02-14",
          "02-15",
          "02-16",
          "02-17",
          "02-18",
          "02-19",
          "02-20",
          "02-21",
          "02-22",
          "02-23",
          "02-24",
          "02-25",
          "02-26",
          "02-27",
          "02-28",
          "02-29",
          "03-01",
          "03-02",
          "03-03",
          "03-04",
          "03-05",
          "03-06",
          "03-07",
          "03-08",
          "03-09",
          "03-10",
          "03-11",
          "03-12",
          "03-13",
          "03-14",
          "03-15",
          "03-16",
          "03-17",
          "03-18",
          "03-19",
          "03-20",
          "03-21",
          "03-22",
          "03-23",
          "03-24",
          "03-25",
          "03-26",
          "03-27",
          "03-28",
          "03-29",
          "03-30",
          "03-31",
          "04-01",
          "04-02",
          "04-03",
          "04-04",
          "04-05",
          "04-06",
          "04-07",
          "04-08",
          "04-09",
          "04-10",
          "04-11",
          "04-12",
          "04-13",
          "04-14",
          "04-15",
          "04-16",
          "04-17",
          "04-18",
          "04-19",
          "04-20",
          "04-21",
          "04-22",
          "04-23",
          "04-24",
          "04-25",
          "04-26",
          "04-27",
          "04-28",
          "04-29",
          "04-30",
          "05-01",
          "05-02",
          "05-03",
          "05-04",
          "05-05",
          "05-06",
          "05-07",
          "05-08",
          "05-09",
          "05-10",
          "05-11",
          "05-12",
          "05-13",
          "05-14",
          "05-15",
          "05-16",
          "05-17",
          "05-18",
          "05-19",
          "05-20",
          "05-21",
          "05-22",
          "05-23",
          "05-24",
          "05-25",
          "05-26",
          "05-27",
          "05-28",
          "05-29",
          "05-30",
          "05-31",
          "06-01",
          "06-02",
          "06-03",
          "06-04",
          "06-05",
          "06-06",
          "06-07",
          "06-08",
          "06-09",
          "06-10",
          "06-11",
          "06-12",
          "06-13",
          "06-14",
          "06-15",
          "06-16",
          "06-17",
          "06-18",
          "06-19",
          "06-20",
          "06-21",
          "06-22",
          "06-23",
          "06-24",
          "06-25",
          "06-26",
          "06-27",
          "06-28",
          "06-29",
          "06-30",
          "07-01",
          "07-02",
          "07-03",
          "07-04",
          "07-05",
          "07-06",
          "07-07",
          "07-08",
          "07-09",
          "07-10",
          "07-11",
          "07-12",
          "07-13",
          "07-14",
          "07-15",
          "07-16",
          "07-17",
          "07-18",
          "07-19",
          "07-20",
          "07-21",
          "07-22",
          "07-23",
          "07-24",
          "07-25",
          "07-26",
          "07-27",
          "07-28",
          "07-29",
          "07-30",
          "07-31",
          "08-01",
          "08-02",
          "08-03",
          "08-04",
          "08-05",
          "08-06",
          "08-07",
          "08-08",
          "08-09",
          "08-10",
          "08-11",
          "08-12",
          "08-13",
          "08-14",
          "08-15",
          "08-16",
          "08-17",
          "08-18",
          "08-19",
          "08-20",
          "08-21",
          "08-22",
          "08-23",
          "08-24",
          "08-25",
          "08-26",
          "08-27",
          "08-28",
          "08-29",
          "08-30",
          "08-31",
          "09-01",
          "09-02",
          "09-03",
          "09-04",
          "09-05",
          "09-06",
          "09-07",
          "09-08",
          "09-09",
          "09-10",
          "09-11",
          "09-12",
          "09-13",
          "09-14",
          "09-15",
          "09-16",
          "09-17",
          "09-18",
          "09-19",
          "09-20",
          "09-21",
          "09-22",
          "09-23",
          "09-24",
          "09-25",
          "09-26",
          "09-27",
          "09-28",
          "09-29",
          "09-30",
          "10-01",
          "10-02",
          "10-03",
          "10-04",
          "10-05",
          "10-06",
          "10-07",
          "10-08",
          "10-09",
          "10-10",
          "10-11",
          "10-12",
          "10-13",
          "10-14",
          "10-15",
          "10-16",
          "10-17",
          "10-18",
          "10-19",
          "10-20",
          "10-21",
          "10-22",
          "10-23",
          "10-24",
          "10-25",
          "10-26",
          "10-27",
          "10-28",
          "10-29",
          "10-30",
          "10-31",
          "11-01",
          "11-02",
          "11-03",
          "11-04",
          "11-05",
          "11-06",
          "11-07",
          "11-08",
          "11-09",
          "11-10",
          "11-11",
          "11-12",
          "11-13",
          "11-14",
          "11-15",
          "11-16",
          "11-17",
          "11-18",
          "11-19",
          "11-20",
          "11-21",
          "11-22",
          "11-23",
          "11-24",
          "11-25",
          "11-26",
          "11-27",
          "11-28",
          "11-29",
          "11-30",
          "12-01",
          "12-02",
          "12-03",
          "12-04",
          "12-05",
          "12-06",
          "12-07",
          "12-08",
          "12-09",
          "12-10",
          "12-11",
          "12-12",
          "12-13",
          "12-14",
          "12-15",
          "12-16",
          "12-17",
          "12-18",
          "12-19",
          "12-20",
          "12-21",
          "12-22",
          "12-23",
          "12-24",
          "12-25",
          "12-26",
          "12-27",
          "12-28",
          "12-29",
          "12-30",
          "12-31"
         ],
         "xaxis": "x",
         "y": [
          549.3100000000001,
          458.91,
          1560.3700000000001,
          1785.64,
          856.9300000000001,
          1008.15,
          1271.29,
          1203.85,
          1050.95,
          1714.3799999999999,
          2266.01,
          2306.7200000000003,
          1863.57,
          1835.94,
          1371.23,
          1378.48,
          2203.17,
          2104.61,
          2741.2,
          1811.38,
          2396.83,
          1580.03,
          1728.8,
          2207.51,
          3584.79,
          2656.65,
          2192.57,
          1731.83,
          3020.03,
          3066.35,
          2673.41,
          3214.75,
          4240.88,
          3252.05,
          3125.05,
          3889.28,
          2151.7,
          2892.16,
          4812.45,
          4801.21,
          3821.04,
          3285.29,
          3347.23,
          3439.8,
          3647.87,
          4682.99,
          5849.75,
          3934.7000000000003,
          3768.58,
          3724.31,
          4655.53,
          4984.55,
          5323.41,
          5402.6900000000005,
          3644.37,
          3446.83,
          3856.14,
          4558.76,
          4429.13,
          6140.7300000000005,
          5168.21,
          5205.03,
          4732.76,
          4031.51,
          6264.4800000000005,
          6651.03,
          8409.25,
          7700.32,
          7974.07,
          5180.57,
          6596.45,
          6274.39,
          6713.22,
          8755.18,
          9517.42,
          7223.1,
          6713.56,
          6767.04,
          6639.56,
          7204.01,
          8616.82,
          10023.210000000001,
          6839.05,
          7081.04,
          7179.75,
          7042.68,
          9261.92,
          8565.33,
          9233.24,
          7314.57,
          8588.09,
          7715.6900000000005,
          8153.7300000000005,
          8293.09,
          11283.67,
          11526.36,
          8674.07,
          7200.62,
          9936.2,
          8961.47,
          11841.79,
          13081.59,
          14565.550000000001,
          11101.36,
          11532.630000000001,
          10231.61,
          10261.81,
          9831.54,
          12001.2,
          14174.86,
          9911.75,
          8888.67,
          11677.19,
          12013.45,
          10823.09,
          12145.52,
          14096.68,
          10278.07,
          9439.26,
          9677.25,
          9112.85,
          11073.88,
          11828.34,
          14558.53,
          10493.2,
          8154.52,
          8879.48,
          9900.76,
          9131.54,
          12707.84,
          13269.54,
          11961.960000000001,
          11226.29,
          11093.35,
          12372.44,
          10827.39,
          13522.130000000001,
          15105.34,
          12050.39,
          11044.25,
          11382.47,
          10657.39,
          11333.54,
          12569.24,
          14225.05,
          11834.52,
          10762.1,
          9481.43,
          9117.06,
          12162.51,
          11972.37,
          13803.83,
          8743.74,
          10327.56,
          8147.01,
          9295.05,
          12410.02,
          12520.11,
          14625.86,
          11992.710000000001,
          8707.87,
          10957.12,
          12325.07,
          13447.15,
          16651.4,
          14624.78,
          13569.66,
          12201.25,
          12390.42,
          10706.98,
          11209.78,
          12893.34,
          15955.39,
          9873.31,
          9227.65,
          9842.22,
          10238.79,
          12114.88,
          12182.25,
          15729.82,
          9940.87,
          9487.13,
          10271.82,
          10057.72,
          11776.48,
          13807.04,
          14568.02,
          9260.36,
          9288.85,
          8597.24,
          10694.43,
          11103.49,
          14772.52,
          14839.31,
          12254.48,
          13221.9,
          11247.18,
          11441.75,
          11180.37,
          13821.4,
          15859.9,
          11212.03,
          10249.53,
          8674.29,
          10906.89,
          9338.97,
          13350.9,
          16399.25,
          10110.81,
          9331.41,
          11099.3,
          10457.1,
          10297.84,
          13968.43,
          12378.99,
          9866.84,
          8622.7,
          9133.23,
          9933.73,
          9512.99,
          13266.01,
          16388.45,
          12241.19,
          10862.19,
          11081.56,
          9981.58,
          12623.61,
          13473.380000000001,
          15538.78,
          11859.01,
          10015.12,
          11355.85,
          9691.86,
          10980.16,
          12503.9,
          15270.23,
          9890.12,
          10031,
          9463.63,
          9401.51,
          12635.130000000001,
          16258.05,
          15304.39,
          14060.12,
          15192.56,
          20901.13,
          5905.22,
          7785.53,
          9930.1,
          10309.23,
          11105.16,
          10255.28,
          9272.63,
          11890.18,
          11986.38,
          17448.37,
          15366.25,
          15634.65,
          11129.41,
          13312.26,
          14476.93,
          10084.09,
          13804.83,
          12464.04,
          9854.32,
          12947.84,
          11415.31,
          9446,
          10635.83,
          12793.97,
          15334.18,
          12875.460000000001,
          12533.53,
          12378.7,
          14520.57,
          23018.88,
          14635.130000000001,
          22.490000000000002,
          10859.11,
          11583.51,
          8657.83,
          10385.01,
          12995.44,
          18680.19,
          10477.5,
          12774.84,
          13310.8,
          12194.08,
          12272.98,
          12313.01,
          14565.53,
          15939.050000000001,
          12709.37,
          8885.3,
          11019.49,
          11558.76,
          10560.52,
          15764.87,
          13455.56,
          13376.2,
          9516.8,
          8807.68,
          9311.91,
          11145.95,
          14775.5,
          16159.78,
          12478.52,
          9598.97,
          9918.1,
          9581.3,
          9264.53,
          13515.05,
          15325.86,
          11921.73,
          10800.69,
          10999.15,
          12485.710000000001,
          13792.210000000001,
          18881.38,
          16997.21,
          12840.64,
          10477.29,
          10192.26,
          10646.35,
          14526.42,
          14139.02,
          17013.48,
          13172.51,
          10001.76,
          10328.48,
          10141.19,
          10639.56,
          12828.87,
          13187.91,
          11399.28,
          11030.12,
          10847.86,
          9123.08,
          12477.97,
          15137.75,
          15789.44,
          10689.63,
          10268.55,
          12184.64,
          13404.130000000001,
          11507.06,
          16148.62,
          16017.05,
          11930.83,
          9281.16,
          11031.45,
          9989.42,
          12189.89,
          14084.89,
          17021.89,
          10539.12,
          10015.94,
          11020.24,
          10447.82,
          13120.29,
          14287.4,
          15455.68,
          14814.22,
          8555.63,
          9340.74
         ],
         "yaxis": "y"
        },
        {
         "hovertemplate": "Year=2013<br>Month=%{x}<br>Average Daily Sales Value=%{y}<extra></extra>",
         "legendgroup": "2013",
         "line": {
          "color": "#EF553B",
          "dash": "solid"
         },
         "marker": {
          "symbol": "circle"
         },
         "mode": "lines+markers",
         "name": "2013",
         "orientation": "v",
         "showlegend": true,
         "type": "scatter",
         "x": [
          "01-01",
          "01-02",
          "01-03",
          "01-04",
          "01-05",
          "01-06",
          "01-07",
          "01-08",
          "01-09",
          "01-10",
          "01-11",
          "01-12",
          "01-13",
          "01-14",
          "01-15",
          "01-16",
          "01-17",
          "01-18",
          "01-19",
          "01-20",
          "01-21",
          "01-22",
          "01-23",
          "01-24",
          "01-25",
          "01-26",
          "01-27",
          "01-28",
          "01-29",
          "01-30",
          "01-31",
          "02-01",
          "02-02",
          "02-03",
          "02-04",
          "02-05",
          "02-06",
          "02-07",
          "02-08",
          "02-09",
          "02-10",
          "02-11",
          "02-12",
          "02-13",
          "02-14",
          "02-15",
          "02-16",
          "02-17",
          "02-18",
          "02-19",
          "02-20",
          "02-21",
          "02-22",
          "02-23",
          "02-24",
          "02-25",
          "02-26",
          "02-27",
          "02-28",
          "03-01",
          "03-02",
          "03-03",
          "03-04",
          "03-05",
          "03-06",
          "03-07",
          "03-08",
          "03-09",
          "03-10",
          "03-11",
          "03-12",
          "03-13",
          "03-14",
          "03-15",
          "03-16",
          "03-17",
          "03-18",
          "03-19",
          "03-20",
          "03-21",
          "03-22",
          "03-23",
          "03-24",
          "03-25",
          "03-26",
          "03-27",
          "03-28",
          "03-29",
          "03-30",
          "03-31",
          "04-01",
          "04-02",
          "04-03",
          "04-04",
          "04-05",
          "04-06",
          "04-07",
          "04-08",
          "04-09",
          "04-10",
          "04-11",
          "04-12",
          "04-13",
          "04-14",
          "04-15",
          "04-16",
          "04-17",
          "04-18",
          "04-19",
          "04-20",
          "04-21",
          "04-22",
          "04-23",
          "04-24",
          "04-25",
          "04-26",
          "04-27",
          "04-28",
          "04-29",
          "04-30",
          "05-01",
          "05-02",
          "05-03",
          "05-04",
          "05-05",
          "05-06",
          "05-07",
          "05-08",
          "05-09",
          "05-10",
          "05-11",
          "05-12",
          "05-13",
          "05-14",
          "05-15",
          "05-16",
          "05-17",
          "05-18",
          "05-19",
          "05-20",
          "05-21",
          "05-22",
          "05-23",
          "05-24",
          "05-25",
          "05-26",
          "05-27",
          "05-28",
          "05-29",
          "05-30",
          "05-31",
          "06-01",
          "06-02",
          "06-03",
          "06-04",
          "06-05",
          "06-06",
          "06-07",
          "06-08",
          "06-09",
          "06-10",
          "06-11",
          "06-12",
          "06-13",
          "06-14",
          "06-15",
          "06-16",
          "06-17",
          "06-18",
          "06-19",
          "06-20",
          "06-21",
          "06-22",
          "06-23",
          "06-24",
          "06-25",
          "06-26",
          "06-27",
          "06-28",
          "06-29",
          "06-30",
          "07-01",
          "07-02",
          "07-03",
          "07-04",
          "07-05",
          "07-06",
          "07-07",
          "07-08",
          "07-09",
          "07-10",
          "07-11",
          "07-12",
          "07-13",
          "07-14",
          "07-15",
          "07-16",
          "07-17",
          "07-18",
          "07-19",
          "07-20",
          "07-21",
          "07-22",
          "07-23",
          "07-24",
          "07-25",
          "07-26",
          "07-27",
          "07-28",
          "07-29",
          "07-30",
          "07-31",
          "08-01",
          "08-02",
          "08-03",
          "08-04",
          "08-05",
          "08-06",
          "08-07",
          "08-08",
          "08-09",
          "08-10",
          "08-11",
          "08-12",
          "08-13",
          "08-14",
          "08-15",
          "08-16",
          "08-17",
          "08-18",
          "08-19",
          "08-20",
          "08-21",
          "08-22",
          "08-23",
          "08-24",
          "08-25",
          "08-26",
          "08-27",
          "08-28",
          "08-29",
          "08-30",
          "08-31",
          "09-01",
          "09-02",
          "09-03",
          "09-04",
          "09-05",
          "09-06",
          "09-07",
          "09-08",
          "09-09",
          "09-10",
          "09-11",
          "09-12",
          "09-13",
          "09-14",
          "09-15",
          "09-16",
          "09-17",
          "09-18",
          "09-19",
          "09-20",
          "09-21",
          "09-22",
          "09-23",
          "09-24",
          "09-25",
          "09-26",
          "09-27",
          "09-28",
          "09-29",
          "09-30",
          "10-01",
          "10-02",
          "10-03",
          "10-04",
          "10-05",
          "10-06",
          "10-07",
          "10-08",
          "10-09",
          "10-10",
          "10-11",
          "10-12",
          "10-13",
          "10-14",
          "10-15",
          "10-16",
          "10-17",
          "10-18",
          "10-19",
          "10-20",
          "10-21",
          "10-22",
          "10-23",
          "10-24",
          "10-25",
          "10-26",
          "10-27",
          "10-28",
          "10-29",
          "10-30",
          "10-31",
          "11-01",
          "11-02",
          "11-03",
          "11-04",
          "11-05",
          "11-06",
          "11-07",
          "11-08",
          "11-09",
          "11-10",
          "11-11",
          "11-12",
          "11-13",
          "11-14",
          "11-15",
          "11-16",
          "11-17",
          "11-18",
          "11-19",
          "11-20",
          "11-21",
          "11-22",
          "11-23",
          "11-24",
          "11-25",
          "11-26",
          "11-27",
          "11-28",
          "11-29",
          "11-30",
          "12-01",
          "12-02",
          "12-03",
          "12-04",
          "12-05",
          "12-06",
          "12-07",
          "12-08",
          "12-09",
          "12-10",
          "12-11",
          "12-12"
         ],
         "xaxis": "x",
         "y": [
          9206.23,
          12410.42,
          13797.36,
          15115.15,
          13435.84,
          10823.79,
          11289.65,
          9805.74,
          11725.55,
          14351.42,
          16482.9,
          13843.14,
          12729.35,
          9969.28,
          9420.08,
          11032.43,
          14217.97,
          15850.23,
          12577.04,
          8515.04,
          10540.91,
          11945.53,
          15780.630000000001,
          17779.79,
          11919.1,
          10460.25,
          11717.72,
          10126.12,
          9948.960000000001,
          11186.13,
          14256.93,
          14908.8,
          10802.92,
          10922.94,
          11038.84,
          10522.43,
          10919.03,
          14485.93,
          15002.6,
          13725.960000000001,
          11691.86,
          10999.03,
          14161.34,
          13831.78,
          15192.32,
          17098.94,
          12721.58,
          12377.35,
          11153.960000000001,
          11396.86,
          11968.4,
          15030.74,
          16338.12,
          12566.66,
          11679.74,
          11436.14,
          12338.11,
          12746.960000000001,
          13035.02,
          16783,
          12046.57,
          10114.42,
          10778.7,
          9379.18,
          14090.36,
          16095.52,
          15679.75,
          13445.76,
          11015.47,
          10709.69,
          11692.45,
          13839.51,
          15231.99,
          16873.89,
          14432.93,
          10752.94,
          12968.85,
          11213.76,
          12317.51,
          13086.05,
          16410.19,
          11959.66,
          10995.52,
          10920.09,
          13050.78,
          12030.61,
          13331.77,
          15109.14,
          11165.11,
          9867.59,
          9848.05,
          9131.61,
          11525.710000000001,
          13732.02,
          12418.17,
          12299.07,
          9961.89,
          9940.26,
          12718.88,
          14345.32,
          17068.73,
          14616.58,
          14476.210000000001,
          16868.78,
          11039.29,
          13525.76,
          12320.85,
          13813.06,
          15923.1,
          13342.89,
          10477.93,
          11233.12,
          11478.82,
          11953.42,
          12808.57,
          15115.16,
          11689.03,
          9696.99,
          8734.51,
          12060.710000000001,
          12031.49,
          14443.14,
          16331.12,
          11519.37,
          9881.4,
          9504.61,
          11498.84,
          12679.19,
          13823.78,
          14966.01,
          12168.59,
          13335.59,
          10945.86,
          14505.43,
          13347.02,
          15047.82,
          17580.16,
          14223.64,
          11867.24,
          12040.33,
          12697.42,
          10457.93,
          13131.41,
          13113.29,
          13717.54,
          10799.24,
          10297.39,
          10452,
          12309.62,
          13963.11,
          14102.41,
          11036.89,
          11460.18,
          10089.19,
          10509.1,
          10838.7,
          15072.04,
          14156.89,
          10200.19,
          11187.39,
          9439.23,
          12501.87,
          14651.75,
          15860.3,
          15010.67,
          14741.1,
          13232,
          10097.76,
          12694.12,
          12412.25,
          14158.31,
          14825.9,
          10945.87,
          10856.460000000001,
          9698.55,
          9826.42,
          11639.09,
          13853.95,
          14281.69,
          12879.22,
          10605.2,
          9658.710000000001,
          9491.98,
          10605.42,
          14249.630000000001,
          14984.460000000001,
          11466.16,
          9251.59,
          10053.73,
          10312.29,
          11779.59,
          13433.7,
          16906.69,
          12707.31,
          11068.92,
          10736.77,
          11889.880000000001,
          13735.55,
          14337.88,
          15691.73,
          12929.48,
          13182.32,
          10804.94,
          9589.8,
          10063.63,
          14594.12,
          15780.83,
          11561.03,
          10672.09,
          10015.54,
          8829.11,
          11212.45,
          13995.62,
          16915.08,
          12814.27,
          10998.12,
          11376.16,
          9655.15,
          10900.84,
          14996.93,
          15194.95,
          12813.960000000001,
          11837.53,
          10789.08,
          12384.68,
          13165.97,
          17722.95,
          18949.29,
          12622.37,
          11070.95,
          10913.6,
          9786.23,
          11813.23,
          14105.94,
          16132.92,
          11936.74,
          12284.37,
          9800.42,
          11743.41,
          13692.13,
          15610.2,
          16324.2,
          15889.59,
          17403.48,
          20144.7,
          6962.69,
          8996.58,
          9945.83,
          13126.72,
          11001.99,
          12147.22,
          10060.04,
          9499.69,
          12595.11,
          15628.61,
          19612.1,
          11817.41,
          13220.04,
          12020.49,
          11909.81,
          12427.54,
          15148.31,
          16395.64,
          11508.6,
          11713.49,
          9486.49,
          11095.11,
          12721.51,
          16449.13,
          13949.02,
          13093.74,
          13354.16,
          12983.61,
          13900.69,
          19095.37,
          24760.1,
          16005.2,
          2.99,
          11830.28,
          11304.24,
          10303.79,
          12934.03,
          17882.26,
          16574.57,
          10506.34,
          13300.130000000001,
          13579.64,
          11828.22,
          13218.01,
          16554.43,
          17977.47,
          10786.09,
          11436.13,
          11441,
          12117.53,
          11727.53,
          15434.41,
          15952.37,
          12258.74,
          10498.28,
          9249.14,
          10022.53,
          12333.34,
          19105.24,
          13342.84,
          12227,
          11626.08,
          9010.78,
          11474.57,
          13070.69,
          15630.94,
          15799.2,
          10683.97,
          10642.14,
          12922.52,
          13594.82,
          13059.9,
          17710.28,
          20335.99,
          13812.380000000001,
          13986.460000000001,
          10744.16,
          12433.57,
          10797.33,
          16990.84,
          22599.18,
          23511.82,
          7573.7300000000005,
          9457.07,
          10204.26,
          12133.82,
          14614.29,
          15568.11,
          11007.9,
          9089.6,
          12162.44,
          9818.26,
          11677.97,
          14173.15,
          16477.93,
          11443.89,
          10632.36,
          9949.9,
          11245.74,
          12758.04,
          15938.7
         ],
         "yaxis": "y"
        }
       ],
       "layout": {
        "legend": {
         "title": {
          "text": "Year"
         },
         "tracegroupgap": 0
        },
        "margin": {
         "t": 60
        },
        "template": {
         "data": {
          "bar": [
           {
            "error_x": {
             "color": "#2a3f5f"
            },
            "error_y": {
             "color": "#2a3f5f"
            },
            "marker": {
             "line": {
              "color": "#E5ECF6",
              "width": 0.5
             },
             "pattern": {
              "fillmode": "overlay",
              "size": 10,
              "solidity": 0.2
             }
            },
            "type": "bar"
           }
          ],
          "barpolar": [
           {
            "marker": {
             "line": {
              "color": "#E5ECF6",
              "width": 0.5
             },
             "pattern": {
              "fillmode": "overlay",
              "size": 10,
              "solidity": 0.2
             }
            },
            "type": "barpolar"
           }
          ],
          "carpet": [
           {
            "aaxis": {
             "endlinecolor": "#2a3f5f",
             "gridcolor": "white",
             "linecolor": "white",
             "minorgridcolor": "white",
             "startlinecolor": "#2a3f5f"
            },
            "baxis": {
             "endlinecolor": "#2a3f5f",
             "gridcolor": "white",
             "linecolor": "white",
             "minorgridcolor": "white",
             "startlinecolor": "#2a3f5f"
            },
            "type": "carpet"
           }
          ],
          "choropleth": [
           {
            "colorbar": {
             "outlinewidth": 0,
             "ticks": ""
            },
            "type": "choropleth"
           }
          ],
          "contour": [
           {
            "colorbar": {
             "outlinewidth": 0,
             "ticks": ""
            },
            "colorscale": [
             [
              0,
              "#0d0887"
             ],
             [
              0.1111111111111111,
              "#46039f"
             ],
             [
              0.2222222222222222,
              "#7201a8"
             ],
             [
              0.3333333333333333,
              "#9c179e"
             ],
             [
              0.4444444444444444,
              "#bd3786"
             ],
             [
              0.5555555555555556,
              "#d8576b"
             ],
             [
              0.6666666666666666,
              "#ed7953"
             ],
             [
              0.7777777777777778,
              "#fb9f3a"
             ],
             [
              0.8888888888888888,
              "#fdca26"
             ],
             [
              1,
              "#f0f921"
             ]
            ],
            "type": "contour"
           }
          ],
          "contourcarpet": [
           {
            "colorbar": {
             "outlinewidth": 0,
             "ticks": ""
            },
            "type": "contourcarpet"
           }
          ],
          "heatmap": [
           {
            "colorbar": {
             "outlinewidth": 0,
             "ticks": ""
            },
            "colorscale": [
             [
              0,
              "#0d0887"
             ],
             [
              0.1111111111111111,
              "#46039f"
             ],
             [
              0.2222222222222222,
              "#7201a8"
             ],
             [
              0.3333333333333333,
              "#9c179e"
             ],
             [
              0.4444444444444444,
              "#bd3786"
             ],
             [
              0.5555555555555556,
              "#d8576b"
             ],
             [
              0.6666666666666666,
              "#ed7953"
             ],
             [
              0.7777777777777778,
              "#fb9f3a"
             ],
             [
              0.8888888888888888,
              "#fdca26"
             ],
             [
              1,
              "#f0f921"
             ]
            ],
            "type": "heatmap"
           }
          ],
          "heatmapgl": [
           {
            "colorbar": {
             "outlinewidth": 0,
             "ticks": ""
            },
            "colorscale": [
             [
              0,
              "#0d0887"
             ],
             [
              0.1111111111111111,
              "#46039f"
             ],
             [
              0.2222222222222222,
              "#7201a8"
             ],
             [
              0.3333333333333333,
              "#9c179e"
             ],
             [
              0.4444444444444444,
              "#bd3786"
             ],
             [
              0.5555555555555556,
              "#d8576b"
             ],
             [
              0.6666666666666666,
              "#ed7953"
             ],
             [
              0.7777777777777778,
              "#fb9f3a"
             ],
             [
              0.8888888888888888,
              "#fdca26"
             ],
             [
              1,
              "#f0f921"
             ]
            ],
            "type": "heatmapgl"
           }
          ],
          "histogram": [
           {
            "marker": {
             "pattern": {
              "fillmode": "overlay",
              "size": 10,
              "solidity": 0.2
             }
            },
            "type": "histogram"
           }
          ],
          "histogram2d": [
           {
            "colorbar": {
             "outlinewidth": 0,
             "ticks": ""
            },
            "colorscale": [
             [
              0,
              "#0d0887"
             ],
             [
              0.1111111111111111,
              "#46039f"
             ],
             [
              0.2222222222222222,
              "#7201a8"
             ],
             [
              0.3333333333333333,
              "#9c179e"
             ],
             [
              0.4444444444444444,
              "#bd3786"
             ],
             [
              0.5555555555555556,
              "#d8576b"
             ],
             [
              0.6666666666666666,
              "#ed7953"
             ],
             [
              0.7777777777777778,
              "#fb9f3a"
             ],
             [
              0.8888888888888888,
              "#fdca26"
             ],
             [
              1,
              "#f0f921"
             ]
            ],
            "type": "histogram2d"
           }
          ],
          "histogram2dcontour": [
           {
            "colorbar": {
             "outlinewidth": 0,
             "ticks": ""
            },
            "colorscale": [
             [
              0,
              "#0d0887"
             ],
             [
              0.1111111111111111,
              "#46039f"
             ],
             [
              0.2222222222222222,
              "#7201a8"
             ],
             [
              0.3333333333333333,
              "#9c179e"
             ],
             [
              0.4444444444444444,
              "#bd3786"
             ],
             [
              0.5555555555555556,
              "#d8576b"
             ],
             [
              0.6666666666666666,
              "#ed7953"
             ],
             [
              0.7777777777777778,
              "#fb9f3a"
             ],
             [
              0.8888888888888888,
              "#fdca26"
             ],
             [
              1,
              "#f0f921"
             ]
            ],
            "type": "histogram2dcontour"
           }
          ],
          "mesh3d": [
           {
            "colorbar": {
             "outlinewidth": 0,
             "ticks": ""
            },
            "type": "mesh3d"
           }
          ],
          "parcoords": [
           {
            "line": {
             "colorbar": {
              "outlinewidth": 0,
              "ticks": ""
             }
            },
            "type": "parcoords"
           }
          ],
          "pie": [
           {
            "automargin": true,
            "type": "pie"
           }
          ],
          "scatter": [
           {
            "fillpattern": {
             "fillmode": "overlay",
             "size": 10,
             "solidity": 0.2
            },
            "type": "scatter"
           }
          ],
          "scatter3d": [
           {
            "line": {
             "colorbar": {
              "outlinewidth": 0,
              "ticks": ""
             }
            },
            "marker": {
             "colorbar": {
              "outlinewidth": 0,
              "ticks": ""
             }
            },
            "type": "scatter3d"
           }
          ],
          "scattercarpet": [
           {
            "marker": {
             "colorbar": {
              "outlinewidth": 0,
              "ticks": ""
             }
            },
            "type": "scattercarpet"
           }
          ],
          "scattergeo": [
           {
            "marker": {
             "colorbar": {
              "outlinewidth": 0,
              "ticks": ""
             }
            },
            "type": "scattergeo"
           }
          ],
          "scattergl": [
           {
            "marker": {
             "colorbar": {
              "outlinewidth": 0,
              "ticks": ""
             }
            },
            "type": "scattergl"
           }
          ],
          "scattermapbox": [
           {
            "marker": {
             "colorbar": {
              "outlinewidth": 0,
              "ticks": ""
             }
            },
            "type": "scattermapbox"
           }
          ],
          "scatterpolar": [
           {
            "marker": {
             "colorbar": {
              "outlinewidth": 0,
              "ticks": ""
             }
            },
            "type": "scatterpolar"
           }
          ],
          "scatterpolargl": [
           {
            "marker": {
             "colorbar": {
              "outlinewidth": 0,
              "ticks": ""
             }
            },
            "type": "scatterpolargl"
           }
          ],
          "scatterternary": [
           {
            "marker": {
             "colorbar": {
              "outlinewidth": 0,
              "ticks": ""
             }
            },
            "type": "scatterternary"
           }
          ],
          "surface": [
           {
            "colorbar": {
             "outlinewidth": 0,
             "ticks": ""
            },
            "colorscale": [
             [
              0,
              "#0d0887"
             ],
             [
              0.1111111111111111,
              "#46039f"
             ],
             [
              0.2222222222222222,
              "#7201a8"
             ],
             [
              0.3333333333333333,
              "#9c179e"
             ],
             [
              0.4444444444444444,
              "#bd3786"
             ],
             [
              0.5555555555555556,
              "#d8576b"
             ],
             [
              0.6666666666666666,
              "#ed7953"
             ],
             [
              0.7777777777777778,
              "#fb9f3a"
             ],
             [
              0.8888888888888888,
              "#fdca26"
             ],
             [
              1,
              "#f0f921"
             ]
            ],
            "type": "surface"
           }
          ],
          "table": [
           {
            "cells": {
             "fill": {
              "color": "#EBF0F8"
             },
             "line": {
              "color": "white"
             }
            },
            "header": {
             "fill": {
              "color": "#C8D4E3"
             },
             "line": {
              "color": "white"
             }
            },
            "type": "table"
           }
          ]
         },
         "layout": {
          "annotationdefaults": {
           "arrowcolor": "#2a3f5f",
           "arrowhead": 0,
           "arrowwidth": 1
          },
          "autotypenumbers": "strict",
          "coloraxis": {
           "colorbar": {
            "outlinewidth": 0,
            "ticks": ""
           }
          },
          "colorscale": {
           "diverging": [
            [
             0,
             "#8e0152"
            ],
            [
             0.1,
             "#c51b7d"
            ],
            [
             0.2,
             "#de77ae"
            ],
            [
             0.3,
             "#f1b6da"
            ],
            [
             0.4,
             "#fde0ef"
            ],
            [
             0.5,
             "#f7f7f7"
            ],
            [
             0.6,
             "#e6f5d0"
            ],
            [
             0.7,
             "#b8e186"
            ],
            [
             0.8,
             "#7fbc41"
            ],
            [
             0.9,
             "#4d9221"
            ],
            [
             1,
             "#276419"
            ]
           ],
           "sequential": [
            [
             0,
             "#0d0887"
            ],
            [
             0.1111111111111111,
             "#46039f"
            ],
            [
             0.2222222222222222,
             "#7201a8"
            ],
            [
             0.3333333333333333,
             "#9c179e"
            ],
            [
             0.4444444444444444,
             "#bd3786"
            ],
            [
             0.5555555555555556,
             "#d8576b"
            ],
            [
             0.6666666666666666,
             "#ed7953"
            ],
            [
             0.7777777777777778,
             "#fb9f3a"
            ],
            [
             0.8888888888888888,
             "#fdca26"
            ],
            [
             1,
             "#f0f921"
            ]
           ],
           "sequentialminus": [
            [
             0,
             "#0d0887"
            ],
            [
             0.1111111111111111,
             "#46039f"
            ],
            [
             0.2222222222222222,
             "#7201a8"
            ],
            [
             0.3333333333333333,
             "#9c179e"
            ],
            [
             0.4444444444444444,
             "#bd3786"
            ],
            [
             0.5555555555555556,
             "#d8576b"
            ],
            [
             0.6666666666666666,
             "#ed7953"
            ],
            [
             0.7777777777777778,
             "#fb9f3a"
            ],
            [
             0.8888888888888888,
             "#fdca26"
            ],
            [
             1,
             "#f0f921"
            ]
           ]
          },
          "colorway": [
           "#636efa",
           "#EF553B",
           "#00cc96",
           "#ab63fa",
           "#FFA15A",
           "#19d3f3",
           "#FF6692",
           "#B6E880",
           "#FF97FF",
           "#FECB52"
          ],
          "font": {
           "color": "#2a3f5f"
          },
          "geo": {
           "bgcolor": "white",
           "lakecolor": "white",
           "landcolor": "#E5ECF6",
           "showlakes": true,
           "showland": true,
           "subunitcolor": "white"
          },
          "hoverlabel": {
           "align": "left"
          },
          "hovermode": "closest",
          "mapbox": {
           "style": "light"
          },
          "paper_bgcolor": "white",
          "plot_bgcolor": "#E5ECF6",
          "polar": {
           "angularaxis": {
            "gridcolor": "white",
            "linecolor": "white",
            "ticks": ""
           },
           "bgcolor": "#E5ECF6",
           "radialaxis": {
            "gridcolor": "white",
            "linecolor": "white",
            "ticks": ""
           }
          },
          "scene": {
           "xaxis": {
            "backgroundcolor": "#E5ECF6",
            "gridcolor": "white",
            "gridwidth": 2,
            "linecolor": "white",
            "showbackground": true,
            "ticks": "",
            "zerolinecolor": "white"
           },
           "yaxis": {
            "backgroundcolor": "#E5ECF6",
            "gridcolor": "white",
            "gridwidth": 2,
            "linecolor": "white",
            "showbackground": true,
            "ticks": "",
            "zerolinecolor": "white"
           },
           "zaxis": {
            "backgroundcolor": "#E5ECF6",
            "gridcolor": "white",
            "gridwidth": 2,
            "linecolor": "white",
            "showbackground": true,
            "ticks": "",
            "zerolinecolor": "white"
           }
          },
          "shapedefaults": {
           "line": {
            "color": "#2a3f5f"
           }
          },
          "ternary": {
           "aaxis": {
            "gridcolor": "white",
            "linecolor": "white",
            "ticks": ""
           },
           "baxis": {
            "gridcolor": "white",
            "linecolor": "white",
            "ticks": ""
           },
           "bgcolor": "#E5ECF6",
           "caxis": {
            "gridcolor": "white",
            "linecolor": "white",
            "ticks": ""
           }
          },
          "title": {
           "x": 0.05
          },
          "xaxis": {
           "automargin": true,
           "gridcolor": "white",
           "linecolor": "white",
           "ticks": "",
           "title": {
            "standoff": 15
           },
           "zerolinecolor": "white",
           "zerolinewidth": 2
          },
          "yaxis": {
           "automargin": true,
           "gridcolor": "white",
           "linecolor": "white",
           "ticks": "",
           "title": {
            "standoff": 15
           },
           "zerolinecolor": "white",
           "zerolinewidth": 2
          }
         }
        },
        "title": {
         "text": "Daily Sales Value Over Time by Year",
         "x": 0.5
        },
        "xaxis": {
         "anchor": "y",
         "domain": [
          0,
          1
         ],
         "showgrid": false,
         "title": {
          "text": "Month"
         }
        },
        "yaxis": {
         "anchor": "x",
         "domain": [
          0,
          1
         ],
         "showgrid": false,
         "title": {
          "text": "Average Daily Sales Value"
         }
        }
       }
      },
      "text/html": [
       "<div>                        <script type=\"text/javascript\">window.PlotlyConfig = {MathJaxConfig: 'local'};</script>\n",
       "        <script charset=\"utf-8\" src=\"https://cdn.plot.ly/plotly-2.32.0.min.js\"></script>                <div id=\"8e95d8db-dfc2-4581-8eaf-1b7507c9309c\" class=\"plotly-graph-div\" style=\"height:100%; width:100%;\"></div>            <script type=\"text/javascript\">                                    window.PLOTLYENV=window.PLOTLYENV || {};                                    if (document.getElementById(\"8e95d8db-dfc2-4581-8eaf-1b7507c9309c\")) {                    Plotly.newPlot(                        \"8e95d8db-dfc2-4581-8eaf-1b7507c9309c\",                        [{\"hovertemplate\":\"Year=2012\\u003cbr\\u003eMonth=%{x}\\u003cbr\\u003eAverage Daily Sales Value=%{y}\\u003cextra\\u003e\\u003c\\u002fextra\\u003e\",\"legendgroup\":\"2012\",\"line\":{\"color\":\"#636efa\",\"dash\":\"solid\"},\"marker\":{\"symbol\":\"circle\"},\"mode\":\"lines+markers\",\"name\":\"2012\",\"orientation\":\"v\",\"showlegend\":true,\"x\":[\"01-02\",\"01-03\",\"01-04\",\"01-05\",\"01-06\",\"01-07\",\"01-08\",\"01-09\",\"01-10\",\"01-11\",\"01-12\",\"01-13\",\"01-14\",\"01-15\",\"01-16\",\"01-17\",\"01-18\",\"01-19\",\"01-20\",\"01-21\",\"01-22\",\"01-23\",\"01-24\",\"01-25\",\"01-26\",\"01-27\",\"01-28\",\"01-29\",\"01-30\",\"01-31\",\"02-01\",\"02-02\",\"02-03\",\"02-04\",\"02-05\",\"02-06\",\"02-07\",\"02-08\",\"02-09\",\"02-10\",\"02-11\",\"02-12\",\"02-13\",\"02-14\",\"02-15\",\"02-16\",\"02-17\",\"02-18\",\"02-19\",\"02-20\",\"02-21\",\"02-22\",\"02-23\",\"02-24\",\"02-25\",\"02-26\",\"02-27\",\"02-28\",\"02-29\",\"03-01\",\"03-02\",\"03-03\",\"03-04\",\"03-05\",\"03-06\",\"03-07\",\"03-08\",\"03-09\",\"03-10\",\"03-11\",\"03-12\",\"03-13\",\"03-14\",\"03-15\",\"03-16\",\"03-17\",\"03-18\",\"03-19\",\"03-20\",\"03-21\",\"03-22\",\"03-23\",\"03-24\",\"03-25\",\"03-26\",\"03-27\",\"03-28\",\"03-29\",\"03-30\",\"03-31\",\"04-01\",\"04-02\",\"04-03\",\"04-04\",\"04-05\",\"04-06\",\"04-07\",\"04-08\",\"04-09\",\"04-10\",\"04-11\",\"04-12\",\"04-13\",\"04-14\",\"04-15\",\"04-16\",\"04-17\",\"04-18\",\"04-19\",\"04-20\",\"04-21\",\"04-22\",\"04-23\",\"04-24\",\"04-25\",\"04-26\",\"04-27\",\"04-28\",\"04-29\",\"04-30\",\"05-01\",\"05-02\",\"05-03\",\"05-04\",\"05-05\",\"05-06\",\"05-07\",\"05-08\",\"05-09\",\"05-10\",\"05-11\",\"05-12\",\"05-13\",\"05-14\",\"05-15\",\"05-16\",\"05-17\",\"05-18\",\"05-19\",\"05-20\",\"05-21\",\"05-22\",\"05-23\",\"05-24\",\"05-25\",\"05-26\",\"05-27\",\"05-28\",\"05-29\",\"05-30\",\"05-31\",\"06-01\",\"06-02\",\"06-03\",\"06-04\",\"06-05\",\"06-06\",\"06-07\",\"06-08\",\"06-09\",\"06-10\",\"06-11\",\"06-12\",\"06-13\",\"06-14\",\"06-15\",\"06-16\",\"06-17\",\"06-18\",\"06-19\",\"06-20\",\"06-21\",\"06-22\",\"06-23\",\"06-24\",\"06-25\",\"06-26\",\"06-27\",\"06-28\",\"06-29\",\"06-30\",\"07-01\",\"07-02\",\"07-03\",\"07-04\",\"07-05\",\"07-06\",\"07-07\",\"07-08\",\"07-09\",\"07-10\",\"07-11\",\"07-12\",\"07-13\",\"07-14\",\"07-15\",\"07-16\",\"07-17\",\"07-18\",\"07-19\",\"07-20\",\"07-21\",\"07-22\",\"07-23\",\"07-24\",\"07-25\",\"07-26\",\"07-27\",\"07-28\",\"07-29\",\"07-30\",\"07-31\",\"08-01\",\"08-02\",\"08-03\",\"08-04\",\"08-05\",\"08-06\",\"08-07\",\"08-08\",\"08-09\",\"08-10\",\"08-11\",\"08-12\",\"08-13\",\"08-14\",\"08-15\",\"08-16\",\"08-17\",\"08-18\",\"08-19\",\"08-20\",\"08-21\",\"08-22\",\"08-23\",\"08-24\",\"08-25\",\"08-26\",\"08-27\",\"08-28\",\"08-29\",\"08-30\",\"08-31\",\"09-01\",\"09-02\",\"09-03\",\"09-04\",\"09-05\",\"09-06\",\"09-07\",\"09-08\",\"09-09\",\"09-10\",\"09-11\",\"09-12\",\"09-13\",\"09-14\",\"09-15\",\"09-16\",\"09-17\",\"09-18\",\"09-19\",\"09-20\",\"09-21\",\"09-22\",\"09-23\",\"09-24\",\"09-25\",\"09-26\",\"09-27\",\"09-28\",\"09-29\",\"09-30\",\"10-01\",\"10-02\",\"10-03\",\"10-04\",\"10-05\",\"10-06\",\"10-07\",\"10-08\",\"10-09\",\"10-10\",\"10-11\",\"10-12\",\"10-13\",\"10-14\",\"10-15\",\"10-16\",\"10-17\",\"10-18\",\"10-19\",\"10-20\",\"10-21\",\"10-22\",\"10-23\",\"10-24\",\"10-25\",\"10-26\",\"10-27\",\"10-28\",\"10-29\",\"10-30\",\"10-31\",\"11-01\",\"11-02\",\"11-03\",\"11-04\",\"11-05\",\"11-06\",\"11-07\",\"11-08\",\"11-09\",\"11-10\",\"11-11\",\"11-12\",\"11-13\",\"11-14\",\"11-15\",\"11-16\",\"11-17\",\"11-18\",\"11-19\",\"11-20\",\"11-21\",\"11-22\",\"11-23\",\"11-24\",\"11-25\",\"11-26\",\"11-27\",\"11-28\",\"11-29\",\"11-30\",\"12-01\",\"12-02\",\"12-03\",\"12-04\",\"12-05\",\"12-06\",\"12-07\",\"12-08\",\"12-09\",\"12-10\",\"12-11\",\"12-12\",\"12-13\",\"12-14\",\"12-15\",\"12-16\",\"12-17\",\"12-18\",\"12-19\",\"12-20\",\"12-21\",\"12-22\",\"12-23\",\"12-24\",\"12-25\",\"12-26\",\"12-27\",\"12-28\",\"12-29\",\"12-30\",\"12-31\"],\"xaxis\":\"x\",\"y\":[549.3100000000001,458.91,1560.3700000000001,1785.64,856.9300000000001,1008.15,1271.29,1203.85,1050.95,1714.3799999999999,2266.01,2306.7200000000003,1863.57,1835.94,1371.23,1378.48,2203.17,2104.61,2741.2,1811.38,2396.83,1580.03,1728.8,2207.51,3584.79,2656.65,2192.57,1731.83,3020.03,3066.35,2673.41,3214.75,4240.88,3252.05,3125.05,3889.28,2151.7,2892.16,4812.45,4801.21,3821.04,3285.29,3347.23,3439.8,3647.87,4682.99,5849.75,3934.7000000000003,3768.58,3724.31,4655.53,4984.55,5323.41,5402.6900000000005,3644.37,3446.83,3856.14,4558.76,4429.13,6140.7300000000005,5168.21,5205.03,4732.76,4031.51,6264.4800000000005,6651.03,8409.25,7700.32,7974.07,5180.57,6596.45,6274.39,6713.22,8755.18,9517.42,7223.1,6713.56,6767.04,6639.56,7204.01,8616.82,10023.210000000001,6839.05,7081.04,7179.75,7042.68,9261.92,8565.33,9233.24,7314.57,8588.09,7715.6900000000005,8153.7300000000005,8293.09,11283.67,11526.36,8674.07,7200.62,9936.2,8961.47,11841.79,13081.59,14565.550000000001,11101.36,11532.630000000001,10231.61,10261.81,9831.54,12001.2,14174.86,9911.75,8888.67,11677.19,12013.45,10823.09,12145.52,14096.68,10278.07,9439.26,9677.25,9112.85,11073.88,11828.34,14558.53,10493.2,8154.52,8879.48,9900.76,9131.54,12707.84,13269.54,11961.960000000001,11226.29,11093.35,12372.44,10827.39,13522.130000000001,15105.34,12050.39,11044.25,11382.47,10657.39,11333.54,12569.24,14225.05,11834.52,10762.1,9481.43,9117.06,12162.51,11972.37,13803.83,8743.74,10327.56,8147.01,9295.05,12410.02,12520.11,14625.86,11992.710000000001,8707.87,10957.12,12325.07,13447.15,16651.4,14624.78,13569.66,12201.25,12390.42,10706.98,11209.78,12893.34,15955.39,9873.31,9227.65,9842.22,10238.79,12114.88,12182.25,15729.82,9940.87,9487.13,10271.82,10057.72,11776.48,13807.04,14568.02,9260.36,9288.85,8597.24,10694.43,11103.49,14772.52,14839.31,12254.48,13221.9,11247.18,11441.75,11180.37,13821.4,15859.9,11212.03,10249.53,8674.29,10906.89,9338.97,13350.9,16399.25,10110.81,9331.41,11099.3,10457.1,10297.84,13968.43,12378.99,9866.84,8622.7,9133.23,9933.73,9512.99,13266.01,16388.45,12241.19,10862.19,11081.56,9981.58,12623.61,13473.380000000001,15538.78,11859.01,10015.12,11355.85,9691.86,10980.16,12503.9,15270.23,9890.12,10031.0,9463.63,9401.51,12635.130000000001,16258.05,15304.39,14060.12,15192.56,20901.13,5905.22,7785.53,9930.1,10309.23,11105.16,10255.28,9272.63,11890.18,11986.38,17448.37,15366.25,15634.65,11129.41,13312.26,14476.93,10084.09,13804.83,12464.04,9854.32,12947.84,11415.31,9446.0,10635.83,12793.97,15334.18,12875.460000000001,12533.53,12378.7,14520.57,23018.88,14635.130000000001,22.490000000000002,10859.11,11583.51,8657.83,10385.01,12995.44,18680.19,10477.5,12774.84,13310.8,12194.08,12272.98,12313.01,14565.53,15939.050000000001,12709.37,8885.3,11019.49,11558.76,10560.52,15764.87,13455.56,13376.2,9516.8,8807.68,9311.91,11145.95,14775.5,16159.78,12478.52,9598.97,9918.1,9581.3,9264.53,13515.05,15325.86,11921.73,10800.69,10999.15,12485.710000000001,13792.210000000001,18881.38,16997.21,12840.64,10477.29,10192.26,10646.35,14526.42,14139.02,17013.48,13172.51,10001.76,10328.48,10141.19,10639.56,12828.87,13187.91,11399.28,11030.12,10847.86,9123.08,12477.97,15137.75,15789.44,10689.63,10268.55,12184.64,13404.130000000001,11507.06,16148.62,16017.05,11930.83,9281.16,11031.45,9989.42,12189.89,14084.89,17021.89,10539.12,10015.94,11020.24,10447.82,13120.29,14287.4,15455.68,14814.22,8555.63,9340.74],\"yaxis\":\"y\",\"type\":\"scatter\"},{\"hovertemplate\":\"Year=2013\\u003cbr\\u003eMonth=%{x}\\u003cbr\\u003eAverage Daily Sales Value=%{y}\\u003cextra\\u003e\\u003c\\u002fextra\\u003e\",\"legendgroup\":\"2013\",\"line\":{\"color\":\"#EF553B\",\"dash\":\"solid\"},\"marker\":{\"symbol\":\"circle\"},\"mode\":\"lines+markers\",\"name\":\"2013\",\"orientation\":\"v\",\"showlegend\":true,\"x\":[\"01-01\",\"01-02\",\"01-03\",\"01-04\",\"01-05\",\"01-06\",\"01-07\",\"01-08\",\"01-09\",\"01-10\",\"01-11\",\"01-12\",\"01-13\",\"01-14\",\"01-15\",\"01-16\",\"01-17\",\"01-18\",\"01-19\",\"01-20\",\"01-21\",\"01-22\",\"01-23\",\"01-24\",\"01-25\",\"01-26\",\"01-27\",\"01-28\",\"01-29\",\"01-30\",\"01-31\",\"02-01\",\"02-02\",\"02-03\",\"02-04\",\"02-05\",\"02-06\",\"02-07\",\"02-08\",\"02-09\",\"02-10\",\"02-11\",\"02-12\",\"02-13\",\"02-14\",\"02-15\",\"02-16\",\"02-17\",\"02-18\",\"02-19\",\"02-20\",\"02-21\",\"02-22\",\"02-23\",\"02-24\",\"02-25\",\"02-26\",\"02-27\",\"02-28\",\"03-01\",\"03-02\",\"03-03\",\"03-04\",\"03-05\",\"03-06\",\"03-07\",\"03-08\",\"03-09\",\"03-10\",\"03-11\",\"03-12\",\"03-13\",\"03-14\",\"03-15\",\"03-16\",\"03-17\",\"03-18\",\"03-19\",\"03-20\",\"03-21\",\"03-22\",\"03-23\",\"03-24\",\"03-25\",\"03-26\",\"03-27\",\"03-28\",\"03-29\",\"03-30\",\"03-31\",\"04-01\",\"04-02\",\"04-03\",\"04-04\",\"04-05\",\"04-06\",\"04-07\",\"04-08\",\"04-09\",\"04-10\",\"04-11\",\"04-12\",\"04-13\",\"04-14\",\"04-15\",\"04-16\",\"04-17\",\"04-18\",\"04-19\",\"04-20\",\"04-21\",\"04-22\",\"04-23\",\"04-24\",\"04-25\",\"04-26\",\"04-27\",\"04-28\",\"04-29\",\"04-30\",\"05-01\",\"05-02\",\"05-03\",\"05-04\",\"05-05\",\"05-06\",\"05-07\",\"05-08\",\"05-09\",\"05-10\",\"05-11\",\"05-12\",\"05-13\",\"05-14\",\"05-15\",\"05-16\",\"05-17\",\"05-18\",\"05-19\",\"05-20\",\"05-21\",\"05-22\",\"05-23\",\"05-24\",\"05-25\",\"05-26\",\"05-27\",\"05-28\",\"05-29\",\"05-30\",\"05-31\",\"06-01\",\"06-02\",\"06-03\",\"06-04\",\"06-05\",\"06-06\",\"06-07\",\"06-08\",\"06-09\",\"06-10\",\"06-11\",\"06-12\",\"06-13\",\"06-14\",\"06-15\",\"06-16\",\"06-17\",\"06-18\",\"06-19\",\"06-20\",\"06-21\",\"06-22\",\"06-23\",\"06-24\",\"06-25\",\"06-26\",\"06-27\",\"06-28\",\"06-29\",\"06-30\",\"07-01\",\"07-02\",\"07-03\",\"07-04\",\"07-05\",\"07-06\",\"07-07\",\"07-08\",\"07-09\",\"07-10\",\"07-11\",\"07-12\",\"07-13\",\"07-14\",\"07-15\",\"07-16\",\"07-17\",\"07-18\",\"07-19\",\"07-20\",\"07-21\",\"07-22\",\"07-23\",\"07-24\",\"07-25\",\"07-26\",\"07-27\",\"07-28\",\"07-29\",\"07-30\",\"07-31\",\"08-01\",\"08-02\",\"08-03\",\"08-04\",\"08-05\",\"08-06\",\"08-07\",\"08-08\",\"08-09\",\"08-10\",\"08-11\",\"08-12\",\"08-13\",\"08-14\",\"08-15\",\"08-16\",\"08-17\",\"08-18\",\"08-19\",\"08-20\",\"08-21\",\"08-22\",\"08-23\",\"08-24\",\"08-25\",\"08-26\",\"08-27\",\"08-28\",\"08-29\",\"08-30\",\"08-31\",\"09-01\",\"09-02\",\"09-03\",\"09-04\",\"09-05\",\"09-06\",\"09-07\",\"09-08\",\"09-09\",\"09-10\",\"09-11\",\"09-12\",\"09-13\",\"09-14\",\"09-15\",\"09-16\",\"09-17\",\"09-18\",\"09-19\",\"09-20\",\"09-21\",\"09-22\",\"09-23\",\"09-24\",\"09-25\",\"09-26\",\"09-27\",\"09-28\",\"09-29\",\"09-30\",\"10-01\",\"10-02\",\"10-03\",\"10-04\",\"10-05\",\"10-06\",\"10-07\",\"10-08\",\"10-09\",\"10-10\",\"10-11\",\"10-12\",\"10-13\",\"10-14\",\"10-15\",\"10-16\",\"10-17\",\"10-18\",\"10-19\",\"10-20\",\"10-21\",\"10-22\",\"10-23\",\"10-24\",\"10-25\",\"10-26\",\"10-27\",\"10-28\",\"10-29\",\"10-30\",\"10-31\",\"11-01\",\"11-02\",\"11-03\",\"11-04\",\"11-05\",\"11-06\",\"11-07\",\"11-08\",\"11-09\",\"11-10\",\"11-11\",\"11-12\",\"11-13\",\"11-14\",\"11-15\",\"11-16\",\"11-17\",\"11-18\",\"11-19\",\"11-20\",\"11-21\",\"11-22\",\"11-23\",\"11-24\",\"11-25\",\"11-26\",\"11-27\",\"11-28\",\"11-29\",\"11-30\",\"12-01\",\"12-02\",\"12-03\",\"12-04\",\"12-05\",\"12-06\",\"12-07\",\"12-08\",\"12-09\",\"12-10\",\"12-11\",\"12-12\"],\"xaxis\":\"x\",\"y\":[9206.23,12410.42,13797.36,15115.15,13435.84,10823.79,11289.65,9805.74,11725.55,14351.42,16482.9,13843.14,12729.35,9969.28,9420.08,11032.43,14217.97,15850.23,12577.04,8515.04,10540.91,11945.53,15780.630000000001,17779.79,11919.1,10460.25,11717.72,10126.12,9948.960000000001,11186.13,14256.93,14908.8,10802.92,10922.94,11038.84,10522.43,10919.03,14485.93,15002.6,13725.960000000001,11691.86,10999.03,14161.34,13831.78,15192.32,17098.94,12721.58,12377.35,11153.960000000001,11396.86,11968.4,15030.74,16338.12,12566.66,11679.74,11436.14,12338.11,12746.960000000001,13035.02,16783.0,12046.57,10114.42,10778.7,9379.18,14090.36,16095.52,15679.75,13445.76,11015.47,10709.69,11692.45,13839.51,15231.99,16873.89,14432.93,10752.94,12968.85,11213.76,12317.51,13086.05,16410.19,11959.66,10995.52,10920.09,13050.78,12030.61,13331.77,15109.14,11165.11,9867.59,9848.05,9131.61,11525.710000000001,13732.02,12418.17,12299.07,9961.89,9940.26,12718.88,14345.32,17068.73,14616.58,14476.210000000001,16868.78,11039.29,13525.76,12320.85,13813.06,15923.1,13342.89,10477.93,11233.12,11478.82,11953.42,12808.57,15115.16,11689.03,9696.99,8734.51,12060.710000000001,12031.49,14443.14,16331.12,11519.37,9881.4,9504.61,11498.84,12679.19,13823.78,14966.01,12168.59,13335.59,10945.86,14505.43,13347.02,15047.82,17580.16,14223.64,11867.24,12040.33,12697.42,10457.93,13131.41,13113.29,13717.54,10799.24,10297.39,10452.0,12309.62,13963.11,14102.41,11036.89,11460.18,10089.19,10509.1,10838.7,15072.04,14156.89,10200.19,11187.39,9439.23,12501.87,14651.75,15860.3,15010.67,14741.1,13232.0,10097.76,12694.12,12412.25,14158.31,14825.9,10945.87,10856.460000000001,9698.55,9826.42,11639.09,13853.95,14281.69,12879.22,10605.2,9658.710000000001,9491.98,10605.42,14249.630000000001,14984.460000000001,11466.16,9251.59,10053.73,10312.29,11779.59,13433.7,16906.69,12707.31,11068.92,10736.77,11889.880000000001,13735.55,14337.88,15691.73,12929.48,13182.32,10804.94,9589.8,10063.63,14594.12,15780.83,11561.03,10672.09,10015.54,8829.11,11212.45,13995.62,16915.08,12814.27,10998.12,11376.16,9655.15,10900.84,14996.93,15194.95,12813.960000000001,11837.53,10789.08,12384.68,13165.97,17722.95,18949.29,12622.37,11070.95,10913.6,9786.23,11813.23,14105.94,16132.92,11936.74,12284.37,9800.42,11743.41,13692.13,15610.2,16324.2,15889.59,17403.48,20144.7,6962.69,8996.58,9945.83,13126.72,11001.99,12147.22,10060.04,9499.69,12595.11,15628.61,19612.1,11817.41,13220.04,12020.49,11909.81,12427.54,15148.31,16395.64,11508.6,11713.49,9486.49,11095.11,12721.51,16449.13,13949.02,13093.74,13354.16,12983.61,13900.69,19095.37,24760.1,16005.2,2.99,11830.28,11304.24,10303.79,12934.03,17882.26,16574.57,10506.34,13300.130000000001,13579.64,11828.22,13218.01,16554.43,17977.47,10786.09,11436.13,11441.0,12117.53,11727.53,15434.41,15952.37,12258.74,10498.28,9249.14,10022.53,12333.34,19105.24,13342.84,12227.0,11626.08,9010.78,11474.57,13070.69,15630.94,15799.2,10683.97,10642.14,12922.52,13594.82,13059.9,17710.28,20335.99,13812.380000000001,13986.460000000001,10744.16,12433.57,10797.33,16990.84,22599.18,23511.82,7573.7300000000005,9457.07,10204.26,12133.82,14614.29,15568.11,11007.9,9089.6,12162.44,9818.26,11677.97,14173.15,16477.93,11443.89,10632.36,9949.9,11245.74,12758.04,15938.7],\"yaxis\":\"y\",\"type\":\"scatter\"}],                        {\"template\":{\"data\":{\"histogram2dcontour\":[{\"type\":\"histogram2dcontour\",\"colorbar\":{\"outlinewidth\":0,\"ticks\":\"\"},\"colorscale\":[[0.0,\"#0d0887\"],[0.1111111111111111,\"#46039f\"],[0.2222222222222222,\"#7201a8\"],[0.3333333333333333,\"#9c179e\"],[0.4444444444444444,\"#bd3786\"],[0.5555555555555556,\"#d8576b\"],[0.6666666666666666,\"#ed7953\"],[0.7777777777777778,\"#fb9f3a\"],[0.8888888888888888,\"#fdca26\"],[1.0,\"#f0f921\"]]}],\"choropleth\":[{\"type\":\"choropleth\",\"colorbar\":{\"outlinewidth\":0,\"ticks\":\"\"}}],\"histogram2d\":[{\"type\":\"histogram2d\",\"colorbar\":{\"outlinewidth\":0,\"ticks\":\"\"},\"colorscale\":[[0.0,\"#0d0887\"],[0.1111111111111111,\"#46039f\"],[0.2222222222222222,\"#7201a8\"],[0.3333333333333333,\"#9c179e\"],[0.4444444444444444,\"#bd3786\"],[0.5555555555555556,\"#d8576b\"],[0.6666666666666666,\"#ed7953\"],[0.7777777777777778,\"#fb9f3a\"],[0.8888888888888888,\"#fdca26\"],[1.0,\"#f0f921\"]]}],\"heatmap\":[{\"type\":\"heatmap\",\"colorbar\":{\"outlinewidth\":0,\"ticks\":\"\"},\"colorscale\":[[0.0,\"#0d0887\"],[0.1111111111111111,\"#46039f\"],[0.2222222222222222,\"#7201a8\"],[0.3333333333333333,\"#9c179e\"],[0.4444444444444444,\"#bd3786\"],[0.5555555555555556,\"#d8576b\"],[0.6666666666666666,\"#ed7953\"],[0.7777777777777778,\"#fb9f3a\"],[0.8888888888888888,\"#fdca26\"],[1.0,\"#f0f921\"]]}],\"heatmapgl\":[{\"type\":\"heatmapgl\",\"colorbar\":{\"outlinewidth\":0,\"ticks\":\"\"},\"colorscale\":[[0.0,\"#0d0887\"],[0.1111111111111111,\"#46039f\"],[0.2222222222222222,\"#7201a8\"],[0.3333333333333333,\"#9c179e\"],[0.4444444444444444,\"#bd3786\"],[0.5555555555555556,\"#d8576b\"],[0.6666666666666666,\"#ed7953\"],[0.7777777777777778,\"#fb9f3a\"],[0.8888888888888888,\"#fdca26\"],[1.0,\"#f0f921\"]]}],\"contourcarpet\":[{\"type\":\"contourcarpet\",\"colorbar\":{\"outlinewidth\":0,\"ticks\":\"\"}}],\"contour\":[{\"type\":\"contour\",\"colorbar\":{\"outlinewidth\":0,\"ticks\":\"\"},\"colorscale\":[[0.0,\"#0d0887\"],[0.1111111111111111,\"#46039f\"],[0.2222222222222222,\"#7201a8\"],[0.3333333333333333,\"#9c179e\"],[0.4444444444444444,\"#bd3786\"],[0.5555555555555556,\"#d8576b\"],[0.6666666666666666,\"#ed7953\"],[0.7777777777777778,\"#fb9f3a\"],[0.8888888888888888,\"#fdca26\"],[1.0,\"#f0f921\"]]}],\"surface\":[{\"type\":\"surface\",\"colorbar\":{\"outlinewidth\":0,\"ticks\":\"\"},\"colorscale\":[[0.0,\"#0d0887\"],[0.1111111111111111,\"#46039f\"],[0.2222222222222222,\"#7201a8\"],[0.3333333333333333,\"#9c179e\"],[0.4444444444444444,\"#bd3786\"],[0.5555555555555556,\"#d8576b\"],[0.6666666666666666,\"#ed7953\"],[0.7777777777777778,\"#fb9f3a\"],[0.8888888888888888,\"#fdca26\"],[1.0,\"#f0f921\"]]}],\"mesh3d\":[{\"type\":\"mesh3d\",\"colorbar\":{\"outlinewidth\":0,\"ticks\":\"\"}}],\"scatter\":[{\"fillpattern\":{\"fillmode\":\"overlay\",\"size\":10,\"solidity\":0.2},\"type\":\"scatter\"}],\"parcoords\":[{\"type\":\"parcoords\",\"line\":{\"colorbar\":{\"outlinewidth\":0,\"ticks\":\"\"}}}],\"scatterpolargl\":[{\"type\":\"scatterpolargl\",\"marker\":{\"colorbar\":{\"outlinewidth\":0,\"ticks\":\"\"}}}],\"bar\":[{\"error_x\":{\"color\":\"#2a3f5f\"},\"error_y\":{\"color\":\"#2a3f5f\"},\"marker\":{\"line\":{\"color\":\"#E5ECF6\",\"width\":0.5},\"pattern\":{\"fillmode\":\"overlay\",\"size\":10,\"solidity\":0.2}},\"type\":\"bar\"}],\"scattergeo\":[{\"type\":\"scattergeo\",\"marker\":{\"colorbar\":{\"outlinewidth\":0,\"ticks\":\"\"}}}],\"scatterpolar\":[{\"type\":\"scatterpolar\",\"marker\":{\"colorbar\":{\"outlinewidth\":0,\"ticks\":\"\"}}}],\"histogram\":[{\"marker\":{\"pattern\":{\"fillmode\":\"overlay\",\"size\":10,\"solidity\":0.2}},\"type\":\"histogram\"}],\"scattergl\":[{\"type\":\"scattergl\",\"marker\":{\"colorbar\":{\"outlinewidth\":0,\"ticks\":\"\"}}}],\"scatter3d\":[{\"type\":\"scatter3d\",\"line\":{\"colorbar\":{\"outlinewidth\":0,\"ticks\":\"\"}},\"marker\":{\"colorbar\":{\"outlinewidth\":0,\"ticks\":\"\"}}}],\"scattermapbox\":[{\"type\":\"scattermapbox\",\"marker\":{\"colorbar\":{\"outlinewidth\":0,\"ticks\":\"\"}}}],\"scatterternary\":[{\"type\":\"scatterternary\",\"marker\":{\"colorbar\":{\"outlinewidth\":0,\"ticks\":\"\"}}}],\"scattercarpet\":[{\"type\":\"scattercarpet\",\"marker\":{\"colorbar\":{\"outlinewidth\":0,\"ticks\":\"\"}}}],\"carpet\":[{\"aaxis\":{\"endlinecolor\":\"#2a3f5f\",\"gridcolor\":\"white\",\"linecolor\":\"white\",\"minorgridcolor\":\"white\",\"startlinecolor\":\"#2a3f5f\"},\"baxis\":{\"endlinecolor\":\"#2a3f5f\",\"gridcolor\":\"white\",\"linecolor\":\"white\",\"minorgridcolor\":\"white\",\"startlinecolor\":\"#2a3f5f\"},\"type\":\"carpet\"}],\"table\":[{\"cells\":{\"fill\":{\"color\":\"#EBF0F8\"},\"line\":{\"color\":\"white\"}},\"header\":{\"fill\":{\"color\":\"#C8D4E3\"},\"line\":{\"color\":\"white\"}},\"type\":\"table\"}],\"barpolar\":[{\"marker\":{\"line\":{\"color\":\"#E5ECF6\",\"width\":0.5},\"pattern\":{\"fillmode\":\"overlay\",\"size\":10,\"solidity\":0.2}},\"type\":\"barpolar\"}],\"pie\":[{\"automargin\":true,\"type\":\"pie\"}]},\"layout\":{\"autotypenumbers\":\"strict\",\"colorway\":[\"#636efa\",\"#EF553B\",\"#00cc96\",\"#ab63fa\",\"#FFA15A\",\"#19d3f3\",\"#FF6692\",\"#B6E880\",\"#FF97FF\",\"#FECB52\"],\"font\":{\"color\":\"#2a3f5f\"},\"hovermode\":\"closest\",\"hoverlabel\":{\"align\":\"left\"},\"paper_bgcolor\":\"white\",\"plot_bgcolor\":\"#E5ECF6\",\"polar\":{\"bgcolor\":\"#E5ECF6\",\"angularaxis\":{\"gridcolor\":\"white\",\"linecolor\":\"white\",\"ticks\":\"\"},\"radialaxis\":{\"gridcolor\":\"white\",\"linecolor\":\"white\",\"ticks\":\"\"}},\"ternary\":{\"bgcolor\":\"#E5ECF6\",\"aaxis\":{\"gridcolor\":\"white\",\"linecolor\":\"white\",\"ticks\":\"\"},\"baxis\":{\"gridcolor\":\"white\",\"linecolor\":\"white\",\"ticks\":\"\"},\"caxis\":{\"gridcolor\":\"white\",\"linecolor\":\"white\",\"ticks\":\"\"}},\"coloraxis\":{\"colorbar\":{\"outlinewidth\":0,\"ticks\":\"\"}},\"colorscale\":{\"sequential\":[[0.0,\"#0d0887\"],[0.1111111111111111,\"#46039f\"],[0.2222222222222222,\"#7201a8\"],[0.3333333333333333,\"#9c179e\"],[0.4444444444444444,\"#bd3786\"],[0.5555555555555556,\"#d8576b\"],[0.6666666666666666,\"#ed7953\"],[0.7777777777777778,\"#fb9f3a\"],[0.8888888888888888,\"#fdca26\"],[1.0,\"#f0f921\"]],\"sequentialminus\":[[0.0,\"#0d0887\"],[0.1111111111111111,\"#46039f\"],[0.2222222222222222,\"#7201a8\"],[0.3333333333333333,\"#9c179e\"],[0.4444444444444444,\"#bd3786\"],[0.5555555555555556,\"#d8576b\"],[0.6666666666666666,\"#ed7953\"],[0.7777777777777778,\"#fb9f3a\"],[0.8888888888888888,\"#fdca26\"],[1.0,\"#f0f921\"]],\"diverging\":[[0,\"#8e0152\"],[0.1,\"#c51b7d\"],[0.2,\"#de77ae\"],[0.3,\"#f1b6da\"],[0.4,\"#fde0ef\"],[0.5,\"#f7f7f7\"],[0.6,\"#e6f5d0\"],[0.7,\"#b8e186\"],[0.8,\"#7fbc41\"],[0.9,\"#4d9221\"],[1,\"#276419\"]]},\"xaxis\":{\"gridcolor\":\"white\",\"linecolor\":\"white\",\"ticks\":\"\",\"title\":{\"standoff\":15},\"zerolinecolor\":\"white\",\"automargin\":true,\"zerolinewidth\":2},\"yaxis\":{\"gridcolor\":\"white\",\"linecolor\":\"white\",\"ticks\":\"\",\"title\":{\"standoff\":15},\"zerolinecolor\":\"white\",\"automargin\":true,\"zerolinewidth\":2},\"scene\":{\"xaxis\":{\"backgroundcolor\":\"#E5ECF6\",\"gridcolor\":\"white\",\"linecolor\":\"white\",\"showbackground\":true,\"ticks\":\"\",\"zerolinecolor\":\"white\",\"gridwidth\":2},\"yaxis\":{\"backgroundcolor\":\"#E5ECF6\",\"gridcolor\":\"white\",\"linecolor\":\"white\",\"showbackground\":true,\"ticks\":\"\",\"zerolinecolor\":\"white\",\"gridwidth\":2},\"zaxis\":{\"backgroundcolor\":\"#E5ECF6\",\"gridcolor\":\"white\",\"linecolor\":\"white\",\"showbackground\":true,\"ticks\":\"\",\"zerolinecolor\":\"white\",\"gridwidth\":2}},\"shapedefaults\":{\"line\":{\"color\":\"#2a3f5f\"}},\"annotationdefaults\":{\"arrowcolor\":\"#2a3f5f\",\"arrowhead\":0,\"arrowwidth\":1},\"geo\":{\"bgcolor\":\"white\",\"landcolor\":\"#E5ECF6\",\"subunitcolor\":\"white\",\"showland\":true,\"showlakes\":true,\"lakecolor\":\"white\"},\"title\":{\"x\":0.05},\"mapbox\":{\"style\":\"light\"}}},\"xaxis\":{\"anchor\":\"y\",\"domain\":[0.0,1.0],\"title\":{\"text\":\"Month\"},\"showgrid\":false},\"yaxis\":{\"anchor\":\"x\",\"domain\":[0.0,1.0],\"title\":{\"text\":\"Average Daily Sales Value\"},\"showgrid\":false},\"legend\":{\"title\":{\"text\":\"Year\"},\"tracegroupgap\":0},\"margin\":{\"t\":60},\"title\":{\"text\":\"Daily Sales Value Over Time by Year\",\"x\":0.5}},                        {\"responsive\": true}                    )                };                            </script>        </div>"
      ],
      "text/plain": [
       "Figure({\n",
       "    'data': [{'hovertemplate': 'Year=2012<br>Month=%{x}<br>Average Daily Sales Value=%{y}<extra></extra>',\n",
       "              'legendgroup': '2012',\n",
       "              'line': {'color': '#636efa', 'dash': 'solid'},\n",
       "              'marker': {'symbol': 'circle'},\n",
       "              'mode': 'lines+markers',\n",
       "              'name': '2012',\n",
       "              'orientation': 'v',\n",
       "              'showlegend': True,\n",
       "              'type': 'scatter',\n",
       "              'x': array(['01-02', '01-03', '01-04', ..., '12-29', '12-30', '12-31'], dtype=object),\n",
       "              'xaxis': 'x',\n",
       "              'y': array([  549.31,   458.91,  1560.37, ..., 14814.22,  8555.63,  9340.74]),\n",
       "              'yaxis': 'y'},\n",
       "             {'hovertemplate': 'Year=2013<br>Month=%{x}<br>Average Daily Sales Value=%{y}<extra></extra>',\n",
       "              'legendgroup': '2013',\n",
       "              'line': {'color': '#EF553B', 'dash': 'solid'},\n",
       "              'marker': {'symbol': 'circle'},\n",
       "              'mode': 'lines+markers',\n",
       "              'name': '2013',\n",
       "              'orientation': 'v',\n",
       "              'showlegend': True,\n",
       "              'type': 'scatter',\n",
       "              'x': array(['01-01', '01-02', '01-03', ..., '12-10', '12-11', '12-12'], dtype=object),\n",
       "              'xaxis': 'x',\n",
       "              'y': array([ 9206.23, 12410.42, 13797.36, ..., 11245.74, 12758.04, 15938.7 ]),\n",
       "              'yaxis': 'y'}],\n",
       "    'layout': {'legend': {'title': {'text': 'Year'}, 'tracegroupgap': 0},\n",
       "               'margin': {'t': 60},\n",
       "               'template': '...',\n",
       "               'title': {'text': 'Daily Sales Value Over Time by Year', 'x': 0.5},\n",
       "               'xaxis': {'anchor': 'y', 'domain': [0.0, 1.0], 'showgrid': False, 'title': {'text': 'Month'}},\n",
       "               'yaxis': {'anchor': 'x',\n",
       "                         'domain': [0.0, 1.0],\n",
       "                         'showgrid': False,\n",
       "                         'title': {'text': 'Average Daily Sales Value'}}}\n",
       "})"
      ]
     },
     "execution_count": 70,
     "metadata": {},
     "output_type": "execute_result"
    }
   ],
   "source": [
    "fig = px.line(\n",
    "    x=daily_sales[\"TRANS_DATE\"].dt.strftime(\"%m-%d\").astype(\"str\"),\n",
    "    y=daily_sales[\"SALES_VALUE\"].astype(\"float\"),\n",
    "    color=daily_sales[\"TRANS_DATE\"].dt.year,\n",
    "    labels={\n",
    "        \"x\": \"Month\",\n",
    "        \"y\": \"Average Daily Sales Value\",\n",
    "        \"color\": \"Year\",\n",
    "    },\n",
    "    markers=True,\n",
    ")\n",
    "fig.update_layout(\n",
    "    title={\n",
    "        \"text\": \"Daily Sales Value Over Time by Year\",\n",
    "        \"x\": 0.5,\n",
    "    },\n",
    "    # Hide the grid lines\n",
    "    xaxis=dict(showgrid=False),\n",
    "    yaxis=dict(showgrid=False),\n",
    ")\n",
    "\n",
    "fig"
   ]
  },
  {
   "cell_type": "markdown",
   "metadata": {},
   "source": [
    "## 4. New Customers"
   ]
  },
  {
   "cell_type": "code",
   "execution_count": 71,
   "metadata": {},
   "outputs": [
    {
     "data": {
      "text/html": [
       "<div>\n",
       "<style scoped>\n",
       "    .dataframe tbody tr th:only-of-type {\n",
       "        vertical-align: middle;\n",
       "    }\n",
       "\n",
       "    .dataframe tbody tr th {\n",
       "        vertical-align: top;\n",
       "    }\n",
       "\n",
       "    .dataframe thead th {\n",
       "        text-align: right;\n",
       "    }\n",
       "</style>\n",
       "<table border=\"1\" class=\"dataframe\">\n",
       "  <thead>\n",
       "    <tr style=\"text-align: right;\">\n",
       "      <th></th>\n",
       "      <th>TRANS_DATE</th>\n",
       "    </tr>\n",
       "    <tr>\n",
       "      <th>household_key</th>\n",
       "      <th></th>\n",
       "    </tr>\n",
       "  </thead>\n",
       "  <tbody>\n",
       "    <tr>\n",
       "      <th>1</th>\n",
       "      <td>2012-02-21</td>\n",
       "    </tr>\n",
       "    <tr>\n",
       "      <th>2</th>\n",
       "      <td>2012-04-13</td>\n",
       "    </tr>\n",
       "    <tr>\n",
       "      <th>3</th>\n",
       "      <td>2012-04-23</td>\n",
       "    </tr>\n",
       "    <tr>\n",
       "      <th>4</th>\n",
       "      <td>2012-04-14</td>\n",
       "    </tr>\n",
       "    <tr>\n",
       "      <th>5</th>\n",
       "      <td>2012-03-26</td>\n",
       "    </tr>\n",
       "    <tr>\n",
       "      <th>...</th>\n",
       "      <td>...</td>\n",
       "    </tr>\n",
       "    <tr>\n",
       "      <th>2496</th>\n",
       "      <td>2012-04-27</td>\n",
       "    </tr>\n",
       "    <tr>\n",
       "      <th>2497</th>\n",
       "      <td>2012-03-19</td>\n",
       "    </tr>\n",
       "    <tr>\n",
       "      <th>2498</th>\n",
       "      <td>2012-04-15</td>\n",
       "    </tr>\n",
       "    <tr>\n",
       "      <th>2499</th>\n",
       "      <td>2012-03-11</td>\n",
       "    </tr>\n",
       "    <tr>\n",
       "      <th>2500</th>\n",
       "      <td>2012-03-20</td>\n",
       "    </tr>\n",
       "  </tbody>\n",
       "</table>\n",
       "<p>2500 rows × 1 columns</p>\n",
       "</div>"
      ],
      "text/plain": [
       "              TRANS_DATE\n",
       "household_key           \n",
       "1             2012-02-21\n",
       "2             2012-04-13\n",
       "3             2012-04-23\n",
       "4             2012-04-14\n",
       "5             2012-03-26\n",
       "...                  ...\n",
       "2496          2012-04-27\n",
       "2497          2012-03-19\n",
       "2498          2012-04-15\n",
       "2499          2012-03-11\n",
       "2500          2012-03-20\n",
       "\n",
       "[2500 rows x 1 columns]"
      ]
     },
     "execution_count": 71,
     "metadata": {},
     "output_type": "execute_result"
    }
   ],
   "source": [
    "customer_first_date"
   ]
  },
  {
   "cell_type": "code",
   "execution_count": 72,
   "metadata": {},
   "outputs": [
    {
     "ename": "ValueError",
     "evalue": "Mime type rendering requires nbformat>=4.2.0 but it is not installed",
     "output_type": "error",
     "traceback": [
      "\u001b[0;31m---------------------------------------------------------------------------\u001b[0m",
      "\u001b[0;31mValueError\u001b[0m                                Traceback (most recent call last)",
      "File \u001b[0;32m/mnt/77165487061AF296/Sorbonne_Data_Analytics_SDA/Cours/Data_Management_Nisrine_Moummou/Projet_Data_Management/.venv/lib/python3.11/site-packages/IPython/core/formatters.py:925\u001b[0m, in \u001b[0;36mIPythonDisplayFormatter.__call__\u001b[0;34m(self, obj)\u001b[0m\n\u001b[1;32m    923\u001b[0m method \u001b[38;5;241m=\u001b[39m get_real_method(obj, \u001b[38;5;28mself\u001b[39m\u001b[38;5;241m.\u001b[39mprint_method)\n\u001b[1;32m    924\u001b[0m \u001b[38;5;28;01mif\u001b[39;00m method \u001b[38;5;129;01mis\u001b[39;00m \u001b[38;5;129;01mnot\u001b[39;00m \u001b[38;5;28;01mNone\u001b[39;00m:\n\u001b[0;32m--> 925\u001b[0m     \u001b[43mmethod\u001b[49m\u001b[43m(\u001b[49m\u001b[43m)\u001b[49m\n\u001b[1;32m    926\u001b[0m     \u001b[38;5;28;01mreturn\u001b[39;00m \u001b[38;5;28;01mTrue\u001b[39;00m\n",
      "File \u001b[0;32m/mnt/77165487061AF296/Sorbonne_Data_Analytics_SDA/Cours/Data_Management_Nisrine_Moummou/Projet_Data_Management/.venv/lib/python3.11/site-packages/plotly/basedatatypes.py:832\u001b[0m, in \u001b[0;36mBaseFigure._ipython_display_\u001b[0;34m(self)\u001b[0m\n\u001b[1;32m    829\u001b[0m \u001b[38;5;28;01mimport\u001b[39;00m \u001b[38;5;21;01mplotly\u001b[39;00m\u001b[38;5;21;01m.\u001b[39;00m\u001b[38;5;21;01mio\u001b[39;00m \u001b[38;5;28;01mas\u001b[39;00m \u001b[38;5;21;01mpio\u001b[39;00m\n\u001b[1;32m    831\u001b[0m \u001b[38;5;28;01mif\u001b[39;00m pio\u001b[38;5;241m.\u001b[39mrenderers\u001b[38;5;241m.\u001b[39mrender_on_display \u001b[38;5;129;01mand\u001b[39;00m pio\u001b[38;5;241m.\u001b[39mrenderers\u001b[38;5;241m.\u001b[39mdefault:\n\u001b[0;32m--> 832\u001b[0m     \u001b[43mpio\u001b[49m\u001b[38;5;241;43m.\u001b[39;49m\u001b[43mshow\u001b[49m\u001b[43m(\u001b[49m\u001b[38;5;28;43mself\u001b[39;49m\u001b[43m)\u001b[49m\n\u001b[1;32m    833\u001b[0m \u001b[38;5;28;01melse\u001b[39;00m:\n\u001b[1;32m    834\u001b[0m     \u001b[38;5;28mprint\u001b[39m(\u001b[38;5;28mrepr\u001b[39m(\u001b[38;5;28mself\u001b[39m))\n",
      "File \u001b[0;32m/mnt/77165487061AF296/Sorbonne_Data_Analytics_SDA/Cours/Data_Management_Nisrine_Moummou/Projet_Data_Management/.venv/lib/python3.11/site-packages/plotly/io/_renderers.py:394\u001b[0m, in \u001b[0;36mshow\u001b[0;34m(fig, renderer, validate, **kwargs)\u001b[0m\n\u001b[1;32m    389\u001b[0m         \u001b[38;5;28;01mraise\u001b[39;00m \u001b[38;5;167;01mValueError\u001b[39;00m(\n\u001b[1;32m    390\u001b[0m             \u001b[38;5;124m\"\u001b[39m\u001b[38;5;124mMime type rendering requires ipython but it is not installed\u001b[39m\u001b[38;5;124m\"\u001b[39m\n\u001b[1;32m    391\u001b[0m         )\n\u001b[1;32m    393\u001b[0m     \u001b[38;5;28;01mif\u001b[39;00m \u001b[38;5;129;01mnot\u001b[39;00m nbformat \u001b[38;5;129;01mor\u001b[39;00m Version(nbformat\u001b[38;5;241m.\u001b[39m__version__) \u001b[38;5;241m<\u001b[39m Version(\u001b[38;5;124m\"\u001b[39m\u001b[38;5;124m4.2.0\u001b[39m\u001b[38;5;124m\"\u001b[39m):\n\u001b[0;32m--> 394\u001b[0m         \u001b[38;5;28;01mraise\u001b[39;00m \u001b[38;5;167;01mValueError\u001b[39;00m(\n\u001b[1;32m    395\u001b[0m             \u001b[38;5;124m\"\u001b[39m\u001b[38;5;124mMime type rendering requires nbformat>=4.2.0 but it is not installed\u001b[39m\u001b[38;5;124m\"\u001b[39m\n\u001b[1;32m    396\u001b[0m         )\n\u001b[1;32m    398\u001b[0m     ipython_display\u001b[38;5;241m.\u001b[39mdisplay(bundle, raw\u001b[38;5;241m=\u001b[39m\u001b[38;5;28;01mTrue\u001b[39;00m)\n\u001b[1;32m    400\u001b[0m \u001b[38;5;66;03m# external renderers\u001b[39;00m\n",
      "\u001b[0;31mValueError\u001b[0m: Mime type rendering requires nbformat>=4.2.0 but it is not installed"
     ]
    },
    {
     "data": {
      "application/vnd.plotly.v1+json": {
       "config": {
        "plotlyServerURL": "https://plot.ly"
       },
       "data": [
        {
         "hovertemplate": "Date of first purchase=%{x}<br>Number of households=%{y}<extra></extra>",
         "legendgroup": "",
         "line": {
          "color": "#636efa",
          "dash": "solid"
         },
         "marker": {
          "symbol": "circle"
         },
         "mode": "lines+markers",
         "name": "",
         "orientation": "v",
         "showlegend": false,
         "type": "scatter",
         "x": [
          "2012-01-02T00:00:00",
          "2012-01-03T00:00:00",
          "2012-01-04T00:00:00",
          "2012-01-05T00:00:00",
          "2012-01-06T00:00:00",
          "2012-01-07T00:00:00",
          "2012-01-08T00:00:00",
          "2012-01-09T00:00:00",
          "2012-01-10T00:00:00",
          "2012-01-11T00:00:00",
          "2012-01-12T00:00:00",
          "2012-01-13T00:00:00",
          "2012-01-14T00:00:00",
          "2012-01-15T00:00:00",
          "2012-01-16T00:00:00",
          "2012-01-17T00:00:00",
          "2012-01-18T00:00:00",
          "2012-01-19T00:00:00",
          "2012-01-20T00:00:00",
          "2012-01-21T00:00:00",
          "2012-01-22T00:00:00",
          "2012-01-23T00:00:00",
          "2012-01-24T00:00:00",
          "2012-01-25T00:00:00",
          "2012-01-26T00:00:00",
          "2012-01-27T00:00:00",
          "2012-01-28T00:00:00",
          "2012-01-29T00:00:00",
          "2012-01-30T00:00:00",
          "2012-01-31T00:00:00",
          "2012-02-01T00:00:00",
          "2012-02-02T00:00:00",
          "2012-02-03T00:00:00",
          "2012-02-04T00:00:00",
          "2012-02-05T00:00:00",
          "2012-02-06T00:00:00",
          "2012-02-07T00:00:00",
          "2012-02-08T00:00:00",
          "2012-02-09T00:00:00",
          "2012-02-10T00:00:00",
          "2012-02-11T00:00:00",
          "2012-02-12T00:00:00",
          "2012-02-13T00:00:00",
          "2012-02-14T00:00:00",
          "2012-02-15T00:00:00",
          "2012-02-16T00:00:00",
          "2012-02-17T00:00:00",
          "2012-02-18T00:00:00",
          "2012-02-19T00:00:00",
          "2012-02-20T00:00:00",
          "2012-02-21T00:00:00",
          "2012-02-22T00:00:00",
          "2012-02-23T00:00:00",
          "2012-02-24T00:00:00",
          "2012-02-25T00:00:00",
          "2012-02-26T00:00:00",
          "2012-02-27T00:00:00",
          "2012-02-28T00:00:00",
          "2012-02-29T00:00:00",
          "2012-03-01T00:00:00",
          "2012-03-02T00:00:00",
          "2012-03-03T00:00:00",
          "2012-03-04T00:00:00",
          "2012-03-05T00:00:00",
          "2012-03-06T00:00:00",
          "2012-03-07T00:00:00",
          "2012-03-08T00:00:00",
          "2012-03-09T00:00:00",
          "2012-03-10T00:00:00",
          "2012-03-11T00:00:00",
          "2012-03-12T00:00:00",
          "2012-03-13T00:00:00",
          "2012-03-14T00:00:00",
          "2012-03-15T00:00:00",
          "2012-03-16T00:00:00",
          "2012-03-17T00:00:00",
          "2012-03-18T00:00:00",
          "2012-03-19T00:00:00",
          "2012-03-20T00:00:00",
          "2012-03-21T00:00:00",
          "2012-03-22T00:00:00",
          "2012-03-23T00:00:00",
          "2012-03-24T00:00:00",
          "2012-03-25T00:00:00",
          "2012-03-26T00:00:00",
          "2012-03-27T00:00:00",
          "2012-03-28T00:00:00",
          "2012-03-29T00:00:00",
          "2012-03-30T00:00:00",
          "2012-03-31T00:00:00",
          "2012-04-01T00:00:00",
          "2012-04-02T00:00:00",
          "2012-04-03T00:00:00",
          "2012-04-04T00:00:00",
          "2012-04-05T00:00:00",
          "2012-04-06T00:00:00",
          "2012-04-07T00:00:00",
          "2012-04-08T00:00:00",
          "2012-04-09T00:00:00",
          "2012-04-10T00:00:00",
          "2012-04-11T00:00:00",
          "2012-04-12T00:00:00",
          "2012-04-13T00:00:00",
          "2012-04-14T00:00:00",
          "2012-04-15T00:00:00",
          "2012-04-16T00:00:00",
          "2012-04-17T00:00:00",
          "2012-04-18T00:00:00",
          "2012-04-19T00:00:00",
          "2012-04-20T00:00:00",
          "2012-04-21T00:00:00",
          "2012-04-22T00:00:00",
          "2012-04-23T00:00:00",
          "2012-04-24T00:00:00",
          "2012-04-25T00:00:00",
          "2012-04-26T00:00:00",
          "2012-04-27T00:00:00",
          "2012-04-28T00:00:00",
          "2012-04-29T00:00:00",
          "2012-05-05T00:00:00",
          "2012-05-16T00:00:00",
          "2012-06-02T00:00:00",
          "2012-07-31T00:00:00",
          "2012-08-05T00:00:00",
          "2012-10-04T00:00:00",
          "2013-03-09T00:00:00",
          "2013-09-05T00:00:00",
          "2013-11-02T00:00:00"
         ],
         "xaxis": "x",
         "y": [
          15,
          10,
          26,
          23,
          14,
          21,
          17,
          19,
          14,
          19,
          21,
          18,
          11,
          18,
          10,
          14,
          22,
          19,
          19,
          18,
          18,
          13,
          11,
          17,
          20,
          21,
          21,
          13,
          17,
          30,
          11,
          20,
          26,
          21,
          15,
          25,
          7,
          13,
          19,
          19,
          12,
          25,
          13,
          18,
          16,
          23,
          24,
          15,
          24,
          16,
          23,
          22,
          14,
          18,
          20,
          13,
          12,
          16,
          19,
          27,
          22,
          23,
          17,
          15,
          20,
          22,
          22,
          21,
          29,
          23,
          29,
          19,
          22,
          27,
          30,
          24,
          25,
          23,
          26,
          19,
          27,
          27,
          22,
          17,
          21,
          23,
          19,
          25,
          25,
          23,
          29,
          19,
          22,
          18,
          31,
          24,
          17,
          22,
          18,
          19,
          29,
          26,
          36,
          25,
          22,
          30,
          29,
          31,
          25,
          35,
          22,
          26,
          26,
          30,
          38,
          25,
          27,
          26,
          2,
          1,
          1,
          1,
          1,
          1,
          1,
          1,
          1,
          1
         ],
         "yaxis": "y"
        }
       ],
       "layout": {
        "legend": {
         "tracegroupgap": 0
        },
        "margin": {
         "t": 60
        },
        "template": {
         "data": {
          "bar": [
           {
            "error_x": {
             "color": "#2a3f5f"
            },
            "error_y": {
             "color": "#2a3f5f"
            },
            "marker": {
             "line": {
              "color": "#E5ECF6",
              "width": 0.5
             },
             "pattern": {
              "fillmode": "overlay",
              "size": 10,
              "solidity": 0.2
             }
            },
            "type": "bar"
           }
          ],
          "barpolar": [
           {
            "marker": {
             "line": {
              "color": "#E5ECF6",
              "width": 0.5
             },
             "pattern": {
              "fillmode": "overlay",
              "size": 10,
              "solidity": 0.2
             }
            },
            "type": "barpolar"
           }
          ],
          "carpet": [
           {
            "aaxis": {
             "endlinecolor": "#2a3f5f",
             "gridcolor": "white",
             "linecolor": "white",
             "minorgridcolor": "white",
             "startlinecolor": "#2a3f5f"
            },
            "baxis": {
             "endlinecolor": "#2a3f5f",
             "gridcolor": "white",
             "linecolor": "white",
             "minorgridcolor": "white",
             "startlinecolor": "#2a3f5f"
            },
            "type": "carpet"
           }
          ],
          "choropleth": [
           {
            "colorbar": {
             "outlinewidth": 0,
             "ticks": ""
            },
            "type": "choropleth"
           }
          ],
          "contour": [
           {
            "colorbar": {
             "outlinewidth": 0,
             "ticks": ""
            },
            "colorscale": [
             [
              0,
              "#0d0887"
             ],
             [
              0.1111111111111111,
              "#46039f"
             ],
             [
              0.2222222222222222,
              "#7201a8"
             ],
             [
              0.3333333333333333,
              "#9c179e"
             ],
             [
              0.4444444444444444,
              "#bd3786"
             ],
             [
              0.5555555555555556,
              "#d8576b"
             ],
             [
              0.6666666666666666,
              "#ed7953"
             ],
             [
              0.7777777777777778,
              "#fb9f3a"
             ],
             [
              0.8888888888888888,
              "#fdca26"
             ],
             [
              1,
              "#f0f921"
             ]
            ],
            "type": "contour"
           }
          ],
          "contourcarpet": [
           {
            "colorbar": {
             "outlinewidth": 0,
             "ticks": ""
            },
            "type": "contourcarpet"
           }
          ],
          "heatmap": [
           {
            "colorbar": {
             "outlinewidth": 0,
             "ticks": ""
            },
            "colorscale": [
             [
              0,
              "#0d0887"
             ],
             [
              0.1111111111111111,
              "#46039f"
             ],
             [
              0.2222222222222222,
              "#7201a8"
             ],
             [
              0.3333333333333333,
              "#9c179e"
             ],
             [
              0.4444444444444444,
              "#bd3786"
             ],
             [
              0.5555555555555556,
              "#d8576b"
             ],
             [
              0.6666666666666666,
              "#ed7953"
             ],
             [
              0.7777777777777778,
              "#fb9f3a"
             ],
             [
              0.8888888888888888,
              "#fdca26"
             ],
             [
              1,
              "#f0f921"
             ]
            ],
            "type": "heatmap"
           }
          ],
          "heatmapgl": [
           {
            "colorbar": {
             "outlinewidth": 0,
             "ticks": ""
            },
            "colorscale": [
             [
              0,
              "#0d0887"
             ],
             [
              0.1111111111111111,
              "#46039f"
             ],
             [
              0.2222222222222222,
              "#7201a8"
             ],
             [
              0.3333333333333333,
              "#9c179e"
             ],
             [
              0.4444444444444444,
              "#bd3786"
             ],
             [
              0.5555555555555556,
              "#d8576b"
             ],
             [
              0.6666666666666666,
              "#ed7953"
             ],
             [
              0.7777777777777778,
              "#fb9f3a"
             ],
             [
              0.8888888888888888,
              "#fdca26"
             ],
             [
              1,
              "#f0f921"
             ]
            ],
            "type": "heatmapgl"
           }
          ],
          "histogram": [
           {
            "marker": {
             "pattern": {
              "fillmode": "overlay",
              "size": 10,
              "solidity": 0.2
             }
            },
            "type": "histogram"
           }
          ],
          "histogram2d": [
           {
            "colorbar": {
             "outlinewidth": 0,
             "ticks": ""
            },
            "colorscale": [
             [
              0,
              "#0d0887"
             ],
             [
              0.1111111111111111,
              "#46039f"
             ],
             [
              0.2222222222222222,
              "#7201a8"
             ],
             [
              0.3333333333333333,
              "#9c179e"
             ],
             [
              0.4444444444444444,
              "#bd3786"
             ],
             [
              0.5555555555555556,
              "#d8576b"
             ],
             [
              0.6666666666666666,
              "#ed7953"
             ],
             [
              0.7777777777777778,
              "#fb9f3a"
             ],
             [
              0.8888888888888888,
              "#fdca26"
             ],
             [
              1,
              "#f0f921"
             ]
            ],
            "type": "histogram2d"
           }
          ],
          "histogram2dcontour": [
           {
            "colorbar": {
             "outlinewidth": 0,
             "ticks": ""
            },
            "colorscale": [
             [
              0,
              "#0d0887"
             ],
             [
              0.1111111111111111,
              "#46039f"
             ],
             [
              0.2222222222222222,
              "#7201a8"
             ],
             [
              0.3333333333333333,
              "#9c179e"
             ],
             [
              0.4444444444444444,
              "#bd3786"
             ],
             [
              0.5555555555555556,
              "#d8576b"
             ],
             [
              0.6666666666666666,
              "#ed7953"
             ],
             [
              0.7777777777777778,
              "#fb9f3a"
             ],
             [
              0.8888888888888888,
              "#fdca26"
             ],
             [
              1,
              "#f0f921"
             ]
            ],
            "type": "histogram2dcontour"
           }
          ],
          "mesh3d": [
           {
            "colorbar": {
             "outlinewidth": 0,
             "ticks": ""
            },
            "type": "mesh3d"
           }
          ],
          "parcoords": [
           {
            "line": {
             "colorbar": {
              "outlinewidth": 0,
              "ticks": ""
             }
            },
            "type": "parcoords"
           }
          ],
          "pie": [
           {
            "automargin": true,
            "type": "pie"
           }
          ],
          "scatter": [
           {
            "fillpattern": {
             "fillmode": "overlay",
             "size": 10,
             "solidity": 0.2
            },
            "type": "scatter"
           }
          ],
          "scatter3d": [
           {
            "line": {
             "colorbar": {
              "outlinewidth": 0,
              "ticks": ""
             }
            },
            "marker": {
             "colorbar": {
              "outlinewidth": 0,
              "ticks": ""
             }
            },
            "type": "scatter3d"
           }
          ],
          "scattercarpet": [
           {
            "marker": {
             "colorbar": {
              "outlinewidth": 0,
              "ticks": ""
             }
            },
            "type": "scattercarpet"
           }
          ],
          "scattergeo": [
           {
            "marker": {
             "colorbar": {
              "outlinewidth": 0,
              "ticks": ""
             }
            },
            "type": "scattergeo"
           }
          ],
          "scattergl": [
           {
            "marker": {
             "colorbar": {
              "outlinewidth": 0,
              "ticks": ""
             }
            },
            "type": "scattergl"
           }
          ],
          "scattermapbox": [
           {
            "marker": {
             "colorbar": {
              "outlinewidth": 0,
              "ticks": ""
             }
            },
            "type": "scattermapbox"
           }
          ],
          "scatterpolar": [
           {
            "marker": {
             "colorbar": {
              "outlinewidth": 0,
              "ticks": ""
             }
            },
            "type": "scatterpolar"
           }
          ],
          "scatterpolargl": [
           {
            "marker": {
             "colorbar": {
              "outlinewidth": 0,
              "ticks": ""
             }
            },
            "type": "scatterpolargl"
           }
          ],
          "scatterternary": [
           {
            "marker": {
             "colorbar": {
              "outlinewidth": 0,
              "ticks": ""
             }
            },
            "type": "scatterternary"
           }
          ],
          "surface": [
           {
            "colorbar": {
             "outlinewidth": 0,
             "ticks": ""
            },
            "colorscale": [
             [
              0,
              "#0d0887"
             ],
             [
              0.1111111111111111,
              "#46039f"
             ],
             [
              0.2222222222222222,
              "#7201a8"
             ],
             [
              0.3333333333333333,
              "#9c179e"
             ],
             [
              0.4444444444444444,
              "#bd3786"
             ],
             [
              0.5555555555555556,
              "#d8576b"
             ],
             [
              0.6666666666666666,
              "#ed7953"
             ],
             [
              0.7777777777777778,
              "#fb9f3a"
             ],
             [
              0.8888888888888888,
              "#fdca26"
             ],
             [
              1,
              "#f0f921"
             ]
            ],
            "type": "surface"
           }
          ],
          "table": [
           {
            "cells": {
             "fill": {
              "color": "#EBF0F8"
             },
             "line": {
              "color": "white"
             }
            },
            "header": {
             "fill": {
              "color": "#C8D4E3"
             },
             "line": {
              "color": "white"
             }
            },
            "type": "table"
           }
          ]
         },
         "layout": {
          "annotationdefaults": {
           "arrowcolor": "#2a3f5f",
           "arrowhead": 0,
           "arrowwidth": 1
          },
          "autotypenumbers": "strict",
          "coloraxis": {
           "colorbar": {
            "outlinewidth": 0,
            "ticks": ""
           }
          },
          "colorscale": {
           "diverging": [
            [
             0,
             "#8e0152"
            ],
            [
             0.1,
             "#c51b7d"
            ],
            [
             0.2,
             "#de77ae"
            ],
            [
             0.3,
             "#f1b6da"
            ],
            [
             0.4,
             "#fde0ef"
            ],
            [
             0.5,
             "#f7f7f7"
            ],
            [
             0.6,
             "#e6f5d0"
            ],
            [
             0.7,
             "#b8e186"
            ],
            [
             0.8,
             "#7fbc41"
            ],
            [
             0.9,
             "#4d9221"
            ],
            [
             1,
             "#276419"
            ]
           ],
           "sequential": [
            [
             0,
             "#0d0887"
            ],
            [
             0.1111111111111111,
             "#46039f"
            ],
            [
             0.2222222222222222,
             "#7201a8"
            ],
            [
             0.3333333333333333,
             "#9c179e"
            ],
            [
             0.4444444444444444,
             "#bd3786"
            ],
            [
             0.5555555555555556,
             "#d8576b"
            ],
            [
             0.6666666666666666,
             "#ed7953"
            ],
            [
             0.7777777777777778,
             "#fb9f3a"
            ],
            [
             0.8888888888888888,
             "#fdca26"
            ],
            [
             1,
             "#f0f921"
            ]
           ],
           "sequentialminus": [
            [
             0,
             "#0d0887"
            ],
            [
             0.1111111111111111,
             "#46039f"
            ],
            [
             0.2222222222222222,
             "#7201a8"
            ],
            [
             0.3333333333333333,
             "#9c179e"
            ],
            [
             0.4444444444444444,
             "#bd3786"
            ],
            [
             0.5555555555555556,
             "#d8576b"
            ],
            [
             0.6666666666666666,
             "#ed7953"
            ],
            [
             0.7777777777777778,
             "#fb9f3a"
            ],
            [
             0.8888888888888888,
             "#fdca26"
            ],
            [
             1,
             "#f0f921"
            ]
           ]
          },
          "colorway": [
           "#636efa",
           "#EF553B",
           "#00cc96",
           "#ab63fa",
           "#FFA15A",
           "#19d3f3",
           "#FF6692",
           "#B6E880",
           "#FF97FF",
           "#FECB52"
          ],
          "font": {
           "color": "#2a3f5f"
          },
          "geo": {
           "bgcolor": "white",
           "lakecolor": "white",
           "landcolor": "#E5ECF6",
           "showlakes": true,
           "showland": true,
           "subunitcolor": "white"
          },
          "hoverlabel": {
           "align": "left"
          },
          "hovermode": "closest",
          "mapbox": {
           "style": "light"
          },
          "paper_bgcolor": "white",
          "plot_bgcolor": "#E5ECF6",
          "polar": {
           "angularaxis": {
            "gridcolor": "white",
            "linecolor": "white",
            "ticks": ""
           },
           "bgcolor": "#E5ECF6",
           "radialaxis": {
            "gridcolor": "white",
            "linecolor": "white",
            "ticks": ""
           }
          },
          "scene": {
           "xaxis": {
            "backgroundcolor": "#E5ECF6",
            "gridcolor": "white",
            "gridwidth": 2,
            "linecolor": "white",
            "showbackground": true,
            "ticks": "",
            "zerolinecolor": "white"
           },
           "yaxis": {
            "backgroundcolor": "#E5ECF6",
            "gridcolor": "white",
            "gridwidth": 2,
            "linecolor": "white",
            "showbackground": true,
            "ticks": "",
            "zerolinecolor": "white"
           },
           "zaxis": {
            "backgroundcolor": "#E5ECF6",
            "gridcolor": "white",
            "gridwidth": 2,
            "linecolor": "white",
            "showbackground": true,
            "ticks": "",
            "zerolinecolor": "white"
           }
          },
          "shapedefaults": {
           "line": {
            "color": "#2a3f5f"
           }
          },
          "ternary": {
           "aaxis": {
            "gridcolor": "white",
            "linecolor": "white",
            "ticks": ""
           },
           "baxis": {
            "gridcolor": "white",
            "linecolor": "white",
            "ticks": ""
           },
           "bgcolor": "#E5ECF6",
           "caxis": {
            "gridcolor": "white",
            "linecolor": "white",
            "ticks": ""
           }
          },
          "title": {
           "x": 0.05
          },
          "xaxis": {
           "automargin": true,
           "gridcolor": "white",
           "linecolor": "white",
           "ticks": "",
           "title": {
            "standoff": 15
           },
           "zerolinecolor": "white",
           "zerolinewidth": 2
          },
          "yaxis": {
           "automargin": true,
           "gridcolor": "white",
           "linecolor": "white",
           "ticks": "",
           "title": {
            "standoff": 15
           },
           "zerolinecolor": "white",
           "zerolinewidth": 2
          }
         }
        },
        "title": {
         "text": "Number of households acquired over time",
         "x": 0.5
        },
        "xaxis": {
         "anchor": "y",
         "domain": [
          0,
          1
         ],
         "showgrid": false,
         "title": {
          "text": "Date of first purchase"
         }
        },
        "yaxis": {
         "anchor": "x",
         "domain": [
          0,
          1
         ],
         "showgrid": false,
         "title": {
          "text": "Number of households"
         }
        }
       }
      },
      "text/html": [
       "<div>                        <script type=\"text/javascript\">window.PlotlyConfig = {MathJaxConfig: 'local'};</script>\n",
       "        <script charset=\"utf-8\" src=\"https://cdn.plot.ly/plotly-2.32.0.min.js\"></script>                <div id=\"f1e73006-d50d-476a-ab95-ac557505145e\" class=\"plotly-graph-div\" style=\"height:100%; width:100%;\"></div>            <script type=\"text/javascript\">                                    window.PLOTLYENV=window.PLOTLYENV || {};                                    if (document.getElementById(\"f1e73006-d50d-476a-ab95-ac557505145e\")) {                    Plotly.newPlot(                        \"f1e73006-d50d-476a-ab95-ac557505145e\",                        [{\"hovertemplate\":\"Date of first purchase=%{x}\\u003cbr\\u003eNumber of households=%{y}\\u003cextra\\u003e\\u003c\\u002fextra\\u003e\",\"legendgroup\":\"\",\"line\":{\"color\":\"#636efa\",\"dash\":\"solid\"},\"marker\":{\"symbol\":\"circle\"},\"mode\":\"lines+markers\",\"name\":\"\",\"orientation\":\"v\",\"showlegend\":false,\"x\":[\"2012-01-02T00:00:00\",\"2012-01-03T00:00:00\",\"2012-01-04T00:00:00\",\"2012-01-05T00:00:00\",\"2012-01-06T00:00:00\",\"2012-01-07T00:00:00\",\"2012-01-08T00:00:00\",\"2012-01-09T00:00:00\",\"2012-01-10T00:00:00\",\"2012-01-11T00:00:00\",\"2012-01-12T00:00:00\",\"2012-01-13T00:00:00\",\"2012-01-14T00:00:00\",\"2012-01-15T00:00:00\",\"2012-01-16T00:00:00\",\"2012-01-17T00:00:00\",\"2012-01-18T00:00:00\",\"2012-01-19T00:00:00\",\"2012-01-20T00:00:00\",\"2012-01-21T00:00:00\",\"2012-01-22T00:00:00\",\"2012-01-23T00:00:00\",\"2012-01-24T00:00:00\",\"2012-01-25T00:00:00\",\"2012-01-26T00:00:00\",\"2012-01-27T00:00:00\",\"2012-01-28T00:00:00\",\"2012-01-29T00:00:00\",\"2012-01-30T00:00:00\",\"2012-01-31T00:00:00\",\"2012-02-01T00:00:00\",\"2012-02-02T00:00:00\",\"2012-02-03T00:00:00\",\"2012-02-04T00:00:00\",\"2012-02-05T00:00:00\",\"2012-02-06T00:00:00\",\"2012-02-07T00:00:00\",\"2012-02-08T00:00:00\",\"2012-02-09T00:00:00\",\"2012-02-10T00:00:00\",\"2012-02-11T00:00:00\",\"2012-02-12T00:00:00\",\"2012-02-13T00:00:00\",\"2012-02-14T00:00:00\",\"2012-02-15T00:00:00\",\"2012-02-16T00:00:00\",\"2012-02-17T00:00:00\",\"2012-02-18T00:00:00\",\"2012-02-19T00:00:00\",\"2012-02-20T00:00:00\",\"2012-02-21T00:00:00\",\"2012-02-22T00:00:00\",\"2012-02-23T00:00:00\",\"2012-02-24T00:00:00\",\"2012-02-25T00:00:00\",\"2012-02-26T00:00:00\",\"2012-02-27T00:00:00\",\"2012-02-28T00:00:00\",\"2012-02-29T00:00:00\",\"2012-03-01T00:00:00\",\"2012-03-02T00:00:00\",\"2012-03-03T00:00:00\",\"2012-03-04T00:00:00\",\"2012-03-05T00:00:00\",\"2012-03-06T00:00:00\",\"2012-03-07T00:00:00\",\"2012-03-08T00:00:00\",\"2012-03-09T00:00:00\",\"2012-03-10T00:00:00\",\"2012-03-11T00:00:00\",\"2012-03-12T00:00:00\",\"2012-03-13T00:00:00\",\"2012-03-14T00:00:00\",\"2012-03-15T00:00:00\",\"2012-03-16T00:00:00\",\"2012-03-17T00:00:00\",\"2012-03-18T00:00:00\",\"2012-03-19T00:00:00\",\"2012-03-20T00:00:00\",\"2012-03-21T00:00:00\",\"2012-03-22T00:00:00\",\"2012-03-23T00:00:00\",\"2012-03-24T00:00:00\",\"2012-03-25T00:00:00\",\"2012-03-26T00:00:00\",\"2012-03-27T00:00:00\",\"2012-03-28T00:00:00\",\"2012-03-29T00:00:00\",\"2012-03-30T00:00:00\",\"2012-03-31T00:00:00\",\"2012-04-01T00:00:00\",\"2012-04-02T00:00:00\",\"2012-04-03T00:00:00\",\"2012-04-04T00:00:00\",\"2012-04-05T00:00:00\",\"2012-04-06T00:00:00\",\"2012-04-07T00:00:00\",\"2012-04-08T00:00:00\",\"2012-04-09T00:00:00\",\"2012-04-10T00:00:00\",\"2012-04-11T00:00:00\",\"2012-04-12T00:00:00\",\"2012-04-13T00:00:00\",\"2012-04-14T00:00:00\",\"2012-04-15T00:00:00\",\"2012-04-16T00:00:00\",\"2012-04-17T00:00:00\",\"2012-04-18T00:00:00\",\"2012-04-19T00:00:00\",\"2012-04-20T00:00:00\",\"2012-04-21T00:00:00\",\"2012-04-22T00:00:00\",\"2012-04-23T00:00:00\",\"2012-04-24T00:00:00\",\"2012-04-25T00:00:00\",\"2012-04-26T00:00:00\",\"2012-04-27T00:00:00\",\"2012-04-28T00:00:00\",\"2012-04-29T00:00:00\",\"2012-05-05T00:00:00\",\"2012-05-16T00:00:00\",\"2012-06-02T00:00:00\",\"2012-07-31T00:00:00\",\"2012-08-05T00:00:00\",\"2012-10-04T00:00:00\",\"2013-03-09T00:00:00\",\"2013-09-05T00:00:00\",\"2013-11-02T00:00:00\"],\"xaxis\":\"x\",\"y\":[15,10,26,23,14,21,17,19,14,19,21,18,11,18,10,14,22,19,19,18,18,13,11,17,20,21,21,13,17,30,11,20,26,21,15,25,7,13,19,19,12,25,13,18,16,23,24,15,24,16,23,22,14,18,20,13,12,16,19,27,22,23,17,15,20,22,22,21,29,23,29,19,22,27,30,24,25,23,26,19,27,27,22,17,21,23,19,25,25,23,29,19,22,18,31,24,17,22,18,19,29,26,36,25,22,30,29,31,25,35,22,26,26,30,38,25,27,26,2,1,1,1,1,1,1,1,1,1],\"yaxis\":\"y\",\"type\":\"scatter\"}],                        {\"template\":{\"data\":{\"histogram2dcontour\":[{\"type\":\"histogram2dcontour\",\"colorbar\":{\"outlinewidth\":0,\"ticks\":\"\"},\"colorscale\":[[0.0,\"#0d0887\"],[0.1111111111111111,\"#46039f\"],[0.2222222222222222,\"#7201a8\"],[0.3333333333333333,\"#9c179e\"],[0.4444444444444444,\"#bd3786\"],[0.5555555555555556,\"#d8576b\"],[0.6666666666666666,\"#ed7953\"],[0.7777777777777778,\"#fb9f3a\"],[0.8888888888888888,\"#fdca26\"],[1.0,\"#f0f921\"]]}],\"choropleth\":[{\"type\":\"choropleth\",\"colorbar\":{\"outlinewidth\":0,\"ticks\":\"\"}}],\"histogram2d\":[{\"type\":\"histogram2d\",\"colorbar\":{\"outlinewidth\":0,\"ticks\":\"\"},\"colorscale\":[[0.0,\"#0d0887\"],[0.1111111111111111,\"#46039f\"],[0.2222222222222222,\"#7201a8\"],[0.3333333333333333,\"#9c179e\"],[0.4444444444444444,\"#bd3786\"],[0.5555555555555556,\"#d8576b\"],[0.6666666666666666,\"#ed7953\"],[0.7777777777777778,\"#fb9f3a\"],[0.8888888888888888,\"#fdca26\"],[1.0,\"#f0f921\"]]}],\"heatmap\":[{\"type\":\"heatmap\",\"colorbar\":{\"outlinewidth\":0,\"ticks\":\"\"},\"colorscale\":[[0.0,\"#0d0887\"],[0.1111111111111111,\"#46039f\"],[0.2222222222222222,\"#7201a8\"],[0.3333333333333333,\"#9c179e\"],[0.4444444444444444,\"#bd3786\"],[0.5555555555555556,\"#d8576b\"],[0.6666666666666666,\"#ed7953\"],[0.7777777777777778,\"#fb9f3a\"],[0.8888888888888888,\"#fdca26\"],[1.0,\"#f0f921\"]]}],\"heatmapgl\":[{\"type\":\"heatmapgl\",\"colorbar\":{\"outlinewidth\":0,\"ticks\":\"\"},\"colorscale\":[[0.0,\"#0d0887\"],[0.1111111111111111,\"#46039f\"],[0.2222222222222222,\"#7201a8\"],[0.3333333333333333,\"#9c179e\"],[0.4444444444444444,\"#bd3786\"],[0.5555555555555556,\"#d8576b\"],[0.6666666666666666,\"#ed7953\"],[0.7777777777777778,\"#fb9f3a\"],[0.8888888888888888,\"#fdca26\"],[1.0,\"#f0f921\"]]}],\"contourcarpet\":[{\"type\":\"contourcarpet\",\"colorbar\":{\"outlinewidth\":0,\"ticks\":\"\"}}],\"contour\":[{\"type\":\"contour\",\"colorbar\":{\"outlinewidth\":0,\"ticks\":\"\"},\"colorscale\":[[0.0,\"#0d0887\"],[0.1111111111111111,\"#46039f\"],[0.2222222222222222,\"#7201a8\"],[0.3333333333333333,\"#9c179e\"],[0.4444444444444444,\"#bd3786\"],[0.5555555555555556,\"#d8576b\"],[0.6666666666666666,\"#ed7953\"],[0.7777777777777778,\"#fb9f3a\"],[0.8888888888888888,\"#fdca26\"],[1.0,\"#f0f921\"]]}],\"surface\":[{\"type\":\"surface\",\"colorbar\":{\"outlinewidth\":0,\"ticks\":\"\"},\"colorscale\":[[0.0,\"#0d0887\"],[0.1111111111111111,\"#46039f\"],[0.2222222222222222,\"#7201a8\"],[0.3333333333333333,\"#9c179e\"],[0.4444444444444444,\"#bd3786\"],[0.5555555555555556,\"#d8576b\"],[0.6666666666666666,\"#ed7953\"],[0.7777777777777778,\"#fb9f3a\"],[0.8888888888888888,\"#fdca26\"],[1.0,\"#f0f921\"]]}],\"mesh3d\":[{\"type\":\"mesh3d\",\"colorbar\":{\"outlinewidth\":0,\"ticks\":\"\"}}],\"scatter\":[{\"fillpattern\":{\"fillmode\":\"overlay\",\"size\":10,\"solidity\":0.2},\"type\":\"scatter\"}],\"parcoords\":[{\"type\":\"parcoords\",\"line\":{\"colorbar\":{\"outlinewidth\":0,\"ticks\":\"\"}}}],\"scatterpolargl\":[{\"type\":\"scatterpolargl\",\"marker\":{\"colorbar\":{\"outlinewidth\":0,\"ticks\":\"\"}}}],\"bar\":[{\"error_x\":{\"color\":\"#2a3f5f\"},\"error_y\":{\"color\":\"#2a3f5f\"},\"marker\":{\"line\":{\"color\":\"#E5ECF6\",\"width\":0.5},\"pattern\":{\"fillmode\":\"overlay\",\"size\":10,\"solidity\":0.2}},\"type\":\"bar\"}],\"scattergeo\":[{\"type\":\"scattergeo\",\"marker\":{\"colorbar\":{\"outlinewidth\":0,\"ticks\":\"\"}}}],\"scatterpolar\":[{\"type\":\"scatterpolar\",\"marker\":{\"colorbar\":{\"outlinewidth\":0,\"ticks\":\"\"}}}],\"histogram\":[{\"marker\":{\"pattern\":{\"fillmode\":\"overlay\",\"size\":10,\"solidity\":0.2}},\"type\":\"histogram\"}],\"scattergl\":[{\"type\":\"scattergl\",\"marker\":{\"colorbar\":{\"outlinewidth\":0,\"ticks\":\"\"}}}],\"scatter3d\":[{\"type\":\"scatter3d\",\"line\":{\"colorbar\":{\"outlinewidth\":0,\"ticks\":\"\"}},\"marker\":{\"colorbar\":{\"outlinewidth\":0,\"ticks\":\"\"}}}],\"scattermapbox\":[{\"type\":\"scattermapbox\",\"marker\":{\"colorbar\":{\"outlinewidth\":0,\"ticks\":\"\"}}}],\"scatterternary\":[{\"type\":\"scatterternary\",\"marker\":{\"colorbar\":{\"outlinewidth\":0,\"ticks\":\"\"}}}],\"scattercarpet\":[{\"type\":\"scattercarpet\",\"marker\":{\"colorbar\":{\"outlinewidth\":0,\"ticks\":\"\"}}}],\"carpet\":[{\"aaxis\":{\"endlinecolor\":\"#2a3f5f\",\"gridcolor\":\"white\",\"linecolor\":\"white\",\"minorgridcolor\":\"white\",\"startlinecolor\":\"#2a3f5f\"},\"baxis\":{\"endlinecolor\":\"#2a3f5f\",\"gridcolor\":\"white\",\"linecolor\":\"white\",\"minorgridcolor\":\"white\",\"startlinecolor\":\"#2a3f5f\"},\"type\":\"carpet\"}],\"table\":[{\"cells\":{\"fill\":{\"color\":\"#EBF0F8\"},\"line\":{\"color\":\"white\"}},\"header\":{\"fill\":{\"color\":\"#C8D4E3\"},\"line\":{\"color\":\"white\"}},\"type\":\"table\"}],\"barpolar\":[{\"marker\":{\"line\":{\"color\":\"#E5ECF6\",\"width\":0.5},\"pattern\":{\"fillmode\":\"overlay\",\"size\":10,\"solidity\":0.2}},\"type\":\"barpolar\"}],\"pie\":[{\"automargin\":true,\"type\":\"pie\"}]},\"layout\":{\"autotypenumbers\":\"strict\",\"colorway\":[\"#636efa\",\"#EF553B\",\"#00cc96\",\"#ab63fa\",\"#FFA15A\",\"#19d3f3\",\"#FF6692\",\"#B6E880\",\"#FF97FF\",\"#FECB52\"],\"font\":{\"color\":\"#2a3f5f\"},\"hovermode\":\"closest\",\"hoverlabel\":{\"align\":\"left\"},\"paper_bgcolor\":\"white\",\"plot_bgcolor\":\"#E5ECF6\",\"polar\":{\"bgcolor\":\"#E5ECF6\",\"angularaxis\":{\"gridcolor\":\"white\",\"linecolor\":\"white\",\"ticks\":\"\"},\"radialaxis\":{\"gridcolor\":\"white\",\"linecolor\":\"white\",\"ticks\":\"\"}},\"ternary\":{\"bgcolor\":\"#E5ECF6\",\"aaxis\":{\"gridcolor\":\"white\",\"linecolor\":\"white\",\"ticks\":\"\"},\"baxis\":{\"gridcolor\":\"white\",\"linecolor\":\"white\",\"ticks\":\"\"},\"caxis\":{\"gridcolor\":\"white\",\"linecolor\":\"white\",\"ticks\":\"\"}},\"coloraxis\":{\"colorbar\":{\"outlinewidth\":0,\"ticks\":\"\"}},\"colorscale\":{\"sequential\":[[0.0,\"#0d0887\"],[0.1111111111111111,\"#46039f\"],[0.2222222222222222,\"#7201a8\"],[0.3333333333333333,\"#9c179e\"],[0.4444444444444444,\"#bd3786\"],[0.5555555555555556,\"#d8576b\"],[0.6666666666666666,\"#ed7953\"],[0.7777777777777778,\"#fb9f3a\"],[0.8888888888888888,\"#fdca26\"],[1.0,\"#f0f921\"]],\"sequentialminus\":[[0.0,\"#0d0887\"],[0.1111111111111111,\"#46039f\"],[0.2222222222222222,\"#7201a8\"],[0.3333333333333333,\"#9c179e\"],[0.4444444444444444,\"#bd3786\"],[0.5555555555555556,\"#d8576b\"],[0.6666666666666666,\"#ed7953\"],[0.7777777777777778,\"#fb9f3a\"],[0.8888888888888888,\"#fdca26\"],[1.0,\"#f0f921\"]],\"diverging\":[[0,\"#8e0152\"],[0.1,\"#c51b7d\"],[0.2,\"#de77ae\"],[0.3,\"#f1b6da\"],[0.4,\"#fde0ef\"],[0.5,\"#f7f7f7\"],[0.6,\"#e6f5d0\"],[0.7,\"#b8e186\"],[0.8,\"#7fbc41\"],[0.9,\"#4d9221\"],[1,\"#276419\"]]},\"xaxis\":{\"gridcolor\":\"white\",\"linecolor\":\"white\",\"ticks\":\"\",\"title\":{\"standoff\":15},\"zerolinecolor\":\"white\",\"automargin\":true,\"zerolinewidth\":2},\"yaxis\":{\"gridcolor\":\"white\",\"linecolor\":\"white\",\"ticks\":\"\",\"title\":{\"standoff\":15},\"zerolinecolor\":\"white\",\"automargin\":true,\"zerolinewidth\":2},\"scene\":{\"xaxis\":{\"backgroundcolor\":\"#E5ECF6\",\"gridcolor\":\"white\",\"linecolor\":\"white\",\"showbackground\":true,\"ticks\":\"\",\"zerolinecolor\":\"white\",\"gridwidth\":2},\"yaxis\":{\"backgroundcolor\":\"#E5ECF6\",\"gridcolor\":\"white\",\"linecolor\":\"white\",\"showbackground\":true,\"ticks\":\"\",\"zerolinecolor\":\"white\",\"gridwidth\":2},\"zaxis\":{\"backgroundcolor\":\"#E5ECF6\",\"gridcolor\":\"white\",\"linecolor\":\"white\",\"showbackground\":true,\"ticks\":\"\",\"zerolinecolor\":\"white\",\"gridwidth\":2}},\"shapedefaults\":{\"line\":{\"color\":\"#2a3f5f\"}},\"annotationdefaults\":{\"arrowcolor\":\"#2a3f5f\",\"arrowhead\":0,\"arrowwidth\":1},\"geo\":{\"bgcolor\":\"white\",\"landcolor\":\"#E5ECF6\",\"subunitcolor\":\"white\",\"showland\":true,\"showlakes\":true,\"lakecolor\":\"white\"},\"title\":{\"x\":0.05},\"mapbox\":{\"style\":\"light\"}}},\"xaxis\":{\"anchor\":\"y\",\"domain\":[0.0,1.0],\"title\":{\"text\":\"Date of first purchase\"},\"showgrid\":false},\"yaxis\":{\"anchor\":\"x\",\"domain\":[0.0,1.0],\"title\":{\"text\":\"Number of households\"},\"showgrid\":false},\"legend\":{\"tracegroupgap\":0},\"margin\":{\"t\":60},\"title\":{\"text\":\"Number of households acquired over time\",\"x\":0.5}},                        {\"responsive\": true}                    )                };                            </script>        </div>"
      ],
      "text/plain": [
       "Figure({\n",
       "    'data': [{'hovertemplate': 'Date of first purchase=%{x}<br>Number of households=%{y}<extra></extra>',\n",
       "              'legendgroup': '',\n",
       "              'line': {'color': '#636efa', 'dash': 'solid'},\n",
       "              'marker': {'symbol': 'circle'},\n",
       "              'mode': 'lines+markers',\n",
       "              'name': '',\n",
       "              'orientation': 'v',\n",
       "              'showlegend': False,\n",
       "              'type': 'scatter',\n",
       "              'x': array([datetime.datetime(2012, 1, 2, 0, 0),\n",
       "                          datetime.datetime(2012, 1, 3, 0, 0),\n",
       "                          datetime.datetime(2012, 1, 4, 0, 0),\n",
       "                          datetime.datetime(2012, 1, 5, 0, 0),\n",
       "                          datetime.datetime(2012, 1, 6, 0, 0),\n",
       "                          datetime.datetime(2012, 1, 7, 0, 0),\n",
       "                          datetime.datetime(2012, 1, 8, 0, 0),\n",
       "                          datetime.datetime(2012, 1, 9, 0, 0),\n",
       "                          datetime.datetime(2012, 1, 10, 0, 0),\n",
       "                          datetime.datetime(2012, 1, 11, 0, 0),\n",
       "                          datetime.datetime(2012, 1, 12, 0, 0),\n",
       "                          datetime.datetime(2012, 1, 13, 0, 0),\n",
       "                          datetime.datetime(2012, 1, 14, 0, 0),\n",
       "                          datetime.datetime(2012, 1, 15, 0, 0),\n",
       "                          datetime.datetime(2012, 1, 16, 0, 0),\n",
       "                          datetime.datetime(2012, 1, 17, 0, 0),\n",
       "                          datetime.datetime(2012, 1, 18, 0, 0),\n",
       "                          datetime.datetime(2012, 1, 19, 0, 0),\n",
       "                          datetime.datetime(2012, 1, 20, 0, 0),\n",
       "                          datetime.datetime(2012, 1, 21, 0, 0),\n",
       "                          datetime.datetime(2012, 1, 22, 0, 0),\n",
       "                          datetime.datetime(2012, 1, 23, 0, 0),\n",
       "                          datetime.datetime(2012, 1, 24, 0, 0),\n",
       "                          datetime.datetime(2012, 1, 25, 0, 0),\n",
       "                          datetime.datetime(2012, 1, 26, 0, 0),\n",
       "                          datetime.datetime(2012, 1, 27, 0, 0),\n",
       "                          datetime.datetime(2012, 1, 28, 0, 0),\n",
       "                          datetime.datetime(2012, 1, 29, 0, 0),\n",
       "                          datetime.datetime(2012, 1, 30, 0, 0),\n",
       "                          datetime.datetime(2012, 1, 31, 0, 0),\n",
       "                          datetime.datetime(2012, 2, 1, 0, 0),\n",
       "                          datetime.datetime(2012, 2, 2, 0, 0),\n",
       "                          datetime.datetime(2012, 2, 3, 0, 0),\n",
       "                          datetime.datetime(2012, 2, 4, 0, 0),\n",
       "                          datetime.datetime(2012, 2, 5, 0, 0),\n",
       "                          datetime.datetime(2012, 2, 6, 0, 0),\n",
       "                          datetime.datetime(2012, 2, 7, 0, 0),\n",
       "                          datetime.datetime(2012, 2, 8, 0, 0),\n",
       "                          datetime.datetime(2012, 2, 9, 0, 0),\n",
       "                          datetime.datetime(2012, 2, 10, 0, 0),\n",
       "                          datetime.datetime(2012, 2, 11, 0, 0),\n",
       "                          datetime.datetime(2012, 2, 12, 0, 0),\n",
       "                          datetime.datetime(2012, 2, 13, 0, 0),\n",
       "                          datetime.datetime(2012, 2, 14, 0, 0),\n",
       "                          datetime.datetime(2012, 2, 15, 0, 0),\n",
       "                          datetime.datetime(2012, 2, 16, 0, 0),\n",
       "                          datetime.datetime(2012, 2, 17, 0, 0),\n",
       "                          datetime.datetime(2012, 2, 18, 0, 0),\n",
       "                          datetime.datetime(2012, 2, 19, 0, 0),\n",
       "                          datetime.datetime(2012, 2, 20, 0, 0),\n",
       "                          datetime.datetime(2012, 2, 21, 0, 0),\n",
       "                          datetime.datetime(2012, 2, 22, 0, 0),\n",
       "                          datetime.datetime(2012, 2, 23, 0, 0),\n",
       "                          datetime.datetime(2012, 2, 24, 0, 0),\n",
       "                          datetime.datetime(2012, 2, 25, 0, 0),\n",
       "                          datetime.datetime(2012, 2, 26, 0, 0),\n",
       "                          datetime.datetime(2012, 2, 27, 0, 0),\n",
       "                          datetime.datetime(2012, 2, 28, 0, 0),\n",
       "                          datetime.datetime(2012, 2, 29, 0, 0),\n",
       "                          datetime.datetime(2012, 3, 1, 0, 0),\n",
       "                          datetime.datetime(2012, 3, 2, 0, 0),\n",
       "                          datetime.datetime(2012, 3, 3, 0, 0),\n",
       "                          datetime.datetime(2012, 3, 4, 0, 0),\n",
       "                          datetime.datetime(2012, 3, 5, 0, 0),\n",
       "                          datetime.datetime(2012, 3, 6, 0, 0),\n",
       "                          datetime.datetime(2012, 3, 7, 0, 0),\n",
       "                          datetime.datetime(2012, 3, 8, 0, 0),\n",
       "                          datetime.datetime(2012, 3, 9, 0, 0),\n",
       "                          datetime.datetime(2012, 3, 10, 0, 0),\n",
       "                          datetime.datetime(2012, 3, 11, 0, 0),\n",
       "                          datetime.datetime(2012, 3, 12, 0, 0),\n",
       "                          datetime.datetime(2012, 3, 13, 0, 0),\n",
       "                          datetime.datetime(2012, 3, 14, 0, 0),\n",
       "                          datetime.datetime(2012, 3, 15, 0, 0),\n",
       "                          datetime.datetime(2012, 3, 16, 0, 0),\n",
       "                          datetime.datetime(2012, 3, 17, 0, 0),\n",
       "                          datetime.datetime(2012, 3, 18, 0, 0),\n",
       "                          datetime.datetime(2012, 3, 19, 0, 0),\n",
       "                          datetime.datetime(2012, 3, 20, 0, 0),\n",
       "                          datetime.datetime(2012, 3, 21, 0, 0),\n",
       "                          datetime.datetime(2012, 3, 22, 0, 0),\n",
       "                          datetime.datetime(2012, 3, 23, 0, 0),\n",
       "                          datetime.datetime(2012, 3, 24, 0, 0),\n",
       "                          datetime.datetime(2012, 3, 25, 0, 0),\n",
       "                          datetime.datetime(2012, 3, 26, 0, 0),\n",
       "                          datetime.datetime(2012, 3, 27, 0, 0),\n",
       "                          datetime.datetime(2012, 3, 28, 0, 0),\n",
       "                          datetime.datetime(2012, 3, 29, 0, 0),\n",
       "                          datetime.datetime(2012, 3, 30, 0, 0),\n",
       "                          datetime.datetime(2012, 3, 31, 0, 0),\n",
       "                          datetime.datetime(2012, 4, 1, 0, 0),\n",
       "                          datetime.datetime(2012, 4, 2, 0, 0),\n",
       "                          datetime.datetime(2012, 4, 3, 0, 0),\n",
       "                          datetime.datetime(2012, 4, 4, 0, 0),\n",
       "                          datetime.datetime(2012, 4, 5, 0, 0),\n",
       "                          datetime.datetime(2012, 4, 6, 0, 0),\n",
       "                          datetime.datetime(2012, 4, 7, 0, 0),\n",
       "                          datetime.datetime(2012, 4, 8, 0, 0),\n",
       "                          datetime.datetime(2012, 4, 9, 0, 0),\n",
       "                          datetime.datetime(2012, 4, 10, 0, 0),\n",
       "                          datetime.datetime(2012, 4, 11, 0, 0),\n",
       "                          datetime.datetime(2012, 4, 12, 0, 0),\n",
       "                          datetime.datetime(2012, 4, 13, 0, 0),\n",
       "                          datetime.datetime(2012, 4, 14, 0, 0),\n",
       "                          datetime.datetime(2012, 4, 15, 0, 0),\n",
       "                          datetime.datetime(2012, 4, 16, 0, 0),\n",
       "                          datetime.datetime(2012, 4, 17, 0, 0),\n",
       "                          datetime.datetime(2012, 4, 18, 0, 0),\n",
       "                          datetime.datetime(2012, 4, 19, 0, 0),\n",
       "                          datetime.datetime(2012, 4, 20, 0, 0),\n",
       "                          datetime.datetime(2012, 4, 21, 0, 0),\n",
       "                          datetime.datetime(2012, 4, 22, 0, 0),\n",
       "                          datetime.datetime(2012, 4, 23, 0, 0),\n",
       "                          datetime.datetime(2012, 4, 24, 0, 0),\n",
       "                          datetime.datetime(2012, 4, 25, 0, 0),\n",
       "                          datetime.datetime(2012, 4, 26, 0, 0),\n",
       "                          datetime.datetime(2012, 4, 27, 0, 0),\n",
       "                          datetime.datetime(2012, 4, 28, 0, 0),\n",
       "                          datetime.datetime(2012, 4, 29, 0, 0),\n",
       "                          datetime.datetime(2012, 5, 5, 0, 0),\n",
       "                          datetime.datetime(2012, 5, 16, 0, 0),\n",
       "                          datetime.datetime(2012, 6, 2, 0, 0),\n",
       "                          datetime.datetime(2012, 7, 31, 0, 0),\n",
       "                          datetime.datetime(2012, 8, 5, 0, 0),\n",
       "                          datetime.datetime(2012, 10, 4, 0, 0),\n",
       "                          datetime.datetime(2013, 3, 9, 0, 0),\n",
       "                          datetime.datetime(2013, 9, 5, 0, 0),\n",
       "                          datetime.datetime(2013, 11, 2, 0, 0)], dtype=object),\n",
       "              'xaxis': 'x',\n",
       "              'y': array([15, 10, 26, 23, 14, 21, 17, 19, 14, 19, 21, 18, 11, 18, 10, 14, 22, 19,\n",
       "                          19, 18, 18, 13, 11, 17, 20, 21, 21, 13, 17, 30, 11, 20, 26, 21, 15, 25,\n",
       "                           7, 13, 19, 19, 12, 25, 13, 18, 16, 23, 24, 15, 24, 16, 23, 22, 14, 18,\n",
       "                          20, 13, 12, 16, 19, 27, 22, 23, 17, 15, 20, 22, 22, 21, 29, 23, 29, 19,\n",
       "                          22, 27, 30, 24, 25, 23, 26, 19, 27, 27, 22, 17, 21, 23, 19, 25, 25, 23,\n",
       "                          29, 19, 22, 18, 31, 24, 17, 22, 18, 19, 29, 26, 36, 25, 22, 30, 29, 31,\n",
       "                          25, 35, 22, 26, 26, 30, 38, 25, 27, 26,  2,  1,  1,  1,  1,  1,  1,  1,\n",
       "                           1,  1]),\n",
       "              'yaxis': 'y'}],\n",
       "    'layout': {'legend': {'tracegroupgap': 0},\n",
       "               'margin': {'t': 60},\n",
       "               'template': '...',\n",
       "               'title': {'text': 'Number of households acquired over time', 'x': 0.5},\n",
       "               'xaxis': {'anchor': 'y',\n",
       "                         'domain': [0.0, 1.0],\n",
       "                         'showgrid': False,\n",
       "                         'title': {'text': 'Date of first purchase'}},\n",
       "               'yaxis': {'anchor': 'x',\n",
       "                         'domain': [0.0, 1.0],\n",
       "                         'showgrid': False,\n",
       "                         'title': {'text': 'Number of households'}}}\n",
       "})"
      ]
     },
     "execution_count": 72,
     "metadata": {},
     "output_type": "execute_result"
    }
   ],
   "source": [
    "fig = px.line(\n",
    "    df_customer_acquisition,\n",
    "    x=\"Date_of_first_purchase\",\n",
    "    y=\"Number_of_households\",\n",
    "    markers=True,\n",
    "    labels={\n",
    "        \"Date_of_first_purchase\": \"Date of first purchase\",\n",
    "        \"Number_of_households\": \"Number of households\",\n",
    "    },\n",
    ")\n",
    "fig.update_layout(\n",
    "    title={\"text\": \"Number of households acquired over time\", \"x\": 0.5},\n",
    "    xaxis=dict(showgrid=False),\n",
    "    yaxis=dict(showgrid=False),\n",
    ")\n",
    "fig"
   ]
  },
  {
   "cell_type": "markdown",
   "metadata": {},
   "source": [
    "---"
   ]
  },
  {
   "cell_type": "markdown",
   "metadata": {},
   "source": [
    "# Export"
   ]
  },
  {
   "cell_type": "markdown",
   "metadata": {},
   "source": [
    "### Export the processed datasets to use in the streamlit dashboard"
   ]
  },
  {
   "cell_type": "code",
   "execution_count": 73,
   "metadata": {},
   "outputs": [
    {
     "name": "stdout",
     "output_type": "stream",
     "text": [
      "Exported hh_demographic_cleaned.csv\n"
     ]
    }
   ],
   "source": [
    "df_demographic.to_csv(export_folder + \"hh_demographic_cleaned.csv\",index=False)\n",
    "print(\"Exported hh_demographic_cleaned.csv\")"
   ]
  },
  {
   "cell_type": "code",
   "execution_count": 74,
   "metadata": {},
   "outputs": [
    {
     "name": "stdout",
     "output_type": "stream",
     "text": [
      "Exported transaction_data_cleaned.csv\n"
     ]
    }
   ],
   "source": [
    "df_trnsct.to_csv(export_folder + \"transaction_data_cleaned.csv\",index=False)\n",
    "print(\"Exported transaction_data_cleaned.csv\")"
   ]
  },
  {
   "cell_type": "code",
   "execution_count": 75,
   "metadata": {},
   "outputs": [
    {
     "name": "stdout",
     "output_type": "stream",
     "text": [
      "Exported daily_sales.csv\n"
     ]
    }
   ],
   "source": [
    "daily_sales.to_csv(export_folder + \"daily_sales.csv\",index=False)\n",
    "print(\"Exported daily_sales.csv\")"
   ]
  },
  {
   "cell_type": "code",
   "execution_count": 76,
   "metadata": {},
   "outputs": [
    {
     "name": "stdout",
     "output_type": "stream",
     "text": [
      "Exported customer_acquisition.csv\n"
     ]
    }
   ],
   "source": [
    "df_customer_acquisition.to_csv(export_folder + \"customer_acquisition.csv\",index=False)\n",
    "print(\"Exported customer_acquisition.csv\")"
   ]
  },
  {
   "cell_type": "code",
   "execution_count": 77,
   "metadata": {},
   "outputs": [
    {
     "name": "stdout",
     "output_type": "stream",
     "text": [
      "Exported product_cleaned.csv\n"
     ]
    }
   ],
   "source": [
    "df_product.to_csv(export_folder + \"product_cleaned.csv\",index=False)\n",
    "print(\"Exported product_cleaned.csv\")"
   ]
  }
 ],
 "metadata": {
  "kernelspec": {
   "display_name": "Python 3",
   "language": "python",
   "name": "python3"
  },
  "language_info": {
   "codemirror_mode": {
    "name": "ipython",
    "version": 3
   },
   "file_extension": ".py",
   "mimetype": "text/x-python",
   "name": "python",
   "nbconvert_exporter": "python",
   "pygments_lexer": "ipython3",
   "version": "3.11.6"
  }
 },
 "nbformat": 4,
 "nbformat_minor": 2
}
