{
 "cells": [
  {
   "cell_type": "markdown",
   "metadata": {},
   "source": [
    "DataBase Description:\n",
    "The Complete Journey\n",
    "Source: Dunnhumby\n",
    "Description:\n",
    "completejourney provides access to data sets characterizing household level transactions over one year from a group of 2,469 households who are frequent shoppers at a grocery store. It contains all of each household’s purchases, not just those from a limited number of categories. For certain households, demographic information as well as direct marketing contact history are captured.\n",
    "There are eight built-in data sets available in this package. The data sets include:\n",
    "\n",
    "- campaigns: campaigns received by each household\n",
    "- campaign_descriptions: campaign metadata (length of time active)\n",
    "- coupons: coupon metadata (UPC code, campaign, etc.)\n",
    "- coupon_redemptions: coupon redemptions (household, day, UPC code, campaign)\n",
    "- demographics: household demographic data (age, income, family size, etc.)\n",
    "- products: product metadata (brand, description, etc.)\n",
    "- promotions_sample: a sampling of the product placement in mailers and in stores corresponding to advertising campaigns\n",
    "- transactions_sample: a sampling of the products purchased by households\n"
   ]
  },
  {
   "cell_type": "markdown",
   "metadata": {},
   "source": [
    "## Setup & Imports\n"
   ]
  },
  {
   "cell_type": "code",
   "execution_count": 266,
   "metadata": {},
   "outputs": [],
   "source": [
    "# Import necessary libraries\n",
    "import plotly\n",
    "import warnings\n",
    "import numpy as np\n",
    "import pandas as pd\n",
    "import seaborn as sns\n",
    "from PIL import Image\n",
    "from tqdm import tqdm\n",
    "import plotly.express as px\n",
    "import matplotlib.pyplot as plt\n",
    "from wordcloud import WordCloud"
   ]
  },
  {
   "cell_type": "code",
   "execution_count": 267,
   "metadata": {},
   "outputs": [],
   "source": [
    "# Set Parameters\n",
    "warnings.filterwarnings(\"ignore\")\n",
    "dataset_folder = \"../Data/\"\n",
    "export_folder = \"../Export/\"\n",
    "np.random.seed(42)  # Setup numpy seed for reproducibility"
   ]
  },
  {
   "cell_type": "code",
   "execution_count": 268,
   "metadata": {},
   "outputs": [
    {
     "name": "stderr",
     "output_type": "stream",
     "text": [
      "100%|██████████| 4/4 [00:01<00:00,  2.08it/s]"
     ]
    },
    {
     "name": "stdout",
     "output_type": "stream",
     "text": [
      "Loaded 4 datasets: product.csv, hh_demographic.csv, transaction_data.csv, campaign_desc.csv\n"
     ]
    },
    {
     "name": "stderr",
     "output_type": "stream",
     "text": [
      "\n"
     ]
    }
   ],
   "source": [
    "# Load the dataset's csv files\n",
    "with tqdm(total=4) as pbar:\n",
    "    df_product = pd.read_csv(dataset_folder + \"product.csv\")\n",
    "    pbar.update(1)\n",
    "    df_demographic = pd.read_csv(dataset_folder + \"hh_demographic.csv\")\n",
    "    pbar.update(1)\n",
    "    df_trnsct = pd.read_csv(dataset_folder + \"transaction_data.csv\")\n",
    "    pbar.update(1)\n",
    "    df_campaign = pd.read_csv(dataset_folder + \"campaign_desc.csv\")\n",
    "    pbar.update(1)\n",
    "\n",
    "# Print loaded datasets file names\n",
    "print(\n",
    "    f\"Loaded 4 datasets: product.csv, hh_demographic.csv, transaction_data.csv, campaign_desc.csv\"\n",
    ")"
   ]
  },
  {
   "cell_type": "markdown",
   "metadata": {},
   "source": [
    "---"
   ]
  },
  {
   "cell_type": "markdown",
   "metadata": {},
   "source": [
    "# Traitement des Valeurs Manquantes\n"
   ]
  },
  {
   "cell_type": "markdown",
   "metadata": {},
   "source": [
    "In this part we will process the missing values"
   ]
  },
  {
   "cell_type": "markdown",
   "metadata": {},
   "source": [
    "## 1. Demographic Dataframe"
   ]
  },
  {
   "cell_type": "markdown",
   "metadata": {},
   "source": [
    "#### a. General Analysis"
   ]
  },
  {
   "cell_type": "code",
   "execution_count": 269,
   "metadata": {},
   "outputs": [
    {
     "data": {
      "text/html": [
       "<div>\n",
       "<style scoped>\n",
       "    .dataframe tbody tr th:only-of-type {\n",
       "        vertical-align: middle;\n",
       "    }\n",
       "\n",
       "    .dataframe tbody tr th {\n",
       "        vertical-align: top;\n",
       "    }\n",
       "\n",
       "    .dataframe thead th {\n",
       "        text-align: right;\n",
       "    }\n",
       "</style>\n",
       "<table border=\"1\" class=\"dataframe\">\n",
       "  <thead>\n",
       "    <tr style=\"text-align: right;\">\n",
       "      <th></th>\n",
       "      <th>AGE_DESC</th>\n",
       "      <th>MARITAL_STATUS_CODE</th>\n",
       "      <th>INCOME_DESC</th>\n",
       "      <th>HOMEOWNER_DESC</th>\n",
       "      <th>HH_COMP_DESC</th>\n",
       "      <th>HOUSEHOLD_SIZE_DESC</th>\n",
       "      <th>KID_CATEGORY_DESC</th>\n",
       "      <th>household_key</th>\n",
       "    </tr>\n",
       "  </thead>\n",
       "  <tbody>\n",
       "    <tr>\n",
       "      <th>0</th>\n",
       "      <td>65+</td>\n",
       "      <td>A</td>\n",
       "      <td>35-49K</td>\n",
       "      <td>Homeowner</td>\n",
       "      <td>2 Adults No Kids</td>\n",
       "      <td>2</td>\n",
       "      <td>None/Unknown</td>\n",
       "      <td>1</td>\n",
       "    </tr>\n",
       "    <tr>\n",
       "      <th>1</th>\n",
       "      <td>45-54</td>\n",
       "      <td>A</td>\n",
       "      <td>50-74K</td>\n",
       "      <td>Homeowner</td>\n",
       "      <td>2 Adults No Kids</td>\n",
       "      <td>2</td>\n",
       "      <td>None/Unknown</td>\n",
       "      <td>7</td>\n",
       "    </tr>\n",
       "    <tr>\n",
       "      <th>2</th>\n",
       "      <td>25-34</td>\n",
       "      <td>U</td>\n",
       "      <td>25-34K</td>\n",
       "      <td>Unknown</td>\n",
       "      <td>2 Adults Kids</td>\n",
       "      <td>3</td>\n",
       "      <td>1</td>\n",
       "      <td>8</td>\n",
       "    </tr>\n",
       "    <tr>\n",
       "      <th>3</th>\n",
       "      <td>25-34</td>\n",
       "      <td>U</td>\n",
       "      <td>75-99K</td>\n",
       "      <td>Homeowner</td>\n",
       "      <td>2 Adults Kids</td>\n",
       "      <td>4</td>\n",
       "      <td>2</td>\n",
       "      <td>13</td>\n",
       "    </tr>\n",
       "    <tr>\n",
       "      <th>4</th>\n",
       "      <td>45-54</td>\n",
       "      <td>B</td>\n",
       "      <td>50-74K</td>\n",
       "      <td>Homeowner</td>\n",
       "      <td>Single Female</td>\n",
       "      <td>1</td>\n",
       "      <td>None/Unknown</td>\n",
       "      <td>16</td>\n",
       "    </tr>\n",
       "  </tbody>\n",
       "</table>\n",
       "</div>"
      ],
      "text/plain": [
       "  AGE_DESC MARITAL_STATUS_CODE INCOME_DESC HOMEOWNER_DESC      HH_COMP_DESC  \\\n",
       "0      65+                   A      35-49K      Homeowner  2 Adults No Kids   \n",
       "1    45-54                   A      50-74K      Homeowner  2 Adults No Kids   \n",
       "2    25-34                   U      25-34K        Unknown     2 Adults Kids   \n",
       "3    25-34                   U      75-99K      Homeowner     2 Adults Kids   \n",
       "4    45-54                   B      50-74K      Homeowner     Single Female   \n",
       "\n",
       "  HOUSEHOLD_SIZE_DESC KID_CATEGORY_DESC  household_key  \n",
       "0                   2      None/Unknown              1  \n",
       "1                   2      None/Unknown              7  \n",
       "2                   3                 1              8  \n",
       "3                   4                 2             13  \n",
       "4                   1      None/Unknown             16  "
      ]
     },
     "execution_count": 269,
     "metadata": {},
     "output_type": "execute_result"
    }
   ],
   "source": [
    "df_demographic.head(5)"
   ]
  },
  {
   "cell_type": "code",
   "execution_count": 270,
   "metadata": {},
   "outputs": [
    {
     "name": "stdout",
     "output_type": "stream",
     "text": [
      "<class 'pandas.core.frame.DataFrame'>\n",
      "RangeIndex: 801 entries, 0 to 800\n",
      "Data columns (total 8 columns):\n",
      " #   Column               Non-Null Count  Dtype \n",
      "---  ------               --------------  ----- \n",
      " 0   AGE_DESC             801 non-null    object\n",
      " 1   MARITAL_STATUS_CODE  801 non-null    object\n",
      " 2   INCOME_DESC          801 non-null    object\n",
      " 3   HOMEOWNER_DESC       801 non-null    object\n",
      " 4   HH_COMP_DESC         801 non-null    object\n",
      " 5   HOUSEHOLD_SIZE_DESC  801 non-null    object\n",
      " 6   KID_CATEGORY_DESC    801 non-null    object\n",
      " 7   household_key        801 non-null    int64 \n",
      "dtypes: int64(1), object(7)\n",
      "memory usage: 50.2+ KB\n"
     ]
    }
   ],
   "source": [
    "df_demographic.info()"
   ]
  },
  {
   "cell_type": "markdown",
   "metadata": {},
   "source": [
    "We can see that the columns ['HOMEOWNER_DESC', 'HH_COMP_DESC', 'KID_CATEGORY_DESC','MARITAL_STATUS'] all have missing values as Unknwown or None/Unknown"
   ]
  },
  {
   "cell_type": "markdown",
   "metadata": {},
   "source": [
    "##### b. KID_CATEGORY_DESC"
   ]
  },
  {
   "cell_type": "code",
   "execution_count": 271,
   "metadata": {},
   "outputs": [
    {
     "data": {
      "text/plain": [
       "KID_CATEGORY_DESC\n",
       "None/Unknown    558\n",
       "1               114\n",
       "3+               69\n",
       "2                60\n",
       "Name: count, dtype: int64"
      ]
     },
     "execution_count": 271,
     "metadata": {},
     "output_type": "execute_result"
    }
   ],
   "source": [
    "df_demographic[\"KID_CATEGORY_DESC\"].value_counts()"
   ]
  },
  {
   "cell_type": "code",
   "execution_count": 272,
   "metadata": {},
   "outputs": [
    {
     "data": {
      "text/plain": [
       "HH_COMP_DESC\n",
       "2 Adults No Kids    255\n",
       "Single Female       144\n",
       "Single Male          95\n",
       "Unknown              64\n",
       "Name: count, dtype: int64"
      ]
     },
     "execution_count": 272,
     "metadata": {},
     "output_type": "execute_result"
    }
   ],
   "source": [
    "# Get the 'HH_COMP_DESC' values where 'KID_CATEGORY_DESC' is 'None/Unknown' in the df_demographic DataFrame\n",
    "# Then, count the unique values of 'HH_COMP_DESC'\n",
    "df_demographic[df_demographic[\"KID_CATEGORY_DESC\"] == \"None/Unknown\"][\n",
    "    \"HH_COMP_DESC\"\n",
    "].value_counts()"
   ]
  },
  {
   "cell_type": "markdown",
   "metadata": {},
   "source": [
    "We can see that the majority of KIDS marked as None/Unknown are from adults with no kids ['2 Adults No Kids', 'Single Female', 'Single Male']. <br/>\n",
    "We can set those values to 0.\n"
   ]
  },
  {
   "cell_type": "code",
   "execution_count": 273,
   "metadata": {},
   "outputs": [
    {
     "data": {
      "text/plain": [
       "KID_CATEGORY_DESC\n",
       "0               494\n",
       "1               114\n",
       "3+               69\n",
       "None/Unknown     64\n",
       "2                60\n",
       "Name: count, dtype: int64"
      ]
     },
     "execution_count": 273,
     "metadata": {},
     "output_type": "execute_result"
    }
   ],
   "source": [
    "# Update the 'KID_CATEGORY_DESC' column in the df_demographic DataFrame\n",
    "df_demographic[\"KID_CATEGORY_DESC\"] = np.where(\n",
    "    # Condition: If 'KID_CATEGORY_DESC' is 'None/Unknown' AND 'HH_COMP_DESC' is not 'Unknown'\n",
    "    (df_demographic[\"KID_CATEGORY_DESC\"] == \"None/Unknown\")\n",
    "    & (~(df_demographic[\"HH_COMP_DESC\"] == \"Unknown\")),\n",
    "    0,  # If condition is True, set value to 0\n",
    "    df_demographic[\n",
    "        \"KID_CATEGORY_DESC\"\n",
    "    ],  # If condition is False, keep the original value\n",
    ")\n",
    "df_demographic[\"KID_CATEGORY_DESC\"].value_counts()"
   ]
  },
  {
   "cell_type": "code",
   "execution_count": 274,
   "metadata": {},
   "outputs": [
    {
     "data": {
      "text/plain": [
       "HOUSEHOLD_SIZE_DESC  HH_COMP_DESC  MARITAL_STATUS_CODE\n",
       "1                    Unknown       U                      59\n",
       "2                    Unknown       A                       3\n",
       "1                    Unknown       B                       2\n",
       "Name: count, dtype: int64"
      ]
     },
     "execution_count": 274,
     "metadata": {},
     "output_type": "execute_result"
    }
   ],
   "source": [
    "# Filter the df_demographic DataFrame to only include rows where 'KID_CATEGORY_DESC' is 'None/Unknown'\n",
    "# Then, select the 'HOUSEHOLD_SIZE_DESC', 'HH_COMP_DESC', and 'MARITAL_STATUS_CODE' columns from this filtered DataFrame\n",
    "# Finally, count the unique combinations of these three columns\n",
    "df_demographic[df_demographic[\"KID_CATEGORY_DESC\"] == \"None/Unknown\"][\n",
    "    [\"HOUSEHOLD_SIZE_DESC\", \"HH_COMP_DESC\", \"MARITAL_STATUS_CODE\"]\n",
    "].value_counts()"
   ]
  },
  {
   "cell_type": "markdown",
   "metadata": {},
   "source": [
    "We can see that the remaining Unknown kids can be deduced from the household size as Household Size of 1 has no kids. Both household types are of an unknown composition. The households having 2 persons are married. We can assume that therefore, they have no kids."
   ]
  },
  {
   "cell_type": "code",
   "execution_count": 275,
   "metadata": {},
   "outputs": [
    {
     "data": {
      "text/plain": [
       "KID_CATEGORY_DESC\n",
       "0     558\n",
       "1     114\n",
       "3+     69\n",
       "2      60\n",
       "Name: count, dtype: int64"
      ]
     },
     "execution_count": 275,
     "metadata": {},
     "output_type": "execute_result"
    }
   ],
   "source": [
    "df_demographic[\"KID_CATEGORY_DESC\"].replace(\n",
    "    \"None/Unknown\", 0, inplace=True\n",
    ")  # Replace 'None/Unknown' with 0\n",
    "df_demographic[\"KID_CATEGORY_DESC\"].value_counts()"
   ]
  },
  {
   "cell_type": "code",
   "execution_count": 276,
   "metadata": {},
   "outputs": [
    {
     "data": {
      "text/plain": [
       "KID_CATEGORY_DESC\n",
       "0    558\n",
       "1    114\n",
       "3     69\n",
       "2     60\n",
       "Name: count, dtype: int64"
      ]
     },
     "execution_count": 276,
     "metadata": {},
     "output_type": "execute_result"
    }
   ],
   "source": [
    "# Replace the 3+ values in the 'KID_CATEGORY_DESC' column with 3 to convert the column to integers.\n",
    "df_demographic[\"KID_CATEGORY_DESC\"] = (\n",
    "    df_demographic[\"KID_CATEGORY_DESC\"].replace(\"3+\", 3).astype(int)\n",
    ")\n",
    "df_demographic[\"KID_CATEGORY_DESC\"].value_counts()"
   ]
  },
  {
   "cell_type": "markdown",
   "metadata": {},
   "source": [
    "#### c. HH_COMP_DESC"
   ]
  },
  {
   "cell_type": "code",
   "execution_count": 277,
   "metadata": {},
   "outputs": [
    {
     "data": {
      "text/plain": [
       "HH_COMP_DESC\n",
       "2 Adults No Kids    255\n",
       "2 Adults Kids       187\n",
       "Single Female       144\n",
       "Single Male          95\n",
       "Unknown              73\n",
       "1 Adult Kids         47\n",
       "Name: count, dtype: int64"
      ]
     },
     "execution_count": 277,
     "metadata": {},
     "output_type": "execute_result"
    }
   ],
   "source": [
    "df_demographic[\"HH_COMP_DESC\"].value_counts()"
   ]
  },
  {
   "cell_type": "code",
   "execution_count": 278,
   "metadata": {},
   "outputs": [
    {
     "data": {
      "text/plain": [
       "HOUSEHOLD_SIZE_DESC  KID_CATEGORY_DESC\n",
       "1                    0                    61\n",
       "3                    1                     5\n",
       "2                    0                     3\n",
       "5+                   3                     3\n",
       "2                    1                     1\n",
       "Name: count, dtype: int64"
      ]
     },
     "execution_count": 278,
     "metadata": {},
     "output_type": "execute_result"
    }
   ],
   "source": [
    "# Filter the df_demographic DataFrame to only include rows where 'HH_COMP_DESC' is 'Unknown'\n",
    "# Then, select the 'HOUSEHOLD_SIZE_DESC' and 'KID_CATEGORY_DESC' columns from this filtered DataFrame\n",
    "# Finally, count the unique combinations of these two columns.\n",
    "df_demographic[df_demographic[\"HH_COMP_DESC\"] == \"Unknown\"][\n",
    "    [\"HOUSEHOLD_SIZE_DESC\", \"KID_CATEGORY_DESC\"]\n",
    "].value_counts()"
   ]
  },
  {
   "cell_type": "markdown",
   "metadata": {},
   "source": [
    "We can fill the Houses with 1 person and no kids as a new value: '1 Adult No Kids'"
   ]
  },
  {
   "cell_type": "code",
   "execution_count": 279,
   "metadata": {},
   "outputs": [
    {
     "data": {
      "text/plain": [
       "HH_COMP_DESC\n",
       "2 Adults No Kids    255\n",
       "2 Adults Kids       187\n",
       "Single Female       144\n",
       "Single Male          95\n",
       "1 Adult No Kids      61\n",
       "1 Adult Kids         47\n",
       "Unknown              12\n",
       "Name: count, dtype: int64"
      ]
     },
     "execution_count": 279,
     "metadata": {},
     "output_type": "execute_result"
    }
   ],
   "source": [
    "# Update the 'HH_COMP_DESC' column in the df_demographic DataFrame\n",
    "df_demographic[\"HH_COMP_DESC\"] = np.where(\n",
    "    # Condition: If 'HH_COMP_DESC' is 'Unknown' AND 'HOUSEHOLD_SIZE_DESC' is '1'\n",
    "    (df_demographic[\"HH_COMP_DESC\"] == \"Unknown\")\n",
    "    & (df_demographic[\"HOUSEHOLD_SIZE_DESC\"] == \"1\"),\n",
    "    \"1 Adult No Kids\",  # If condition is True, set value to '1 Adult No Kids'\n",
    "    df_demographic[\"HH_COMP_DESC\"],  # If condition is False, keep the original value\n",
    ")\n",
    "df_demographic[\"HH_COMP_DESC\"].value_counts()"
   ]
  },
  {
   "cell_type": "code",
   "execution_count": 280,
   "metadata": {},
   "outputs": [
    {
     "data": {
      "text/html": [
       "<div>\n",
       "<style scoped>\n",
       "    .dataframe tbody tr th:only-of-type {\n",
       "        vertical-align: middle;\n",
       "    }\n",
       "\n",
       "    .dataframe tbody tr th {\n",
       "        vertical-align: top;\n",
       "    }\n",
       "\n",
       "    .dataframe thead th {\n",
       "        text-align: right;\n",
       "    }\n",
       "</style>\n",
       "<table border=\"1\" class=\"dataframe\">\n",
       "  <thead>\n",
       "    <tr style=\"text-align: right;\">\n",
       "      <th></th>\n",
       "      <th>AGE_DESC</th>\n",
       "      <th>MARITAL_STATUS_CODE</th>\n",
       "      <th>INCOME_DESC</th>\n",
       "      <th>HOMEOWNER_DESC</th>\n",
       "      <th>HH_COMP_DESC</th>\n",
       "      <th>HOUSEHOLD_SIZE_DESC</th>\n",
       "      <th>KID_CATEGORY_DESC</th>\n",
       "      <th>household_key</th>\n",
       "    </tr>\n",
       "  </thead>\n",
       "  <tbody>\n",
       "    <tr>\n",
       "      <th>87</th>\n",
       "      <td>35-44</td>\n",
       "      <td>A</td>\n",
       "      <td>Under 15K</td>\n",
       "      <td>Renter</td>\n",
       "      <td>Unknown</td>\n",
       "      <td>3</td>\n",
       "      <td>1</td>\n",
       "      <td>249</td>\n",
       "    </tr>\n",
       "    <tr>\n",
       "      <th>140</th>\n",
       "      <td>25-34</td>\n",
       "      <td>A</td>\n",
       "      <td>25-34K</td>\n",
       "      <td>Unknown</td>\n",
       "      <td>Unknown</td>\n",
       "      <td>2</td>\n",
       "      <td>0</td>\n",
       "      <td>404</td>\n",
       "    </tr>\n",
       "    <tr>\n",
       "      <th>194</th>\n",
       "      <td>45-54</td>\n",
       "      <td>A</td>\n",
       "      <td>125-149K</td>\n",
       "      <td>Homeowner</td>\n",
       "      <td>Unknown</td>\n",
       "      <td>3</td>\n",
       "      <td>1</td>\n",
       "      <td>582</td>\n",
       "    </tr>\n",
       "    <tr>\n",
       "      <th>218</th>\n",
       "      <td>55-64</td>\n",
       "      <td>A</td>\n",
       "      <td>50-74K</td>\n",
       "      <td>Homeowner</td>\n",
       "      <td>Unknown</td>\n",
       "      <td>2</td>\n",
       "      <td>0</td>\n",
       "      <td>660</td>\n",
       "    </tr>\n",
       "    <tr>\n",
       "      <th>341</th>\n",
       "      <td>35-44</td>\n",
       "      <td>A</td>\n",
       "      <td>35-49K</td>\n",
       "      <td>Unknown</td>\n",
       "      <td>Unknown</td>\n",
       "      <td>5+</td>\n",
       "      <td>3</td>\n",
       "      <td>1012</td>\n",
       "    </tr>\n",
       "    <tr>\n",
       "      <th>375</th>\n",
       "      <td>45-54</td>\n",
       "      <td>U</td>\n",
       "      <td>50-74K</td>\n",
       "      <td>Unknown</td>\n",
       "      <td>Unknown</td>\n",
       "      <td>2</td>\n",
       "      <td>1</td>\n",
       "      <td>1135</td>\n",
       "    </tr>\n",
       "    <tr>\n",
       "      <th>382</th>\n",
       "      <td>45-54</td>\n",
       "      <td>A</td>\n",
       "      <td>35-49K</td>\n",
       "      <td>Homeowner</td>\n",
       "      <td>Unknown</td>\n",
       "      <td>2</td>\n",
       "      <td>0</td>\n",
       "      <td>1154</td>\n",
       "    </tr>\n",
       "    <tr>\n",
       "      <th>505</th>\n",
       "      <td>45-54</td>\n",
       "      <td>A</td>\n",
       "      <td>75-99K</td>\n",
       "      <td>Homeowner</td>\n",
       "      <td>Unknown</td>\n",
       "      <td>3</td>\n",
       "      <td>1</td>\n",
       "      <td>1563</td>\n",
       "    </tr>\n",
       "    <tr>\n",
       "      <th>579</th>\n",
       "      <td>45-54</td>\n",
       "      <td>U</td>\n",
       "      <td>125-149K</td>\n",
       "      <td>Homeowner</td>\n",
       "      <td>Unknown</td>\n",
       "      <td>5+</td>\n",
       "      <td>3</td>\n",
       "      <td>1834</td>\n",
       "    </tr>\n",
       "    <tr>\n",
       "      <th>584</th>\n",
       "      <td>45-54</td>\n",
       "      <td>A</td>\n",
       "      <td>75-99K</td>\n",
       "      <td>Homeowner</td>\n",
       "      <td>Unknown</td>\n",
       "      <td>3</td>\n",
       "      <td>1</td>\n",
       "      <td>1848</td>\n",
       "    </tr>\n",
       "    <tr>\n",
       "      <th>628</th>\n",
       "      <td>25-34</td>\n",
       "      <td>U</td>\n",
       "      <td>50-74K</td>\n",
       "      <td>Unknown</td>\n",
       "      <td>Unknown</td>\n",
       "      <td>5+</td>\n",
       "      <td>3</td>\n",
       "      <td>1985</td>\n",
       "    </tr>\n",
       "    <tr>\n",
       "      <th>797</th>\n",
       "      <td>45-54</td>\n",
       "      <td>A</td>\n",
       "      <td>75-99K</td>\n",
       "      <td>Homeowner</td>\n",
       "      <td>Unknown</td>\n",
       "      <td>3</td>\n",
       "      <td>1</td>\n",
       "      <td>2496</td>\n",
       "    </tr>\n",
       "  </tbody>\n",
       "</table>\n",
       "</div>"
      ],
      "text/plain": [
       "    AGE_DESC MARITAL_STATUS_CODE INCOME_DESC HOMEOWNER_DESC HH_COMP_DESC  \\\n",
       "87     35-44                   A   Under 15K         Renter      Unknown   \n",
       "140    25-34                   A      25-34K        Unknown      Unknown   \n",
       "194    45-54                   A    125-149K      Homeowner      Unknown   \n",
       "218    55-64                   A      50-74K      Homeowner      Unknown   \n",
       "341    35-44                   A      35-49K        Unknown      Unknown   \n",
       "375    45-54                   U      50-74K        Unknown      Unknown   \n",
       "382    45-54                   A      35-49K      Homeowner      Unknown   \n",
       "505    45-54                   A      75-99K      Homeowner      Unknown   \n",
       "579    45-54                   U    125-149K      Homeowner      Unknown   \n",
       "584    45-54                   A      75-99K      Homeowner      Unknown   \n",
       "628    25-34                   U      50-74K        Unknown      Unknown   \n",
       "797    45-54                   A      75-99K      Homeowner      Unknown   \n",
       "\n",
       "    HOUSEHOLD_SIZE_DESC  KID_CATEGORY_DESC  household_key  \n",
       "87                    3                  1            249  \n",
       "140                   2                  0            404  \n",
       "194                   3                  1            582  \n",
       "218                   2                  0            660  \n",
       "341                  5+                  3           1012  \n",
       "375                   2                  1           1135  \n",
       "382                   2                  0           1154  \n",
       "505                   3                  1           1563  \n",
       "579                  5+                  3           1834  \n",
       "584                   3                  1           1848  \n",
       "628                  5+                  3           1985  \n",
       "797                   3                  1           2496  "
      ]
     },
     "execution_count": 280,
     "metadata": {},
     "output_type": "execute_result"
    }
   ],
   "source": [
    "df_demographic[df_demographic[\"HH_COMP_DESC\"] == \"Unknown\"]"
   ]
  },
  {
   "cell_type": "markdown",
   "metadata": {},
   "source": [
    "We can see that we can deduce the household composition from the diffrence between the Household size and the number of kids."
   ]
  },
  {
   "cell_type": "code",
   "execution_count": 281,
   "metadata": {},
   "outputs": [
    {
     "data": {
      "text/plain": [
       "HH_COMP_DESC\n",
       "2 Adults No Kids    255\n",
       "2 Adults Kids       187\n",
       "Single Female       144\n",
       "Single Male          95\n",
       "1 Adult No Kids      61\n",
       "1 Adult Kids         47\n",
       "Unknown              12\n",
       "Name: count, dtype: int64"
      ]
     },
     "execution_count": 281,
     "metadata": {},
     "output_type": "execute_result"
    }
   ],
   "source": [
    "# First we need to convert the column to int and replace the '5+' values with 5 to do so.\n",
    "df_demographic[\"HOUSEHOLD_SIZE_DESC\"] = (\n",
    "    df_demographic[\"HOUSEHOLD_SIZE_DESC\"].replace(\"5+\", 5).astype(int)\n",
    ")\n",
    "df_demographic[\"HH_COMP_DESC\"].value_counts()"
   ]
  },
  {
   "cell_type": "code",
   "execution_count": 282,
   "metadata": {},
   "outputs": [
    {
     "data": {
      "text/plain": [
       "HH_COMP_DESC\n",
       "2 Adults No Kids    258\n",
       "2 Adults Kids       195\n",
       "Single Female       144\n",
       "Single Male          95\n",
       "1 Adult No Kids      61\n",
       "1 Adult Kids         48\n",
       "Name: count, dtype: int64"
      ]
     },
     "execution_count": 282,
     "metadata": {},
     "output_type": "execute_result"
    }
   ],
   "source": [
    "# Define the condition lists\n",
    "unknown_cond = df_demographic[\"HH_COMP_DESC\"] == \"Unknown\"\n",
    "conditions = [\n",
    "    (\n",
    "        unknown_cond\n",
    "        & (\n",
    "            df_demographic[\"HOUSEHOLD_SIZE_DESC\"] - df_demographic[\"KID_CATEGORY_DESC\"]\n",
    "            == 2\n",
    "        )\n",
    "        & (df_demographic[\"KID_CATEGORY_DESC\"] == 0)\n",
    "    ),\n",
    "    (\n",
    "        unknown_cond\n",
    "        & (\n",
    "            df_demographic[\"HOUSEHOLD_SIZE_DESC\"] - df_demographic[\"KID_CATEGORY_DESC\"]\n",
    "            == 2\n",
    "        )\n",
    "        & (df_demographic[\"KID_CATEGORY_DESC\"] != 0)\n",
    "    ),\n",
    "    (\n",
    "        unknown_cond\n",
    "        & (\n",
    "            df_demographic[\"HOUSEHOLD_SIZE_DESC\"] - df_demographic[\"KID_CATEGORY_DESC\"]\n",
    "            == 1\n",
    "        )\n",
    "        & (df_demographic[\"KID_CATEGORY_DESC\"] == 0)\n",
    "    ),\n",
    "    (\n",
    "        unknown_cond\n",
    "        & (\n",
    "            df_demographic[\"HOUSEHOLD_SIZE_DESC\"] - df_demographic[\"KID_CATEGORY_DESC\"]\n",
    "            == 1\n",
    "        )\n",
    "        & (df_demographic[\"KID_CATEGORY_DESC\"] != 0)\n",
    "    ),\n",
    "]\n",
    "\n",
    "# Define the choice list\n",
    "choices = [\"2 Adults No Kids\", \"2 Adults Kids\", \"1 Adult No Kids\", \"1 Adult Kids\"]\n",
    "\n",
    "# Create a new column with the new values\n",
    "df_demographic[\"HH_COMP_DESC\"] = np.select(\n",
    "    conditions, choices, default=df_demographic[\"HH_COMP_DESC\"]\n",
    ")\n",
    "\n",
    "df_demographic[\"HH_COMP_DESC\"].value_counts()"
   ]
  },
  {
   "cell_type": "markdown",
   "metadata": {},
   "source": [
    "#### d. HOMEOWNER_DESC"
   ]
  },
  {
   "cell_type": "code",
   "execution_count": 283,
   "metadata": {},
   "outputs": [
    {
     "data": {
      "text/plain": [
       "HOMEOWNER_DESC\n",
       "Homeowner          504\n",
       "Unknown            233\n",
       "Renter              42\n",
       "Probable Renter     11\n",
       "Probable Owner      11\n",
       "Name: count, dtype: int64"
      ]
     },
     "execution_count": 283,
     "metadata": {},
     "output_type": "execute_result"
    }
   ],
   "source": [
    "df_demographic[\"HOMEOWNER_DESC\"].value_counts()"
   ]
  },
  {
   "cell_type": "code",
   "execution_count": 284,
   "metadata": {},
   "outputs": [],
   "source": [
    "# Replace 'Unknown' values in the 'HOMEOWNER_DESC' column of the df_demographic DataFrame with NA (missing) values\n",
    "df_demographic[\"HOMEOWNER_DESC\"].replace(\"Unknown\", pd.NA, inplace=True)"
   ]
  },
  {
   "cell_type": "markdown",
   "metadata": {},
   "source": [
    "We will fill the Homeowner description column with the same distribution as the non missing values"
   ]
  },
  {
   "cell_type": "code",
   "execution_count": 285,
   "metadata": {},
   "outputs": [
    {
     "data": {
      "text/plain": [
       "{'Homeowner': 0.8873239436619719,\n",
       " 'Renter': 0.07394366197183098,\n",
       " 'Probable Renter': 0.01936619718309859,\n",
       " 'Probable Owner': 0.01936619718309859}"
      ]
     },
     "execution_count": 285,
     "metadata": {},
     "output_type": "execute_result"
    }
   ],
   "source": [
    "# Create a dictionnary with the ratio of each non NA value in the column\n",
    "homeowner_probability = (\n",
    "    df_demographic[\"HOMEOWNER_DESC\"].value_counts(normalize=True).to_dict()\n",
    ")\n",
    "homeowner_probability"
   ]
  },
  {
   "cell_type": "code",
   "execution_count": 286,
   "metadata": {},
   "outputs": [
    {
     "data": {
      "text/plain": [
       "HOMEOWNER_DESC\n",
       "Homeowner          0.920100\n",
       "Renter             0.052434\n",
       "Probable Renter    0.013733\n",
       "Probable Owner     0.013733\n",
       "Name: proportion, dtype: float64"
      ]
     },
     "execution_count": 286,
     "metadata": {},
     "output_type": "execute_result"
    }
   ],
   "source": [
    "# Fill the NA values with np.random while passing the existing values ratio as probability to the random function\n",
    "df_demographic[\"HOMEOWNER_DESC\"] = df_demographic[\"HOMEOWNER_DESC\"].fillna(\n",
    "    np.random.choice(\n",
    "        list(homeowner_probability.keys()), p=list(homeowner_probability.values())\n",
    "    )\n",
    ")\n",
    "df_demographic[\"HOMEOWNER_DESC\"].value_counts(normalize=True)"
   ]
  },
  {
   "cell_type": "markdown",
   "metadata": {},
   "source": [
    "#### e. MARITAL_STATUS_CODE"
   ]
  },
  {
   "cell_type": "code",
   "execution_count": 287,
   "metadata": {},
   "outputs": [
    {
     "data": {
      "text/plain": [
       "MARITAL_STATUS_CODE\n",
       "U    344\n",
       "A    340\n",
       "B    117\n",
       "Name: count, dtype: int64"
      ]
     },
     "execution_count": 287,
     "metadata": {},
     "output_type": "execute_result"
    }
   ],
   "source": [
    "df_demographic[\"MARITAL_STATUS_CODE\"].value_counts()"
   ]
  },
  {
   "cell_type": "code",
   "execution_count": 288,
   "metadata": {},
   "outputs": [
    {
     "data": {
      "text/plain": [
       "HH_COMP_DESC      MARITAL_STATUS_CODE\n",
       "1 Adult Kids      A                       16\n",
       "                  B                       14\n",
       "                  U                       18\n",
       "1 Adult No Kids   B                        2\n",
       "                  U                       59\n",
       "2 Adults Kids     A                      141\n",
       "                  B                        9\n",
       "                  U                       45\n",
       "2 Adults No Kids  A                      138\n",
       "                  B                       28\n",
       "                  U                       92\n",
       "Single Female     A                       33\n",
       "                  B                       39\n",
       "                  U                       72\n",
       "Single Male       A                       12\n",
       "                  B                       25\n",
       "                  U                       58\n",
       "Name: count, dtype: int64"
      ]
     },
     "execution_count": 288,
     "metadata": {},
     "output_type": "execute_result"
    }
   ],
   "source": [
    "# We can probably infer the marital status from the 'HH_COMP_DESC' column\n",
    "df_demographic[[\"HH_COMP_DESC\", \"MARITAL_STATUS_CODE\"]].value_counts().sort_index()"
   ]
  },
  {
   "cell_type": "code",
   "execution_count": 289,
   "metadata": {},
   "outputs": [
    {
     "data": {
      "text/plain": [
       "HH_COMP_DESC      MARITAL_STATUS_CODE\n",
       "1 Adult Kids      A                       16\n",
       "                  B                       14\n",
       "1 Adult No Kids   B                        2\n",
       "2 Adults Kids     A                      141\n",
       "                  B                        9\n",
       "2 Adults No Kids  A                      138\n",
       "                  B                       28\n",
       "Single Female     A                       33\n",
       "                  B                       39\n",
       "Single Male       A                       12\n",
       "                  B                       25\n",
       "Name: count, dtype: int64"
      ]
     },
     "execution_count": 289,
     "metadata": {},
     "output_type": "execute_result"
    }
   ],
   "source": [
    "# Replace the 'U' values in the 'MARITAL_STATUS_CODE' column of the df_demographic DataFrame with NA (missing) values\n",
    "# And then see the distribution between 'A': Married & 'B': Single for each Household composition\n",
    "marital_proba = (\n",
    "    df_demographic[[\"HH_COMP_DESC\", \"MARITAL_STATUS_CODE\"]]\n",
    "    .replace(\"U\", np.NaN)\n",
    "    .value_counts()\n",
    "    .sort_index()\n",
    ")\n",
    "marital_proba"
   ]
  },
  {
   "cell_type": "code",
   "execution_count": 290,
   "metadata": {},
   "outputs": [
    {
     "name": "stdout",
     "output_type": "stream",
     "text": [
      "1 Adult Kids: {'A': 0.5333333333333333, 'B': 0.4666666666666667}\n",
      "1 Adult No Kids: {'B': 1.0}\n",
      "2 Adults Kids: {'A': 0.94, 'B': 0.06}\n",
      "2 Adults No Kids: {'A': 0.8313253012048193, 'B': 0.1686746987951807}\n",
      "Single Female: {'A': 0.4583333333333333, 'B': 0.5416666666666666}\n",
      "Single Male: {'A': 0.32432432432432434, 'B': 0.6756756756756757}\n"
     ]
    }
   ],
   "source": [
    "# Extract the ratio of each value ['A','B'] for each 'HH_COMP_DESC' value and use it to fill the missing values according to that ratio\n",
    "\n",
    "# For each unique value in the 'HH_COMP_DESC' column (represented by 'comp_desc')\n",
    "for comp_desc in marital_proba.index.levels[0]:\n",
    "    # Calculate the proportion of each 'MARITAL_STATUS_CODE' value within the current 'HH_COMP_DESC' group\n",
    "    marital_proba[comp_desc] = marital_proba[comp_desc] / marital_proba[comp_desc].sum()\n",
    "\n",
    "    comp_desc_proba = marital_proba[comp_desc].to_dict()\n",
    "    print(f\"{comp_desc}: {comp_desc_proba}\")\n",
    "\n",
    "    # Update the 'MARITAL_STATUS_CODE' column in the df_demographic DataFrame\n",
    "    df_demographic[\"MARITAL_STATUS_CODE\"] = np.where(\n",
    "        # Condition: If 'MARITAL_STATUS_CODE' is 'U' AND 'HH_COMP_DESC' is the current 'comp_desc' value\n",
    "        (df_demographic[\"MARITAL_STATUS_CODE\"] == \"U\")\n",
    "        & (df_demographic[\"HH_COMP_DESC\"] == comp_desc),\n",
    "        # If condition is True, randomly select a 'MARITAL_STATUS_CODE' value based on the calculated proportions\n",
    "        np.random.choice(\n",
    "            list(comp_desc_proba.keys()), p=list(comp_desc_proba.values())\n",
    "        ),\n",
    "        # If condition is False, keep the original value\n",
    "        df_demographic[\"MARITAL_STATUS_CODE\"],\n",
    "    )"
   ]
  },
  {
   "cell_type": "code",
   "execution_count": 291,
   "metadata": {},
   "outputs": [
    {
     "data": {
      "text/plain": [
       "MARITAL_STATUS_CODE\n",
       "A    0.757803\n",
       "B    0.242197\n",
       "Name: proportion, dtype: float64"
      ]
     },
     "execution_count": 291,
     "metadata": {},
     "output_type": "execute_result"
    }
   ],
   "source": [
    "df_demographic[\"MARITAL_STATUS_CODE\"].value_counts(normalize=True)"
   ]
  },
  {
   "cell_type": "markdown",
   "metadata": {},
   "source": [
    "All Missing values in the dataframe are now resolved."
   ]
  },
  {
   "cell_type": "code",
   "execution_count": 292,
   "metadata": {},
   "outputs": [
    {
     "data": {
      "text/html": [
       "<div>\n",
       "<style scoped>\n",
       "    .dataframe tbody tr th:only-of-type {\n",
       "        vertical-align: middle;\n",
       "    }\n",
       "\n",
       "    .dataframe tbody tr th {\n",
       "        vertical-align: top;\n",
       "    }\n",
       "\n",
       "    .dataframe thead th {\n",
       "        text-align: right;\n",
       "    }\n",
       "</style>\n",
       "<table border=\"1\" class=\"dataframe\">\n",
       "  <thead>\n",
       "    <tr style=\"text-align: right;\">\n",
       "      <th></th>\n",
       "      <th>AGE_DESC</th>\n",
       "      <th>MARITAL_STATUS_CODE</th>\n",
       "      <th>INCOME_DESC</th>\n",
       "      <th>HOMEOWNER_DESC</th>\n",
       "      <th>HH_COMP_DESC</th>\n",
       "      <th>HOUSEHOLD_SIZE_DESC</th>\n",
       "      <th>KID_CATEGORY_DESC</th>\n",
       "      <th>household_key</th>\n",
       "    </tr>\n",
       "  </thead>\n",
       "  <tbody>\n",
       "    <tr>\n",
       "      <th>0</th>\n",
       "      <td>65+</td>\n",
       "      <td>A</td>\n",
       "      <td>35-49K</td>\n",
       "      <td>Homeowner</td>\n",
       "      <td>2 Adults No Kids</td>\n",
       "      <td>2</td>\n",
       "      <td>0</td>\n",
       "      <td>1</td>\n",
       "    </tr>\n",
       "    <tr>\n",
       "      <th>1</th>\n",
       "      <td>45-54</td>\n",
       "      <td>A</td>\n",
       "      <td>50-74K</td>\n",
       "      <td>Homeowner</td>\n",
       "      <td>2 Adults No Kids</td>\n",
       "      <td>2</td>\n",
       "      <td>0</td>\n",
       "      <td>7</td>\n",
       "    </tr>\n",
       "    <tr>\n",
       "      <th>2</th>\n",
       "      <td>25-34</td>\n",
       "      <td>A</td>\n",
       "      <td>25-34K</td>\n",
       "      <td>Homeowner</td>\n",
       "      <td>2 Adults Kids</td>\n",
       "      <td>3</td>\n",
       "      <td>1</td>\n",
       "      <td>8</td>\n",
       "    </tr>\n",
       "    <tr>\n",
       "      <th>3</th>\n",
       "      <td>25-34</td>\n",
       "      <td>A</td>\n",
       "      <td>75-99K</td>\n",
       "      <td>Homeowner</td>\n",
       "      <td>2 Adults Kids</td>\n",
       "      <td>4</td>\n",
       "      <td>2</td>\n",
       "      <td>13</td>\n",
       "    </tr>\n",
       "    <tr>\n",
       "      <th>4</th>\n",
       "      <td>45-54</td>\n",
       "      <td>B</td>\n",
       "      <td>50-74K</td>\n",
       "      <td>Homeowner</td>\n",
       "      <td>Single Female</td>\n",
       "      <td>1</td>\n",
       "      <td>0</td>\n",
       "      <td>16</td>\n",
       "    </tr>\n",
       "    <tr>\n",
       "      <th>...</th>\n",
       "      <td>...</td>\n",
       "      <td>...</td>\n",
       "      <td>...</td>\n",
       "      <td>...</td>\n",
       "      <td>...</td>\n",
       "      <td>...</td>\n",
       "      <td>...</td>\n",
       "      <td>...</td>\n",
       "    </tr>\n",
       "    <tr>\n",
       "      <th>796</th>\n",
       "      <td>35-44</td>\n",
       "      <td>A</td>\n",
       "      <td>50-74K</td>\n",
       "      <td>Homeowner</td>\n",
       "      <td>2 Adults No Kids</td>\n",
       "      <td>2</td>\n",
       "      <td>0</td>\n",
       "      <td>2494</td>\n",
       "    </tr>\n",
       "    <tr>\n",
       "      <th>797</th>\n",
       "      <td>45-54</td>\n",
       "      <td>A</td>\n",
       "      <td>75-99K</td>\n",
       "      <td>Homeowner</td>\n",
       "      <td>2 Adults Kids</td>\n",
       "      <td>3</td>\n",
       "      <td>1</td>\n",
       "      <td>2496</td>\n",
       "    </tr>\n",
       "    <tr>\n",
       "      <th>798</th>\n",
       "      <td>45-54</td>\n",
       "      <td>A</td>\n",
       "      <td>35-49K</td>\n",
       "      <td>Homeowner</td>\n",
       "      <td>Single Male</td>\n",
       "      <td>1</td>\n",
       "      <td>0</td>\n",
       "      <td>2497</td>\n",
       "    </tr>\n",
       "    <tr>\n",
       "      <th>799</th>\n",
       "      <td>25-34</td>\n",
       "      <td>A</td>\n",
       "      <td>50-74K</td>\n",
       "      <td>Homeowner</td>\n",
       "      <td>2 Adults No Kids</td>\n",
       "      <td>2</td>\n",
       "      <td>0</td>\n",
       "      <td>2498</td>\n",
       "    </tr>\n",
       "    <tr>\n",
       "      <th>800</th>\n",
       "      <td>25-34</td>\n",
       "      <td>A</td>\n",
       "      <td>Under 15K</td>\n",
       "      <td>Homeowner</td>\n",
       "      <td>2 Adults Kids</td>\n",
       "      <td>3</td>\n",
       "      <td>1</td>\n",
       "      <td>2499</td>\n",
       "    </tr>\n",
       "  </tbody>\n",
       "</table>\n",
       "<p>801 rows × 8 columns</p>\n",
       "</div>"
      ],
      "text/plain": [
       "    AGE_DESC MARITAL_STATUS_CODE INCOME_DESC HOMEOWNER_DESC      HH_COMP_DESC  \\\n",
       "0        65+                   A      35-49K      Homeowner  2 Adults No Kids   \n",
       "1      45-54                   A      50-74K      Homeowner  2 Adults No Kids   \n",
       "2      25-34                   A      25-34K      Homeowner     2 Adults Kids   \n",
       "3      25-34                   A      75-99K      Homeowner     2 Adults Kids   \n",
       "4      45-54                   B      50-74K      Homeowner     Single Female   \n",
       "..       ...                 ...         ...            ...               ...   \n",
       "796    35-44                   A      50-74K      Homeowner  2 Adults No Kids   \n",
       "797    45-54                   A      75-99K      Homeowner     2 Adults Kids   \n",
       "798    45-54                   A      35-49K      Homeowner       Single Male   \n",
       "799    25-34                   A      50-74K      Homeowner  2 Adults No Kids   \n",
       "800    25-34                   A   Under 15K      Homeowner     2 Adults Kids   \n",
       "\n",
       "     HOUSEHOLD_SIZE_DESC  KID_CATEGORY_DESC  household_key  \n",
       "0                      2                  0              1  \n",
       "1                      2                  0              7  \n",
       "2                      3                  1              8  \n",
       "3                      4                  2             13  \n",
       "4                      1                  0             16  \n",
       "..                   ...                ...            ...  \n",
       "796                    2                  0           2494  \n",
       "797                    3                  1           2496  \n",
       "798                    1                  0           2497  \n",
       "799                    2                  0           2498  \n",
       "800                    3                  1           2499  \n",
       "\n",
       "[801 rows x 8 columns]"
      ]
     },
     "execution_count": 292,
     "metadata": {},
     "output_type": "execute_result"
    }
   ],
   "source": [
    "df_demographic"
   ]
  },
  {
   "cell_type": "markdown",
   "metadata": {},
   "source": [
    "---"
   ]
  },
  {
   "cell_type": "markdown",
   "metadata": {},
   "source": [
    "## 2. Transaction DataFrame"
   ]
  },
  {
   "cell_type": "code",
   "execution_count": 293,
   "metadata": {},
   "outputs": [
    {
     "data": {
      "text/html": [
       "<div>\n",
       "<style scoped>\n",
       "    .dataframe tbody tr th:only-of-type {\n",
       "        vertical-align: middle;\n",
       "    }\n",
       "\n",
       "    .dataframe tbody tr th {\n",
       "        vertical-align: top;\n",
       "    }\n",
       "\n",
       "    .dataframe thead th {\n",
       "        text-align: right;\n",
       "    }\n",
       "</style>\n",
       "<table border=\"1\" class=\"dataframe\">\n",
       "  <thead>\n",
       "    <tr style=\"text-align: right;\">\n",
       "      <th></th>\n",
       "      <th>household_key</th>\n",
       "      <th>BASKET_ID</th>\n",
       "      <th>DAY</th>\n",
       "      <th>PRODUCT_ID</th>\n",
       "      <th>QUANTITY</th>\n",
       "      <th>SALES_VALUE</th>\n",
       "      <th>STORE_ID</th>\n",
       "      <th>RETAIL_DISC</th>\n",
       "      <th>TRANS_TIME</th>\n",
       "      <th>WEEK_NO</th>\n",
       "      <th>COUPON_DISC</th>\n",
       "      <th>COUPON_MATCH_DISC</th>\n",
       "    </tr>\n",
       "  </thead>\n",
       "  <tbody>\n",
       "    <tr>\n",
       "      <th>0</th>\n",
       "      <td>2375</td>\n",
       "      <td>26984851472</td>\n",
       "      <td>1</td>\n",
       "      <td>1004906</td>\n",
       "      <td>1</td>\n",
       "      <td>1.39</td>\n",
       "      <td>364</td>\n",
       "      <td>-0.60</td>\n",
       "      <td>1631</td>\n",
       "      <td>1</td>\n",
       "      <td>0.0</td>\n",
       "      <td>0.0</td>\n",
       "    </tr>\n",
       "    <tr>\n",
       "      <th>1</th>\n",
       "      <td>2375</td>\n",
       "      <td>26984851472</td>\n",
       "      <td>1</td>\n",
       "      <td>1033142</td>\n",
       "      <td>1</td>\n",
       "      <td>0.82</td>\n",
       "      <td>364</td>\n",
       "      <td>0.00</td>\n",
       "      <td>1631</td>\n",
       "      <td>1</td>\n",
       "      <td>0.0</td>\n",
       "      <td>0.0</td>\n",
       "    </tr>\n",
       "    <tr>\n",
       "      <th>2</th>\n",
       "      <td>2375</td>\n",
       "      <td>26984851472</td>\n",
       "      <td>1</td>\n",
       "      <td>1036325</td>\n",
       "      <td>1</td>\n",
       "      <td>0.99</td>\n",
       "      <td>364</td>\n",
       "      <td>-0.30</td>\n",
       "      <td>1631</td>\n",
       "      <td>1</td>\n",
       "      <td>0.0</td>\n",
       "      <td>0.0</td>\n",
       "    </tr>\n",
       "    <tr>\n",
       "      <th>3</th>\n",
       "      <td>2375</td>\n",
       "      <td>26984851472</td>\n",
       "      <td>1</td>\n",
       "      <td>1082185</td>\n",
       "      <td>1</td>\n",
       "      <td>1.21</td>\n",
       "      <td>364</td>\n",
       "      <td>0.00</td>\n",
       "      <td>1631</td>\n",
       "      <td>1</td>\n",
       "      <td>0.0</td>\n",
       "      <td>0.0</td>\n",
       "    </tr>\n",
       "    <tr>\n",
       "      <th>4</th>\n",
       "      <td>2375</td>\n",
       "      <td>26984851472</td>\n",
       "      <td>1</td>\n",
       "      <td>8160430</td>\n",
       "      <td>1</td>\n",
       "      <td>1.50</td>\n",
       "      <td>364</td>\n",
       "      <td>-0.39</td>\n",
       "      <td>1631</td>\n",
       "      <td>1</td>\n",
       "      <td>0.0</td>\n",
       "      <td>0.0</td>\n",
       "    </tr>\n",
       "  </tbody>\n",
       "</table>\n",
       "</div>"
      ],
      "text/plain": [
       "   household_key    BASKET_ID  DAY  PRODUCT_ID  QUANTITY  SALES_VALUE  \\\n",
       "0           2375  26984851472    1     1004906         1         1.39   \n",
       "1           2375  26984851472    1     1033142         1         0.82   \n",
       "2           2375  26984851472    1     1036325         1         0.99   \n",
       "3           2375  26984851472    1     1082185         1         1.21   \n",
       "4           2375  26984851472    1     8160430         1         1.50   \n",
       "\n",
       "   STORE_ID  RETAIL_DISC  TRANS_TIME  WEEK_NO  COUPON_DISC  COUPON_MATCH_DISC  \n",
       "0       364        -0.60        1631        1          0.0                0.0  \n",
       "1       364         0.00        1631        1          0.0                0.0  \n",
       "2       364        -0.30        1631        1          0.0                0.0  \n",
       "3       364         0.00        1631        1          0.0                0.0  \n",
       "4       364        -0.39        1631        1          0.0                0.0  "
      ]
     },
     "execution_count": 293,
     "metadata": {},
     "output_type": "execute_result"
    }
   ],
   "source": [
    "df_trnsct.head(5)"
   ]
  },
  {
   "cell_type": "code",
   "execution_count": 294,
   "metadata": {},
   "outputs": [
    {
     "name": "stdout",
     "output_type": "stream",
     "text": [
      "<class 'pandas.core.frame.DataFrame'>\n",
      "RangeIndex: 2595732 entries, 0 to 2595731\n",
      "Data columns (total 12 columns):\n",
      " #   Column             Dtype  \n",
      "---  ------             -----  \n",
      " 0   household_key      int64  \n",
      " 1   BASKET_ID          int64  \n",
      " 2   DAY                int64  \n",
      " 3   PRODUCT_ID         int64  \n",
      " 4   QUANTITY           int64  \n",
      " 5   SALES_VALUE        float64\n",
      " 6   STORE_ID           int64  \n",
      " 7   RETAIL_DISC        float64\n",
      " 8   TRANS_TIME         int64  \n",
      " 9   WEEK_NO            int64  \n",
      " 10  COUPON_DISC        float64\n",
      " 11  COUPON_MATCH_DISC  float64\n",
      "dtypes: float64(4), int64(8)\n",
      "memory usage: 237.6 MB\n"
     ]
    }
   ],
   "source": [
    "df_trnsct.info()"
   ]
  },
  {
   "cell_type": "code",
   "execution_count": 295,
   "metadata": {},
   "outputs": [
    {
     "data": {
      "text/plain": [
       "household_key        0\n",
       "BASKET_ID            0\n",
       "DAY                  0\n",
       "PRODUCT_ID           0\n",
       "QUANTITY             0\n",
       "SALES_VALUE          0\n",
       "STORE_ID             0\n",
       "RETAIL_DISC          0\n",
       "TRANS_TIME           0\n",
       "WEEK_NO              0\n",
       "COUPON_DISC          0\n",
       "COUPON_MATCH_DISC    0\n",
       "dtype: int64"
      ]
     },
     "execution_count": 295,
     "metadata": {},
     "output_type": "execute_result"
    }
   ],
   "source": [
    "df_trnsct.isna().sum()"
   ]
  },
  {
   "cell_type": "markdown",
   "metadata": {},
   "source": [
    "---"
   ]
  },
  {
   "cell_type": "markdown",
   "metadata": {},
   "source": [
    "## 3. Products Dataframe"
   ]
  },
  {
   "cell_type": "code",
   "execution_count": 296,
   "metadata": {},
   "outputs": [
    {
     "data": {
      "text/html": [
       "<div>\n",
       "<style scoped>\n",
       "    .dataframe tbody tr th:only-of-type {\n",
       "        vertical-align: middle;\n",
       "    }\n",
       "\n",
       "    .dataframe tbody tr th {\n",
       "        vertical-align: top;\n",
       "    }\n",
       "\n",
       "    .dataframe thead th {\n",
       "        text-align: right;\n",
       "    }\n",
       "</style>\n",
       "<table border=\"1\" class=\"dataframe\">\n",
       "  <thead>\n",
       "    <tr style=\"text-align: right;\">\n",
       "      <th></th>\n",
       "      <th>PRODUCT_ID</th>\n",
       "      <th>MANUFACTURER</th>\n",
       "      <th>DEPARTMENT</th>\n",
       "      <th>BRAND</th>\n",
       "      <th>COMMODITY_DESC</th>\n",
       "      <th>SUB_COMMODITY_DESC</th>\n",
       "      <th>CURR_SIZE_OF_PRODUCT</th>\n",
       "    </tr>\n",
       "  </thead>\n",
       "  <tbody>\n",
       "    <tr>\n",
       "      <th>0</th>\n",
       "      <td>25671</td>\n",
       "      <td>2</td>\n",
       "      <td>GROCERY</td>\n",
       "      <td>National</td>\n",
       "      <td>FRZN ICE</td>\n",
       "      <td>ICE - CRUSHED/CUBED</td>\n",
       "      <td>22 LB</td>\n",
       "    </tr>\n",
       "    <tr>\n",
       "      <th>1</th>\n",
       "      <td>26081</td>\n",
       "      <td>2</td>\n",
       "      <td>MISC. TRANS.</td>\n",
       "      <td>National</td>\n",
       "      <td>NO COMMODITY DESCRIPTION</td>\n",
       "      <td>NO SUBCOMMODITY DESCRIPTION</td>\n",
       "      <td></td>\n",
       "    </tr>\n",
       "    <tr>\n",
       "      <th>2</th>\n",
       "      <td>26093</td>\n",
       "      <td>69</td>\n",
       "      <td>PASTRY</td>\n",
       "      <td>Private</td>\n",
       "      <td>BREAD</td>\n",
       "      <td>BREAD:ITALIAN/FRENCH</td>\n",
       "      <td></td>\n",
       "    </tr>\n",
       "    <tr>\n",
       "      <th>3</th>\n",
       "      <td>26190</td>\n",
       "      <td>69</td>\n",
       "      <td>GROCERY</td>\n",
       "      <td>Private</td>\n",
       "      <td>FRUIT - SHELF STABLE</td>\n",
       "      <td>APPLE SAUCE</td>\n",
       "      <td>50 OZ</td>\n",
       "    </tr>\n",
       "    <tr>\n",
       "      <th>4</th>\n",
       "      <td>26355</td>\n",
       "      <td>69</td>\n",
       "      <td>GROCERY</td>\n",
       "      <td>Private</td>\n",
       "      <td>COOKIES/CONES</td>\n",
       "      <td>SPECIALTY COOKIES</td>\n",
       "      <td>14 OZ</td>\n",
       "    </tr>\n",
       "  </tbody>\n",
       "</table>\n",
       "</div>"
      ],
      "text/plain": [
       "   PRODUCT_ID  MANUFACTURER    DEPARTMENT     BRAND            COMMODITY_DESC  \\\n",
       "0       25671             2       GROCERY  National                  FRZN ICE   \n",
       "1       26081             2  MISC. TRANS.  National  NO COMMODITY DESCRIPTION   \n",
       "2       26093            69        PASTRY   Private                     BREAD   \n",
       "3       26190            69       GROCERY   Private      FRUIT - SHELF STABLE   \n",
       "4       26355            69       GROCERY   Private             COOKIES/CONES   \n",
       "\n",
       "            SUB_COMMODITY_DESC CURR_SIZE_OF_PRODUCT  \n",
       "0          ICE - CRUSHED/CUBED                22 LB  \n",
       "1  NO SUBCOMMODITY DESCRIPTION                       \n",
       "2         BREAD:ITALIAN/FRENCH                       \n",
       "3                  APPLE SAUCE                50 OZ  \n",
       "4            SPECIALTY COOKIES                14 OZ  "
      ]
     },
     "execution_count": 296,
     "metadata": {},
     "output_type": "execute_result"
    }
   ],
   "source": [
    "df_product.head(5)"
   ]
  },
  {
   "cell_type": "code",
   "execution_count": 297,
   "metadata": {},
   "outputs": [
    {
     "data": {
      "text/plain": [
       "CURR_SIZE_OF_PRODUCT\n",
       "              30607\n",
       "16 OZ          3924\n",
       "12 OZ          3473\n",
       "8 OZ           2363\n",
       "6 OZ           1697\n",
       "              ...  \n",
       "4/3.75OZ          1\n",
       "24 OZ/ CAN        1\n",
       "997874  PK        1\n",
       "19.3 OZ           1\n",
       "2 LTR PET         1\n",
       "Name: count, Length: 4345, dtype: int64"
      ]
     },
     "execution_count": 297,
     "metadata": {},
     "output_type": "execute_result"
    }
   ],
   "source": [
    "df_product[\"CURR_SIZE_OF_PRODUCT\"].value_counts()"
   ]
  },
  {
   "cell_type": "code",
   "execution_count": 298,
   "metadata": {},
   "outputs": [
    {
     "data": {
      "text/plain": [
       "DEPARTMENT\n",
       "GROCERY            39021\n",
       "DRUG GM            31529\n",
       "PRODUCE             3118\n",
       "COSMETICS           3011\n",
       "NUTRITION           2914\n",
       "MEAT                2544\n",
       "MEAT-PCKGD          2427\n",
       "DELI                2354\n",
       "PASTRY              2149\n",
       "FLORAL               938\n",
       "SEAFOOD-PCKGD        563\n",
       "MISC. TRANS.         490\n",
       "SPIRITS              377\n",
       "SEAFOOD              369\n",
       "GARDEN CENTER        128\n",
       "RESTAURANT           102\n",
       "MISC SALES TRAN       88\n",
       "SALAD BAR             48\n",
       "COUP/STR & MFG        39\n",
       "TRAVEL & LEISUR       28\n",
       "FROZEN GROCERY        23\n",
       "KIOSK-GAS             16\n",
       "                      15\n",
       "CHEF SHOPPE           14\n",
       "RX                     9\n",
       "CNTRL/STORE SUP        4\n",
       "DAIRY DELI             3\n",
       "TOYS                   3\n",
       "POSTAL CENTER          3\n",
       "GM MERCH EXP           3\n",
       "VIDEO RENTAL           3\n",
       "AUTOMOTIVE             2\n",
       "PHOTO                  2\n",
       "VIDEO                  2\n",
       "PROD-WHS SALES         2\n",
       "DELI/SNACK BAR         2\n",
       "CHARITABLE CONT        2\n",
       "GRO BAKERY             2\n",
       "PORK                   1\n",
       "HBC                    1\n",
       "MEAT-WHSE              1\n",
       "HOUSEWARES             1\n",
       "ELECT &PLUMBING        1\n",
       "PHARMACY SUPPLY        1\n",
       "Name: count, dtype: int64"
      ]
     },
     "execution_count": 298,
     "metadata": {},
     "output_type": "execute_result"
    }
   ],
   "source": [
    "df_product[\"DEPARTMENT\"].value_counts()"
   ]
  },
  {
   "cell_type": "code",
   "execution_count": 299,
   "metadata": {},
   "outputs": [],
   "source": [
    "df_product.drop(\n",
    "    columns=[\n",
    "        \"COMMODITY_DESC\",\n",
    "        \"SUB_COMMODITY_DESC\",\n",
    "        \"CURR_SIZE_OF_PRODUCT\",\n",
    "    ],\n",
    "    inplace=True,\n",
    ")"
   ]
  },
  {
   "cell_type": "code",
   "execution_count": 300,
   "metadata": {},
   "outputs": [
    {
     "data": {
      "text/html": [
       "<div>\n",
       "<style scoped>\n",
       "    .dataframe tbody tr th:only-of-type {\n",
       "        vertical-align: middle;\n",
       "    }\n",
       "\n",
       "    .dataframe tbody tr th {\n",
       "        vertical-align: top;\n",
       "    }\n",
       "\n",
       "    .dataframe thead th {\n",
       "        text-align: right;\n",
       "    }\n",
       "</style>\n",
       "<table border=\"1\" class=\"dataframe\">\n",
       "  <thead>\n",
       "    <tr style=\"text-align: right;\">\n",
       "      <th></th>\n",
       "      <th>PRODUCT_ID</th>\n",
       "      <th>MANUFACTURER</th>\n",
       "      <th>DEPARTMENT</th>\n",
       "      <th>BRAND</th>\n",
       "    </tr>\n",
       "  </thead>\n",
       "  <tbody>\n",
       "    <tr>\n",
       "      <th>0</th>\n",
       "      <td>25671</td>\n",
       "      <td>2</td>\n",
       "      <td>GROCERY</td>\n",
       "      <td>National</td>\n",
       "    </tr>\n",
       "    <tr>\n",
       "      <th>1</th>\n",
       "      <td>26081</td>\n",
       "      <td>2</td>\n",
       "      <td>MISC. TRANS.</td>\n",
       "      <td>National</td>\n",
       "    </tr>\n",
       "    <tr>\n",
       "      <th>2</th>\n",
       "      <td>26093</td>\n",
       "      <td>69</td>\n",
       "      <td>PASTRY</td>\n",
       "      <td>Private</td>\n",
       "    </tr>\n",
       "    <tr>\n",
       "      <th>3</th>\n",
       "      <td>26190</td>\n",
       "      <td>69</td>\n",
       "      <td>GROCERY</td>\n",
       "      <td>Private</td>\n",
       "    </tr>\n",
       "    <tr>\n",
       "      <th>4</th>\n",
       "      <td>26355</td>\n",
       "      <td>69</td>\n",
       "      <td>GROCERY</td>\n",
       "      <td>Private</td>\n",
       "    </tr>\n",
       "    <tr>\n",
       "      <th>...</th>\n",
       "      <td>...</td>\n",
       "      <td>...</td>\n",
       "      <td>...</td>\n",
       "      <td>...</td>\n",
       "    </tr>\n",
       "    <tr>\n",
       "      <th>92348</th>\n",
       "      <td>18293142</td>\n",
       "      <td>6384</td>\n",
       "      <td>DRUG GM</td>\n",
       "      <td>National</td>\n",
       "    </tr>\n",
       "    <tr>\n",
       "      <th>92349</th>\n",
       "      <td>18293439</td>\n",
       "      <td>6393</td>\n",
       "      <td>DRUG GM</td>\n",
       "      <td>National</td>\n",
       "    </tr>\n",
       "    <tr>\n",
       "      <th>92350</th>\n",
       "      <td>18293696</td>\n",
       "      <td>6406</td>\n",
       "      <td>DRUG GM</td>\n",
       "      <td>National</td>\n",
       "    </tr>\n",
       "    <tr>\n",
       "      <th>92351</th>\n",
       "      <td>18294080</td>\n",
       "      <td>6442</td>\n",
       "      <td>DRUG GM</td>\n",
       "      <td>National</td>\n",
       "    </tr>\n",
       "    <tr>\n",
       "      <th>92352</th>\n",
       "      <td>18316298</td>\n",
       "      <td>764</td>\n",
       "      <td>GROCERY</td>\n",
       "      <td>National</td>\n",
       "    </tr>\n",
       "  </tbody>\n",
       "</table>\n",
       "<p>92353 rows × 4 columns</p>\n",
       "</div>"
      ],
      "text/plain": [
       "       PRODUCT_ID  MANUFACTURER    DEPARTMENT     BRAND\n",
       "0           25671             2       GROCERY  National\n",
       "1           26081             2  MISC. TRANS.  National\n",
       "2           26093            69        PASTRY   Private\n",
       "3           26190            69       GROCERY   Private\n",
       "4           26355            69       GROCERY   Private\n",
       "...           ...           ...           ...       ...\n",
       "92348    18293142          6384       DRUG GM  National\n",
       "92349    18293439          6393       DRUG GM  National\n",
       "92350    18293696          6406       DRUG GM  National\n",
       "92351    18294080          6442       DRUG GM  National\n",
       "92352    18316298           764       GROCERY  National\n",
       "\n",
       "[92353 rows x 4 columns]"
      ]
     },
     "execution_count": 300,
     "metadata": {},
     "output_type": "execute_result"
    }
   ],
   "source": [
    "df_product"
   ]
  },
  {
   "cell_type": "markdown",
   "metadata": {},
   "source": [
    "---"
   ]
  },
  {
   "cell_type": "markdown",
   "metadata": {},
   "source": [
    "## 4.Campaigns Dataframe"
   ]
  },
  {
   "cell_type": "code",
   "execution_count": 301,
   "metadata": {},
   "outputs": [
    {
     "data": {
      "text/html": [
       "<div>\n",
       "<style scoped>\n",
       "    .dataframe tbody tr th:only-of-type {\n",
       "        vertical-align: middle;\n",
       "    }\n",
       "\n",
       "    .dataframe tbody tr th {\n",
       "        vertical-align: top;\n",
       "    }\n",
       "\n",
       "    .dataframe thead th {\n",
       "        text-align: right;\n",
       "    }\n",
       "</style>\n",
       "<table border=\"1\" class=\"dataframe\">\n",
       "  <thead>\n",
       "    <tr style=\"text-align: right;\">\n",
       "      <th></th>\n",
       "      <th>DESCRIPTION</th>\n",
       "      <th>CAMPAIGN</th>\n",
       "      <th>START_DAY</th>\n",
       "      <th>END_DAY</th>\n",
       "    </tr>\n",
       "  </thead>\n",
       "  <tbody>\n",
       "    <tr>\n",
       "      <th>0</th>\n",
       "      <td>TypeB</td>\n",
       "      <td>24</td>\n",
       "      <td>659</td>\n",
       "      <td>719</td>\n",
       "    </tr>\n",
       "    <tr>\n",
       "      <th>1</th>\n",
       "      <td>TypeC</td>\n",
       "      <td>15</td>\n",
       "      <td>547</td>\n",
       "      <td>708</td>\n",
       "    </tr>\n",
       "    <tr>\n",
       "      <th>2</th>\n",
       "      <td>TypeB</td>\n",
       "      <td>25</td>\n",
       "      <td>659</td>\n",
       "      <td>691</td>\n",
       "    </tr>\n",
       "    <tr>\n",
       "      <th>3</th>\n",
       "      <td>TypeC</td>\n",
       "      <td>20</td>\n",
       "      <td>615</td>\n",
       "      <td>685</td>\n",
       "    </tr>\n",
       "    <tr>\n",
       "      <th>4</th>\n",
       "      <td>TypeB</td>\n",
       "      <td>23</td>\n",
       "      <td>646</td>\n",
       "      <td>684</td>\n",
       "    </tr>\n",
       "  </tbody>\n",
       "</table>\n",
       "</div>"
      ],
      "text/plain": [
       "  DESCRIPTION  CAMPAIGN  START_DAY  END_DAY\n",
       "0       TypeB        24        659      719\n",
       "1       TypeC        15        547      708\n",
       "2       TypeB        25        659      691\n",
       "3       TypeC        20        615      685\n",
       "4       TypeB        23        646      684"
      ]
     },
     "execution_count": 301,
     "metadata": {},
     "output_type": "execute_result"
    }
   ],
   "source": [
    "df_campaign.head(5)"
   ]
  },
  {
   "cell_type": "code",
   "execution_count": 302,
   "metadata": {},
   "outputs": [
    {
     "name": "stdout",
     "output_type": "stream",
     "text": [
      "<class 'pandas.core.frame.DataFrame'>\n",
      "RangeIndex: 30 entries, 0 to 29\n",
      "Data columns (total 4 columns):\n",
      " #   Column       Non-Null Count  Dtype \n",
      "---  ------       --------------  ----- \n",
      " 0   DESCRIPTION  30 non-null     object\n",
      " 1   CAMPAIGN     30 non-null     int64 \n",
      " 2   START_DAY    30 non-null     int64 \n",
      " 3   END_DAY      30 non-null     int64 \n",
      "dtypes: int64(3), object(1)\n",
      "memory usage: 1.1+ KB\n"
     ]
    }
   ],
   "source": [
    "df_campaign.info()"
   ]
  },
  {
   "cell_type": "markdown",
   "metadata": {},
   "source": [
    "---"
   ]
  },
  {
   "cell_type": "markdown",
   "metadata": {},
   "source": [
    "# Other Data Processing"
   ]
  },
  {
   "cell_type": "code",
   "execution_count": 303,
   "metadata": {},
   "outputs": [
    {
     "data": {
      "text/plain": [
       "INCOME_DESC\n",
       "50-74K       192\n",
       "35-49K       172\n",
       "75-99K        96\n",
       "25-34K        77\n",
       "15-24K        74\n",
       "Under 15K     61\n",
       "125-149K      38\n",
       "100-124K      34\n",
       "150-174K      30\n",
       "250K+         11\n",
       "175-199K      11\n",
       "200-249K       5\n",
       "Name: count, dtype: int64"
      ]
     },
     "execution_count": 303,
     "metadata": {},
     "output_type": "execute_result"
    }
   ],
   "source": [
    "df_demographic[\"INCOME_DESC\"].value_counts()"
   ]
  },
  {
   "cell_type": "code",
   "execution_count": 304,
   "metadata": {},
   "outputs": [
    {
     "data": {
      "text/plain": [
       "INCOME_DESC_REDUCED\n",
       "50-99K      288\n",
       "25-49K      249\n",
       "<25K        135\n",
       "100-149K     72\n",
       "150K+        57\n",
       "Name: count, dtype: int64"
      ]
     },
     "execution_count": 304,
     "metadata": {},
     "output_type": "execute_result"
    }
   ],
   "source": [
    "new_income_list = {\n",
    "    \"<25K\": [\"Under 15K\", \"15-24K\"],\n",
    "    \"25-49K\": [\"25-34K\", \"35-49K\"],\n",
    "    \"50-99K\": [\"50-74K\", \"75-99K\"],\n",
    "    \"100-149K\": [\"100-124K\", \"125-149K\"],\n",
    "    \"150K+\": [\"150-174K\", \"175-199K\", \"200-249K\", \"250K+\"],\n",
    "}\n",
    "df_demographic[\"INCOME_DESC_REDUCED\"] = np.select(\n",
    "    [df_demographic[\"INCOME_DESC\"].isin(v) for v in new_income_list.values()],\n",
    "    list(new_income_list.keys()),\n",
    ")\n",
    "df_demographic[\"INCOME_DESC_REDUCED\"].value_counts()"
   ]
  },
  {
   "cell_type": "code",
   "execution_count": 305,
   "metadata": {},
   "outputs": [
    {
     "data": {
      "text/plain": [
       "AGE_DESC\n",
       "45-54    288\n",
       "35-44    194\n",
       "25-34    142\n",
       "65+       72\n",
       "55-64     59\n",
       "19-24     46\n",
       "Name: count, dtype: int64"
      ]
     },
     "execution_count": 305,
     "metadata": {},
     "output_type": "execute_result"
    }
   ],
   "source": [
    "df_demographic[\"AGE_DESC\"].value_counts()"
   ]
  },
  {
   "cell_type": "code",
   "execution_count": 306,
   "metadata": {},
   "outputs": [
    {
     "data": {
      "text/plain": [
       "AGE_DESC_REDUCED\n",
       "35-54     482\n",
       "19-34     188\n",
       "55-65+    131\n",
       "Name: count, dtype: int64"
      ]
     },
     "execution_count": 306,
     "metadata": {},
     "output_type": "execute_result"
    }
   ],
   "source": [
    "new_age_list = {\n",
    "    \"19-34\": [\"19-24\", \"25-34\"],\n",
    "    \"35-54\": [\"35-44\", \"45-54\"],\n",
    "    \"55-65+\": [\"55-64\", \"65+\"],\n",
    "}\n",
    "\n",
    "df_demographic[\"AGE_DESC_REDUCED\"] = np.select(\n",
    "    [df_demographic[\"AGE_DESC\"].isin(v) for v in new_age_list.values()],\n",
    "    list(new_age_list.keys()),\n",
    "    default=df_demographic[\"AGE_DESC\"],\n",
    ")\n",
    "df_demographic[\"AGE_DESC_REDUCED\"].value_counts()"
   ]
  },
  {
   "cell_type": "code",
   "execution_count": 307,
   "metadata": {},
   "outputs": [
    {
     "data": {
      "text/plain": [
       "HH_COMP_DESC\n",
       "1 Adult No Kids     300\n",
       "2 Adults No Kids    258\n",
       "2 Adults Kids       195\n",
       "1 Adult Kids         48\n",
       "Name: count, dtype: int64"
      ]
     },
     "execution_count": 307,
     "metadata": {},
     "output_type": "execute_result"
    }
   ],
   "source": [
    "df_demographic[\"HH_COMP_DESC\"].replace(\"Single Female\", \"1 Adult No Kids\", inplace=True)\n",
    "df_demographic[\"HH_COMP_DESC\"].replace(\"Single Male\", \"1 Adult No Kids\", inplace=True)\n",
    "df_demographic[\"HH_COMP_DESC\"].value_counts()"
   ]
  },
  {
   "cell_type": "code",
   "execution_count": 308,
   "metadata": {},
   "outputs": [
    {
     "data": {
      "text/plain": [
       "0         2012-01-02\n",
       "1         2012-01-02\n",
       "2         2012-01-02\n",
       "3         2012-01-02\n",
       "4         2012-01-02\n",
       "             ...    \n",
       "2595727   2013-12-12\n",
       "2595728   2013-12-12\n",
       "2595729   2013-12-12\n",
       "2595730   2013-12-12\n",
       "2595731   2013-12-12\n",
       "Name: DATE, Length: 2595732, dtype: datetime64[ns]"
      ]
     },
     "execution_count": 308,
     "metadata": {},
     "output_type": "execute_result"
    }
   ],
   "source": [
    "# Define the reference start date\n",
    "reference_date = pd.Timestamp(\"01-01-12\")\n",
    "\n",
    "# Add days to the reference date to calculate the actual date\n",
    "df_trnsct[\"DATE\"] = reference_date + pd.to_timedelta(df_trnsct[\"DAY\"], unit=\"D\")\n",
    "\n",
    "df_trnsct.drop(columns=[\"DAY\"], inplace=True)\n",
    "\n",
    "df_trnsct[\"DATE\"]"
   ]
  },
  {
   "cell_type": "code",
   "execution_count": 309,
   "metadata": {},
   "outputs": [
    {
     "data": {
      "text/html": [
       "<div>\n",
       "<style scoped>\n",
       "    .dataframe tbody tr th:only-of-type {\n",
       "        vertical-align: middle;\n",
       "    }\n",
       "\n",
       "    .dataframe tbody tr th {\n",
       "        vertical-align: top;\n",
       "    }\n",
       "\n",
       "    .dataframe thead th {\n",
       "        text-align: right;\n",
       "    }\n",
       "</style>\n",
       "<table border=\"1\" class=\"dataframe\">\n",
       "  <thead>\n",
       "    <tr style=\"text-align: right;\">\n",
       "      <th></th>\n",
       "      <th>DESCRIPTION</th>\n",
       "      <th>CAMPAIGN</th>\n",
       "      <th>START_MONTH</th>\n",
       "      <th>END_MONTH</th>\n",
       "    </tr>\n",
       "  </thead>\n",
       "  <tbody>\n",
       "    <tr>\n",
       "      <th>0</th>\n",
       "      <td>TypeB</td>\n",
       "      <td>24</td>\n",
       "      <td>23.535714</td>\n",
       "      <td>25.678571</td>\n",
       "    </tr>\n",
       "    <tr>\n",
       "      <th>1</th>\n",
       "      <td>TypeC</td>\n",
       "      <td>15</td>\n",
       "      <td>19.535714</td>\n",
       "      <td>25.285714</td>\n",
       "    </tr>\n",
       "    <tr>\n",
       "      <th>2</th>\n",
       "      <td>TypeB</td>\n",
       "      <td>25</td>\n",
       "      <td>23.535714</td>\n",
       "      <td>24.678571</td>\n",
       "    </tr>\n",
       "  </tbody>\n",
       "</table>\n",
       "</div>"
      ],
      "text/plain": [
       "  DESCRIPTION  CAMPAIGN  START_MONTH  END_MONTH\n",
       "0       TypeB        24    23.535714  25.678571\n",
       "1       TypeC        15    19.535714  25.285714\n",
       "2       TypeB        25    23.535714  24.678571"
      ]
     },
     "execution_count": 309,
     "metadata": {},
     "output_type": "execute_result"
    }
   ],
   "source": [
    "df_campaign[\"START_MONTH\"] = abs(df_campaign[\"START_DAY\"] / 28)\n",
    "df_campaign[\"END_MONTH\"] = abs(df_campaign[\"END_DAY\"] / 28)\n",
    "df_campaign.drop(columns=[\"START_DAY\", \"END_DAY\"], inplace=True)\n",
    "df_campaign.head(3)"
   ]
  },
  {
   "cell_type": "markdown",
   "metadata": {},
   "source": [
    "---"
   ]
  },
  {
   "cell_type": "markdown",
   "metadata": {},
   "source": [
    "# New Variables Creation"
   ]
  },
  {
   "cell_type": "markdown",
   "metadata": {},
   "source": [
    "In this section we will create new variables/metrics for a better data analysis"
   ]
  },
  {
   "cell_type": "markdown",
   "metadata": {},
   "source": [
    "### Number Of Products Per Transaction"
   ]
  },
  {
   "cell_type": "markdown",
   "metadata": {},
   "source": [
    "We create a new series with the Number of Products Sold Per Trnasaction Per Store"
   ]
  },
  {
   "cell_type": "code",
   "execution_count": 310,
   "metadata": {},
   "outputs": [
    {
     "data": {
      "text/html": [
       "<div>\n",
       "<style scoped>\n",
       "    .dataframe tbody tr th:only-of-type {\n",
       "        vertical-align: middle;\n",
       "    }\n",
       "\n",
       "    .dataframe tbody tr th {\n",
       "        vertical-align: top;\n",
       "    }\n",
       "\n",
       "    .dataframe thead th {\n",
       "        text-align: right;\n",
       "    }\n",
       "</style>\n",
       "<table border=\"1\" class=\"dataframe\">\n",
       "  <thead>\n",
       "    <tr style=\"text-align: right;\">\n",
       "      <th></th>\n",
       "      <th>NB_PROD_SOLD/TRNSCT</th>\n",
       "    </tr>\n",
       "    <tr>\n",
       "      <th>STORE_ID</th>\n",
       "      <th></th>\n",
       "    </tr>\n",
       "  </thead>\n",
       "  <tbody>\n",
       "    <tr>\n",
       "      <th>569</th>\n",
       "      <td>62.0</td>\n",
       "    </tr>\n",
       "    <tr>\n",
       "      <th>278</th>\n",
       "      <td>47.0</td>\n",
       "    </tr>\n",
       "    <tr>\n",
       "      <th>3525</th>\n",
       "      <td>47.0</td>\n",
       "    </tr>\n",
       "    <tr>\n",
       "      <th>3483</th>\n",
       "      <td>39.0</td>\n",
       "    </tr>\n",
       "    <tr>\n",
       "      <th>107</th>\n",
       "      <td>35.0</td>\n",
       "    </tr>\n",
       "    <tr>\n",
       "      <th>...</th>\n",
       "      <td>...</td>\n",
       "    </tr>\n",
       "    <tr>\n",
       "      <th>274</th>\n",
       "      <td>1.0</td>\n",
       "    </tr>\n",
       "    <tr>\n",
       "      <th>2996</th>\n",
       "      <td>1.0</td>\n",
       "    </tr>\n",
       "    <tr>\n",
       "      <th>584</th>\n",
       "      <td>1.0</td>\n",
       "    </tr>\n",
       "    <tr>\n",
       "      <th>580</th>\n",
       "      <td>1.0</td>\n",
       "    </tr>\n",
       "    <tr>\n",
       "      <th>1</th>\n",
       "      <td>1.0</td>\n",
       "    </tr>\n",
       "  </tbody>\n",
       "</table>\n",
       "<p>582 rows × 1 columns</p>\n",
       "</div>"
      ],
      "text/plain": [
       "          NB_PROD_SOLD/TRNSCT\n",
       "STORE_ID                     \n",
       "569                      62.0\n",
       "278                      47.0\n",
       "3525                     47.0\n",
       "3483                     39.0\n",
       "107                      35.0\n",
       "...                       ...\n",
       "274                       1.0\n",
       "2996                      1.0\n",
       "584                       1.0\n",
       "580                       1.0\n",
       "1                         1.0\n",
       "\n",
       "[582 rows x 1 columns]"
      ]
     },
     "execution_count": 310,
     "metadata": {},
     "output_type": "execute_result"
    }
   ],
   "source": [
    "df_trnsct.groupby(\"BASKET_ID\").aggregate(\n",
    "    {\"PRODUCT_ID\": \"count\", \"STORE_ID\": \"first\"}\n",
    ").rename({\"PRODUCT_ID\": \"NB_PROD_SOLD/TRNSCT\"}, axis=1).set_index(\"STORE_ID\").groupby(\n",
    "    \"STORE_ID\"\n",
    ").mean().round().sort_values(\n",
    "    \"NB_PROD_SOLD/TRNSCT\", ascending=False\n",
    ")"
   ]
  },
  {
   "cell_type": "markdown",
   "metadata": {},
   "source": [
    "### Create New variable: Date of first purchase to track customer acquisition"
   ]
  },
  {
   "cell_type": "code",
   "execution_count": 311,
   "metadata": {},
   "outputs": [
    {
     "name": "stdout",
     "output_type": "stream",
     "text": [
      "<class 'pandas.core.frame.DataFrame'>\n",
      "RangeIndex: 2595732 entries, 0 to 2595731\n",
      "Data columns (total 12 columns):\n",
      " #   Column             Dtype         \n",
      "---  ------             -----         \n",
      " 0   household_key      int64         \n",
      " 1   BASKET_ID          int64         \n",
      " 2   PRODUCT_ID         int64         \n",
      " 3   QUANTITY           int64         \n",
      " 4   SALES_VALUE        float64       \n",
      " 5   STORE_ID           int64         \n",
      " 6   RETAIL_DISC        float64       \n",
      " 7   TRANS_TIME         int64         \n",
      " 8   WEEK_NO            int64         \n",
      " 9   COUPON_DISC        float64       \n",
      " 10  COUPON_MATCH_DISC  float64       \n",
      " 11  DATE               datetime64[ns]\n",
      "dtypes: datetime64[ns](1), float64(4), int64(7)\n",
      "memory usage: 237.6 MB\n"
     ]
    }
   ],
   "source": [
    "df_trnsct.info()"
   ]
  },
  {
   "cell_type": "code",
   "execution_count": 312,
   "metadata": {},
   "outputs": [
    {
     "data": {
      "text/html": [
       "<div>\n",
       "<style scoped>\n",
       "    .dataframe tbody tr th:only-of-type {\n",
       "        vertical-align: middle;\n",
       "    }\n",
       "\n",
       "    .dataframe tbody tr th {\n",
       "        vertical-align: top;\n",
       "    }\n",
       "\n",
       "    .dataframe thead th {\n",
       "        text-align: right;\n",
       "    }\n",
       "</style>\n",
       "<table border=\"1\" class=\"dataframe\">\n",
       "  <thead>\n",
       "    <tr style=\"text-align: right;\">\n",
       "      <th></th>\n",
       "      <th>DATE</th>\n",
       "    </tr>\n",
       "    <tr>\n",
       "      <th>household_key</th>\n",
       "      <th></th>\n",
       "    </tr>\n",
       "  </thead>\n",
       "  <tbody>\n",
       "    <tr>\n",
       "      <th>1</th>\n",
       "      <td>2012-02-21</td>\n",
       "    </tr>\n",
       "    <tr>\n",
       "      <th>2</th>\n",
       "      <td>2012-04-13</td>\n",
       "    </tr>\n",
       "    <tr>\n",
       "      <th>3</th>\n",
       "      <td>2012-04-23</td>\n",
       "    </tr>\n",
       "    <tr>\n",
       "      <th>4</th>\n",
       "      <td>2012-04-14</td>\n",
       "    </tr>\n",
       "    <tr>\n",
       "      <th>5</th>\n",
       "      <td>2012-03-26</td>\n",
       "    </tr>\n",
       "    <tr>\n",
       "      <th>...</th>\n",
       "      <td>...</td>\n",
       "    </tr>\n",
       "    <tr>\n",
       "      <th>2496</th>\n",
       "      <td>2012-04-27</td>\n",
       "    </tr>\n",
       "    <tr>\n",
       "      <th>2497</th>\n",
       "      <td>2012-03-19</td>\n",
       "    </tr>\n",
       "    <tr>\n",
       "      <th>2498</th>\n",
       "      <td>2012-04-15</td>\n",
       "    </tr>\n",
       "    <tr>\n",
       "      <th>2499</th>\n",
       "      <td>2012-03-11</td>\n",
       "    </tr>\n",
       "    <tr>\n",
       "      <th>2500</th>\n",
       "      <td>2012-03-20</td>\n",
       "    </tr>\n",
       "  </tbody>\n",
       "</table>\n",
       "<p>2500 rows × 1 columns</p>\n",
       "</div>"
      ],
      "text/plain": [
       "                    DATE\n",
       "household_key           \n",
       "1             2012-02-21\n",
       "2             2012-04-13\n",
       "3             2012-04-23\n",
       "4             2012-04-14\n",
       "5             2012-03-26\n",
       "...                  ...\n",
       "2496          2012-04-27\n",
       "2497          2012-03-19\n",
       "2498          2012-04-15\n",
       "2499          2012-03-11\n",
       "2500          2012-03-20\n",
       "\n",
       "[2500 rows x 1 columns]"
      ]
     },
     "execution_count": 312,
     "metadata": {},
     "output_type": "execute_result"
    }
   ],
   "source": [
    "customer_first_date = (\n",
    "    df_trnsct[[\"household_key\", \"DATE\"]]\n",
    "    .groupby([\"household_key\", \"DATE\"])\n",
    "    .value_counts()\n",
    ")\n",
    "customer_first_date = customer_first_date.reset_index()\n",
    "customer_first_date.drop(columns=[\"count\"], inplace=True)\n",
    "customer_first_date = customer_first_date.groupby(\"household_key\").min()\n",
    "customer_first_date = customer_first_date.rename(\n",
    "    columns={\"DAY\": \"Day_of_first_purchase\", \"index\": \"household_key\"}\n",
    ")\n",
    "customer_first_date"
   ]
  },
  {
   "cell_type": "code",
   "execution_count": 313,
   "metadata": {},
   "outputs": [],
   "source": [
    "df_customer_acquisition = (\n",
    "    customer_first_date.value_counts()\n",
    "    .reset_index()\n",
    "    .rename(columns={\"DATE\": \"Date_of_first_purchase\", \"count\": \"Number_of_households\"})\n",
    "    .sort_values(\"Date_of_first_purchase\")\n",
    ")"
   ]
  },
  {
   "cell_type": "markdown",
   "metadata": {},
   "source": [
    "## Chiffre d'affaire"
   ]
  },
  {
   "cell_type": "code",
   "execution_count": 314,
   "metadata": {},
   "outputs": [
    {
     "data": {
      "text/html": [
       "<div>\n",
       "<style scoped>\n",
       "    .dataframe tbody tr th:only-of-type {\n",
       "        vertical-align: middle;\n",
       "    }\n",
       "\n",
       "    .dataframe tbody tr th {\n",
       "        vertical-align: top;\n",
       "    }\n",
       "\n",
       "    .dataframe thead th {\n",
       "        text-align: right;\n",
       "    }\n",
       "</style>\n",
       "<table border=\"1\" class=\"dataframe\">\n",
       "  <thead>\n",
       "    <tr style=\"text-align: right;\">\n",
       "      <th></th>\n",
       "      <th>DATE</th>\n",
       "      <th>SALES_VALUE</th>\n",
       "    </tr>\n",
       "  </thead>\n",
       "  <tbody>\n",
       "    <tr>\n",
       "      <th>0</th>\n",
       "      <td>2012-01</td>\n",
       "      <td>1850.249333</td>\n",
       "    </tr>\n",
       "    <tr>\n",
       "      <th>1</th>\n",
       "      <td>2012-02</td>\n",
       "      <td>3960.548621</td>\n",
       "    </tr>\n",
       "    <tr>\n",
       "      <th>2</th>\n",
       "      <td>2012-03</td>\n",
       "      <td>7129.661290</td>\n",
       "    </tr>\n",
       "    <tr>\n",
       "      <th>3</th>\n",
       "      <td>2012-04</td>\n",
       "      <td>10596.928667</td>\n",
       "    </tr>\n",
       "    <tr>\n",
       "      <th>4</th>\n",
       "      <td>2012-05</td>\n",
       "      <td>11413.280645</td>\n",
       "    </tr>\n",
       "    <tr>\n",
       "      <th>5</th>\n",
       "      <td>2012-06</td>\n",
       "      <td>11888.529667</td>\n",
       "    </tr>\n",
       "    <tr>\n",
       "      <th>6</th>\n",
       "      <td>2012-07</td>\n",
       "      <td>11570.382903</td>\n",
       "    </tr>\n",
       "    <tr>\n",
       "      <th>7</th>\n",
       "      <td>2012-08</td>\n",
       "      <td>11736.498710</td>\n",
       "    </tr>\n",
       "    <tr>\n",
       "      <th>8</th>\n",
       "      <td>2012-09</td>\n",
       "      <td>12338.359667</td>\n",
       "    </tr>\n",
       "    <tr>\n",
       "      <th>9</th>\n",
       "      <td>2012-10</td>\n",
       "      <td>12183.776129</td>\n",
       "    </tr>\n",
       "    <tr>\n",
       "      <th>10</th>\n",
       "      <td>2012-11</td>\n",
       "      <td>12554.381000</td>\n",
       "    </tr>\n",
       "    <tr>\n",
       "      <th>11</th>\n",
       "      <td>2012-12</td>\n",
       "      <td>12230.702903</td>\n",
       "    </tr>\n",
       "    <tr>\n",
       "      <th>12</th>\n",
       "      <td>2013-01</td>\n",
       "      <td>12330.989677</td>\n",
       "    </tr>\n",
       "    <tr>\n",
       "      <th>13</th>\n",
       "      <td>2013-02</td>\n",
       "      <td>12860.512857</td>\n",
       "    </tr>\n",
       "    <tr>\n",
       "      <th>14</th>\n",
       "      <td>2013-03</td>\n",
       "      <td>12818.992258</td>\n",
       "    </tr>\n",
       "    <tr>\n",
       "      <th>15</th>\n",
       "      <td>2013-04</td>\n",
       "      <td>12472.149667</td>\n",
       "    </tr>\n",
       "    <tr>\n",
       "      <th>16</th>\n",
       "      <td>2013-05</td>\n",
       "      <td>12799.419032</td>\n",
       "    </tr>\n",
       "    <tr>\n",
       "      <th>17</th>\n",
       "      <td>2013-06</td>\n",
       "      <td>12292.076000</td>\n",
       "    </tr>\n",
       "    <tr>\n",
       "      <th>18</th>\n",
       "      <td>2013-07</td>\n",
       "      <td>11987.010645</td>\n",
       "    </tr>\n",
       "    <tr>\n",
       "      <th>19</th>\n",
       "      <td>2013-08</td>\n",
       "      <td>13168.931613</td>\n",
       "    </tr>\n",
       "    <tr>\n",
       "      <th>20</th>\n",
       "      <td>2013-09</td>\n",
       "      <td>12880.628667</td>\n",
       "    </tr>\n",
       "    <tr>\n",
       "      <th>21</th>\n",
       "      <td>2013-10</td>\n",
       "      <td>13352.260968</td>\n",
       "    </tr>\n",
       "    <tr>\n",
       "      <th>22</th>\n",
       "      <td>2013-11</td>\n",
       "      <td>13552.221333</td>\n",
       "    </tr>\n",
       "    <tr>\n",
       "      <th>23</th>\n",
       "      <td>2013-12</td>\n",
       "      <td>12113.998333</td>\n",
       "    </tr>\n",
       "  </tbody>\n",
       "</table>\n",
       "</div>"
      ],
      "text/plain": [
       "       DATE   SALES_VALUE\n",
       "0   2012-01   1850.249333\n",
       "1   2012-02   3960.548621\n",
       "2   2012-03   7129.661290\n",
       "3   2012-04  10596.928667\n",
       "4   2012-05  11413.280645\n",
       "5   2012-06  11888.529667\n",
       "6   2012-07  11570.382903\n",
       "7   2012-08  11736.498710\n",
       "8   2012-09  12338.359667\n",
       "9   2012-10  12183.776129\n",
       "10  2012-11  12554.381000\n",
       "11  2012-12  12230.702903\n",
       "12  2013-01  12330.989677\n",
       "13  2013-02  12860.512857\n",
       "14  2013-03  12818.992258\n",
       "15  2013-04  12472.149667\n",
       "16  2013-05  12799.419032\n",
       "17  2013-06  12292.076000\n",
       "18  2013-07  11987.010645\n",
       "19  2013-08  13168.931613\n",
       "20  2013-09  12880.628667\n",
       "21  2013-10  13352.260968\n",
       "22  2013-11  13552.221333\n",
       "23  2013-12  12113.998333"
      ]
     },
     "execution_count": 314,
     "metadata": {},
     "output_type": "execute_result"
    }
   ],
   "source": [
    "daily_sales = df_trnsct[[\"SALES_VALUE\"]].groupby(df_trnsct[\"DATE\"]).sum().reset_index()\n",
    "daily_sales_avg_month = (\n",
    "    daily_sales.groupby(daily_sales[\"DATE\"].dt.to_period(\"M\"))\n",
    "    .mean()\n",
    "    .drop(\"DATE\", axis=1)\n",
    "    .reset_index()\n",
    ")\n",
    "daily_sales_avg_month"
   ]
  },
  {
   "cell_type": "markdown",
   "metadata": {},
   "source": [
    "### Age & Income Mean demographic"
   ]
  },
  {
   "cell_type": "code",
   "execution_count": 315,
   "metadata": {},
   "outputs": [
    {
     "data": {
      "text/plain": [
       "MEAN_AGE\n",
       "49.5    288\n",
       "39.5    194\n",
       "29.5    142\n",
       "65.0     72\n",
       "59.5     59\n",
       "21.5     46\n",
       "Name: count, dtype: int64"
      ]
     },
     "execution_count": 315,
     "metadata": {},
     "output_type": "execute_result"
    }
   ],
   "source": [
    "df_demographic[\"MEAN_AGE\"]=df_demographic[\"AGE_DESC\"].replace(\"65+\",\"65\").str.extract(r'(\\d+)-(\\d+)|(\\d+)').astype(float).mean(axis=1)\n",
    "df_demographic[\"MEAN_AGE\"].value_counts()"
   ]
  },
  {
   "cell_type": "code",
   "execution_count": 316,
   "metadata": {},
   "outputs": [
    {
     "data": {
      "text/plain": [
       "MEAN_INCOME\n",
       "62.0     192\n",
       "42.0     172\n",
       "87.0      96\n",
       "29.5      77\n",
       "19.5      74\n",
       "15.0      61\n",
       "137.0     38\n",
       "112.0     34\n",
       "162.0     30\n",
       "250.0     11\n",
       "187.0     11\n",
       "224.5      5\n",
       "Name: count, dtype: int64"
      ]
     },
     "execution_count": 316,
     "metadata": {},
     "output_type": "execute_result"
    }
   ],
   "source": [
    "df_demographic[\"MEAN_INCOME\"]=df_demographic[\"INCOME_DESC\"].str.extract(r'(\\d+)-(\\d+)|(\\d+)').astype(float).mean(axis=1)\n",
    "df_demographic[\"MEAN_INCOME\"]\n",
    "df_demographic[\"MEAN_INCOME\"].value_counts()"
   ]
  },
  {
   "cell_type": "markdown",
   "metadata": {},
   "source": [
    "---"
   ]
  },
  {
   "cell_type": "markdown",
   "metadata": {},
   "source": [
    "# Graphics Creation"
   ]
  },
  {
   "cell_type": "markdown",
   "metadata": {},
   "source": [
    "## 1. Demographics"
   ]
  },
  {
   "cell_type": "code",
   "execution_count": 317,
   "metadata": {},
   "outputs": [
    {
     "data": {
      "image/png": "[encoded data removed]",
      "text/plain": [
       "<Figure size 2000x1000 with 6 Axes>"
      ]
     },
     "metadata": {},
     "output_type": "display_data"
    }
   ],
   "source": [
    "dmg_figs, dmg_axis = plt.subplots(2, 3, figsize=(20, 10))\n",
    "color_palette = \"deep\"\n",
    "\n",
    "dmg_axis[0, 0].pie(\n",
    "    df_demographic[\"AGE_DESC_REDUCED\"].value_counts().sort_index(ascending=False),\n",
    "    labels=df_demographic[\"AGE_DESC_REDUCED\"].value_counts().sort_index(ascending=False).index,\n",
    "    autopct=\"%1.1f%%\",\n",
    "    startangle=90,\n",
    "    colors=sns.color_palette(color_palette),\n",
    ")\n",
    "dmg_axis[0, 0].set_title(\"Age distribution of customers\")\n",
    "\n",
    "dmg_axis[0, 1].pie(\n",
    "    df_demographic[\"HH_COMP_DESC\"].value_counts().sort_index(ascending=False),\n",
    "    labels=df_demographic[\"HH_COMP_DESC\"]\n",
    "    .value_counts()\n",
    "    .sort_index(ascending=False)\n",
    "    .index,\n",
    "    autopct=\"%1.1f%%\",\n",
    "    startangle=90,\n",
    "    colors=sns.color_palette(color_palette),\n",
    ")\n",
    "dmg_axis[0, 1].set_title(\"Household composition of customers\")\n",
    "\n",
    "dmg_axis[0, 2].pie(\n",
    "    df_demographic[\"HOUSEHOLD_SIZE_DESC\"].value_counts().sort_index(ascending=False),\n",
    "    labels=df_demographic[\"HOUSEHOLD_SIZE_DESC\"]\n",
    "    .astype(\"str\")\n",
    "    .replace(\"5\", \"5+\")\n",
    "    .value_counts()\n",
    "    .sort_index(ascending=False)\n",
    "    .index,\n",
    "    autopct=\"%1.1f%%\",\n",
    "    startangle=90,\n",
    "    colors=sns.color_palette(color_palette),\n",
    ")\n",
    "dmg_axis[0, 2].set_title(\"Household size of customers\")\n",
    "\n",
    "dmg_axis[1, 0].pie(\n",
    "    df_demographic[\"KID_CATEGORY_DESC\"].value_counts().sort_index(ascending=False),\n",
    "    labels=df_demographic[\"KID_CATEGORY_DESC\"]\n",
    "    .astype(\"str\")\n",
    "    .replace(\"3\", \"3+\")\n",
    "    .value_counts()\n",
    "    .sort_index(ascending=False)\n",
    "    .index,\n",
    "    autopct=\"%1.1f%%\",\n",
    "    startangle=90,\n",
    "    colors=sns.color_palette(color_palette),\n",
    ")\n",
    "dmg_axis[1, 0].set_title(\"Number of kids in the household\")\n",
    "\n",
    "dmg_axis[1, 1].pie(\n",
    "    df_demographic[\"MARITAL_STATUS_CODE\"]\n",
    "    .replace({\"A\": \"Married\", \"B\": \"Single\"})\n",
    "    .value_counts()\n",
    "    .sort_index(ascending=False),\n",
    "    labels=df_demographic[\"MARITAL_STATUS_CODE\"]\n",
    "    .replace({\"A\": \"Married\", \"B\": \"Single\"})\n",
    "    .value_counts()\n",
    "    .sort_index(ascending=False)\n",
    "    .index,\n",
    "    autopct=\"%1.1f%%\",\n",
    "    startangle=90,\n",
    "    colors=sns.color_palette(color_palette),\n",
    ")\n",
    "dmg_axis[1, 1].set_title(\"Marital status of customers\")\n",
    "\n",
    "dmg_axis[1, 2].pie(\n",
    "    df_demographic[\"INCOME_DESC_REDUCED\"].value_counts().sort_index(ascending=True),\n",
    "    labels=df_demographic[\"INCOME_DESC_REDUCED\"]\n",
    "    .value_counts()\n",
    "    .sort_index(ascending=True)\n",
    "    .index,\n",
    "    autopct=\"%1.1f%%\",\n",
    "    startangle=90,\n",
    "    colors=sns.color_palette(color_palette),\n",
    ")\n",
    "dmg_axis[1, 2].set_title(\"Income Distribution of customers\")\n",
    "\n",
    "\n",
    "plt.show()"
   ]
  },
  {
   "cell_type": "markdown",
   "metadata": {},
   "source": [
    "## 2. Product Department Wordcloud"
   ]
  },
  {
   "cell_type": "code",
   "execution_count": 318,
   "metadata": {},
   "outputs": [
    {
     "data": {
      "text/plain": [
       "44"
      ]
     },
     "execution_count": 318,
     "metadata": {},
     "output_type": "execute_result"
    }
   ],
   "source": [
    "df_product[\"DEPARTMENT\"].nunique()"
   ]
  },
  {
   "cell_type": "code",
   "execution_count": 319,
   "metadata": {},
   "outputs": [],
   "source": [
    "# Preprocess the text to make it all lower case and remove leading/trailing spaces\n",
    "frequence_produits = df_trnsct.merge(df_product, how=\"left\", on=\"PRODUCT_ID\")[\n",
    "    \"DEPARTMENT\"\n",
    "]\n",
    "frequence_produits = \" \".join(v for v in frequence_produits)"
   ]
  },
  {
   "cell_type": "code",
   "execution_count": 320,
   "metadata": {},
   "outputs": [
    {
     "data": {
      "image/png": "[encoded data removed]",
      "text/plain": [
       "<Figure size 1200x800 with 1 Axes>"
      ]
     },
     "metadata": {},
     "output_type": "display_data"
    }
   ],
   "source": [
    "# Preprocess the text to make it all lower case and remove leading/trailing spaces\n",
    "frequence_produits = np.log(\n",
    "    df_trnsct.merge(df_product, how=\"left\", on=\"PRODUCT_ID\")[\n",
    "        \"DEPARTMENT\"\n",
    "    ].value_counts()\n",
    ")\n",
    "\n",
    "mask = np.invert(np.array(Image.open(\"../Assets/WordCloudMask.png\")))[::, 150:850]\n",
    "wordcloud = WordCloud(\n",
    "    background_color=\"white\",\n",
    "    mask=mask,\n",
    "    contour_color=\"#263238\",\n",
    "    contour_width=10,\n",
    ").generate_from_frequencies(frequence_produits)\n",
    "\n",
    "plt.figure(figsize=(12, 8))\n",
    "plt.imshow(wordcloud, interpolation=\"bilinear\")\n",
    "plt.axis(\"off\")\n",
    "plt.show()"
   ]
  },
  {
   "cell_type": "markdown",
   "metadata": {},
   "source": [
    "## 3. Chiffre d'affaire "
   ]
  },
  {
   "cell_type": "code",
   "execution_count": 321,
   "metadata": {},
   "outputs": [
    {
     "data": {
      "text/html": [
       "<div>\n",
       "<style scoped>\n",
       "    .dataframe tbody tr th:only-of-type {\n",
       "        vertical-align: middle;\n",
       "    }\n",
       "\n",
       "    .dataframe tbody tr th {\n",
       "        vertical-align: top;\n",
       "    }\n",
       "\n",
       "    .dataframe thead th {\n",
       "        text-align: right;\n",
       "    }\n",
       "</style>\n",
       "<table border=\"1\" class=\"dataframe\">\n",
       "  <thead>\n",
       "    <tr style=\"text-align: right;\">\n",
       "      <th></th>\n",
       "      <th>DATE</th>\n",
       "      <th>SALES_VALUE</th>\n",
       "    </tr>\n",
       "  </thead>\n",
       "  <tbody>\n",
       "    <tr>\n",
       "      <th>0</th>\n",
       "      <td>2012-01</td>\n",
       "      <td>1850.249333</td>\n",
       "    </tr>\n",
       "    <tr>\n",
       "      <th>1</th>\n",
       "      <td>2012-02</td>\n",
       "      <td>3960.548621</td>\n",
       "    </tr>\n",
       "    <tr>\n",
       "      <th>2</th>\n",
       "      <td>2012-03</td>\n",
       "      <td>7129.661290</td>\n",
       "    </tr>\n",
       "  </tbody>\n",
       "</table>\n",
       "</div>"
      ],
      "text/plain": [
       "      DATE  SALES_VALUE\n",
       "0  2012-01  1850.249333\n",
       "1  2012-02  3960.548621\n",
       "2  2012-03  7129.661290"
      ]
     },
     "execution_count": 321,
     "metadata": {},
     "output_type": "execute_result"
    }
   ],
   "source": [
    "daily_sales_avg_month.head(3)"
   ]
  },
  {
   "cell_type": "code",
   "execution_count": 322,
   "metadata": {},
   "outputs": [
    {
     "ename": "ValueError",
     "evalue": "Mime type rendering requires nbformat>=4.2.0 but it is not installed",
     "output_type": "error",
     "traceback": [
      "\u001b[0;31m---------------------------------------------------------------------------\u001b[0m",
      "\u001b[0;31mValueError\u001b[0m                                Traceback (most recent call last)",
      "File \u001b[0;32m/mnt/77165487061AF296/Sorbonne Data Analytics_SDA/Cours/Data_Management_Nisrine_Moummou/Projet_Data_Management/.venv/lib/python3.11/site-packages/IPython/core/formatters.py:925\u001b[0m, in \u001b[0;36mIPythonDisplayFormatter.__call__\u001b[0;34m(self, obj)\u001b[0m\n\u001b[1;32m    923\u001b[0m method \u001b[38;5;241m=\u001b[39m get_real_method(obj, \u001b[38;5;28mself\u001b[39m\u001b[38;5;241m.\u001b[39mprint_method)\n\u001b[1;32m    924\u001b[0m \u001b[38;5;28;01mif\u001b[39;00m method \u001b[38;5;129;01mis\u001b[39;00m \u001b[38;5;129;01mnot\u001b[39;00m \u001b[38;5;28;01mNone\u001b[39;00m:\n\u001b[0;32m--> 925\u001b[0m     \u001b[43mmethod\u001b[49m\u001b[43m(\u001b[49m\u001b[43m)\u001b[49m\n\u001b[1;32m    926\u001b[0m     \u001b[38;5;28;01mreturn\u001b[39;00m \u001b[38;5;28;01mTrue\u001b[39;00m\n",
      "File \u001b[0;32m/mnt/77165487061AF296/Sorbonne Data Analytics_SDA/Cours/Data_Management_Nisrine_Moummou/Projet_Data_Management/.venv/lib/python3.11/site-packages/plotly/basedatatypes.py:832\u001b[0m, in \u001b[0;36mBaseFigure._ipython_display_\u001b[0;34m(self)\u001b[0m\n\u001b[1;32m    829\u001b[0m \u001b[38;5;28;01mimport\u001b[39;00m \u001b[38;5;21;01mplotly\u001b[39;00m\u001b[38;5;21;01m.\u001b[39;00m\u001b[38;5;21;01mio\u001b[39;00m \u001b[38;5;28;01mas\u001b[39;00m \u001b[38;5;21;01mpio\u001b[39;00m\n\u001b[1;32m    831\u001b[0m \u001b[38;5;28;01mif\u001b[39;00m pio\u001b[38;5;241m.\u001b[39mrenderers\u001b[38;5;241m.\u001b[39mrender_on_display \u001b[38;5;129;01mand\u001b[39;00m pio\u001b[38;5;241m.\u001b[39mrenderers\u001b[38;5;241m.\u001b[39mdefault:\n\u001b[0;32m--> 832\u001b[0m     \u001b[43mpio\u001b[49m\u001b[38;5;241;43m.\u001b[39;49m\u001b[43mshow\u001b[49m\u001b[43m(\u001b[49m\u001b[38;5;28;43mself\u001b[39;49m\u001b[43m)\u001b[49m\n\u001b[1;32m    833\u001b[0m \u001b[38;5;28;01melse\u001b[39;00m:\n\u001b[1;32m    834\u001b[0m     \u001b[38;5;28mprint\u001b[39m(\u001b[38;5;28mrepr\u001b[39m(\u001b[38;5;28mself\u001b[39m))\n",
      "File \u001b[0;32m/mnt/77165487061AF296/Sorbonne Data Analytics_SDA/Cours/Data_Management_Nisrine_Moummou/Projet_Data_Management/.venv/lib/python3.11/site-packages/plotly/io/_renderers.py:394\u001b[0m, in \u001b[0;36mshow\u001b[0;34m(fig, renderer, validate, **kwargs)\u001b[0m\n\u001b[1;32m    389\u001b[0m         \u001b[38;5;28;01mraise\u001b[39;00m \u001b[38;5;167;01mValueError\u001b[39;00m(\n\u001b[1;32m    390\u001b[0m             \u001b[38;5;124m\"\u001b[39m\u001b[38;5;124mMime type rendering requires ipython but it is not installed\u001b[39m\u001b[38;5;124m\"\u001b[39m\n\u001b[1;32m    391\u001b[0m         )\n\u001b[1;32m    393\u001b[0m     \u001b[38;5;28;01mif\u001b[39;00m \u001b[38;5;129;01mnot\u001b[39;00m nbformat \u001b[38;5;129;01mor\u001b[39;00m Version(nbformat\u001b[38;5;241m.\u001b[39m__version__) \u001b[38;5;241m<\u001b[39m Version(\u001b[38;5;124m\"\u001b[39m\u001b[38;5;124m4.2.0\u001b[39m\u001b[38;5;124m\"\u001b[39m):\n\u001b[0;32m--> 394\u001b[0m         \u001b[38;5;28;01mraise\u001b[39;00m \u001b[38;5;167;01mValueError\u001b[39;00m(\n\u001b[1;32m    395\u001b[0m             \u001b[38;5;124m\"\u001b[39m\u001b[38;5;124mMime type rendering requires nbformat>=4.2.0 but it is not installed\u001b[39m\u001b[38;5;124m\"\u001b[39m\n\u001b[1;32m    396\u001b[0m         )\n\u001b[1;32m    398\u001b[0m     ipython_display\u001b[38;5;241m.\u001b[39mdisplay(bundle, raw\u001b[38;5;241m=\u001b[39m\u001b[38;5;28;01mTrue\u001b[39;00m)\n\u001b[1;32m    400\u001b[0m \u001b[38;5;66;03m# external renderers\u001b[39;00m\n",
      "\u001b[0;31mValueError\u001b[0m: Mime type rendering requires nbformat>=4.2.0 but it is not installed"
     ]
    },
    {
     "data": {
      "application/vnd.plotly.v1+json": {
       "config": {
        "plotlyServerURL": "https://plot.ly"
       },
       "data": [
        {
         "hovertemplate": "Year=2012<br>Month=%{x}<br>Average Daily Sales Value=%{y}<extra></extra>",
         "legendgroup": "2012",
         "line": {
          "color": "#636efa",
          "dash": "solid"
         },
         "marker": {
          "symbol": "circle"
         },
         "mode": "lines+markers",
         "name": "2012",
         "orientation": "v",
         "showlegend": true,
         "type": "scatter",
         "x": [
          "1",
          "2",
          "3",
          "4",
          "5",
          "6",
          "7",
          "8",
          "9",
          "10",
          "11",
          "12"
         ],
         "xaxis": "x",
         "y": [
          1850.2493333333334,
          3960.5486206896553,
          7129.6612903225805,
          10596.928666666667,
          11413.28064516129,
          11888.529666666667,
          11570.382903225805,
          11736.49870967742,
          12338.359666666665,
          12183.776129032258,
          12554.381,
          12230.702903225805
         ],
         "yaxis": "y"
        },
        {
         "hovertemplate": "Year=2013<br>Month=%{x}<br>Average Daily Sales Value=%{y}<extra></extra>",
         "legendgroup": "2013",
         "line": {
          "color": "#EF553B",
          "dash": "solid"
         },
         "marker": {
          "symbol": "circle"
         },
         "mode": "lines+markers",
         "name": "2013",
         "orientation": "v",
         "showlegend": true,
         "type": "scatter",
         "x": [
          "1",
          "2",
          "3",
          "4",
          "5",
          "6",
          "7",
          "8",
          "9",
          "10",
          "11",
          "12"
         ],
         "xaxis": "x",
         "y": [
          12330.989677419355,
          12860.512857142856,
          12818.992258064516,
          12472.149666666666,
          12799.419032258063,
          12292.076000000001,
          11987.01064516129,
          13168.931612903227,
          12880.628666666666,
          13352.260967741937,
          13552.221333333333,
          12113.998333333335
         ],
         "yaxis": "y"
        }
       ],
       "layout": {
        "legend": {
         "title": {
          "text": "Year"
         },
         "tracegroupgap": 0
        },
        "margin": {
         "t": 60
        },
        "template": {
         "data": {
          "bar": [
           {
            "error_x": {
             "color": "#2a3f5f"
            },
            "error_y": {
             "color": "#2a3f5f"
            },
            "marker": {
             "line": {
              "color": "#E5ECF6",
              "width": 0.5
             },
             "pattern": {
              "fillmode": "overlay",
              "size": 10,
              "solidity": 0.2
             }
            },
            "type": "bar"
           }
          ],
          "barpolar": [
           {
            "marker": {
             "line": {
              "color": "#E5ECF6",
              "width": 0.5
             },
             "pattern": {
              "fillmode": "overlay",
              "size": 10,
              "solidity": 0.2
             }
            },
            "type": "barpolar"
           }
          ],
          "carpet": [
           {
            "aaxis": {
             "endlinecolor": "#2a3f5f",
             "gridcolor": "white",
             "linecolor": "white",
             "minorgridcolor": "white",
             "startlinecolor": "#2a3f5f"
            },
            "baxis": {
             "endlinecolor": "#2a3f5f",
             "gridcolor": "white",
             "linecolor": "white",
             "minorgridcolor": "white",
             "startlinecolor": "#2a3f5f"
            },
            "type": "carpet"
           }
          ],
          "choropleth": [
           {
            "colorbar": {
             "outlinewidth": 0,
             "ticks": ""
            },
            "type": "choropleth"
           }
          ],
          "contour": [
           {
            "colorbar": {
             "outlinewidth": 0,
             "ticks": ""
            },
            "colorscale": [
             [
              0,
              "#0d0887"
             ],
             [
              0.1111111111111111,
              "#46039f"
             ],
             [
              0.2222222222222222,
              "#7201a8"
             ],
             [
              0.3333333333333333,
              "#9c179e"
             ],
             [
              0.4444444444444444,
              "#bd3786"
             ],
             [
              0.5555555555555556,
              "#d8576b"
             ],
             [
              0.6666666666666666,
              "#ed7953"
             ],
             [
              0.7777777777777778,
              "#fb9f3a"
             ],
             [
              0.8888888888888888,
              "#fdca26"
             ],
             [
              1,
              "#f0f921"
             ]
            ],
            "type": "contour"
           }
          ],
          "contourcarpet": [
           {
            "colorbar": {
             "outlinewidth": 0,
             "ticks": ""
            },
            "type": "contourcarpet"
           }
          ],
          "heatmap": [
           {
            "colorbar": {
             "outlinewidth": 0,
             "ticks": ""
            },
            "colorscale": [
             [
              0,
              "#0d0887"
             ],
             [
              0.1111111111111111,
              "#46039f"
             ],
             [
              0.2222222222222222,
              "#7201a8"
             ],
             [
              0.3333333333333333,
              "#9c179e"
             ],
             [
              0.4444444444444444,
              "#bd3786"
             ],
             [
              0.5555555555555556,
              "#d8576b"
             ],
             [
              0.6666666666666666,
              "#ed7953"
             ],
             [
              0.7777777777777778,
              "#fb9f3a"
             ],
             [
              0.8888888888888888,
              "#fdca26"
             ],
             [
              1,
              "#f0f921"
             ]
            ],
            "type": "heatmap"
           }
          ],
          "heatmapgl": [
           {
            "colorbar": {
             "outlinewidth": 0,
             "ticks": ""
            },
            "colorscale": [
             [
              0,
              "#0d0887"
             ],
             [
              0.1111111111111111,
              "#46039f"
             ],
             [
              0.2222222222222222,
              "#7201a8"
             ],
             [
              0.3333333333333333,
              "#9c179e"
             ],
             [
              0.4444444444444444,
              "#bd3786"
             ],
             [
              0.5555555555555556,
              "#d8576b"
             ],
             [
              0.6666666666666666,
              "#ed7953"
             ],
             [
              0.7777777777777778,
              "#fb9f3a"
             ],
             [
              0.8888888888888888,
              "#fdca26"
             ],
             [
              1,
              "#f0f921"
             ]
            ],
            "type": "heatmapgl"
           }
          ],
          "histogram": [
           {
            "marker": {
             "pattern": {
              "fillmode": "overlay",
              "size": 10,
              "solidity": 0.2
             }
            },
            "type": "histogram"
           }
          ],
          "histogram2d": [
           {
            "colorbar": {
             "outlinewidth": 0,
             "ticks": ""
            },
            "colorscale": [
             [
              0,
              "#0d0887"
             ],
             [
              0.1111111111111111,
              "#46039f"
             ],
             [
              0.2222222222222222,
              "#7201a8"
             ],
             [
              0.3333333333333333,
              "#9c179e"
             ],
             [
              0.4444444444444444,
              "#bd3786"
             ],
             [
              0.5555555555555556,
              "#d8576b"
             ],
             [
              0.6666666666666666,
              "#ed7953"
             ],
             [
              0.7777777777777778,
              "#fb9f3a"
             ],
             [
              0.8888888888888888,
              "#fdca26"
             ],
             [
              1,
              "#f0f921"
             ]
            ],
            "type": "histogram2d"
           }
          ],
          "histogram2dcontour": [
           {
            "colorbar": {
             "outlinewidth": 0,
             "ticks": ""
            },
            "colorscale": [
             [
              0,
              "#0d0887"
             ],
             [
              0.1111111111111111,
              "#46039f"
             ],
             [
              0.2222222222222222,
              "#7201a8"
             ],
             [
              0.3333333333333333,
              "#9c179e"
             ],
             [
              0.4444444444444444,
              "#bd3786"
             ],
             [
              0.5555555555555556,
              "#d8576b"
             ],
             [
              0.6666666666666666,
              "#ed7953"
             ],
             [
              0.7777777777777778,
              "#fb9f3a"
             ],
             [
              0.8888888888888888,
              "#fdca26"
             ],
             [
              1,
              "#f0f921"
             ]
            ],
            "type": "histogram2dcontour"
           }
          ],
          "mesh3d": [
           {
            "colorbar": {
             "outlinewidth": 0,
             "ticks": ""
            },
            "type": "mesh3d"
           }
          ],
          "parcoords": [
           {
            "line": {
             "colorbar": {
              "outlinewidth": 0,
              "ticks": ""
             }
            },
            "type": "parcoords"
           }
          ],
          "pie": [
           {
            "automargin": true,
            "type": "pie"
           }
          ],
          "scatter": [
           {
            "fillpattern": {
             "fillmode": "overlay",
             "size": 10,
             "solidity": 0.2
            },
            "type": "scatter"
           }
          ],
          "scatter3d": [
           {
            "line": {
             "colorbar": {
              "outlinewidth": 0,
              "ticks": ""
             }
            },
            "marker": {
             "colorbar": {
              "outlinewidth": 0,
              "ticks": ""
             }
            },
            "type": "scatter3d"
           }
          ],
          "scattercarpet": [
           {
            "marker": {
             "colorbar": {
              "outlinewidth": 0,
              "ticks": ""
             }
            },
            "type": "scattercarpet"
           }
          ],
          "scattergeo": [
           {
            "marker": {
             "colorbar": {
              "outlinewidth": 0,
              "ticks": ""
             }
            },
            "type": "scattergeo"
           }
          ],
          "scattergl": [
           {
            "marker": {
             "colorbar": {
              "outlinewidth": 0,
              "ticks": ""
             }
            },
            "type": "scattergl"
           }
          ],
          "scattermapbox": [
           {
            "marker": {
             "colorbar": {
              "outlinewidth": 0,
              "ticks": ""
             }
            },
            "type": "scattermapbox"
           }
          ],
          "scatterpolar": [
           {
            "marker": {
             "colorbar": {
              "outlinewidth": 0,
              "ticks": ""
             }
            },
            "type": "scatterpolar"
           }
          ],
          "scatterpolargl": [
           {
            "marker": {
             "colorbar": {
              "outlinewidth": 0,
              "ticks": ""
             }
            },
            "type": "scatterpolargl"
           }
          ],
          "scatterternary": [
           {
            "marker": {
             "colorbar": {
              "outlinewidth": 0,
              "ticks": ""
             }
            },
            "type": "scatterternary"
           }
          ],
          "surface": [
           {
            "colorbar": {
             "outlinewidth": 0,
             "ticks": ""
            },
            "colorscale": [
             [
              0,
              "#0d0887"
             ],
             [
              0.1111111111111111,
              "#46039f"
             ],
             [
              0.2222222222222222,
              "#7201a8"
             ],
             [
              0.3333333333333333,
              "#9c179e"
             ],
             [
              0.4444444444444444,
              "#bd3786"
             ],
             [
              0.5555555555555556,
              "#d8576b"
             ],
             [
              0.6666666666666666,
              "#ed7953"
             ],
             [
              0.7777777777777778,
              "#fb9f3a"
             ],
             [
              0.8888888888888888,
              "#fdca26"
             ],
             [
              1,
              "#f0f921"
             ]
            ],
            "type": "surface"
           }
          ],
          "table": [
           {
            "cells": {
             "fill": {
              "color": "#EBF0F8"
             },
             "line": {
              "color": "white"
             }
            },
            "header": {
             "fill": {
              "color": "#C8D4E3"
             },
             "line": {
              "color": "white"
             }
            },
            "type": "table"
           }
          ]
         },
         "layout": {
          "annotationdefaults": {
           "arrowcolor": "#2a3f5f",
           "arrowhead": 0,
           "arrowwidth": 1
          },
          "autotypenumbers": "strict",
          "coloraxis": {
           "colorbar": {
            "outlinewidth": 0,
            "ticks": ""
           }
          },
          "colorscale": {
           "diverging": [
            [
             0,
             "#8e0152"
            ],
            [
             0.1,
             "#c51b7d"
            ],
            [
             0.2,
             "#de77ae"
            ],
            [
             0.3,
             "#f1b6da"
            ],
            [
             0.4,
             "#fde0ef"
            ],
            [
             0.5,
             "#f7f7f7"
            ],
            [
             0.6,
             "#e6f5d0"
            ],
            [
             0.7,
             "#b8e186"
            ],
            [
             0.8,
             "#7fbc41"
            ],
            [
             0.9,
             "#4d9221"
            ],
            [
             1,
             "#276419"
            ]
           ],
           "sequential": [
            [
             0,
             "#0d0887"
            ],
            [
             0.1111111111111111,
             "#46039f"
            ],
            [
             0.2222222222222222,
             "#7201a8"
            ],
            [
             0.3333333333333333,
             "#9c179e"
            ],
            [
             0.4444444444444444,
             "#bd3786"
            ],
            [
             0.5555555555555556,
             "#d8576b"
            ],
            [
             0.6666666666666666,
             "#ed7953"
            ],
            [
             0.7777777777777778,
             "#fb9f3a"
            ],
            [
             0.8888888888888888,
             "#fdca26"
            ],
            [
             1,
             "#f0f921"
            ]
           ],
           "sequentialminus": [
            [
             0,
             "#0d0887"
            ],
            [
             0.1111111111111111,
             "#46039f"
            ],
            [
             0.2222222222222222,
             "#7201a8"
            ],
            [
             0.3333333333333333,
             "#9c179e"
            ],
            [
             0.4444444444444444,
             "#bd3786"
            ],
            [
             0.5555555555555556,
             "#d8576b"
            ],
            [
             0.6666666666666666,
             "#ed7953"
            ],
            [
             0.7777777777777778,
             "#fb9f3a"
            ],
            [
             0.8888888888888888,
             "#fdca26"
            ],
            [
             1,
             "#f0f921"
            ]
           ]
          },
          "colorway": [
           "#636efa",
           "#EF553B",
           "#00cc96",
           "#ab63fa",
           "#FFA15A",
           "#19d3f3",
           "#FF6692",
           "#B6E880",
           "#FF97FF",
           "#FECB52"
          ],
          "font": {
           "color": "#2a3f5f"
          },
          "geo": {
           "bgcolor": "white",
           "lakecolor": "white",
           "landcolor": "#E5ECF6",
           "showlakes": true,
           "showland": true,
           "subunitcolor": "white"
          },
          "hoverlabel": {
           "align": "left"
          },
          "hovermode": "closest",
          "mapbox": {
           "style": "light"
          },
          "paper_bgcolor": "white",
          "plot_bgcolor": "#E5ECF6",
          "polar": {
           "angularaxis": {
            "gridcolor": "white",
            "linecolor": "white",
            "ticks": ""
           },
           "bgcolor": "#E5ECF6",
           "radialaxis": {
            "gridcolor": "white",
            "linecolor": "white",
            "ticks": ""
           }
          },
          "scene": {
           "xaxis": {
            "backgroundcolor": "#E5ECF6",
            "gridcolor": "white",
            "gridwidth": 2,
            "linecolor": "white",
            "showbackground": true,
            "ticks": "",
            "zerolinecolor": "white"
           },
           "yaxis": {
            "backgroundcolor": "#E5ECF6",
            "gridcolor": "white",
            "gridwidth": 2,
            "linecolor": "white",
            "showbackground": true,
            "ticks": "",
            "zerolinecolor": "white"
           },
           "zaxis": {
            "backgroundcolor": "#E5ECF6",
            "gridcolor": "white",
            "gridwidth": 2,
            "linecolor": "white",
            "showbackground": true,
            "ticks": "",
            "zerolinecolor": "white"
           }
          },
          "shapedefaults": {
           "line": {
            "color": "#2a3f5f"
           }
          },
          "ternary": {
           "aaxis": {
            "gridcolor": "white",
            "linecolor": "white",
            "ticks": ""
           },
           "baxis": {
            "gridcolor": "white",
            "linecolor": "white",
            "ticks": ""
           },
           "bgcolor": "#E5ECF6",
           "caxis": {
            "gridcolor": "white",
            "linecolor": "white",
            "ticks": ""
           }
          },
          "title": {
           "x": 0.05
          },
          "xaxis": {
           "automargin": true,
           "gridcolor": "white",
           "linecolor": "white",
           "ticks": "",
           "title": {
            "standoff": 15
           },
           "zerolinecolor": "white",
           "zerolinewidth": 2
          },
          "yaxis": {
           "automargin": true,
           "gridcolor": "white",
           "linecolor": "white",
           "ticks": "",
           "title": {
            "standoff": 15
           },
           "zerolinecolor": "white",
           "zerolinewidth": 2
          }
         }
        },
        "title": {
         "text": "Daily Sales Value Over Time by Year",
         "x": 0.5
        },
        "xaxis": {
         "anchor": "y",
         "domain": [
          0,
          1
         ],
         "showgrid": false,
         "title": {
          "text": "Month"
         }
        },
        "yaxis": {
         "anchor": "x",
         "domain": [
          0,
          1
         ],
         "showgrid": false,
         "title": {
          "text": "Average Daily Sales Value"
         }
        }
       }
      },
      "text/html": [
       "<div>                        <script type=\"text/javascript\">window.PlotlyConfig = {MathJaxConfig: 'local'};</script>\n",
       "        <script charset=\"utf-8\" src=\"https://cdn.plot.ly/plotly-2.32.0.min.js\"></script>                <div id=\"39876c6b-8bc1-404e-9605-0fde439fcc0f\" class=\"plotly-graph-div\" style=\"height:100%; width:100%;\"></div>            <script type=\"text/javascript\">                                    window.PLOTLYENV=window.PLOTLYENV || {};                                    if (document.getElementById(\"39876c6b-8bc1-404e-9605-0fde439fcc0f\")) {                    Plotly.newPlot(                        \"39876c6b-8bc1-404e-9605-0fde439fcc0f\",                        [{\"hovertemplate\":\"Year=2012\\u003cbr\\u003eMonth=%{x}\\u003cbr\\u003eAverage Daily Sales Value=%{y}\\u003cextra\\u003e\\u003c\\u002fextra\\u003e\",\"legendgroup\":\"2012\",\"line\":{\"color\":\"#636efa\",\"dash\":\"solid\"},\"marker\":{\"symbol\":\"circle\"},\"mode\":\"lines+markers\",\"name\":\"2012\",\"orientation\":\"v\",\"showlegend\":true,\"x\":[\"1\",\"2\",\"3\",\"4\",\"5\",\"6\",\"7\",\"8\",\"9\",\"10\",\"11\",\"12\"],\"xaxis\":\"x\",\"y\":[1850.2493333333334,3960.5486206896553,7129.6612903225805,10596.928666666667,11413.28064516129,11888.529666666667,11570.382903225805,11736.49870967742,12338.359666666665,12183.776129032258,12554.381,12230.702903225805],\"yaxis\":\"y\",\"type\":\"scatter\"},{\"hovertemplate\":\"Year=2013\\u003cbr\\u003eMonth=%{x}\\u003cbr\\u003eAverage Daily Sales Value=%{y}\\u003cextra\\u003e\\u003c\\u002fextra\\u003e\",\"legendgroup\":\"2013\",\"line\":{\"color\":\"#EF553B\",\"dash\":\"solid\"},\"marker\":{\"symbol\":\"circle\"},\"mode\":\"lines+markers\",\"name\":\"2013\",\"orientation\":\"v\",\"showlegend\":true,\"x\":[\"1\",\"2\",\"3\",\"4\",\"5\",\"6\",\"7\",\"8\",\"9\",\"10\",\"11\",\"12\"],\"xaxis\":\"x\",\"y\":[12330.989677419355,12860.512857142856,12818.992258064516,12472.149666666666,12799.419032258063,12292.076000000001,11987.01064516129,13168.931612903227,12880.628666666666,13352.260967741937,13552.221333333333,12113.998333333335],\"yaxis\":\"y\",\"type\":\"scatter\"}],                        {\"template\":{\"data\":{\"histogram2dcontour\":[{\"type\":\"histogram2dcontour\",\"colorbar\":{\"outlinewidth\":0,\"ticks\":\"\"},\"colorscale\":[[0.0,\"#0d0887\"],[0.1111111111111111,\"#46039f\"],[0.2222222222222222,\"#7201a8\"],[0.3333333333333333,\"#9c179e\"],[0.4444444444444444,\"#bd3786\"],[0.5555555555555556,\"#d8576b\"],[0.6666666666666666,\"#ed7953\"],[0.7777777777777778,\"#fb9f3a\"],[0.8888888888888888,\"#fdca26\"],[1.0,\"#f0f921\"]]}],\"choropleth\":[{\"type\":\"choropleth\",\"colorbar\":{\"outlinewidth\":0,\"ticks\":\"\"}}],\"histogram2d\":[{\"type\":\"histogram2d\",\"colorbar\":{\"outlinewidth\":0,\"ticks\":\"\"},\"colorscale\":[[0.0,\"#0d0887\"],[0.1111111111111111,\"#46039f\"],[0.2222222222222222,\"#7201a8\"],[0.3333333333333333,\"#9c179e\"],[0.4444444444444444,\"#bd3786\"],[0.5555555555555556,\"#d8576b\"],[0.6666666666666666,\"#ed7953\"],[0.7777777777777778,\"#fb9f3a\"],[0.8888888888888888,\"#fdca26\"],[1.0,\"#f0f921\"]]}],\"heatmap\":[{\"type\":\"heatmap\",\"colorbar\":{\"outlinewidth\":0,\"ticks\":\"\"},\"colorscale\":[[0.0,\"#0d0887\"],[0.1111111111111111,\"#46039f\"],[0.2222222222222222,\"#7201a8\"],[0.3333333333333333,\"#9c179e\"],[0.4444444444444444,\"#bd3786\"],[0.5555555555555556,\"#d8576b\"],[0.6666666666666666,\"#ed7953\"],[0.7777777777777778,\"#fb9f3a\"],[0.8888888888888888,\"#fdca26\"],[1.0,\"#f0f921\"]]}],\"heatmapgl\":[{\"type\":\"heatmapgl\",\"colorbar\":{\"outlinewidth\":0,\"ticks\":\"\"},\"colorscale\":[[0.0,\"#0d0887\"],[0.1111111111111111,\"#46039f\"],[0.2222222222222222,\"#7201a8\"],[0.3333333333333333,\"#9c179e\"],[0.4444444444444444,\"#bd3786\"],[0.5555555555555556,\"#d8576b\"],[0.6666666666666666,\"#ed7953\"],[0.7777777777777778,\"#fb9f3a\"],[0.8888888888888888,\"#fdca26\"],[1.0,\"#f0f921\"]]}],\"contourcarpet\":[{\"type\":\"contourcarpet\",\"colorbar\":{\"outlinewidth\":0,\"ticks\":\"\"}}],\"contour\":[{\"type\":\"contour\",\"colorbar\":{\"outlinewidth\":0,\"ticks\":\"\"},\"colorscale\":[[0.0,\"#0d0887\"],[0.1111111111111111,\"#46039f\"],[0.2222222222222222,\"#7201a8\"],[0.3333333333333333,\"#9c179e\"],[0.4444444444444444,\"#bd3786\"],[0.5555555555555556,\"#d8576b\"],[0.6666666666666666,\"#ed7953\"],[0.7777777777777778,\"#fb9f3a\"],[0.8888888888888888,\"#fdca26\"],[1.0,\"#f0f921\"]]}],\"surface\":[{\"type\":\"surface\",\"colorbar\":{\"outlinewidth\":0,\"ticks\":\"\"},\"colorscale\":[[0.0,\"#0d0887\"],[0.1111111111111111,\"#46039f\"],[0.2222222222222222,\"#7201a8\"],[0.3333333333333333,\"#9c179e\"],[0.4444444444444444,\"#bd3786\"],[0.5555555555555556,\"#d8576b\"],[0.6666666666666666,\"#ed7953\"],[0.7777777777777778,\"#fb9f3a\"],[0.8888888888888888,\"#fdca26\"],[1.0,\"#f0f921\"]]}],\"mesh3d\":[{\"type\":\"mesh3d\",\"colorbar\":{\"outlinewidth\":0,\"ticks\":\"\"}}],\"scatter\":[{\"fillpattern\":{\"fillmode\":\"overlay\",\"size\":10,\"solidity\":0.2},\"type\":\"scatter\"}],\"parcoords\":[{\"type\":\"parcoords\",\"line\":{\"colorbar\":{\"outlinewidth\":0,\"ticks\":\"\"}}}],\"scatterpolargl\":[{\"type\":\"scatterpolargl\",\"marker\":{\"colorbar\":{\"outlinewidth\":0,\"ticks\":\"\"}}}],\"bar\":[{\"error_x\":{\"color\":\"#2a3f5f\"},\"error_y\":{\"color\":\"#2a3f5f\"},\"marker\":{\"line\":{\"color\":\"#E5ECF6\",\"width\":0.5},\"pattern\":{\"fillmode\":\"overlay\",\"size\":10,\"solidity\":0.2}},\"type\":\"bar\"}],\"scattergeo\":[{\"type\":\"scattergeo\",\"marker\":{\"colorbar\":{\"outlinewidth\":0,\"ticks\":\"\"}}}],\"scatterpolar\":[{\"type\":\"scatterpolar\",\"marker\":{\"colorbar\":{\"outlinewidth\":0,\"ticks\":\"\"}}}],\"histogram\":[{\"marker\":{\"pattern\":{\"fillmode\":\"overlay\",\"size\":10,\"solidity\":0.2}},\"type\":\"histogram\"}],\"scattergl\":[{\"type\":\"scattergl\",\"marker\":{\"colorbar\":{\"outlinewidth\":0,\"ticks\":\"\"}}}],\"scatter3d\":[{\"type\":\"scatter3d\",\"line\":{\"colorbar\":{\"outlinewidth\":0,\"ticks\":\"\"}},\"marker\":{\"colorbar\":{\"outlinewidth\":0,\"ticks\":\"\"}}}],\"scattermapbox\":[{\"type\":\"scattermapbox\",\"marker\":{\"colorbar\":{\"outlinewidth\":0,\"ticks\":\"\"}}}],\"scatterternary\":[{\"type\":\"scatterternary\",\"marker\":{\"colorbar\":{\"outlinewidth\":0,\"ticks\":\"\"}}}],\"scattercarpet\":[{\"type\":\"scattercarpet\",\"marker\":{\"colorbar\":{\"outlinewidth\":0,\"ticks\":\"\"}}}],\"carpet\":[{\"aaxis\":{\"endlinecolor\":\"#2a3f5f\",\"gridcolor\":\"white\",\"linecolor\":\"white\",\"minorgridcolor\":\"white\",\"startlinecolor\":\"#2a3f5f\"},\"baxis\":{\"endlinecolor\":\"#2a3f5f\",\"gridcolor\":\"white\",\"linecolor\":\"white\",\"minorgridcolor\":\"white\",\"startlinecolor\":\"#2a3f5f\"},\"type\":\"carpet\"}],\"table\":[{\"cells\":{\"fill\":{\"color\":\"#EBF0F8\"},\"line\":{\"color\":\"white\"}},\"header\":{\"fill\":{\"color\":\"#C8D4E3\"},\"line\":{\"color\":\"white\"}},\"type\":\"table\"}],\"barpolar\":[{\"marker\":{\"line\":{\"color\":\"#E5ECF6\",\"width\":0.5},\"pattern\":{\"fillmode\":\"overlay\",\"size\":10,\"solidity\":0.2}},\"type\":\"barpolar\"}],\"pie\":[{\"automargin\":true,\"type\":\"pie\"}]},\"layout\":{\"autotypenumbers\":\"strict\",\"colorway\":[\"#636efa\",\"#EF553B\",\"#00cc96\",\"#ab63fa\",\"#FFA15A\",\"#19d3f3\",\"#FF6692\",\"#B6E880\",\"#FF97FF\",\"#FECB52\"],\"font\":{\"color\":\"#2a3f5f\"},\"hovermode\":\"closest\",\"hoverlabel\":{\"align\":\"left\"},\"paper_bgcolor\":\"white\",\"plot_bgcolor\":\"#E5ECF6\",\"polar\":{\"bgcolor\":\"#E5ECF6\",\"angularaxis\":{\"gridcolor\":\"white\",\"linecolor\":\"white\",\"ticks\":\"\"},\"radialaxis\":{\"gridcolor\":\"white\",\"linecolor\":\"white\",\"ticks\":\"\"}},\"ternary\":{\"bgcolor\":\"#E5ECF6\",\"aaxis\":{\"gridcolor\":\"white\",\"linecolor\":\"white\",\"ticks\":\"\"},\"baxis\":{\"gridcolor\":\"white\",\"linecolor\":\"white\",\"ticks\":\"\"},\"caxis\":{\"gridcolor\":\"white\",\"linecolor\":\"white\",\"ticks\":\"\"}},\"coloraxis\":{\"colorbar\":{\"outlinewidth\":0,\"ticks\":\"\"}},\"colorscale\":{\"sequential\":[[0.0,\"#0d0887\"],[0.1111111111111111,\"#46039f\"],[0.2222222222222222,\"#7201a8\"],[0.3333333333333333,\"#9c179e\"],[0.4444444444444444,\"#bd3786\"],[0.5555555555555556,\"#d8576b\"],[0.6666666666666666,\"#ed7953\"],[0.7777777777777778,\"#fb9f3a\"],[0.8888888888888888,\"#fdca26\"],[1.0,\"#f0f921\"]],\"sequentialminus\":[[0.0,\"#0d0887\"],[0.1111111111111111,\"#46039f\"],[0.2222222222222222,\"#7201a8\"],[0.3333333333333333,\"#9c179e\"],[0.4444444444444444,\"#bd3786\"],[0.5555555555555556,\"#d8576b\"],[0.6666666666666666,\"#ed7953\"],[0.7777777777777778,\"#fb9f3a\"],[0.8888888888888888,\"#fdca26\"],[1.0,\"#f0f921\"]],\"diverging\":[[0,\"#8e0152\"],[0.1,\"#c51b7d\"],[0.2,\"#de77ae\"],[0.3,\"#f1b6da\"],[0.4,\"#fde0ef\"],[0.5,\"#f7f7f7\"],[0.6,\"#e6f5d0\"],[0.7,\"#b8e186\"],[0.8,\"#7fbc41\"],[0.9,\"#4d9221\"],[1,\"#276419\"]]},\"xaxis\":{\"gridcolor\":\"white\",\"linecolor\":\"white\",\"ticks\":\"\",\"title\":{\"standoff\":15},\"zerolinecolor\":\"white\",\"automargin\":true,\"zerolinewidth\":2},\"yaxis\":{\"gridcolor\":\"white\",\"linecolor\":\"white\",\"ticks\":\"\",\"title\":{\"standoff\":15},\"zerolinecolor\":\"white\",\"automargin\":true,\"zerolinewidth\":2},\"scene\":{\"xaxis\":{\"backgroundcolor\":\"#E5ECF6\",\"gridcolor\":\"white\",\"linecolor\":\"white\",\"showbackground\":true,\"ticks\":\"\",\"zerolinecolor\":\"white\",\"gridwidth\":2},\"yaxis\":{\"backgroundcolor\":\"#E5ECF6\",\"gridcolor\":\"white\",\"linecolor\":\"white\",\"showbackground\":true,\"ticks\":\"\",\"zerolinecolor\":\"white\",\"gridwidth\":2},\"zaxis\":{\"backgroundcolor\":\"#E5ECF6\",\"gridcolor\":\"white\",\"linecolor\":\"white\",\"showbackground\":true,\"ticks\":\"\",\"zerolinecolor\":\"white\",\"gridwidth\":2}},\"shapedefaults\":{\"line\":{\"color\":\"#2a3f5f\"}},\"annotationdefaults\":{\"arrowcolor\":\"#2a3f5f\",\"arrowhead\":0,\"arrowwidth\":1},\"geo\":{\"bgcolor\":\"white\",\"landcolor\":\"#E5ECF6\",\"subunitcolor\":\"white\",\"showland\":true,\"showlakes\":true,\"lakecolor\":\"white\"},\"title\":{\"x\":0.05},\"mapbox\":{\"style\":\"light\"}}},\"xaxis\":{\"anchor\":\"y\",\"domain\":[0.0,1.0],\"title\":{\"text\":\"Month\"},\"showgrid\":false},\"yaxis\":{\"anchor\":\"x\",\"domain\":[0.0,1.0],\"title\":{\"text\":\"Average Daily Sales Value\"},\"showgrid\":false},\"legend\":{\"title\":{\"text\":\"Year\"},\"tracegroupgap\":0},\"margin\":{\"t\":60},\"title\":{\"text\":\"Daily Sales Value Over Time by Year\",\"x\":0.5}},                        {\"responsive\": true}                    )                };                            </script>        </div>"
      ],
      "text/plain": [
       "Figure({\n",
       "    'data': [{'hovertemplate': 'Year=2012<br>Month=%{x}<br>Average Daily Sales Value=%{y}<extra></extra>',\n",
       "              'legendgroup': '2012',\n",
       "              'line': {'color': '#636efa', 'dash': 'solid'},\n",
       "              'marker': {'symbol': 'circle'},\n",
       "              'mode': 'lines+markers',\n",
       "              'name': '2012',\n",
       "              'orientation': 'v',\n",
       "              'showlegend': True,\n",
       "              'type': 'scatter',\n",
       "              'x': array(['1', '2', '3', '4', '5', '6', '7', '8', '9', '10', '11', '12'],\n",
       "                         dtype=object),\n",
       "              'xaxis': 'x',\n",
       "              'y': array([ 1850.24933333,  3960.54862069,  7129.66129032, 10596.92866667,\n",
       "                          11413.28064516, 11888.52966667, 11570.38290323, 11736.49870968,\n",
       "                          12338.35966667, 12183.77612903, 12554.381     , 12230.70290323]),\n",
       "              'yaxis': 'y'},\n",
       "             {'hovertemplate': 'Year=2013<br>Month=%{x}<br>Average Daily Sales Value=%{y}<extra></extra>',\n",
       "              'legendgroup': '2013',\n",
       "              'line': {'color': '#EF553B', 'dash': 'solid'},\n",
       "              'marker': {'symbol': 'circle'},\n",
       "              'mode': 'lines+markers',\n",
       "              'name': '2013',\n",
       "              'orientation': 'v',\n",
       "              'showlegend': True,\n",
       "              'type': 'scatter',\n",
       "              'x': array(['1', '2', '3', '4', '5', '6', '7', '8', '9', '10', '11', '12'],\n",
       "                         dtype=object),\n",
       "              'xaxis': 'x',\n",
       "              'y': array([12330.98967742, 12860.51285714, 12818.99225806, 12472.14966667,\n",
       "                          12799.41903226, 12292.076     , 11987.01064516, 13168.9316129 ,\n",
       "                          12880.62866667, 13352.26096774, 13552.22133333, 12113.99833333]),\n",
       "              'yaxis': 'y'}],\n",
       "    'layout': {'legend': {'title': {'text': 'Year'}, 'tracegroupgap': 0},\n",
       "               'margin': {'t': 60},\n",
       "               'template': '...',\n",
       "               'title': {'text': 'Daily Sales Value Over Time by Year', 'x': 0.5},\n",
       "               'xaxis': {'anchor': 'y', 'domain': [0.0, 1.0], 'showgrid': False, 'title': {'text': 'Month'}},\n",
       "               'yaxis': {'anchor': 'x',\n",
       "                         'domain': [0.0, 1.0],\n",
       "                         'showgrid': False,\n",
       "                         'title': {'text': 'Average Daily Sales Value'}}}\n",
       "})"
      ]
     },
     "execution_count": 322,
     "metadata": {},
     "output_type": "execute_result"
    }
   ],
   "source": [
    "fig = px.line(\n",
    "    x=daily_sales_avg_month[\"DATE\"].dt.month.astype(\"str\"),\n",
    "    y=daily_sales_avg_month[\"SALES_VALUE\"],\n",
    "    color=daily_sales_avg_month[\"DATE\"].dt.year,\n",
    "    labels={\n",
    "        \"x\": \"Month\",\n",
    "        \"y\": \"Average Daily Sales Value\",\n",
    "        \"color\": \"Year\",\n",
    "    },\n",
    "    markers=True,\n",
    ")\n",
    "fig.update_layout(\n",
    "    title={\n",
    "        \"text\": \"Daily Sales Value Over Time by Year\",\n",
    "        \"x\": 0.5,\n",
    "    },\n",
    "    # Hide the grid lines\n",
    "    xaxis=dict(showgrid=False),\n",
    "    yaxis=dict(showgrid=False),\n",
    ")\n",
    "\n",
    "fig"
   ]
  },
  {
   "cell_type": "markdown",
   "metadata": {},
   "source": [
    "## 4. New Customers"
   ]
  },
  {
   "cell_type": "code",
   "execution_count": 323,
   "metadata": {},
   "outputs": [
    {
     "data": {
      "text/html": [
       "<div>\n",
       "<style scoped>\n",
       "    .dataframe tbody tr th:only-of-type {\n",
       "        vertical-align: middle;\n",
       "    }\n",
       "\n",
       "    .dataframe tbody tr th {\n",
       "        vertical-align: top;\n",
       "    }\n",
       "\n",
       "    .dataframe thead th {\n",
       "        text-align: right;\n",
       "    }\n",
       "</style>\n",
       "<table border=\"1\" class=\"dataframe\">\n",
       "  <thead>\n",
       "    <tr style=\"text-align: right;\">\n",
       "      <th></th>\n",
       "      <th>DATE</th>\n",
       "    </tr>\n",
       "    <tr>\n",
       "      <th>household_key</th>\n",
       "      <th></th>\n",
       "    </tr>\n",
       "  </thead>\n",
       "  <tbody>\n",
       "    <tr>\n",
       "      <th>1</th>\n",
       "      <td>2012-02-21</td>\n",
       "    </tr>\n",
       "    <tr>\n",
       "      <th>2</th>\n",
       "      <td>2012-04-13</td>\n",
       "    </tr>\n",
       "    <tr>\n",
       "      <th>3</th>\n",
       "      <td>2012-04-23</td>\n",
       "    </tr>\n",
       "    <tr>\n",
       "      <th>4</th>\n",
       "      <td>2012-04-14</td>\n",
       "    </tr>\n",
       "    <tr>\n",
       "      <th>5</th>\n",
       "      <td>2012-03-26</td>\n",
       "    </tr>\n",
       "    <tr>\n",
       "      <th>...</th>\n",
       "      <td>...</td>\n",
       "    </tr>\n",
       "    <tr>\n",
       "      <th>2496</th>\n",
       "      <td>2012-04-27</td>\n",
       "    </tr>\n",
       "    <tr>\n",
       "      <th>2497</th>\n",
       "      <td>2012-03-19</td>\n",
       "    </tr>\n",
       "    <tr>\n",
       "      <th>2498</th>\n",
       "      <td>2012-04-15</td>\n",
       "    </tr>\n",
       "    <tr>\n",
       "      <th>2499</th>\n",
       "      <td>2012-03-11</td>\n",
       "    </tr>\n",
       "    <tr>\n",
       "      <th>2500</th>\n",
       "      <td>2012-03-20</td>\n",
       "    </tr>\n",
       "  </tbody>\n",
       "</table>\n",
       "<p>2500 rows × 1 columns</p>\n",
       "</div>"
      ],
      "text/plain": [
       "                    DATE\n",
       "household_key           \n",
       "1             2012-02-21\n",
       "2             2012-04-13\n",
       "3             2012-04-23\n",
       "4             2012-04-14\n",
       "5             2012-03-26\n",
       "...                  ...\n",
       "2496          2012-04-27\n",
       "2497          2012-03-19\n",
       "2498          2012-04-15\n",
       "2499          2012-03-11\n",
       "2500          2012-03-20\n",
       "\n",
       "[2500 rows x 1 columns]"
      ]
     },
     "execution_count": 323,
     "metadata": {},
     "output_type": "execute_result"
    }
   ],
   "source": [
    "customer_first_date"
   ]
  },
  {
   "cell_type": "code",
   "execution_count": 324,
   "metadata": {},
   "outputs": [
    {
     "ename": "ValueError",
     "evalue": "Mime type rendering requires nbformat>=4.2.0 but it is not installed",
     "output_type": "error",
     "traceback": [
      "\u001b[0;31m---------------------------------------------------------------------------\u001b[0m",
      "\u001b[0;31mValueError\u001b[0m                                Traceback (most recent call last)",
      "File \u001b[0;32m/mnt/77165487061AF296/Sorbonne Data Analytics_SDA/Cours/Data_Management_Nisrine_Moummou/Projet_Data_Management/.venv/lib/python3.11/site-packages/IPython/core/formatters.py:925\u001b[0m, in \u001b[0;36mIPythonDisplayFormatter.__call__\u001b[0;34m(self, obj)\u001b[0m\n\u001b[1;32m    923\u001b[0m method \u001b[38;5;241m=\u001b[39m get_real_method(obj, \u001b[38;5;28mself\u001b[39m\u001b[38;5;241m.\u001b[39mprint_method)\n\u001b[1;32m    924\u001b[0m \u001b[38;5;28;01mif\u001b[39;00m method \u001b[38;5;129;01mis\u001b[39;00m \u001b[38;5;129;01mnot\u001b[39;00m \u001b[38;5;28;01mNone\u001b[39;00m:\n\u001b[0;32m--> 925\u001b[0m     \u001b[43mmethod\u001b[49m\u001b[43m(\u001b[49m\u001b[43m)\u001b[49m\n\u001b[1;32m    926\u001b[0m     \u001b[38;5;28;01mreturn\u001b[39;00m \u001b[38;5;28;01mTrue\u001b[39;00m\n",
      "File \u001b[0;32m/mnt/77165487061AF296/Sorbonne Data Analytics_SDA/Cours/Data_Management_Nisrine_Moummou/Projet_Data_Management/.venv/lib/python3.11/site-packages/plotly/basedatatypes.py:832\u001b[0m, in \u001b[0;36mBaseFigure._ipython_display_\u001b[0;34m(self)\u001b[0m\n\u001b[1;32m    829\u001b[0m \u001b[38;5;28;01mimport\u001b[39;00m \u001b[38;5;21;01mplotly\u001b[39;00m\u001b[38;5;21;01m.\u001b[39;00m\u001b[38;5;21;01mio\u001b[39;00m \u001b[38;5;28;01mas\u001b[39;00m \u001b[38;5;21;01mpio\u001b[39;00m\n\u001b[1;32m    831\u001b[0m \u001b[38;5;28;01mif\u001b[39;00m pio\u001b[38;5;241m.\u001b[39mrenderers\u001b[38;5;241m.\u001b[39mrender_on_display \u001b[38;5;129;01mand\u001b[39;00m pio\u001b[38;5;241m.\u001b[39mrenderers\u001b[38;5;241m.\u001b[39mdefault:\n\u001b[0;32m--> 832\u001b[0m     \u001b[43mpio\u001b[49m\u001b[38;5;241;43m.\u001b[39;49m\u001b[43mshow\u001b[49m\u001b[43m(\u001b[49m\u001b[38;5;28;43mself\u001b[39;49m\u001b[43m)\u001b[49m\n\u001b[1;32m    833\u001b[0m \u001b[38;5;28;01melse\u001b[39;00m:\n\u001b[1;32m    834\u001b[0m     \u001b[38;5;28mprint\u001b[39m(\u001b[38;5;28mrepr\u001b[39m(\u001b[38;5;28mself\u001b[39m))\n",
      "File \u001b[0;32m/mnt/77165487061AF296/Sorbonne Data Analytics_SDA/Cours/Data_Management_Nisrine_Moummou/Projet_Data_Management/.venv/lib/python3.11/site-packages/plotly/io/_renderers.py:394\u001b[0m, in \u001b[0;36mshow\u001b[0;34m(fig, renderer, validate, **kwargs)\u001b[0m\n\u001b[1;32m    389\u001b[0m         \u001b[38;5;28;01mraise\u001b[39;00m \u001b[38;5;167;01mValueError\u001b[39;00m(\n\u001b[1;32m    390\u001b[0m             \u001b[38;5;124m\"\u001b[39m\u001b[38;5;124mMime type rendering requires ipython but it is not installed\u001b[39m\u001b[38;5;124m\"\u001b[39m\n\u001b[1;32m    391\u001b[0m         )\n\u001b[1;32m    393\u001b[0m     \u001b[38;5;28;01mif\u001b[39;00m \u001b[38;5;129;01mnot\u001b[39;00m nbformat \u001b[38;5;129;01mor\u001b[39;00m Version(nbformat\u001b[38;5;241m.\u001b[39m__version__) \u001b[38;5;241m<\u001b[39m Version(\u001b[38;5;124m\"\u001b[39m\u001b[38;5;124m4.2.0\u001b[39m\u001b[38;5;124m\"\u001b[39m):\n\u001b[0;32m--> 394\u001b[0m         \u001b[38;5;28;01mraise\u001b[39;00m \u001b[38;5;167;01mValueError\u001b[39;00m(\n\u001b[1;32m    395\u001b[0m             \u001b[38;5;124m\"\u001b[39m\u001b[38;5;124mMime type rendering requires nbformat>=4.2.0 but it is not installed\u001b[39m\u001b[38;5;124m\"\u001b[39m\n\u001b[1;32m    396\u001b[0m         )\n\u001b[1;32m    398\u001b[0m     ipython_display\u001b[38;5;241m.\u001b[39mdisplay(bundle, raw\u001b[38;5;241m=\u001b[39m\u001b[38;5;28;01mTrue\u001b[39;00m)\n\u001b[1;32m    400\u001b[0m \u001b[38;5;66;03m# external renderers\u001b[39;00m\n",
      "\u001b[0;31mValueError\u001b[0m: Mime type rendering requires nbformat>=4.2.0 but it is not installed"
     ]
    },
    {
     "data": {
      "application/vnd.plotly.v1+json": {
       "config": {
        "plotlyServerURL": "https://plot.ly"
       },
       "data": [
        {
         "hovertemplate": "Date of first purchase=%{x}<br>Number of households=%{y}<extra></extra>",
         "legendgroup": "",
         "line": {
          "color": "#636efa",
          "dash": "solid"
         },
         "marker": {
          "symbol": "circle"
         },
         "mode": "lines+markers",
         "name": "",
         "orientation": "v",
         "showlegend": false,
         "type": "scatter",
         "x": [
          "2012-01-02T00:00:00",
          "2012-01-03T00:00:00",
          "2012-01-04T00:00:00",
          "2012-01-05T00:00:00",
          "2012-01-06T00:00:00",
          "2012-01-07T00:00:00",
          "2012-01-08T00:00:00",
          "2012-01-09T00:00:00",
          "2012-01-10T00:00:00",
          "2012-01-11T00:00:00",
          "2012-01-12T00:00:00",
          "2012-01-13T00:00:00",
          "2012-01-14T00:00:00",
          "2012-01-15T00:00:00",
          "2012-01-16T00:00:00",
          "2012-01-17T00:00:00",
          "2012-01-18T00:00:00",
          "2012-01-19T00:00:00",
          "2012-01-20T00:00:00",
          "2012-01-21T00:00:00",
          "2012-01-22T00:00:00",
          "2012-01-23T00:00:00",
          "2012-01-24T00:00:00",
          "2012-01-25T00:00:00",
          "2012-01-26T00:00:00",
          "2012-01-27T00:00:00",
          "2012-01-28T00:00:00",
          "2012-01-29T00:00:00",
          "2012-01-30T00:00:00",
          "2012-01-31T00:00:00",
          "2012-02-01T00:00:00",
          "2012-02-02T00:00:00",
          "2012-02-03T00:00:00",
          "2012-02-04T00:00:00",
          "2012-02-05T00:00:00",
          "2012-02-06T00:00:00",
          "2012-02-07T00:00:00",
          "2012-02-08T00:00:00",
          "2012-02-09T00:00:00",
          "2012-02-10T00:00:00",
          "2012-02-11T00:00:00",
          "2012-02-12T00:00:00",
          "2012-02-13T00:00:00",
          "2012-02-14T00:00:00",
          "2012-02-15T00:00:00",
          "2012-02-16T00:00:00",
          "2012-02-17T00:00:00",
          "2012-02-18T00:00:00",
          "2012-02-19T00:00:00",
          "2012-02-20T00:00:00",
          "2012-02-21T00:00:00",
          "2012-02-22T00:00:00",
          "2012-02-23T00:00:00",
          "2012-02-24T00:00:00",
          "2012-02-25T00:00:00",
          "2012-02-26T00:00:00",
          "2012-02-27T00:00:00",
          "2012-02-28T00:00:00",
          "2012-02-29T00:00:00",
          "2012-03-01T00:00:00",
          "2012-03-02T00:00:00",
          "2012-03-03T00:00:00",
          "2012-03-04T00:00:00",
          "2012-03-05T00:00:00",
          "2012-03-06T00:00:00",
          "2012-03-07T00:00:00",
          "2012-03-08T00:00:00",
          "2012-03-09T00:00:00",
          "2012-03-10T00:00:00",
          "2012-03-11T00:00:00",
          "2012-03-12T00:00:00",
          "2012-03-13T00:00:00",
          "2012-03-14T00:00:00",
          "2012-03-15T00:00:00",
          "2012-03-16T00:00:00",
          "2012-03-17T00:00:00",
          "2012-03-18T00:00:00",
          "2012-03-19T00:00:00",
          "2012-03-20T00:00:00",
          "2012-03-21T00:00:00",
          "2012-03-22T00:00:00",
          "2012-03-23T00:00:00",
          "2012-03-24T00:00:00",
          "2012-03-25T00:00:00",
          "2012-03-26T00:00:00",
          "2012-03-27T00:00:00",
          "2012-03-28T00:00:00",
          "2012-03-29T00:00:00",
          "2012-03-30T00:00:00",
          "2012-03-31T00:00:00",
          "2012-04-01T00:00:00",
          "2012-04-02T00:00:00",
          "2012-04-03T00:00:00",
          "2012-04-04T00:00:00",
          "2012-04-05T00:00:00",
          "2012-04-06T00:00:00",
          "2012-04-07T00:00:00",
          "2012-04-08T00:00:00",
          "2012-04-09T00:00:00",
          "2012-04-10T00:00:00",
          "2012-04-11T00:00:00",
          "2012-04-12T00:00:00",
          "2012-04-13T00:00:00",
          "2012-04-14T00:00:00",
          "2012-04-15T00:00:00",
          "2012-04-16T00:00:00",
          "2012-04-17T00:00:00",
          "2012-04-18T00:00:00",
          "2012-04-19T00:00:00",
          "2012-04-20T00:00:00",
          "2012-04-21T00:00:00",
          "2012-04-22T00:00:00",
          "2012-04-23T00:00:00",
          "2012-04-24T00:00:00",
          "2012-04-25T00:00:00",
          "2012-04-26T00:00:00",
          "2012-04-27T00:00:00",
          "2012-04-28T00:00:00",
          "2012-04-29T00:00:00",
          "2012-05-05T00:00:00",
          "2012-05-16T00:00:00",
          "2012-06-02T00:00:00",
          "2012-07-31T00:00:00",
          "2012-08-05T00:00:00",
          "2012-10-04T00:00:00",
          "2013-03-09T00:00:00",
          "2013-09-05T00:00:00",
          "2013-11-02T00:00:00"
         ],
         "xaxis": "x",
         "y": [
          15,
          10,
          26,
          23,
          14,
          21,
          17,
          19,
          14,
          19,
          21,
          18,
          11,
          18,
          10,
          14,
          22,
          19,
          19,
          18,
          18,
          13,
          11,
          17,
          20,
          21,
          21,
          13,
          17,
          30,
          11,
          20,
          26,
          21,
          15,
          25,
          7,
          13,
          19,
          19,
          12,
          25,
          13,
          18,
          16,
          23,
          24,
          15,
          24,
          16,
          23,
          22,
          14,
          18,
          20,
          13,
          12,
          16,
          19,
          27,
          22,
          23,
          17,
          15,
          20,
          22,
          22,
          21,
          29,
          23,
          29,
          19,
          22,
          27,
          30,
          24,
          25,
          23,
          26,
          19,
          27,
          27,
          22,
          17,
          21,
          23,
          19,
          25,
          25,
          23,
          29,
          19,
          22,
          18,
          31,
          24,
          17,
          22,
          18,
          19,
          29,
          26,
          36,
          25,
          22,
          30,
          29,
          31,
          25,
          35,
          22,
          26,
          26,
          30,
          38,
          25,
          27,
          26,
          2,
          1,
          1,
          1,
          1,
          1,
          1,
          1,
          1,
          1
         ],
         "yaxis": "y"
        }
       ],
       "layout": {
        "legend": {
         "tracegroupgap": 0
        },
        "margin": {
         "t": 60
        },
        "template": {
         "data": {
          "bar": [
           {
            "error_x": {
             "color": "#2a3f5f"
            },
            "error_y": {
             "color": "#2a3f5f"
            },
            "marker": {
             "line": {
              "color": "#E5ECF6",
              "width": 0.5
             },
             "pattern": {
              "fillmode": "overlay",
              "size": 10,
              "solidity": 0.2
             }
            },
            "type": "bar"
           }
          ],
          "barpolar": [
           {
            "marker": {
             "line": {
              "color": "#E5ECF6",
              "width": 0.5
             },
             "pattern": {
              "fillmode": "overlay",
              "size": 10,
              "solidity": 0.2
             }
            },
            "type": "barpolar"
           }
          ],
          "carpet": [
           {
            "aaxis": {
             "endlinecolor": "#2a3f5f",
             "gridcolor": "white",
             "linecolor": "white",
             "minorgridcolor": "white",
             "startlinecolor": "#2a3f5f"
            },
            "baxis": {
             "endlinecolor": "#2a3f5f",
             "gridcolor": "white",
             "linecolor": "white",
             "minorgridcolor": "white",
             "startlinecolor": "#2a3f5f"
            },
            "type": "carpet"
           }
          ],
          "choropleth": [
           {
            "colorbar": {
             "outlinewidth": 0,
             "ticks": ""
            },
            "type": "choropleth"
           }
          ],
          "contour": [
           {
            "colorbar": {
             "outlinewidth": 0,
             "ticks": ""
            },
            "colorscale": [
             [
              0,
              "#0d0887"
             ],
             [
              0.1111111111111111,
              "#46039f"
             ],
             [
              0.2222222222222222,
              "#7201a8"
             ],
             [
              0.3333333333333333,
              "#9c179e"
             ],
             [
              0.4444444444444444,
              "#bd3786"
             ],
             [
              0.5555555555555556,
              "#d8576b"
             ],
             [
              0.6666666666666666,
              "#ed7953"
             ],
             [
              0.7777777777777778,
              "#fb9f3a"
             ],
             [
              0.8888888888888888,
              "#fdca26"
             ],
             [
              1,
              "#f0f921"
             ]
            ],
            "type": "contour"
           }
          ],
          "contourcarpet": [
           {
            "colorbar": {
             "outlinewidth": 0,
             "ticks": ""
            },
            "type": "contourcarpet"
           }
          ],
          "heatmap": [
           {
            "colorbar": {
             "outlinewidth": 0,
             "ticks": ""
            },
            "colorscale": [
             [
              0,
              "#0d0887"
             ],
             [
              0.1111111111111111,
              "#46039f"
             ],
             [
              0.2222222222222222,
              "#7201a8"
             ],
             [
              0.3333333333333333,
              "#9c179e"
             ],
             [
              0.4444444444444444,
              "#bd3786"
             ],
             [
              0.5555555555555556,
              "#d8576b"
             ],
             [
              0.6666666666666666,
              "#ed7953"
             ],
             [
              0.7777777777777778,
              "#fb9f3a"
             ],
             [
              0.8888888888888888,
              "#fdca26"
             ],
             [
              1,
              "#f0f921"
             ]
            ],
            "type": "heatmap"
           }
          ],
          "heatmapgl": [
           {
            "colorbar": {
             "outlinewidth": 0,
             "ticks": ""
            },
            "colorscale": [
             [
              0,
              "#0d0887"
             ],
             [
              0.1111111111111111,
              "#46039f"
             ],
             [
              0.2222222222222222,
              "#7201a8"
             ],
             [
              0.3333333333333333,
              "#9c179e"
             ],
             [
              0.4444444444444444,
              "#bd3786"
             ],
             [
              0.5555555555555556,
              "#d8576b"
             ],
             [
              0.6666666666666666,
              "#ed7953"
             ],
             [
              0.7777777777777778,
              "#fb9f3a"
             ],
             [
              0.8888888888888888,
              "#fdca26"
             ],
             [
              1,
              "#f0f921"
             ]
            ],
            "type": "heatmapgl"
           }
          ],
          "histogram": [
           {
            "marker": {
             "pattern": {
              "fillmode": "overlay",
              "size": 10,
              "solidity": 0.2
             }
            },
            "type": "histogram"
           }
          ],
          "histogram2d": [
           {
            "colorbar": {
             "outlinewidth": 0,
             "ticks": ""
            },
            "colorscale": [
             [
              0,
              "#0d0887"
             ],
             [
              0.1111111111111111,
              "#46039f"
             ],
             [
              0.2222222222222222,
              "#7201a8"
             ],
             [
              0.3333333333333333,
              "#9c179e"
             ],
             [
              0.4444444444444444,
              "#bd3786"
             ],
             [
              0.5555555555555556,
              "#d8576b"
             ],
             [
              0.6666666666666666,
              "#ed7953"
             ],
             [
              0.7777777777777778,
              "#fb9f3a"
             ],
             [
              0.8888888888888888,
              "#fdca26"
             ],
             [
              1,
              "#f0f921"
             ]
            ],
            "type": "histogram2d"
           }
          ],
          "histogram2dcontour": [
           {
            "colorbar": {
             "outlinewidth": 0,
             "ticks": ""
            },
            "colorscale": [
             [
              0,
              "#0d0887"
             ],
             [
              0.1111111111111111,
              "#46039f"
             ],
             [
              0.2222222222222222,
              "#7201a8"
             ],
             [
              0.3333333333333333,
              "#9c179e"
             ],
             [
              0.4444444444444444,
              "#bd3786"
             ],
             [
              0.5555555555555556,
              "#d8576b"
             ],
             [
              0.6666666666666666,
              "#ed7953"
             ],
             [
              0.7777777777777778,
              "#fb9f3a"
             ],
             [
              0.8888888888888888,
              "#fdca26"
             ],
             [
              1,
              "#f0f921"
             ]
            ],
            "type": "histogram2dcontour"
           }
          ],
          "mesh3d": [
           {
            "colorbar": {
             "outlinewidth": 0,
             "ticks": ""
            },
            "type": "mesh3d"
           }
          ],
          "parcoords": [
           {
            "line": {
             "colorbar": {
              "outlinewidth": 0,
              "ticks": ""
             }
            },
            "type": "parcoords"
           }
          ],
          "pie": [
           {
            "automargin": true,
            "type": "pie"
           }
          ],
          "scatter": [
           {
            "fillpattern": {
             "fillmode": "overlay",
             "size": 10,
             "solidity": 0.2
            },
            "type": "scatter"
           }
          ],
          "scatter3d": [
           {
            "line": {
             "colorbar": {
              "outlinewidth": 0,
              "ticks": ""
             }
            },
            "marker": {
             "colorbar": {
              "outlinewidth": 0,
              "ticks": ""
             }
            },
            "type": "scatter3d"
           }
          ],
          "scattercarpet": [
           {
            "marker": {
             "colorbar": {
              "outlinewidth": 0,
              "ticks": ""
             }
            },
            "type": "scattercarpet"
           }
          ],
          "scattergeo": [
           {
            "marker": {
             "colorbar": {
              "outlinewidth": 0,
              "ticks": ""
             }
            },
            "type": "scattergeo"
           }
          ],
          "scattergl": [
           {
            "marker": {
             "colorbar": {
              "outlinewidth": 0,
              "ticks": ""
             }
            },
            "type": "scattergl"
           }
          ],
          "scattermapbox": [
           {
            "marker": {
             "colorbar": {
              "outlinewidth": 0,
              "ticks": ""
             }
            },
            "type": "scattermapbox"
           }
          ],
          "scatterpolar": [
           {
            "marker": {
             "colorbar": {
              "outlinewidth": 0,
              "ticks": ""
             }
            },
            "type": "scatterpolar"
           }
          ],
          "scatterpolargl": [
           {
            "marker": {
             "colorbar": {
              "outlinewidth": 0,
              "ticks": ""
             }
            },
            "type": "scatterpolargl"
           }
          ],
          "scatterternary": [
           {
            "marker": {
             "colorbar": {
              "outlinewidth": 0,
              "ticks": ""
             }
            },
            "type": "scatterternary"
           }
          ],
          "surface": [
           {
            "colorbar": {
             "outlinewidth": 0,
             "ticks": ""
            },
            "colorscale": [
             [
              0,
              "#0d0887"
             ],
             [
              0.1111111111111111,
              "#46039f"
             ],
             [
              0.2222222222222222,
              "#7201a8"
             ],
             [
              0.3333333333333333,
              "#9c179e"
             ],
             [
              0.4444444444444444,
              "#bd3786"
             ],
             [
              0.5555555555555556,
              "#d8576b"
             ],
             [
              0.6666666666666666,
              "#ed7953"
             ],
             [
              0.7777777777777778,
              "#fb9f3a"
             ],
             [
              0.8888888888888888,
              "#fdca26"
             ],
             [
              1,
              "#f0f921"
             ]
            ],
            "type": "surface"
           }
          ],
          "table": [
           {
            "cells": {
             "fill": {
              "color": "#EBF0F8"
             },
             "line": {
              "color": "white"
             }
            },
            "header": {
             "fill": {
              "color": "#C8D4E3"
             },
             "line": {
              "color": "white"
             }
            },
            "type": "table"
           }
          ]
         },
         "layout": {
          "annotationdefaults": {
           "arrowcolor": "#2a3f5f",
           "arrowhead": 0,
           "arrowwidth": 1
          },
          "autotypenumbers": "strict",
          "coloraxis": {
           "colorbar": {
            "outlinewidth": 0,
            "ticks": ""
           }
          },
          "colorscale": {
           "diverging": [
            [
             0,
             "#8e0152"
            ],
            [
             0.1,
             "#c51b7d"
            ],
            [
             0.2,
             "#de77ae"
            ],
            [
             0.3,
             "#f1b6da"
            ],
            [
             0.4,
             "#fde0ef"
            ],
            [
             0.5,
             "#f7f7f7"
            ],
            [
             0.6,
             "#e6f5d0"
            ],
            [
             0.7,
             "#b8e186"
            ],
            [
             0.8,
             "#7fbc41"
            ],
            [
             0.9,
             "#4d9221"
            ],
            [
             1,
             "#276419"
            ]
           ],
           "sequential": [
            [
             0,
             "#0d0887"
            ],
            [
             0.1111111111111111,
             "#46039f"
            ],
            [
             0.2222222222222222,
             "#7201a8"
            ],
            [
             0.3333333333333333,
             "#9c179e"
            ],
            [
             0.4444444444444444,
             "#bd3786"
            ],
            [
             0.5555555555555556,
             "#d8576b"
            ],
            [
             0.6666666666666666,
             "#ed7953"
            ],
            [
             0.7777777777777778,
             "#fb9f3a"
            ],
            [
             0.8888888888888888,
             "#fdca26"
            ],
            [
             1,
             "#f0f921"
            ]
           ],
           "sequentialminus": [
            [
             0,
             "#0d0887"
            ],
            [
             0.1111111111111111,
             "#46039f"
            ],
            [
             0.2222222222222222,
             "#7201a8"
            ],
            [
             0.3333333333333333,
             "#9c179e"
            ],
            [
             0.4444444444444444,
             "#bd3786"
            ],
            [
             0.5555555555555556,
             "#d8576b"
            ],
            [
             0.6666666666666666,
             "#ed7953"
            ],
            [
             0.7777777777777778,
             "#fb9f3a"
            ],
            [
             0.8888888888888888,
             "#fdca26"
            ],
            [
             1,
             "#f0f921"
            ]
           ]
          },
          "colorway": [
           "#636efa",
           "#EF553B",
           "#00cc96",
           "#ab63fa",
           "#FFA15A",
           "#19d3f3",
           "#FF6692",
           "#B6E880",
           "#FF97FF",
           "#FECB52"
          ],
          "font": {
           "color": "#2a3f5f"
          },
          "geo": {
           "bgcolor": "white",
           "lakecolor": "white",
           "landcolor": "#E5ECF6",
           "showlakes": true,
           "showland": true,
           "subunitcolor": "white"
          },
          "hoverlabel": {
           "align": "left"
          },
          "hovermode": "closest",
          "mapbox": {
           "style": "light"
          },
          "paper_bgcolor": "white",
          "plot_bgcolor": "#E5ECF6",
          "polar": {
           "angularaxis": {
            "gridcolor": "white",
            "linecolor": "white",
            "ticks": ""
           },
           "bgcolor": "#E5ECF6",
           "radialaxis": {
            "gridcolor": "white",
            "linecolor": "white",
            "ticks": ""
           }
          },
          "scene": {
           "xaxis": {
            "backgroundcolor": "#E5ECF6",
            "gridcolor": "white",
            "gridwidth": 2,
            "linecolor": "white",
            "showbackground": true,
            "ticks": "",
            "zerolinecolor": "white"
           },
           "yaxis": {
            "backgroundcolor": "#E5ECF6",
            "gridcolor": "white",
            "gridwidth": 2,
            "linecolor": "white",
            "showbackground": true,
            "ticks": "",
            "zerolinecolor": "white"
           },
           "zaxis": {
            "backgroundcolor": "#E5ECF6",
            "gridcolor": "white",
            "gridwidth": 2,
            "linecolor": "white",
            "showbackground": true,
            "ticks": "",
            "zerolinecolor": "white"
           }
          },
          "shapedefaults": {
           "line": {
            "color": "#2a3f5f"
           }
          },
          "ternary": {
           "aaxis": {
            "gridcolor": "white",
            "linecolor": "white",
            "ticks": ""
           },
           "baxis": {
            "gridcolor": "white",
            "linecolor": "white",
            "ticks": ""
           },
           "bgcolor": "#E5ECF6",
           "caxis": {
            "gridcolor": "white",
            "linecolor": "white",
            "ticks": ""
           }
          },
          "title": {
           "x": 0.05
          },
          "xaxis": {
           "automargin": true,
           "gridcolor": "white",
           "linecolor": "white",
           "ticks": "",
           "title": {
            "standoff": 15
           },
           "zerolinecolor": "white",
           "zerolinewidth": 2
          },
          "yaxis": {
           "automargin": true,
           "gridcolor": "white",
           "linecolor": "white",
           "ticks": "",
           "title": {
            "standoff": 15
           },
           "zerolinecolor": "white",
           "zerolinewidth": 2
          }
         }
        },
        "title": {
         "text": "Number of households acquired over time",
         "x": 0.5
        },
        "xaxis": {
         "anchor": "y",
         "domain": [
          0,
          1
         ],
         "showgrid": false,
         "title": {
          "text": "Date of first purchase"
         }
        },
        "yaxis": {
         "anchor": "x",
         "domain": [
          0,
          1
         ],
         "showgrid": false,
         "title": {
          "text": "Number of households"
         }
        }
       }
      },
      "text/html": [
       "<div>                        <script type=\"text/javascript\">window.PlotlyConfig = {MathJaxConfig: 'local'};</script>\n",
       "        <script charset=\"utf-8\" src=\"https://cdn.plot.ly/plotly-2.32.0.min.js\"></script>                <div id=\"c6f37e12-7219-4b2e-9b1c-41b22faa2e3a\" class=\"plotly-graph-div\" style=\"height:100%; width:100%;\"></div>            <script type=\"text/javascript\">                                    window.PLOTLYENV=window.PLOTLYENV || {};                                    if (document.getElementById(\"c6f37e12-7219-4b2e-9b1c-41b22faa2e3a\")) {                    Plotly.newPlot(                        \"c6f37e12-7219-4b2e-9b1c-41b22faa2e3a\",                        [{\"hovertemplate\":\"Date of first purchase=%{x}\\u003cbr\\u003eNumber of households=%{y}\\u003cextra\\u003e\\u003c\\u002fextra\\u003e\",\"legendgroup\":\"\",\"line\":{\"color\":\"#636efa\",\"dash\":\"solid\"},\"marker\":{\"symbol\":\"circle\"},\"mode\":\"lines+markers\",\"name\":\"\",\"orientation\":\"v\",\"showlegend\":false,\"x\":[\"2012-01-02T00:00:00\",\"2012-01-03T00:00:00\",\"2012-01-04T00:00:00\",\"2012-01-05T00:00:00\",\"2012-01-06T00:00:00\",\"2012-01-07T00:00:00\",\"2012-01-08T00:00:00\",\"2012-01-09T00:00:00\",\"2012-01-10T00:00:00\",\"2012-01-11T00:00:00\",\"2012-01-12T00:00:00\",\"2012-01-13T00:00:00\",\"2012-01-14T00:00:00\",\"2012-01-15T00:00:00\",\"2012-01-16T00:00:00\",\"2012-01-17T00:00:00\",\"2012-01-18T00:00:00\",\"2012-01-19T00:00:00\",\"2012-01-20T00:00:00\",\"2012-01-21T00:00:00\",\"2012-01-22T00:00:00\",\"2012-01-23T00:00:00\",\"2012-01-24T00:00:00\",\"2012-01-25T00:00:00\",\"2012-01-26T00:00:00\",\"2012-01-27T00:00:00\",\"2012-01-28T00:00:00\",\"2012-01-29T00:00:00\",\"2012-01-30T00:00:00\",\"2012-01-31T00:00:00\",\"2012-02-01T00:00:00\",\"2012-02-02T00:00:00\",\"2012-02-03T00:00:00\",\"2012-02-04T00:00:00\",\"2012-02-05T00:00:00\",\"2012-02-06T00:00:00\",\"2012-02-07T00:00:00\",\"2012-02-08T00:00:00\",\"2012-02-09T00:00:00\",\"2012-02-10T00:00:00\",\"2012-02-11T00:00:00\",\"2012-02-12T00:00:00\",\"2012-02-13T00:00:00\",\"2012-02-14T00:00:00\",\"2012-02-15T00:00:00\",\"2012-02-16T00:00:00\",\"2012-02-17T00:00:00\",\"2012-02-18T00:00:00\",\"2012-02-19T00:00:00\",\"2012-02-20T00:00:00\",\"2012-02-21T00:00:00\",\"2012-02-22T00:00:00\",\"2012-02-23T00:00:00\",\"2012-02-24T00:00:00\",\"2012-02-25T00:00:00\",\"2012-02-26T00:00:00\",\"2012-02-27T00:00:00\",\"2012-02-28T00:00:00\",\"2012-02-29T00:00:00\",\"2012-03-01T00:00:00\",\"2012-03-02T00:00:00\",\"2012-03-03T00:00:00\",\"2012-03-04T00:00:00\",\"2012-03-05T00:00:00\",\"2012-03-06T00:00:00\",\"2012-03-07T00:00:00\",\"2012-03-08T00:00:00\",\"2012-03-09T00:00:00\",\"2012-03-10T00:00:00\",\"2012-03-11T00:00:00\",\"2012-03-12T00:00:00\",\"2012-03-13T00:00:00\",\"2012-03-14T00:00:00\",\"2012-03-15T00:00:00\",\"2012-03-16T00:00:00\",\"2012-03-17T00:00:00\",\"2012-03-18T00:00:00\",\"2012-03-19T00:00:00\",\"2012-03-20T00:00:00\",\"2012-03-21T00:00:00\",\"2012-03-22T00:00:00\",\"2012-03-23T00:00:00\",\"2012-03-24T00:00:00\",\"2012-03-25T00:00:00\",\"2012-03-26T00:00:00\",\"2012-03-27T00:00:00\",\"2012-03-28T00:00:00\",\"2012-03-29T00:00:00\",\"2012-03-30T00:00:00\",\"2012-03-31T00:00:00\",\"2012-04-01T00:00:00\",\"2012-04-02T00:00:00\",\"2012-04-03T00:00:00\",\"2012-04-04T00:00:00\",\"2012-04-05T00:00:00\",\"2012-04-06T00:00:00\",\"2012-04-07T00:00:00\",\"2012-04-08T00:00:00\",\"2012-04-09T00:00:00\",\"2012-04-10T00:00:00\",\"2012-04-11T00:00:00\",\"2012-04-12T00:00:00\",\"2012-04-13T00:00:00\",\"2012-04-14T00:00:00\",\"2012-04-15T00:00:00\",\"2012-04-16T00:00:00\",\"2012-04-17T00:00:00\",\"2012-04-18T00:00:00\",\"2012-04-19T00:00:00\",\"2012-04-20T00:00:00\",\"2012-04-21T00:00:00\",\"2012-04-22T00:00:00\",\"2012-04-23T00:00:00\",\"2012-04-24T00:00:00\",\"2012-04-25T00:00:00\",\"2012-04-26T00:00:00\",\"2012-04-27T00:00:00\",\"2012-04-28T00:00:00\",\"2012-04-29T00:00:00\",\"2012-05-05T00:00:00\",\"2012-05-16T00:00:00\",\"2012-06-02T00:00:00\",\"2012-07-31T00:00:00\",\"2012-08-05T00:00:00\",\"2012-10-04T00:00:00\",\"2013-03-09T00:00:00\",\"2013-09-05T00:00:00\",\"2013-11-02T00:00:00\"],\"xaxis\":\"x\",\"y\":[15,10,26,23,14,21,17,19,14,19,21,18,11,18,10,14,22,19,19,18,18,13,11,17,20,21,21,13,17,30,11,20,26,21,15,25,7,13,19,19,12,25,13,18,16,23,24,15,24,16,23,22,14,18,20,13,12,16,19,27,22,23,17,15,20,22,22,21,29,23,29,19,22,27,30,24,25,23,26,19,27,27,22,17,21,23,19,25,25,23,29,19,22,18,31,24,17,22,18,19,29,26,36,25,22,30,29,31,25,35,22,26,26,30,38,25,27,26,2,1,1,1,1,1,1,1,1,1],\"yaxis\":\"y\",\"type\":\"scatter\"}],                        {\"template\":{\"data\":{\"histogram2dcontour\":[{\"type\":\"histogram2dcontour\",\"colorbar\":{\"outlinewidth\":0,\"ticks\":\"\"},\"colorscale\":[[0.0,\"#0d0887\"],[0.1111111111111111,\"#46039f\"],[0.2222222222222222,\"#7201a8\"],[0.3333333333333333,\"#9c179e\"],[0.4444444444444444,\"#bd3786\"],[0.5555555555555556,\"#d8576b\"],[0.6666666666666666,\"#ed7953\"],[0.7777777777777778,\"#fb9f3a\"],[0.8888888888888888,\"#fdca26\"],[1.0,\"#f0f921\"]]}],\"choropleth\":[{\"type\":\"choropleth\",\"colorbar\":{\"outlinewidth\":0,\"ticks\":\"\"}}],\"histogram2d\":[{\"type\":\"histogram2d\",\"colorbar\":{\"outlinewidth\":0,\"ticks\":\"\"},\"colorscale\":[[0.0,\"#0d0887\"],[0.1111111111111111,\"#46039f\"],[0.2222222222222222,\"#7201a8\"],[0.3333333333333333,\"#9c179e\"],[0.4444444444444444,\"#bd3786\"],[0.5555555555555556,\"#d8576b\"],[0.6666666666666666,\"#ed7953\"],[0.7777777777777778,\"#fb9f3a\"],[0.8888888888888888,\"#fdca26\"],[1.0,\"#f0f921\"]]}],\"heatmap\":[{\"type\":\"heatmap\",\"colorbar\":{\"outlinewidth\":0,\"ticks\":\"\"},\"colorscale\":[[0.0,\"#0d0887\"],[0.1111111111111111,\"#46039f\"],[0.2222222222222222,\"#7201a8\"],[0.3333333333333333,\"#9c179e\"],[0.4444444444444444,\"#bd3786\"],[0.5555555555555556,\"#d8576b\"],[0.6666666666666666,\"#ed7953\"],[0.7777777777777778,\"#fb9f3a\"],[0.8888888888888888,\"#fdca26\"],[1.0,\"#f0f921\"]]}],\"heatmapgl\":[{\"type\":\"heatmapgl\",\"colorbar\":{\"outlinewidth\":0,\"ticks\":\"\"},\"colorscale\":[[0.0,\"#0d0887\"],[0.1111111111111111,\"#46039f\"],[0.2222222222222222,\"#7201a8\"],[0.3333333333333333,\"#9c179e\"],[0.4444444444444444,\"#bd3786\"],[0.5555555555555556,\"#d8576b\"],[0.6666666666666666,\"#ed7953\"],[0.7777777777777778,\"#fb9f3a\"],[0.8888888888888888,\"#fdca26\"],[1.0,\"#f0f921\"]]}],\"contourcarpet\":[{\"type\":\"contourcarpet\",\"colorbar\":{\"outlinewidth\":0,\"ticks\":\"\"}}],\"contour\":[{\"type\":\"contour\",\"colorbar\":{\"outlinewidth\":0,\"ticks\":\"\"},\"colorscale\":[[0.0,\"#0d0887\"],[0.1111111111111111,\"#46039f\"],[0.2222222222222222,\"#7201a8\"],[0.3333333333333333,\"#9c179e\"],[0.4444444444444444,\"#bd3786\"],[0.5555555555555556,\"#d8576b\"],[0.6666666666666666,\"#ed7953\"],[0.7777777777777778,\"#fb9f3a\"],[0.8888888888888888,\"#fdca26\"],[1.0,\"#f0f921\"]]}],\"surface\":[{\"type\":\"surface\",\"colorbar\":{\"outlinewidth\":0,\"ticks\":\"\"},\"colorscale\":[[0.0,\"#0d0887\"],[0.1111111111111111,\"#46039f\"],[0.2222222222222222,\"#7201a8\"],[0.3333333333333333,\"#9c179e\"],[0.4444444444444444,\"#bd3786\"],[0.5555555555555556,\"#d8576b\"],[0.6666666666666666,\"#ed7953\"],[0.7777777777777778,\"#fb9f3a\"],[0.8888888888888888,\"#fdca26\"],[1.0,\"#f0f921\"]]}],\"mesh3d\":[{\"type\":\"mesh3d\",\"colorbar\":{\"outlinewidth\":0,\"ticks\":\"\"}}],\"scatter\":[{\"fillpattern\":{\"fillmode\":\"overlay\",\"size\":10,\"solidity\":0.2},\"type\":\"scatter\"}],\"parcoords\":[{\"type\":\"parcoords\",\"line\":{\"colorbar\":{\"outlinewidth\":0,\"ticks\":\"\"}}}],\"scatterpolargl\":[{\"type\":\"scatterpolargl\",\"marker\":{\"colorbar\":{\"outlinewidth\":0,\"ticks\":\"\"}}}],\"bar\":[{\"error_x\":{\"color\":\"#2a3f5f\"},\"error_y\":{\"color\":\"#2a3f5f\"},\"marker\":{\"line\":{\"color\":\"#E5ECF6\",\"width\":0.5},\"pattern\":{\"fillmode\":\"overlay\",\"size\":10,\"solidity\":0.2}},\"type\":\"bar\"}],\"scattergeo\":[{\"type\":\"scattergeo\",\"marker\":{\"colorbar\":{\"outlinewidth\":0,\"ticks\":\"\"}}}],\"scatterpolar\":[{\"type\":\"scatterpolar\",\"marker\":{\"colorbar\":{\"outlinewidth\":0,\"ticks\":\"\"}}}],\"histogram\":[{\"marker\":{\"pattern\":{\"fillmode\":\"overlay\",\"size\":10,\"solidity\":0.2}},\"type\":\"histogram\"}],\"scattergl\":[{\"type\":\"scattergl\",\"marker\":{\"colorbar\":{\"outlinewidth\":0,\"ticks\":\"\"}}}],\"scatter3d\":[{\"type\":\"scatter3d\",\"line\":{\"colorbar\":{\"outlinewidth\":0,\"ticks\":\"\"}},\"marker\":{\"colorbar\":{\"outlinewidth\":0,\"ticks\":\"\"}}}],\"scattermapbox\":[{\"type\":\"scattermapbox\",\"marker\":{\"colorbar\":{\"outlinewidth\":0,\"ticks\":\"\"}}}],\"scatterternary\":[{\"type\":\"scatterternary\",\"marker\":{\"colorbar\":{\"outlinewidth\":0,\"ticks\":\"\"}}}],\"scattercarpet\":[{\"type\":\"scattercarpet\",\"marker\":{\"colorbar\":{\"outlinewidth\":0,\"ticks\":\"\"}}}],\"carpet\":[{\"aaxis\":{\"endlinecolor\":\"#2a3f5f\",\"gridcolor\":\"white\",\"linecolor\":\"white\",\"minorgridcolor\":\"white\",\"startlinecolor\":\"#2a3f5f\"},\"baxis\":{\"endlinecolor\":\"#2a3f5f\",\"gridcolor\":\"white\",\"linecolor\":\"white\",\"minorgridcolor\":\"white\",\"startlinecolor\":\"#2a3f5f\"},\"type\":\"carpet\"}],\"table\":[{\"cells\":{\"fill\":{\"color\":\"#EBF0F8\"},\"line\":{\"color\":\"white\"}},\"header\":{\"fill\":{\"color\":\"#C8D4E3\"},\"line\":{\"color\":\"white\"}},\"type\":\"table\"}],\"barpolar\":[{\"marker\":{\"line\":{\"color\":\"#E5ECF6\",\"width\":0.5},\"pattern\":{\"fillmode\":\"overlay\",\"size\":10,\"solidity\":0.2}},\"type\":\"barpolar\"}],\"pie\":[{\"automargin\":true,\"type\":\"pie\"}]},\"layout\":{\"autotypenumbers\":\"strict\",\"colorway\":[\"#636efa\",\"#EF553B\",\"#00cc96\",\"#ab63fa\",\"#FFA15A\",\"#19d3f3\",\"#FF6692\",\"#B6E880\",\"#FF97FF\",\"#FECB52\"],\"font\":{\"color\":\"#2a3f5f\"},\"hovermode\":\"closest\",\"hoverlabel\":{\"align\":\"left\"},\"paper_bgcolor\":\"white\",\"plot_bgcolor\":\"#E5ECF6\",\"polar\":{\"bgcolor\":\"#E5ECF6\",\"angularaxis\":{\"gridcolor\":\"white\",\"linecolor\":\"white\",\"ticks\":\"\"},\"radialaxis\":{\"gridcolor\":\"white\",\"linecolor\":\"white\",\"ticks\":\"\"}},\"ternary\":{\"bgcolor\":\"#E5ECF6\",\"aaxis\":{\"gridcolor\":\"white\",\"linecolor\":\"white\",\"ticks\":\"\"},\"baxis\":{\"gridcolor\":\"white\",\"linecolor\":\"white\",\"ticks\":\"\"},\"caxis\":{\"gridcolor\":\"white\",\"linecolor\":\"white\",\"ticks\":\"\"}},\"coloraxis\":{\"colorbar\":{\"outlinewidth\":0,\"ticks\":\"\"}},\"colorscale\":{\"sequential\":[[0.0,\"#0d0887\"],[0.1111111111111111,\"#46039f\"],[0.2222222222222222,\"#7201a8\"],[0.3333333333333333,\"#9c179e\"],[0.4444444444444444,\"#bd3786\"],[0.5555555555555556,\"#d8576b\"],[0.6666666666666666,\"#ed7953\"],[0.7777777777777778,\"#fb9f3a\"],[0.8888888888888888,\"#fdca26\"],[1.0,\"#f0f921\"]],\"sequentialminus\":[[0.0,\"#0d0887\"],[0.1111111111111111,\"#46039f\"],[0.2222222222222222,\"#7201a8\"],[0.3333333333333333,\"#9c179e\"],[0.4444444444444444,\"#bd3786\"],[0.5555555555555556,\"#d8576b\"],[0.6666666666666666,\"#ed7953\"],[0.7777777777777778,\"#fb9f3a\"],[0.8888888888888888,\"#fdca26\"],[1.0,\"#f0f921\"]],\"diverging\":[[0,\"#8e0152\"],[0.1,\"#c51b7d\"],[0.2,\"#de77ae\"],[0.3,\"#f1b6da\"],[0.4,\"#fde0ef\"],[0.5,\"#f7f7f7\"],[0.6,\"#e6f5d0\"],[0.7,\"#b8e186\"],[0.8,\"#7fbc41\"],[0.9,\"#4d9221\"],[1,\"#276419\"]]},\"xaxis\":{\"gridcolor\":\"white\",\"linecolor\":\"white\",\"ticks\":\"\",\"title\":{\"standoff\":15},\"zerolinecolor\":\"white\",\"automargin\":true,\"zerolinewidth\":2},\"yaxis\":{\"gridcolor\":\"white\",\"linecolor\":\"white\",\"ticks\":\"\",\"title\":{\"standoff\":15},\"zerolinecolor\":\"white\",\"automargin\":true,\"zerolinewidth\":2},\"scene\":{\"xaxis\":{\"backgroundcolor\":\"#E5ECF6\",\"gridcolor\":\"white\",\"linecolor\":\"white\",\"showbackground\":true,\"ticks\":\"\",\"zerolinecolor\":\"white\",\"gridwidth\":2},\"yaxis\":{\"backgroundcolor\":\"#E5ECF6\",\"gridcolor\":\"white\",\"linecolor\":\"white\",\"showbackground\":true,\"ticks\":\"\",\"zerolinecolor\":\"white\",\"gridwidth\":2},\"zaxis\":{\"backgroundcolor\":\"#E5ECF6\",\"gridcolor\":\"white\",\"linecolor\":\"white\",\"showbackground\":true,\"ticks\":\"\",\"zerolinecolor\":\"white\",\"gridwidth\":2}},\"shapedefaults\":{\"line\":{\"color\":\"#2a3f5f\"}},\"annotationdefaults\":{\"arrowcolor\":\"#2a3f5f\",\"arrowhead\":0,\"arrowwidth\":1},\"geo\":{\"bgcolor\":\"white\",\"landcolor\":\"#E5ECF6\",\"subunitcolor\":\"white\",\"showland\":true,\"showlakes\":true,\"lakecolor\":\"white\"},\"title\":{\"x\":0.05},\"mapbox\":{\"style\":\"light\"}}},\"xaxis\":{\"anchor\":\"y\",\"domain\":[0.0,1.0],\"title\":{\"text\":\"Date of first purchase\"},\"showgrid\":false},\"yaxis\":{\"anchor\":\"x\",\"domain\":[0.0,1.0],\"title\":{\"text\":\"Number of households\"},\"showgrid\":false},\"legend\":{\"tracegroupgap\":0},\"margin\":{\"t\":60},\"title\":{\"text\":\"Number of households acquired over time\",\"x\":0.5}},                        {\"responsive\": true}                    )                };                            </script>        </div>"
      ],
      "text/plain": [
       "Figure({\n",
       "    'data': [{'hovertemplate': 'Date of first purchase=%{x}<br>Number of households=%{y}<extra></extra>',\n",
       "              'legendgroup': '',\n",
       "              'line': {'color': '#636efa', 'dash': 'solid'},\n",
       "              'marker': {'symbol': 'circle'},\n",
       "              'mode': 'lines+markers',\n",
       "              'name': '',\n",
       "              'orientation': 'v',\n",
       "              'showlegend': False,\n",
       "              'type': 'scatter',\n",
       "              'x': array([datetime.datetime(2012, 1, 2, 0, 0),\n",
       "                          datetime.datetime(2012, 1, 3, 0, 0),\n",
       "                          datetime.datetime(2012, 1, 4, 0, 0),\n",
       "                          datetime.datetime(2012, 1, 5, 0, 0),\n",
       "                          datetime.datetime(2012, 1, 6, 0, 0),\n",
       "                          datetime.datetime(2012, 1, 7, 0, 0),\n",
       "                          datetime.datetime(2012, 1, 8, 0, 0),\n",
       "                          datetime.datetime(2012, 1, 9, 0, 0),\n",
       "                          datetime.datetime(2012, 1, 10, 0, 0),\n",
       "                          datetime.datetime(2012, 1, 11, 0, 0),\n",
       "                          datetime.datetime(2012, 1, 12, 0, 0),\n",
       "                          datetime.datetime(2012, 1, 13, 0, 0),\n",
       "                          datetime.datetime(2012, 1, 14, 0, 0),\n",
       "                          datetime.datetime(2012, 1, 15, 0, 0),\n",
       "                          datetime.datetime(2012, 1, 16, 0, 0),\n",
       "                          datetime.datetime(2012, 1, 17, 0, 0),\n",
       "                          datetime.datetime(2012, 1, 18, 0, 0),\n",
       "                          datetime.datetime(2012, 1, 19, 0, 0),\n",
       "                          datetime.datetime(2012, 1, 20, 0, 0),\n",
       "                          datetime.datetime(2012, 1, 21, 0, 0),\n",
       "                          datetime.datetime(2012, 1, 22, 0, 0),\n",
       "                          datetime.datetime(2012, 1, 23, 0, 0),\n",
       "                          datetime.datetime(2012, 1, 24, 0, 0),\n",
       "                          datetime.datetime(2012, 1, 25, 0, 0),\n",
       "                          datetime.datetime(2012, 1, 26, 0, 0),\n",
       "                          datetime.datetime(2012, 1, 27, 0, 0),\n",
       "                          datetime.datetime(2012, 1, 28, 0, 0),\n",
       "                          datetime.datetime(2012, 1, 29, 0, 0),\n",
       "                          datetime.datetime(2012, 1, 30, 0, 0),\n",
       "                          datetime.datetime(2012, 1, 31, 0, 0),\n",
       "                          datetime.datetime(2012, 2, 1, 0, 0),\n",
       "                          datetime.datetime(2012, 2, 2, 0, 0),\n",
       "                          datetime.datetime(2012, 2, 3, 0, 0),\n",
       "                          datetime.datetime(2012, 2, 4, 0, 0),\n",
       "                          datetime.datetime(2012, 2, 5, 0, 0),\n",
       "                          datetime.datetime(2012, 2, 6, 0, 0),\n",
       "                          datetime.datetime(2012, 2, 7, 0, 0),\n",
       "                          datetime.datetime(2012, 2, 8, 0, 0),\n",
       "                          datetime.datetime(2012, 2, 9, 0, 0),\n",
       "                          datetime.datetime(2012, 2, 10, 0, 0),\n",
       "                          datetime.datetime(2012, 2, 11, 0, 0),\n",
       "                          datetime.datetime(2012, 2, 12, 0, 0),\n",
       "                          datetime.datetime(2012, 2, 13, 0, 0),\n",
       "                          datetime.datetime(2012, 2, 14, 0, 0),\n",
       "                          datetime.datetime(2012, 2, 15, 0, 0),\n",
       "                          datetime.datetime(2012, 2, 16, 0, 0),\n",
       "                          datetime.datetime(2012, 2, 17, 0, 0),\n",
       "                          datetime.datetime(2012, 2, 18, 0, 0),\n",
       "                          datetime.datetime(2012, 2, 19, 0, 0),\n",
       "                          datetime.datetime(2012, 2, 20, 0, 0),\n",
       "                          datetime.datetime(2012, 2, 21, 0, 0),\n",
       "                          datetime.datetime(2012, 2, 22, 0, 0),\n",
       "                          datetime.datetime(2012, 2, 23, 0, 0),\n",
       "                          datetime.datetime(2012, 2, 24, 0, 0),\n",
       "                          datetime.datetime(2012, 2, 25, 0, 0),\n",
       "                          datetime.datetime(2012, 2, 26, 0, 0),\n",
       "                          datetime.datetime(2012, 2, 27, 0, 0),\n",
       "                          datetime.datetime(2012, 2, 28, 0, 0),\n",
       "                          datetime.datetime(2012, 2, 29, 0, 0),\n",
       "                          datetime.datetime(2012, 3, 1, 0, 0),\n",
       "                          datetime.datetime(2012, 3, 2, 0, 0),\n",
       "                          datetime.datetime(2012, 3, 3, 0, 0),\n",
       "                          datetime.datetime(2012, 3, 4, 0, 0),\n",
       "                          datetime.datetime(2012, 3, 5, 0, 0),\n",
       "                          datetime.datetime(2012, 3, 6, 0, 0),\n",
       "                          datetime.datetime(2012, 3, 7, 0, 0),\n",
       "                          datetime.datetime(2012, 3, 8, 0, 0),\n",
       "                          datetime.datetime(2012, 3, 9, 0, 0),\n",
       "                          datetime.datetime(2012, 3, 10, 0, 0),\n",
       "                          datetime.datetime(2012, 3, 11, 0, 0),\n",
       "                          datetime.datetime(2012, 3, 12, 0, 0),\n",
       "                          datetime.datetime(2012, 3, 13, 0, 0),\n",
       "                          datetime.datetime(2012, 3, 14, 0, 0),\n",
       "                          datetime.datetime(2012, 3, 15, 0, 0),\n",
       "                          datetime.datetime(2012, 3, 16, 0, 0),\n",
       "                          datetime.datetime(2012, 3, 17, 0, 0),\n",
       "                          datetime.datetime(2012, 3, 18, 0, 0),\n",
       "                          datetime.datetime(2012, 3, 19, 0, 0),\n",
       "                          datetime.datetime(2012, 3, 20, 0, 0),\n",
       "                          datetime.datetime(2012, 3, 21, 0, 0),\n",
       "                          datetime.datetime(2012, 3, 22, 0, 0),\n",
       "                          datetime.datetime(2012, 3, 23, 0, 0),\n",
       "                          datetime.datetime(2012, 3, 24, 0, 0),\n",
       "                          datetime.datetime(2012, 3, 25, 0, 0),\n",
       "                          datetime.datetime(2012, 3, 26, 0, 0),\n",
       "                          datetime.datetime(2012, 3, 27, 0, 0),\n",
       "                          datetime.datetime(2012, 3, 28, 0, 0),\n",
       "                          datetime.datetime(2012, 3, 29, 0, 0),\n",
       "                          datetime.datetime(2012, 3, 30, 0, 0),\n",
       "                          datetime.datetime(2012, 3, 31, 0, 0),\n",
       "                          datetime.datetime(2012, 4, 1, 0, 0),\n",
       "                          datetime.datetime(2012, 4, 2, 0, 0),\n",
       "                          datetime.datetime(2012, 4, 3, 0, 0),\n",
       "                          datetime.datetime(2012, 4, 4, 0, 0),\n",
       "                          datetime.datetime(2012, 4, 5, 0, 0),\n",
       "                          datetime.datetime(2012, 4, 6, 0, 0),\n",
       "                          datetime.datetime(2012, 4, 7, 0, 0),\n",
       "                          datetime.datetime(2012, 4, 8, 0, 0),\n",
       "                          datetime.datetime(2012, 4, 9, 0, 0),\n",
       "                          datetime.datetime(2012, 4, 10, 0, 0),\n",
       "                          datetime.datetime(2012, 4, 11, 0, 0),\n",
       "                          datetime.datetime(2012, 4, 12, 0, 0),\n",
       "                          datetime.datetime(2012, 4, 13, 0, 0),\n",
       "                          datetime.datetime(2012, 4, 14, 0, 0),\n",
       "                          datetime.datetime(2012, 4, 15, 0, 0),\n",
       "                          datetime.datetime(2012, 4, 16, 0, 0),\n",
       "                          datetime.datetime(2012, 4, 17, 0, 0),\n",
       "                          datetime.datetime(2012, 4, 18, 0, 0),\n",
       "                          datetime.datetime(2012, 4, 19, 0, 0),\n",
       "                          datetime.datetime(2012, 4, 20, 0, 0),\n",
       "                          datetime.datetime(2012, 4, 21, 0, 0),\n",
       "                          datetime.datetime(2012, 4, 22, 0, 0),\n",
       "                          datetime.datetime(2012, 4, 23, 0, 0),\n",
       "                          datetime.datetime(2012, 4, 24, 0, 0),\n",
       "                          datetime.datetime(2012, 4, 25, 0, 0),\n",
       "                          datetime.datetime(2012, 4, 26, 0, 0),\n",
       "                          datetime.datetime(2012, 4, 27, 0, 0),\n",
       "                          datetime.datetime(2012, 4, 28, 0, 0),\n",
       "                          datetime.datetime(2012, 4, 29, 0, 0),\n",
       "                          datetime.datetime(2012, 5, 5, 0, 0),\n",
       "                          datetime.datetime(2012, 5, 16, 0, 0),\n",
       "                          datetime.datetime(2012, 6, 2, 0, 0),\n",
       "                          datetime.datetime(2012, 7, 31, 0, 0),\n",
       "                          datetime.datetime(2012, 8, 5, 0, 0),\n",
       "                          datetime.datetime(2012, 10, 4, 0, 0),\n",
       "                          datetime.datetime(2013, 3, 9, 0, 0),\n",
       "                          datetime.datetime(2013, 9, 5, 0, 0),\n",
       "                          datetime.datetime(2013, 11, 2, 0, 0)], dtype=object),\n",
       "              'xaxis': 'x',\n",
       "              'y': array([15, 10, 26, 23, 14, 21, 17, 19, 14, 19, 21, 18, 11, 18, 10, 14, 22, 19,\n",
       "                          19, 18, 18, 13, 11, 17, 20, 21, 21, 13, 17, 30, 11, 20, 26, 21, 15, 25,\n",
       "                           7, 13, 19, 19, 12, 25, 13, 18, 16, 23, 24, 15, 24, 16, 23, 22, 14, 18,\n",
       "                          20, 13, 12, 16, 19, 27, 22, 23, 17, 15, 20, 22, 22, 21, 29, 23, 29, 19,\n",
       "                          22, 27, 30, 24, 25, 23, 26, 19, 27, 27, 22, 17, 21, 23, 19, 25, 25, 23,\n",
       "                          29, 19, 22, 18, 31, 24, 17, 22, 18, 19, 29, 26, 36, 25, 22, 30, 29, 31,\n",
       "                          25, 35, 22, 26, 26, 30, 38, 25, 27, 26,  2,  1,  1,  1,  1,  1,  1,  1,\n",
       "                           1,  1]),\n",
       "              'yaxis': 'y'}],\n",
       "    'layout': {'legend': {'tracegroupgap': 0},\n",
       "               'margin': {'t': 60},\n",
       "               'template': '...',\n",
       "               'title': {'text': 'Number of households acquired over time', 'x': 0.5},\n",
       "               'xaxis': {'anchor': 'y',\n",
       "                         'domain': [0.0, 1.0],\n",
       "                         'showgrid': False,\n",
       "                         'title': {'text': 'Date of first purchase'}},\n",
       "               'yaxis': {'anchor': 'x',\n",
       "                         'domain': [0.0, 1.0],\n",
       "                         'showgrid': False,\n",
       "                         'title': {'text': 'Number of households'}}}\n",
       "})"
      ]
     },
     "execution_count": 324,
     "metadata": {},
     "output_type": "execute_result"
    }
   ],
   "source": [
    "fig = px.line(\n",
    "    df_customer_acquisition,\n",
    "    x=\"Date_of_first_purchase\",\n",
    "    y=\"Number_of_households\",\n",
    "    markers=True,\n",
    "    labels={\n",
    "        \"Date_of_first_purchase\": \"Date of first purchase\",\n",
    "        \"Number_of_households\": \"Number of households\",\n",
    "    },\n",
    ")\n",
    "fig.update_layout(\n",
    "    title={\"text\": \"Number of households acquired over time\", \"x\": 0.5},\n",
    "    xaxis=dict(showgrid=False),\n",
    "    yaxis=dict(showgrid=False),\n",
    ")\n",
    "fig"
   ]
  },
  {
   "cell_type": "markdown",
   "metadata": {},
   "source": [
    "---"
   ]
  },
  {
   "cell_type": "markdown",
   "metadata": {},
   "source": [
    "# Export"
   ]
  },
  {
   "cell_type": "markdown",
   "metadata": {},
   "source": [
    "### Export the processed datasets to use in the streamlit dashboard"
   ]
  },
  {
   "cell_type": "code",
   "execution_count": 325,
   "metadata": {},
   "outputs": [
    {
     "name": "stdout",
     "output_type": "stream",
     "text": [
      "Exported hh_demographic_cleaned.csv\n"
     ]
    }
   ],
   "source": [
    "df_demographic.to_csv(export_folder + \"hh_demographic_cleaned.csv\",index=False)\n",
    "print(\"Exported hh_demographic_cleaned.csv\")"
   ]
  }
 ],
 "metadata": {
  "kernelspec": {
   "display_name": "Python 3",
   "language": "python",
   "name": "python3"
  },
  "language_info": {
   "codemirror_mode": {
    "name": "ipython",
    "version": 3
   },
   "file_extension": ".py",
   "mimetype": "text/x-python",
   "name": "python",
   "nbconvert_exporter": "python",
   "pygments_lexer": "ipython3",
   "version": "3.11.6"
  }
 },
 "nbformat": 4,
 "nbformat_minor": 2
}
